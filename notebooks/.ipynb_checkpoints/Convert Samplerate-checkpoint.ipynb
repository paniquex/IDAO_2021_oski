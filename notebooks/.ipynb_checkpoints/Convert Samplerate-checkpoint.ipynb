{
 "cells": [
  {
   "cell_type": "code",
   "execution_count": 1,
   "metadata": {},
   "outputs": [],
   "source": [
    "import sys\n",
    "sys.path.append(\"/media/paniquex/samsung_2tb/rfcx_kaggle_git/RFCX_kaggle/src/\")\n",
    "from paths import *"
   ]
  },
  {
   "cell_type": "code",
   "execution_count": 2,
   "metadata": {},
   "outputs": [],
   "source": [
    "import os\n",
    "\n",
    "import numpy as np\n",
    "import librosa as lb\n",
    "import soundfile as sf\n",
    "\n",
    "from tqdm import tqdm"
   ]
  },
  {
   "cell_type": "code",
   "execution_count": 3,
   "metadata": {},
   "outputs": [],
   "source": [
    "SAMPLERATE = 32000\n",
    "SAMPLES_PER_FILE = 500"
   ]
  },
  {
   "cell_type": "code",
   "execution_count": 4,
   "metadata": {},
   "outputs": [
    {
     "name": "stderr",
     "output_type": "stream",
     "text": [
      "100%|██████████| 4727/4727 [2:02:51<00:00,  1.56s/it]  \n"
     ]
    }
   ],
   "source": [
    "samples = []\n",
    "ids = []\n",
    "ind = 0\n",
    "\n",
    "for file in tqdm(os.listdir(TRAIN_RAW)):\n",
    "    sample, rate = lb.load(f\"{TRAIN_RAW}/{file}\", sr=SAMPLERATE)\n",
    "    samples.append(sample)\n",
    "    ids.append(file.split(\".\")[0])\n",
    "    if len(samples) == SAMPLES_PER_FILE:\n",
    "        np.save(f\"{TRAIN_32K}/train_{ind}.npy\", np.vstack(samples))\n",
    "        np.save(f\"{TRAIN_32K}/train_ids_{ind}.npy\", ids)\n",
    "        samples = []\n",
    "        ids = []\n",
    "        ind += 1\n",
    "        \n",
    "np.save(f\"{TRAIN_32K}/train_{ind}.npy\", np.vstack(samples))\n",
    "np.save(f\"{TRAIN_32K}/train_ids_{ind}.npy\", ids)"
   ]
  },
  {
   "cell_type": "code",
   "execution_count": 5,
   "metadata": {},
   "outputs": [
    {
     "name": "stderr",
     "output_type": "stream",
     "text": [
      "100%|██████████| 1992/1992 [49:51<00:00,  1.50s/it] \n"
     ]
    }
   ],
   "source": [
    "samples = []\n",
    "ids = []\n",
    "ind = 0\n",
    "\n",
    "for file in tqdm(os.listdir(TEST_RAW)):\n",
    "    sample, rate = lb.load(f\"{TEST_RAW}/{file}\", sr=SAMPLERATE)\n",
    "    samples.append(sample)\n",
    "    ids.append(file.split(\".\")[0])\n",
    "    if len(samples) == SAMPLES_PER_FILE:\n",
    "        np.save(f\"{TEST_32K}/test_{ind}.npy\", np.vstack(samples))\n",
    "        np.save(f\"{TEST_32K}/test_ids_{ind}.npy\", ids)\n",
    "        samples = []\n",
    "        ids = []\n",
    "        ind += 1\n",
    "        \n",
    "np.save(f\"{TEST_32K}/test_{ind}.npy\", np.vstack(samples))\n",
    "np.save(f\"{TEST_32K}/test_ids_{ind}.npy\", ids)"
   ]
  },
  {
   "cell_type": "code",
   "execution_count": 6,
   "metadata": {},
   "outputs": [
    {
     "name": "stdout",
     "output_type": "stream",
     "text": [
      "Sun Feb  7 13:55:27 2021       \r\n",
      "+-----------------------------------------------------------------------------+\r\n",
      "| NVIDIA-SMI 450.102.04   Driver Version: 450.102.04   CUDA Version: 11.0     |\r\n",
      "|-------------------------------+----------------------+----------------------+\r\n",
      "| GPU  Name        Persistence-M| Bus-Id        Disp.A | Volatile Uncorr. ECC |\r\n",
      "| Fan  Temp  Perf  Pwr:Usage/Cap|         Memory-Usage | GPU-Util  Compute M. |\r\n",
      "|                               |                      |               MIG M. |\r\n",
      "|===============================+======================+======================|\r\n",
      "|   0  GeForce RTX 208...  Off  | 00000000:0E:00.0  On |                  N/A |\r\n",
      "|  0%   42C    P8    25W / 260W |   8693MiB / 11018MiB |      0%      Default |\r\n",
      "|                               |                      |                  N/A |\r\n",
      "+-------------------------------+----------------------+----------------------+\r\n",
      "|   1  GeForce RTX 208...  Off  | 00000000:0F:00.0 Off |                  N/A |\r\n",
      "|  0%   29C    P8    23W / 300W |   9283MiB / 11019MiB |      0%      Default |\r\n",
      "|                               |                      |                  N/A |\r\n",
      "+-------------------------------+----------------------+----------------------+\r\n",
      "                                                                               \r\n",
      "+-----------------------------------------------------------------------------+\r\n",
      "| Processes:                                                                  |\r\n",
      "|  GPU   GI   CI        PID   Type   Process name                  GPU Memory |\r\n",
      "|        ID   ID                                                   Usage      |\r\n",
      "|=============================================================================|\r\n",
      "|    0   N/A  N/A      1503      G   /usr/lib/xorg/Xorg                 18MiB |\r\n",
      "|    0   N/A  N/A      1751      G   /usr/bin/gnome-shell               57MiB |\r\n",
      "|    0   N/A  N/A      2339      G   /usr/lib/xorg/Xorg                273MiB |\r\n",
      "|    0   N/A  N/A      2471      G   /usr/bin/gnome-shell              148MiB |\r\n",
      "|    0   N/A  N/A      3442      G   ...AAAAAAAAA= --shared-files      119MiB |\r\n",
      "|    0   N/A  N/A      8727      G   ...f_8367.log --shared-files       16MiB |\r\n",
      "|    0   N/A  N/A     21253      G   ...AAAAAAAA== --shared-files       22MiB |\r\n",
      "|    0   N/A  N/A     28553      C   ...a3/envs/kaggle/bin/python     8029MiB |\r\n",
      "|    1   N/A  N/A      1503      G   /usr/lib/xorg/Xorg                  4MiB |\r\n",
      "|    1   N/A  N/A      2339      G   /usr/lib/xorg/Xorg                  4MiB |\r\n",
      "|    1   N/A  N/A     25274      C   ...a3/envs/kaggle/bin/python     9269MiB |\r\n",
      "+-----------------------------------------------------------------------------+\r\n"
     ]
    }
   ],
   "source": [
    "!nvidia-smi"
   ]
  },
  {
   "cell_type": "code",
   "execution_count": null,
   "metadata": {},
   "outputs": [],
   "source": []
  }
 ],
 "metadata": {
  "kernelspec": {
   "display_name": "Python 3",
   "language": "python",
   "name": "python3"
  },
  "language_info": {
   "codemirror_mode": {
    "name": "ipython",
    "version": 3
   },
   "file_extension": ".py",
   "mimetype": "text/x-python",
   "name": "python",
   "nbconvert_exporter": "python",
   "pygments_lexer": "ipython3",
   "version": "3.7.9"
  }
 },
 "nbformat": 4,
 "nbformat_minor": 4
}
