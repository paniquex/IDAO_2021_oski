{
 "cells": [
  {
   "cell_type": "code",
   "execution_count": 1,
   "metadata": {},
   "outputs": [],
   "source": [
    "import sys\n",
    "sys.path.append(\"/media/paniquex/samsung_2tb/rfcx_kaggle_git/RFCX_kaggle/src\")\n",
    "\n",
    "from collections import defaultdict\n",
    "import os\n",
    "import random\n",
    "\n",
    "import numpy as np\n",
    "import pandas as pd\n",
    "import yaml\n",
    "import shutil\n",
    "from sklearn.model_selection import train_test_split, StratifiedKFold\n",
    "\n",
    "from torch.utils.data import DataLoader\n",
    "from torch import nn\n",
    "import torch\n",
    "\n",
    "\n",
    "import audiomentations\n",
    "from torchlibrosa.stft import Spectrogram, LogmelFilterBank\n",
    "from torchlibrosa.augmentation import SpecAugmentation\n",
    "\n",
    "from transformers import get_linear_schedule_with_warmup\n",
    "\n",
    "from datasets import LabeledWavDataset, StepWavDataset, LabeledWavDatasetBalanced\n",
    "from preprocessing import CMVN\n",
    "from models import Wrapper, MixUp\n",
    "from pipeline_utils import training\n",
    "from models import ENCODER_PARAMS\n",
    "\n",
    "from ranger import Ranger\n",
    "\n",
    "\n",
    "os.chdir(\"/media/paniquex/samsung_2tb/\")"
   ]
  },
  {
   "cell_type": "code",
   "execution_count": 2,
   "metadata": {},
   "outputs": [
    {
     "name": "stderr",
     "output_type": "stream",
     "text": [
      "/home/paniquex/anaconda3/envs/kaggle/lib/python3.7/site-packages/ipykernel_launcher.py:3: YAMLLoadWarning: calling yaml.load() without Loader=... is deprecated, as the default Loader is unsafe. Please read https://msg.pyyaml.org/load for full details.\n",
      "  This is separate from the ipykernel package so we can avoid doing imports until\n"
     ]
    }
   ],
   "source": [
    "PATH_TO_CFG = \"/media/paniquex/samsung_2tb/rfcx_kaggle_git/RFCX_kaggle/config/config.yaml\"\n",
    "with open(PATH_TO_CFG, \"r\") as file:\n",
    "    config = yaml.load(file)\n",
    "\n",
    "DATA_ROOT = config[\"general\"][\"data_root\"]\n",
    "\n",
    "def fix_seed(seed):\n",
    "    random.seed(seed)\n",
    "    np.random.seed(seed)\n",
    "    os.environ[\"PYTHONHASHSEED\"] = str(seed)\n",
    "    torch.manual_seed(seed)\n",
    "    torch.cuda.manual_seed(seed)  # type: ignore\n",
    "    torch.backends.cudnn.deterministic = True  # type: ignore\n",
    "    torch.backends.cudnn.benchmark = True  # type: ignore\n",
    "\n",
    "fix_seed(config[\"general\"][\"seed\"])\n",
    "device_ids = [str(id) for id in config[\"general\"][\"device_ids\"]]\n",
    "ids = \",\".join(device_ids)\n",
    "DEVICE = torch.device(f\"cuda:{ids}\")"
   ]
  },
  {
   "cell_type": "code",
   "execution_count": 3,
   "metadata": {},
   "outputs": [],
   "source": [
    "# TODO: add mappings files\n",
    "if len(config[\"training\"][\"augmentations\"]):\n",
    "    augmenter_train = audiomentations.Compose([\n",
    "        audiomentations.AddGaussianNoise(**config[\"training\"][\"augmentations\"][\"GaussianNoise\"]),\n",
    "        audiomentations.AddGaussianSNR(**config[\"training\"][\"augmentations\"][\"GaussianSNR\"]),\n",
    "        #audiomentations.AddBackgroundNoise(\"../input/train_audio/\", p=1)\n",
    "        #audiomentations.AddImpulseResponse(p=0.1),\n",
    "        #audiomentations.AddShortNoises(\"../input/train_audio/\", p=1)\n",
    "        #audiomentations.FrequencyMask(min_frequency_band=0.0,  max_frequency_band=0.2, p=0.05),\n",
    "        #audiomentations.TimeMask(min_band_part=0.0, max_band_part=0.2, p=0.05),\n",
    "        #audiomentations.PitchShift(min_semitones=-0.5, max_semitones=0.5, p=0.05),\n",
    "        #audiomentations.Shift(p=0.1),\n",
    "        #audiomentations.Normalize(p=0.1),\n",
    "        #audiomentations.ClippingDistortion(min_percentile_threshold=0, max_percentile_threshold=1, p=0.05),\n",
    "        #audiomentations.PolarityInversion(p=0.05),\n",
    "        audiomentations.Gain(**config[\"training\"][\"augmentations\"][\"Gain\"])\n",
    "    ])\n",
    "else:\n",
    "    augmenter_train = None\n",
    "\n",
    "if len(config[\"validation\"][\"augmentations\"]):\n",
    "    augmenter_val = audiomentations.Compose([\n",
    "        audiomentations.AddGaussianNoise(**config[\"validation\"][\"augmentations\"][\"GaussianNoise\"]),\n",
    "        audiomentations.AddGaussianSNR(**config[\"validation\"][\"augmentations\"][\"GaussianSNR\"]),\n",
    "        #audiomentations.AddBackgroundNoise(\"../input/train_audio/\", p=1)\n",
    "        #audiomentations.AddImpulseResponse(p=0.1),\n",
    "        #audiomentations.AddShortNoises(\"../input/train_audio/\", p=1)\n",
    "        #audiomentations.FrequencyMask(min_frequency_band=0.0,  max_frequency_band=0.2, p=0.05),\n",
    "        #audiomentations.TimeMask(min_band_part=0.0, max_band_part=0.2, p=0.05),\n",
    "        #audiomentations.PitchShift(min_semitones=-0.5, max_semitones=0.5, p=0.05),\n",
    "        #audiomentations.Shift(p=0.1),\n",
    "        #audiomentations.Normalize(p=0.1),\n",
    "        #audiomentations.ClippingDistortion(min_percentile_threshold=0, max_percentile_threshold=1, p=0.05),\n",
    "        #audiomentations.PolarityInversion(p=0.05),\n",
    "        audiomentations.Gain(**config[\"validation\"][\"augmentations\"][\"Gain\"])\n",
    "    ])\n",
    "else:\n",
    "    augmenter_val = None\n",
    "\n"
   ]
  },
  {
   "cell_type": "code",
   "execution_count": 4,
   "metadata": {},
   "outputs": [
    {
     "name": "stdout",
     "output_type": "stream",
     "text": [
      "2    249\n",
      "4    247\n",
      "0    242\n",
      "3    240\n",
      "1    238\n",
      "Name: kfold, dtype: int64\n"
     ]
    }
   ],
   "source": [
    "train = pd.read_csv(os.path.join(DATA_ROOT, \"train_tp.csv\"))\n",
    "# train_gby = train.groupby(\"recording_id\")[[\"species_id\"]].first().reset_index()\n",
    "# train_gby = train_gby.sample(frac=1, random_state=config[\"general\"][\"seed\"]).reset_index(drop=True)\n",
    "\n",
    "# X = train_gby[\"recording_id\"].values\n",
    "\n",
    "# samples_train, samples_val = train_test_split(X,\n",
    "#                                               train_size=config[\"training\"][\"train_size\"],\n",
    "#                                               random_state=config[\"general\"][\"seed\"])\n",
    "\n",
    "train_gby = train.groupby(\"recording_id\")[[\"species_id\"]].first().reset_index()\n",
    "train_gby = train_gby.sample(frac=1, random_state=config[\"general\"][\"seed\"]).reset_index(drop=True)\n",
    "train_gby.loc[:, 'kfold'] = -1\n",
    "\n",
    "X = train_gby[\"recording_id\"].values\n",
    "y = train_gby[\"species_id\"].values\n",
    "\n",
    "kfold = StratifiedKFold(n_splits=config[\"training\"][\"n_folds\"])\n",
    "for fold, (t_idx, v_idx) in enumerate(kfold.split(X, y)):\n",
    "    train_gby.loc[v_idx, \"kfold\"] = fold\n",
    "\n",
    "train = train.merge(train_gby[['recording_id', 'kfold']], on=\"recording_id\", how=\"left\")\n",
    "print(train.kfold.value_counts())\n",
    "train.to_csv(\"/media/paniquex/samsung_2tb/rfcx_kaggle/rfcx-species-audio-detection/train_folds.csv\")\n",
    "train.to_csv(\"/media/paniquex/samsung_2tb/rfcx_kaggle/rfcx-species-audio-detection/train_22050/train_folds.csv\")"
   ]
  },
  {
   "cell_type": "code",
   "execution_count": 5,
   "metadata": {},
   "outputs": [],
   "source": [
    "# train_dataset = LabeledWavDataset(transforms=augmenter_train,\n",
    "#                                   samples=samples_train,\n",
    "#                                   classes_num=config[\"general\"][\"classes_num\"],\n",
    "#                                   sr=config[\"preprocessing\"][\"sr\"],\n",
    "#                                   **config[\"training\"][\"dataset\"])\n",
    "\n",
    "# val_dataset = LabeledWavDataset(transforms=augmenter_val,\n",
    "#                                  samples=samples_val,\n",
    "#                                  classes_num=config[\"general\"][\"classes_num\"],\n",
    "#                                  sr=config[\"preprocessing\"][\"sr\"],\n",
    "#                                  **config[\"validation\"][\"dataset\"])\n",
    "\n",
    "\n",
    "# train_dataloader = DataLoader(train_dataset, **config[\"training\"][\"dataloader\"])\n",
    "# val_dataloader = DataLoader(val_dataset, **config[\"validation\"][\"dataloader\"])"
   ]
  },
  {
   "cell_type": "code",
   "execution_count": null,
   "metadata": {},
   "outputs": [],
   "source": []
  },
  {
   "cell_type": "code",
   "execution_count": 6,
   "metadata": {},
   "outputs": [],
   "source": [
    "\n",
    "#torch.optim.Adam(model.model.parameters(), lr=config[\"training\"][\"lr\"]) # TODO: add mappings file for losses"
   ]
  },
  {
   "cell_type": "code",
   "execution_count": 7,
   "metadata": {},
   "outputs": [],
   "source": [
    "def lsep_loss_stable(input, target, average=True):\n",
    "\n",
    "    n = input.size(0)\n",
    "\n",
    "    differences = input.unsqueeze(1) - input.unsqueeze(2)\n",
    "    where_lower = (target.unsqueeze(1) < target.unsqueeze(2)).float()\n",
    "\n",
    "    differences = differences.view(n, -1)\n",
    "    where_lower = where_lower.view(n, -1)\n",
    "\n",
    "    max_difference, index = torch.max(differences, dim=1, keepdim=True)\n",
    "    differences = differences - max_difference\n",
    "    exps = differences.exp() * where_lower\n",
    "\n",
    "    lsep = max_difference + torch.log(torch.exp(-max_difference) + exps.sum(-1))\n",
    "\n",
    "    if average:\n",
    "        return lsep.mean()\n",
    "    else:\n",
    "        return lsep\n",
    "    \n",
    "    \n",
    "def focal_loss(input, target, focus=2.0, raw=True):\n",
    "\n",
    "    if raw:\n",
    "        input = torch.sigmoid(input)\n",
    "\n",
    "    eps = 1e-7\n",
    "\n",
    "    prob_true = input * target + (1 - input) * (1 - target)\n",
    "    prob_true = torch.clamp(prob_true, eps, 1-eps)\n",
    "    modulating_factor = (1.0 - prob_true).pow(focus)\n",
    "\n",
    "    return (-modulating_factor * prob_true.log()).mean()\n",
    "\n",
    "\n",
    "from torch.nn import BCEWithLogitsLoss, CrossEntropyLoss\n",
    "\n",
    "class PANNsLoss(nn.Module):\n",
    "    def __init__(self):\n",
    "        super().__init__()\n",
    "\n",
    "        self.bce = nn.BCELoss()\n",
    "\n",
    "    def forward(self, input, target):\n",
    "        input_ = input[\"clipwise_output\"]\n",
    "        input_ = torch.where(torch.isnan(input_),\n",
    "                             torch.zeros_like(input_),\n",
    "                             input_)\n",
    "        input_ = torch.where(torch.isinf(input_),\n",
    "                             torch.zeros_like(input_),\n",
    "                             input_)\n",
    "\n",
    "        target = target.float()\n",
    "\n",
    "        return self.bce(input_, target)"
   ]
  },
  {
   "cell_type": "code",
   "execution_count": 8,
   "metadata": {},
   "outputs": [],
   "source": [
    "EPOCHS = config[\"training\"][\"n_epochs\"]\n",
    "\n",
    "if config[\"general\"][\"SED\"]:\n",
    "    criterion = PANNsLoss() #lsep_loss_stable#nn.BCELoss() # TODO: add mappings file for losses\n",
    "else:\n",
    "    criterion = lsep_loss_stable\n",
    "# num_train_steps = int(len(train_dataloader) * EPOCHS)\n",
    "# num_warmup_steps = int(0.1 * EPOCHS * len(train_dataloader))\n",
    "# scheduler = torch.optim.lr_scheduler.CosineAnnealingLR(optimizer, T_max=10, eta_min=1e-6) # TODO: add mappings file for losses\n",
    "# scheduler = None\n",
    "# scheduler = get_linear_schedule_with_warmup(optimizer, num_warmup_steps=num_warmup_steps, num_training_steps=num_train_steps)"
   ]
  },
  {
   "cell_type": "code",
   "execution_count": 9,
   "metadata": {},
   "outputs": [
    {
     "data": {
      "text/html": [
       "<div>\n",
       "<style scoped>\n",
       "    .dataframe tbody tr th:only-of-type {\n",
       "        vertical-align: middle;\n",
       "    }\n",
       "\n",
       "    .dataframe tbody tr th {\n",
       "        vertical-align: top;\n",
       "    }\n",
       "\n",
       "    .dataframe thead th {\n",
       "        text-align: right;\n",
       "    }\n",
       "</style>\n",
       "<table border=\"1\" class=\"dataframe\">\n",
       "  <thead>\n",
       "    <tr style=\"text-align: right;\">\n",
       "      <th></th>\n",
       "      <th>recording_id</th>\n",
       "      <th>species_id</th>\n",
       "      <th>songtype_id</th>\n",
       "      <th>t_min</th>\n",
       "      <th>f_min</th>\n",
       "      <th>t_max</th>\n",
       "      <th>f_max</th>\n",
       "      <th>kfold</th>\n",
       "    </tr>\n",
       "  </thead>\n",
       "  <tbody>\n",
       "    <tr>\n",
       "      <th>0</th>\n",
       "      <td>003bec244</td>\n",
       "      <td>14</td>\n",
       "      <td>1</td>\n",
       "      <td>44.5440</td>\n",
       "      <td>2531.250</td>\n",
       "      <td>45.1307</td>\n",
       "      <td>5531.25</td>\n",
       "      <td>2</td>\n",
       "    </tr>\n",
       "    <tr>\n",
       "      <th>1</th>\n",
       "      <td>006ab765f</td>\n",
       "      <td>23</td>\n",
       "      <td>1</td>\n",
       "      <td>39.9615</td>\n",
       "      <td>7235.160</td>\n",
       "      <td>46.0452</td>\n",
       "      <td>11283.40</td>\n",
       "      <td>3</td>\n",
       "    </tr>\n",
       "    <tr>\n",
       "      <th>2</th>\n",
       "      <td>007f87ba2</td>\n",
       "      <td>12</td>\n",
       "      <td>1</td>\n",
       "      <td>39.1360</td>\n",
       "      <td>562.500</td>\n",
       "      <td>42.2720</td>\n",
       "      <td>3281.25</td>\n",
       "      <td>1</td>\n",
       "    </tr>\n",
       "    <tr>\n",
       "      <th>3</th>\n",
       "      <td>0099c367b</td>\n",
       "      <td>17</td>\n",
       "      <td>4</td>\n",
       "      <td>51.4206</td>\n",
       "      <td>1464.260</td>\n",
       "      <td>55.1996</td>\n",
       "      <td>4565.04</td>\n",
       "      <td>1</td>\n",
       "    </tr>\n",
       "    <tr>\n",
       "      <th>4</th>\n",
       "      <td>009b760e6</td>\n",
       "      <td>10</td>\n",
       "      <td>1</td>\n",
       "      <td>50.0854</td>\n",
       "      <td>947.461</td>\n",
       "      <td>52.5293</td>\n",
       "      <td>10852.70</td>\n",
       "      <td>3</td>\n",
       "    </tr>\n",
       "    <tr>\n",
       "      <th>...</th>\n",
       "      <td>...</td>\n",
       "      <td>...</td>\n",
       "      <td>...</td>\n",
       "      <td>...</td>\n",
       "      <td>...</td>\n",
       "      <td>...</td>\n",
       "      <td>...</td>\n",
       "      <td>...</td>\n",
       "    </tr>\n",
       "    <tr>\n",
       "      <th>1211</th>\n",
       "      <td>fe8d9ac40</td>\n",
       "      <td>13</td>\n",
       "      <td>1</td>\n",
       "      <td>53.4720</td>\n",
       "      <td>93.750</td>\n",
       "      <td>54.0960</td>\n",
       "      <td>843.75</td>\n",
       "      <td>4</td>\n",
       "    </tr>\n",
       "    <tr>\n",
       "      <th>1212</th>\n",
       "      <td>fea6b438a</td>\n",
       "      <td>4</td>\n",
       "      <td>1</td>\n",
       "      <td>43.5787</td>\n",
       "      <td>2531.250</td>\n",
       "      <td>45.7653</td>\n",
       "      <td>4031.25</td>\n",
       "      <td>3</td>\n",
       "    </tr>\n",
       "    <tr>\n",
       "      <th>1213</th>\n",
       "      <td>ff2eb9ce5</td>\n",
       "      <td>0</td>\n",
       "      <td>1</td>\n",
       "      <td>15.2267</td>\n",
       "      <td>5906.250</td>\n",
       "      <td>16.0213</td>\n",
       "      <td>8250.00</td>\n",
       "      <td>1</td>\n",
       "    </tr>\n",
       "    <tr>\n",
       "      <th>1214</th>\n",
       "      <td>ffb8d8391</td>\n",
       "      <td>5</td>\n",
       "      <td>1</td>\n",
       "      <td>14.3467</td>\n",
       "      <td>4781.250</td>\n",
       "      <td>16.6987</td>\n",
       "      <td>10406.20</td>\n",
       "      <td>3</td>\n",
       "    </tr>\n",
       "    <tr>\n",
       "      <th>1215</th>\n",
       "      <td>ffb9a7b9a</td>\n",
       "      <td>18</td>\n",
       "      <td>1</td>\n",
       "      <td>40.3200</td>\n",
       "      <td>3187.500</td>\n",
       "      <td>41.0133</td>\n",
       "      <td>5062.50</td>\n",
       "      <td>0</td>\n",
       "    </tr>\n",
       "  </tbody>\n",
       "</table>\n",
       "<p>1216 rows × 8 columns</p>\n",
       "</div>"
      ],
      "text/plain": [
       "     recording_id  species_id  songtype_id    t_min     f_min    t_max  \\\n",
       "0       003bec244          14            1  44.5440  2531.250  45.1307   \n",
       "1       006ab765f          23            1  39.9615  7235.160  46.0452   \n",
       "2       007f87ba2          12            1  39.1360   562.500  42.2720   \n",
       "3       0099c367b          17            4  51.4206  1464.260  55.1996   \n",
       "4       009b760e6          10            1  50.0854   947.461  52.5293   \n",
       "...           ...         ...          ...      ...       ...      ...   \n",
       "1211    fe8d9ac40          13            1  53.4720    93.750  54.0960   \n",
       "1212    fea6b438a           4            1  43.5787  2531.250  45.7653   \n",
       "1213    ff2eb9ce5           0            1  15.2267  5906.250  16.0213   \n",
       "1214    ffb8d8391           5            1  14.3467  4781.250  16.6987   \n",
       "1215    ffb9a7b9a          18            1  40.3200  3187.500  41.0133   \n",
       "\n",
       "         f_max  kfold  \n",
       "0      5531.25      2  \n",
       "1     11283.40      3  \n",
       "2      3281.25      1  \n",
       "3      4565.04      1  \n",
       "4     10852.70      3  \n",
       "...        ...    ...  \n",
       "1211    843.75      4  \n",
       "1212   4031.25      3  \n",
       "1213   8250.00      1  \n",
       "1214  10406.20      3  \n",
       "1215   5062.50      0  \n",
       "\n",
       "[1216 rows x 8 columns]"
      ]
     },
     "execution_count": 9,
     "metadata": {},
     "output_type": "execute_result"
    }
   ],
   "source": [
    "train"
   ]
  },
  {
   "cell_type": "code",
   "execution_count": 10,
   "metadata": {
    "pycharm": {
     "is_executing": true
    },
    "scrolled": false
   },
   "outputs": [
    {
     "name": "stdout",
     "output_type": "stream",
     "text": [
      "Ranger optimizer loaded. \n",
      "Gradient Centralization usage = True\n",
      "GC applied to both conv and fc layers\n"
     ]
    },
    {
     "name": "stderr",
     "output_type": "stream",
     "text": [
      "  0%|          | 0/113 [00:00<?, ?it/s]/home/paniquex/Ranger-Deep-Learning-Optimizer/Ranger-Deep-Learning-Optimizer/ranger/ranger.py:138: UserWarning: This overload of addcmul_ is deprecated:\n",
      "\taddcmul_(Number value, Tensor tensor1, Tensor tensor2)\n",
      "Consider using one of the following signatures instead:\n",
      "\taddcmul_(Tensor tensor1, Tensor tensor2, *, Number value) (Triggered internally at  /pytorch/torch/csrc/utils/python_arg_parser.cpp:766.)\n",
      "  exp_avg_sq.mul_(beta2).addcmul_(1 - beta2, grad, grad)\n",
      "3.4095: 100%|██████████| 113/113 [00:21<00:00,  5.15it/s]\n",
      "  0%|          | 0/29 [00:00<?, ?it/s]"
     ]
    },
    {
     "name": "stdout",
     "output_type": "stream",
     "text": [
      "Predict test without augmentations\n"
     ]
    },
    {
     "name": "stderr",
     "output_type": "stream",
     "text": [
      "100%|██████████| 29/29 [00:02<00:00, 10.48it/s]\n",
      "3.3482: 100%|██████████| 113/113 [00:20<00:00,  5.47it/s]\n",
      "  0%|          | 0/29 [00:00<?, ?it/s]"
     ]
    },
    {
     "name": "stdout",
     "output_type": "stream",
     "text": [
      "Predict test without augmentations\n"
     ]
    },
    {
     "name": "stderr",
     "output_type": "stream",
     "text": [
      "100%|██████████| 29/29 [00:02<00:00, 12.47it/s]\n",
      "3.2728: 100%|██████████| 113/113 [00:20<00:00,  5.45it/s]\n",
      "  0%|          | 0/29 [00:00<?, ?it/s]"
     ]
    },
    {
     "name": "stdout",
     "output_type": "stream",
     "text": [
      "Predict test without augmentations\n"
     ]
    },
    {
     "name": "stderr",
     "output_type": "stream",
     "text": [
      "100%|██████████| 29/29 [00:02<00:00, 12.19it/s]\n",
      "3.2479: 100%|██████████| 113/113 [00:20<00:00,  5.46it/s]\n",
      "  0%|          | 0/29 [00:00<?, ?it/s]"
     ]
    },
    {
     "name": "stdout",
     "output_type": "stream",
     "text": [
      "Predict test without augmentations\n"
     ]
    },
    {
     "name": "stderr",
     "output_type": "stream",
     "text": [
      "100%|██████████| 29/29 [00:02<00:00, 12.30it/s]\n",
      "3.2296: 100%|██████████| 113/113 [00:20<00:00,  5.44it/s]\n",
      "  0%|          | 0/29 [00:00<?, ?it/s]"
     ]
    },
    {
     "name": "stdout",
     "output_type": "stream",
     "text": [
      "Predict test without augmentations\n"
     ]
    },
    {
     "name": "stderr",
     "output_type": "stream",
     "text": [
      "100%|██████████| 29/29 [00:02<00:00, 12.39it/s]\n",
      "3.1858: 100%|██████████| 113/113 [00:20<00:00,  5.45it/s]\n",
      "  0%|          | 0/29 [00:00<?, ?it/s]"
     ]
    },
    {
     "name": "stdout",
     "output_type": "stream",
     "text": [
      "Predict test without augmentations\n"
     ]
    },
    {
     "name": "stderr",
     "output_type": "stream",
     "text": [
      "100%|██████████| 29/29 [00:02<00:00, 12.21it/s]\n",
      "3.1590: 100%|██████████| 113/113 [00:20<00:00,  5.45it/s]\n",
      "  0%|          | 0/29 [00:00<?, ?it/s]"
     ]
    },
    {
     "name": "stdout",
     "output_type": "stream",
     "text": [
      "Predict test without augmentations\n"
     ]
    },
    {
     "name": "stderr",
     "output_type": "stream",
     "text": [
      "100%|██████████| 29/29 [00:02<00:00, 12.43it/s]\n",
      "3.1333: 100%|██████████| 113/113 [00:20<00:00,  5.43it/s]\n",
      "  0%|          | 0/29 [00:00<?, ?it/s]"
     ]
    },
    {
     "name": "stdout",
     "output_type": "stream",
     "text": [
      "Predict test without augmentations\n"
     ]
    },
    {
     "name": "stderr",
     "output_type": "stream",
     "text": [
      "100%|██████████| 29/29 [00:02<00:00, 12.47it/s]\n",
      "3.1329: 100%|██████████| 113/113 [00:20<00:00,  5.43it/s]\n",
      "  0%|          | 0/29 [00:00<?, ?it/s]"
     ]
    },
    {
     "name": "stdout",
     "output_type": "stream",
     "text": [
      "Predict test without augmentations\n"
     ]
    },
    {
     "name": "stderr",
     "output_type": "stream",
     "text": [
      "100%|██████████| 29/29 [00:02<00:00, 12.41it/s]\n",
      "3.0665: 100%|██████████| 113/113 [00:20<00:00,  5.44it/s]\n",
      "  0%|          | 0/29 [00:00<?, ?it/s]"
     ]
    },
    {
     "name": "stdout",
     "output_type": "stream",
     "text": [
      "Predict test without augmentations\n"
     ]
    },
    {
     "name": "stderr",
     "output_type": "stream",
     "text": [
      "100%|██████████| 29/29 [00:02<00:00, 12.28it/s]\n",
      "3.0347: 100%|██████████| 113/113 [00:20<00:00,  5.44it/s]\n",
      "  0%|          | 0/29 [00:00<?, ?it/s]"
     ]
    },
    {
     "name": "stdout",
     "output_type": "stream",
     "text": [
      "Predict test without augmentations\n"
     ]
    },
    {
     "name": "stderr",
     "output_type": "stream",
     "text": [
      "100%|██████████| 29/29 [00:02<00:00, 11.65it/s]\n",
      "3.0366: 100%|██████████| 113/113 [00:20<00:00,  5.44it/s]\n",
      "  0%|          | 0/29 [00:00<?, ?it/s]"
     ]
    },
    {
     "name": "stdout",
     "output_type": "stream",
     "text": [
      "Predict test without augmentations\n"
     ]
    },
    {
     "name": "stderr",
     "output_type": "stream",
     "text": [
      "100%|██████████| 29/29 [00:02<00:00, 12.49it/s]\n",
      "3.0157: 100%|██████████| 113/113 [00:20<00:00,  5.43it/s]\n",
      "  0%|          | 0/29 [00:00<?, ?it/s]"
     ]
    },
    {
     "name": "stdout",
     "output_type": "stream",
     "text": [
      "Predict test without augmentations\n"
     ]
    },
    {
     "name": "stderr",
     "output_type": "stream",
     "text": [
      "100%|██████████| 29/29 [00:02<00:00, 12.11it/s]\n",
      "2.9898: 100%|██████████| 113/113 [00:20<00:00,  5.42it/s]\n",
      "  0%|          | 0/29 [00:00<?, ?it/s]"
     ]
    },
    {
     "name": "stdout",
     "output_type": "stream",
     "text": [
      "Predict test without augmentations\n"
     ]
    },
    {
     "name": "stderr",
     "output_type": "stream",
     "text": [
      "100%|██████████| 29/29 [00:02<00:00, 12.27it/s]\n",
      "2.9892: 100%|██████████| 113/113 [00:20<00:00,  5.45it/s]\n",
      "  0%|          | 0/29 [00:00<?, ?it/s]"
     ]
    },
    {
     "name": "stdout",
     "output_type": "stream",
     "text": [
      "Predict test without augmentations\n"
     ]
    },
    {
     "name": "stderr",
     "output_type": "stream",
     "text": [
      "100%|██████████| 29/29 [00:02<00:00, 12.51it/s]\n",
      "2.9656: 100%|██████████| 113/113 [00:20<00:00,  5.43it/s]\n",
      "  0%|          | 0/29 [00:00<?, ?it/s]"
     ]
    },
    {
     "name": "stdout",
     "output_type": "stream",
     "text": [
      "Predict test without augmentations\n"
     ]
    },
    {
     "name": "stderr",
     "output_type": "stream",
     "text": [
      "100%|██████████| 29/29 [00:02<00:00, 12.42it/s]\n",
      "2.9157: 100%|██████████| 113/113 [00:20<00:00,  5.48it/s]\n",
      "  0%|          | 0/29 [00:00<?, ?it/s]"
     ]
    },
    {
     "name": "stdout",
     "output_type": "stream",
     "text": [
      "Predict test without augmentations\n"
     ]
    },
    {
     "name": "stderr",
     "output_type": "stream",
     "text": [
      "100%|██████████| 29/29 [00:02<00:00, 12.19it/s]\n",
      "2.9193: 100%|██████████| 113/113 [00:20<00:00,  5.44it/s]\n",
      "  0%|          | 0/29 [00:00<?, ?it/s]"
     ]
    },
    {
     "name": "stdout",
     "output_type": "stream",
     "text": [
      "Predict test without augmentations\n"
     ]
    },
    {
     "name": "stderr",
     "output_type": "stream",
     "text": [
      "100%|██████████| 29/29 [00:02<00:00, 12.30it/s]\n",
      "2.9296: 100%|██████████| 113/113 [00:20<00:00,  5.46it/s]\n",
      "  0%|          | 0/29 [00:00<?, ?it/s]"
     ]
    },
    {
     "name": "stdout",
     "output_type": "stream",
     "text": [
      "Predict test without augmentations\n"
     ]
    },
    {
     "name": "stderr",
     "output_type": "stream",
     "text": [
      "100%|██████████| 29/29 [00:02<00:00, 12.75it/s]\n",
      "2.9464: 100%|██████████| 113/113 [00:20<00:00,  5.43it/s]\n",
      "  0%|          | 0/29 [00:00<?, ?it/s]"
     ]
    },
    {
     "name": "stdout",
     "output_type": "stream",
     "text": [
      "Predict test without augmentations\n"
     ]
    },
    {
     "name": "stderr",
     "output_type": "stream",
     "text": [
      "100%|██████████| 29/29 [00:02<00:00, 12.75it/s]\n",
      "2.9236: 100%|██████████| 113/113 [00:20<00:00,  5.45it/s]\n",
      "  0%|          | 0/29 [00:00<?, ?it/s]"
     ]
    },
    {
     "name": "stdout",
     "output_type": "stream",
     "text": [
      "Predict test without augmentations\n"
     ]
    },
    {
     "name": "stderr",
     "output_type": "stream",
     "text": [
      "100%|██████████| 29/29 [00:02<00:00, 12.66it/s]\n",
      "2.8768: 100%|██████████| 113/113 [00:20<00:00,  5.44it/s]\n",
      "  0%|          | 0/29 [00:00<?, ?it/s]"
     ]
    },
    {
     "name": "stdout",
     "output_type": "stream",
     "text": [
      "Predict test without augmentations\n"
     ]
    },
    {
     "name": "stderr",
     "output_type": "stream",
     "text": [
      "100%|██████████| 29/29 [00:02<00:00, 12.58it/s]\n",
      "2.8939: 100%|██████████| 113/113 [00:20<00:00,  5.44it/s]\n",
      "  0%|          | 0/29 [00:00<?, ?it/s]"
     ]
    },
    {
     "name": "stdout",
     "output_type": "stream",
     "text": [
      "Predict test without augmentations\n"
     ]
    },
    {
     "name": "stderr",
     "output_type": "stream",
     "text": [
      "100%|██████████| 29/29 [00:02<00:00, 12.62it/s]\n",
      "2.9113: 100%|██████████| 113/113 [00:20<00:00,  5.45it/s]\n",
      "  0%|          | 0/29 [00:00<?, ?it/s]"
     ]
    },
    {
     "name": "stdout",
     "output_type": "stream",
     "text": [
      "Predict test without augmentations\n"
     ]
    },
    {
     "name": "stderr",
     "output_type": "stream",
     "text": [
      "100%|██████████| 29/29 [00:02<00:00, 11.92it/s]\n",
      "2.9047: 100%|██████████| 113/113 [00:20<00:00,  5.45it/s]\n",
      "  0%|          | 0/29 [00:00<?, ?it/s]"
     ]
    },
    {
     "name": "stdout",
     "output_type": "stream",
     "text": [
      "Predict test without augmentations\n"
     ]
    },
    {
     "name": "stderr",
     "output_type": "stream",
     "text": [
      "100%|██████████| 29/29 [00:02<00:00, 12.68it/s]\n",
      "2.8727: 100%|██████████| 113/113 [00:20<00:00,  5.46it/s]\n",
      "  0%|          | 0/29 [00:00<?, ?it/s]"
     ]
    },
    {
     "name": "stdout",
     "output_type": "stream",
     "text": [
      "Predict test without augmentations\n"
     ]
    },
    {
     "name": "stderr",
     "output_type": "stream",
     "text": [
      "100%|██████████| 29/29 [00:02<00:00, 12.61it/s]\n",
      "2.8832: 100%|██████████| 113/113 [00:20<00:00,  5.42it/s]\n",
      "  0%|          | 0/29 [00:00<?, ?it/s]"
     ]
    },
    {
     "name": "stdout",
     "output_type": "stream",
     "text": [
      "Predict test without augmentations\n"
     ]
    },
    {
     "name": "stderr",
     "output_type": "stream",
     "text": [
      "100%|██████████| 29/29 [00:02<00:00, 12.47it/s]\n",
      "2.8829: 100%|██████████| 113/113 [00:20<00:00,  5.46it/s]\n",
      "  0%|          | 0/29 [00:00<?, ?it/s]"
     ]
    },
    {
     "name": "stdout",
     "output_type": "stream",
     "text": [
      "Predict test without augmentations\n"
     ]
    },
    {
     "name": "stderr",
     "output_type": "stream",
     "text": [
      "100%|██████████| 29/29 [00:02<00:00, 12.53it/s]\n",
      "2.8529: 100%|██████████| 113/113 [00:20<00:00,  5.46it/s]\n",
      "  0%|          | 0/29 [00:00<?, ?it/s]"
     ]
    },
    {
     "name": "stdout",
     "output_type": "stream",
     "text": [
      "Predict test without augmentations\n"
     ]
    },
    {
     "name": "stderr",
     "output_type": "stream",
     "text": [
      "100%|██████████| 29/29 [00:02<00:00, 12.19it/s]\n",
      "2.8821: 100%|██████████| 113/113 [00:20<00:00,  5.45it/s]\n",
      "  0%|          | 0/29 [00:00<?, ?it/s]"
     ]
    },
    {
     "name": "stdout",
     "output_type": "stream",
     "text": [
      "Predict test without augmentations\n"
     ]
    },
    {
     "name": "stderr",
     "output_type": "stream",
     "text": [
      "100%|██████████| 29/29 [00:02<00:00, 12.60it/s]\n",
      "2.8669: 100%|██████████| 113/113 [00:20<00:00,  5.44it/s]\n",
      "  0%|          | 0/29 [00:00<?, ?it/s]"
     ]
    },
    {
     "name": "stdout",
     "output_type": "stream",
     "text": [
      "Predict test without augmentations\n"
     ]
    },
    {
     "name": "stderr",
     "output_type": "stream",
     "text": [
      "100%|██████████| 29/29 [00:02<00:00, 12.46it/s]\n",
      "2.8637: 100%|██████████| 113/113 [00:20<00:00,  5.46it/s]\n",
      "  0%|          | 0/29 [00:00<?, ?it/s]"
     ]
    },
    {
     "name": "stdout",
     "output_type": "stream",
     "text": [
      "Predict test without augmentations\n"
     ]
    },
    {
     "name": "stderr",
     "output_type": "stream",
     "text": [
      "100%|██████████| 29/29 [00:02<00:00, 12.54it/s]\n",
      "2.8539: 100%|██████████| 113/113 [00:20<00:00,  5.44it/s]\n",
      "  0%|          | 0/29 [00:00<?, ?it/s]"
     ]
    },
    {
     "name": "stdout",
     "output_type": "stream",
     "text": [
      "Predict test without augmentations\n"
     ]
    },
    {
     "name": "stderr",
     "output_type": "stream",
     "text": [
      "100%|██████████| 29/29 [00:02<00:00, 12.19it/s]\n",
      "2.8580: 100%|██████████| 113/113 [00:20<00:00,  5.43it/s]\n",
      "  0%|          | 0/29 [00:00<?, ?it/s]"
     ]
    },
    {
     "name": "stdout",
     "output_type": "stream",
     "text": [
      "Predict test without augmentations\n"
     ]
    },
    {
     "name": "stderr",
     "output_type": "stream",
     "text": [
      "100%|██████████| 29/29 [00:02<00:00, 12.54it/s]\n",
      "  0%|          | 0/113 [00:00<?, ?it/s]"
     ]
    },
    {
     "name": "stdout",
     "output_type": "stream",
     "text": [
      "Epoch    34: reducing learning rate of group 0 to 1.0000e-04.\n"
     ]
    },
    {
     "name": "stderr",
     "output_type": "stream",
     "text": [
      "2.8393: 100%|██████████| 113/113 [00:20<00:00,  5.42it/s]\n",
      "  0%|          | 0/29 [00:00<?, ?it/s]"
     ]
    },
    {
     "name": "stdout",
     "output_type": "stream",
     "text": [
      "Predict test without augmentations\n"
     ]
    },
    {
     "name": "stderr",
     "output_type": "stream",
     "text": [
      "100%|██████████| 29/29 [00:02<00:00, 12.46it/s]\n",
      "2.8391: 100%|██████████| 113/113 [00:20<00:00,  5.43it/s]\n",
      "  0%|          | 0/29 [00:00<?, ?it/s]"
     ]
    },
    {
     "name": "stdout",
     "output_type": "stream",
     "text": [
      "Predict test without augmentations\n"
     ]
    },
    {
     "name": "stderr",
     "output_type": "stream",
     "text": [
      "100%|██████████| 29/29 [00:02<00:00, 12.44it/s]\n",
      "2.8050: 100%|██████████| 113/113 [00:20<00:00,  5.46it/s]\n",
      "  0%|          | 0/29 [00:00<?, ?it/s]"
     ]
    },
    {
     "name": "stdout",
     "output_type": "stream",
     "text": [
      "Predict test without augmentations\n"
     ]
    },
    {
     "name": "stderr",
     "output_type": "stream",
     "text": [
      "100%|██████████| 29/29 [00:02<00:00, 11.15it/s]\n",
      "2.8257: 100%|██████████| 113/113 [00:20<00:00,  5.43it/s]\n",
      "  0%|          | 0/29 [00:00<?, ?it/s]"
     ]
    },
    {
     "name": "stdout",
     "output_type": "stream",
     "text": [
      "Predict test without augmentations\n"
     ]
    },
    {
     "name": "stderr",
     "output_type": "stream",
     "text": [
      "100%|██████████| 29/29 [00:02<00:00, 12.56it/s]\n",
      "2.8010: 100%|██████████| 113/113 [00:20<00:00,  5.46it/s]\n",
      "  0%|          | 0/29 [00:00<?, ?it/s]"
     ]
    },
    {
     "name": "stdout",
     "output_type": "stream",
     "text": [
      "Predict test without augmentations\n"
     ]
    },
    {
     "name": "stderr",
     "output_type": "stream",
     "text": [
      "100%|██████████| 29/29 [00:02<00:00, 12.69it/s]\n",
      "2.7855: 100%|██████████| 113/113 [00:20<00:00,  5.44it/s]\n",
      "  0%|          | 0/29 [00:00<?, ?it/s]"
     ]
    },
    {
     "name": "stdout",
     "output_type": "stream",
     "text": [
      "Predict test without augmentations\n"
     ]
    },
    {
     "name": "stderr",
     "output_type": "stream",
     "text": [
      "100%|██████████| 29/29 [00:02<00:00, 12.50it/s]\n",
      "2.7929: 100%|██████████| 113/113 [00:20<00:00,  5.46it/s]\n",
      "  0%|          | 0/29 [00:00<?, ?it/s]"
     ]
    },
    {
     "name": "stdout",
     "output_type": "stream",
     "text": [
      "Predict test without augmentations\n"
     ]
    },
    {
     "name": "stderr",
     "output_type": "stream",
     "text": [
      "100%|██████████| 29/29 [00:02<00:00, 12.57it/s]\n",
      "2.7919: 100%|██████████| 113/113 [00:20<00:00,  5.44it/s]\n",
      "  0%|          | 0/29 [00:00<?, ?it/s]"
     ]
    },
    {
     "name": "stdout",
     "output_type": "stream",
     "text": [
      "Predict test without augmentations\n"
     ]
    },
    {
     "name": "stderr",
     "output_type": "stream",
     "text": [
      "100%|██████████| 29/29 [00:02<00:00, 12.23it/s]\n",
      "2.7987: 100%|██████████| 113/113 [00:20<00:00,  5.46it/s]\n",
      "  0%|          | 0/29 [00:00<?, ?it/s]"
     ]
    },
    {
     "name": "stdout",
     "output_type": "stream",
     "text": [
      "Predict test without augmentations\n"
     ]
    },
    {
     "name": "stderr",
     "output_type": "stream",
     "text": [
      "100%|██████████| 29/29 [00:02<00:00, 12.40it/s]\n",
      "2.8006: 100%|██████████| 113/113 [00:20<00:00,  5.43it/s]\n",
      "  0%|          | 0/29 [00:00<?, ?it/s]"
     ]
    },
    {
     "name": "stdout",
     "output_type": "stream",
     "text": [
      "Predict test without augmentations\n"
     ]
    },
    {
     "name": "stderr",
     "output_type": "stream",
     "text": [
      "100%|██████████| 29/29 [00:02<00:00, 12.45it/s]\n",
      "2.8046: 100%|██████████| 113/113 [00:20<00:00,  5.48it/s]\n",
      "  0%|          | 0/29 [00:00<?, ?it/s]"
     ]
    },
    {
     "name": "stdout",
     "output_type": "stream",
     "text": [
      "Predict test without augmentations\n"
     ]
    },
    {
     "name": "stderr",
     "output_type": "stream",
     "text": [
      "100%|██████████| 29/29 [00:02<00:00, 12.59it/s]\n",
      "2.7715: 100%|██████████| 113/113 [00:20<00:00,  5.44it/s]\n",
      "  0%|          | 0/29 [00:00<?, ?it/s]"
     ]
    },
    {
     "name": "stdout",
     "output_type": "stream",
     "text": [
      "Predict test without augmentations\n"
     ]
    },
    {
     "name": "stderr",
     "output_type": "stream",
     "text": [
      "100%|██████████| 29/29 [00:02<00:00, 12.43it/s]\n",
      "2.7758: 100%|██████████| 113/113 [00:20<00:00,  5.44it/s]\n",
      "  0%|          | 0/29 [00:00<?, ?it/s]"
     ]
    },
    {
     "name": "stdout",
     "output_type": "stream",
     "text": [
      "Predict test without augmentations\n"
     ]
    },
    {
     "name": "stderr",
     "output_type": "stream",
     "text": [
      "100%|██████████| 29/29 [00:02<00:00, 12.37it/s]\n",
      "2.7685: 100%|██████████| 113/113 [00:20<00:00,  5.46it/s]\n",
      "  0%|          | 0/29 [00:00<?, ?it/s]"
     ]
    },
    {
     "name": "stdout",
     "output_type": "stream",
     "text": [
      "Predict test without augmentations\n"
     ]
    },
    {
     "name": "stderr",
     "output_type": "stream",
     "text": [
      "100%|██████████| 29/29 [00:02<00:00, 11.54it/s]\n",
      "2.7731: 100%|██████████| 113/113 [00:20<00:00,  5.45it/s]\n",
      "  0%|          | 0/29 [00:00<?, ?it/s]"
     ]
    },
    {
     "name": "stdout",
     "output_type": "stream",
     "text": [
      "Predict test without augmentations\n"
     ]
    },
    {
     "name": "stderr",
     "output_type": "stream",
     "text": [
      "100%|██████████| 29/29 [00:02<00:00, 12.49it/s]\n",
      "2.7703: 100%|██████████| 113/113 [00:20<00:00,  5.43it/s]\n",
      "  0%|          | 0/29 [00:00<?, ?it/s]"
     ]
    },
    {
     "name": "stdout",
     "output_type": "stream",
     "text": [
      "Predict test without augmentations\n"
     ]
    },
    {
     "name": "stderr",
     "output_type": "stream",
     "text": [
      "100%|██████████| 29/29 [00:02<00:00, 12.69it/s]\n",
      "2.7733: 100%|██████████| 113/113 [00:20<00:00,  5.42it/s]\n",
      "  0%|          | 0/29 [00:00<?, ?it/s]"
     ]
    },
    {
     "name": "stdout",
     "output_type": "stream",
     "text": [
      "Predict test without augmentations\n"
     ]
    },
    {
     "name": "stderr",
     "output_type": "stream",
     "text": [
      "100%|██████████| 29/29 [00:02<00:00, 12.55it/s]\n",
      "  0%|          | 0/113 [00:00<?, ?it/s]"
     ]
    },
    {
     "name": "stdout",
     "output_type": "stream",
     "text": [
      "Epoch    51: reducing learning rate of group 0 to 1.0000e-05.\n"
     ]
    },
    {
     "name": "stderr",
     "output_type": "stream",
     "text": [
      "2.7784: 100%|██████████| 113/113 [00:20<00:00,  5.45it/s]\n",
      "  0%|          | 0/29 [00:00<?, ?it/s]"
     ]
    },
    {
     "name": "stdout",
     "output_type": "stream",
     "text": [
      "Predict test without augmentations\n"
     ]
    },
    {
     "name": "stderr",
     "output_type": "stream",
     "text": [
      "100%|██████████| 29/29 [00:02<00:00, 12.46it/s]\n",
      "2.7453: 100%|██████████| 113/113 [00:20<00:00,  5.45it/s]\n",
      "/home/paniquex/anaconda3/envs/kaggle/lib/python3.7/site-packages/sklearn/metrics/_classification.py:1221: UndefinedMetricWarning: Precision is ill-defined and being set to 0.0 in samples with no predicted labels. Use `zero_division` parameter to control this behavior.\n",
      "  _warn_prf(average, modifier, msg_start, len(result))\n",
      "  0%|          | 0/29 [00:00<?, ?it/s]"
     ]
    },
    {
     "name": "stdout",
     "output_type": "stream",
     "text": [
      "Predict test without augmentations\n"
     ]
    },
    {
     "name": "stderr",
     "output_type": "stream",
     "text": [
      "100%|██████████| 29/29 [00:02<00:00, 12.50it/s]\n",
      "2.7590: 100%|██████████| 113/113 [00:20<00:00,  5.45it/s]\n",
      "  0%|          | 0/29 [00:00<?, ?it/s]"
     ]
    },
    {
     "name": "stdout",
     "output_type": "stream",
     "text": [
      "Predict test without augmentations\n"
     ]
    },
    {
     "name": "stderr",
     "output_type": "stream",
     "text": [
      "100%|██████████| 29/29 [00:02<00:00, 12.40it/s]\n",
      "2.7506: 100%|██████████| 113/113 [00:20<00:00,  5.40it/s]\n",
      "  0%|          | 0/29 [00:00<?, ?it/s]"
     ]
    },
    {
     "name": "stdout",
     "output_type": "stream",
     "text": [
      "Predict test without augmentations\n"
     ]
    },
    {
     "name": "stderr",
     "output_type": "stream",
     "text": [
      "100%|██████████| 29/29 [00:02<00:00, 12.10it/s]\n",
      "2.7695: 100%|██████████| 113/113 [00:20<00:00,  5.42it/s]\n",
      "  0%|          | 0/29 [00:00<?, ?it/s]"
     ]
    },
    {
     "name": "stdout",
     "output_type": "stream",
     "text": [
      "Predict test without augmentations\n"
     ]
    },
    {
     "name": "stderr",
     "output_type": "stream",
     "text": [
      "100%|██████████| 29/29 [00:02<00:00, 12.39it/s]\n",
      "2.7745: 100%|██████████| 113/113 [00:20<00:00,  5.44it/s]\n",
      "  0%|          | 0/29 [00:00<?, ?it/s]"
     ]
    },
    {
     "name": "stdout",
     "output_type": "stream",
     "text": [
      "Predict test without augmentations\n"
     ]
    },
    {
     "name": "stderr",
     "output_type": "stream",
     "text": [
      "100%|██████████| 29/29 [00:02<00:00, 11.61it/s]\n",
      "  0%|          | 0/113 [00:00<?, ?it/s]"
     ]
    },
    {
     "name": "stdout",
     "output_type": "stream",
     "text": [
      "Epoch    57: reducing learning rate of group 0 to 1.0000e-06.\n"
     ]
    },
    {
     "name": "stderr",
     "output_type": "stream",
     "text": [
      "2.7870: 100%|██████████| 113/113 [00:20<00:00,  5.42it/s]\n",
      "  0%|          | 0/29 [00:00<?, ?it/s]"
     ]
    },
    {
     "name": "stdout",
     "output_type": "stream",
     "text": [
      "Predict test without augmentations\n"
     ]
    },
    {
     "name": "stderr",
     "output_type": "stream",
     "text": [
      "100%|██████████| 29/29 [00:02<00:00, 12.05it/s]\n",
      "2.7597: 100%|██████████| 113/113 [00:20<00:00,  5.41it/s]\n",
      "  0%|          | 0/29 [00:00<?, ?it/s]"
     ]
    },
    {
     "name": "stdout",
     "output_type": "stream",
     "text": [
      "Predict test without augmentations\n"
     ]
    },
    {
     "name": "stderr",
     "output_type": "stream",
     "text": [
      "100%|██████████| 29/29 [00:02<00:00, 11.76it/s]\n",
      "2.7702: 100%|██████████| 113/113 [00:20<00:00,  5.40it/s]\n",
      "  0%|          | 0/29 [00:00<?, ?it/s]"
     ]
    },
    {
     "name": "stdout",
     "output_type": "stream",
     "text": [
      "Predict test without augmentations\n"
     ]
    },
    {
     "name": "stderr",
     "output_type": "stream",
     "text": [
      "100%|██████████| 29/29 [00:02<00:00, 12.15it/s]\n",
      "2.7534: 100%|██████████| 113/113 [00:20<00:00,  5.38it/s]\n",
      "  0%|          | 0/29 [00:00<?, ?it/s]"
     ]
    },
    {
     "name": "stdout",
     "output_type": "stream",
     "text": [
      "Predict test without augmentations\n"
     ]
    },
    {
     "name": "stderr",
     "output_type": "stream",
     "text": [
      "100%|██████████| 29/29 [00:02<00:00, 12.07it/s]\n"
     ]
    },
    {
     "name": "stdout",
     "output_type": "stream",
     "text": [
      "['./rfcx_kaggle_git/RFCX_kaggle/experiments/logs_model=resnest50d_Pretrained=True_SED=False_act_func=Mish_criterion=LSEP_length=10_step=2_intersect=0.5_new_dataset1_num_classes=24_optim=ranger_sched=plateau_lr=1e-3_SpecAug=True_MixUp=True_alpha=1_n_mels=128/resnest50d_score=0.21069', './rfcx_kaggle_git/RFCX_kaggle/experiments/logs_model=resnest50d_Pretrained=True_SED=False_act_func=Mish_criterion=LSEP_length=10_step=2_intersect=0.5_new_dataset1_num_classes=24_optim=ranger_sched=plateau_lr=1e-3_SpecAug=True_MixUp=True_alpha=1_n_mels=128/resnest50d_score=0.29846', './rfcx_kaggle_git/RFCX_kaggle/experiments/logs_model=resnest50d_Pretrained=True_SED=False_act_func=Mish_criterion=LSEP_length=10_step=2_intersect=0.5_new_dataset1_num_classes=24_optim=ranger_sched=plateau_lr=1e-3_SpecAug=True_MixUp=True_alpha=1_n_mels=128/resnest50d_score=0.39768', './rfcx_kaggle_git/RFCX_kaggle/experiments/logs_model=resnest50d_Pretrained=True_SED=False_act_func=Mish_criterion=LSEP_length=10_step=2_intersect=0.5_new_dataset1_num_classes=24_optim=ranger_sched=plateau_lr=1e-3_SpecAug=True_MixUp=True_alpha=1_n_mels=128/resnest50d_score=0.45398', './rfcx_kaggle_git/RFCX_kaggle/experiments/logs_model=resnest50d_Pretrained=True_SED=False_act_func=Mish_criterion=LSEP_length=10_step=2_intersect=0.5_new_dataset1_num_classes=24_optim=ranger_sched=plateau_lr=1e-3_SpecAug=True_MixUp=True_alpha=1_n_mels=128/resnest50d_score=0.49529', './rfcx_kaggle_git/RFCX_kaggle/experiments/logs_model=resnest50d_Pretrained=True_SED=False_act_func=Mish_criterion=LSEP_length=10_step=2_intersect=0.5_new_dataset1_num_classes=24_optim=ranger_sched=plateau_lr=1e-3_SpecAug=True_MixUp=True_alpha=1_n_mels=128/resnest50d_score=0.52182', './rfcx_kaggle_git/RFCX_kaggle/experiments/logs_model=resnest50d_Pretrained=True_SED=False_act_func=Mish_criterion=LSEP_length=10_step=2_intersect=0.5_new_dataset1_num_classes=24_optim=ranger_sched=plateau_lr=1e-3_SpecAug=True_MixUp=True_alpha=1_n_mels=128/resnest50d_score=0.61798', './rfcx_kaggle_git/RFCX_kaggle/experiments/logs_model=resnest50d_Pretrained=True_SED=False_act_func=Mish_criterion=LSEP_length=10_step=2_intersect=0.5_new_dataset1_num_classes=24_optim=ranger_sched=plateau_lr=1e-3_SpecAug=True_MixUp=True_alpha=1_n_mels=128/resnest50d_score=0.65572', './rfcx_kaggle_git/RFCX_kaggle/experiments/logs_model=resnest50d_Pretrained=True_SED=False_act_func=Mish_criterion=LSEP_length=10_step=2_intersect=0.5_new_dataset1_num_classes=24_optim=ranger_sched=plateau_lr=1e-3_SpecAug=True_MixUp=True_alpha=1_n_mels=128/resnest50d_score=0.66212', './rfcx_kaggle_git/RFCX_kaggle/experiments/logs_model=resnest50d_Pretrained=True_SED=False_act_func=Mish_criterion=LSEP_length=10_step=2_intersect=0.5_new_dataset1_num_classes=24_optim=ranger_sched=plateau_lr=1e-3_SpecAug=True_MixUp=True_alpha=1_n_mels=128/resnest50d_score=0.68461', './rfcx_kaggle_git/RFCX_kaggle/experiments/logs_model=resnest50d_Pretrained=True_SED=False_act_func=Mish_criterion=LSEP_length=10_step=2_intersect=0.5_new_dataset1_num_classes=24_optim=ranger_sched=plateau_lr=1e-3_SpecAug=True_MixUp=True_alpha=1_n_mels=128/resnest50d_score=0.71901', './rfcx_kaggle_git/RFCX_kaggle/experiments/logs_model=resnest50d_Pretrained=True_SED=False_act_func=Mish_criterion=LSEP_length=10_step=2_intersect=0.5_new_dataset1_num_classes=24_optim=ranger_sched=plateau_lr=1e-3_SpecAug=True_MixUp=True_alpha=1_n_mels=128/resnest50d_score=0.73405', './rfcx_kaggle_git/RFCX_kaggle/experiments/logs_model=resnest50d_Pretrained=True_SED=False_act_func=Mish_criterion=LSEP_length=10_step=2_intersect=0.5_new_dataset1_num_classes=24_optim=ranger_sched=plateau_lr=1e-3_SpecAug=True_MixUp=True_alpha=1_n_mels=128/resnest50d_score=0.77963', './rfcx_kaggle_git/RFCX_kaggle/experiments/logs_model=resnest50d_Pretrained=True_SED=False_act_func=Mish_criterion=LSEP_length=10_step=2_intersect=0.5_new_dataset1_num_classes=24_optim=ranger_sched=plateau_lr=1e-3_SpecAug=True_MixUp=True_alpha=1_n_mels=128/resnest50d_score=0.78085', './rfcx_kaggle_git/RFCX_kaggle/experiments/logs_model=resnest50d_Pretrained=True_SED=False_act_func=Mish_criterion=LSEP_length=10_step=2_intersect=0.5_new_dataset1_num_classes=24_optim=ranger_sched=plateau_lr=1e-3_SpecAug=True_MixUp=True_alpha=1_n_mels=128/resnest50d_score=0.81181', './rfcx_kaggle_git/RFCX_kaggle/experiments/logs_model=resnest50d_Pretrained=True_SED=False_act_func=Mish_criterion=LSEP_length=10_step=2_intersect=0.5_new_dataset1_num_classes=24_optim=ranger_sched=plateau_lr=1e-3_SpecAug=True_MixUp=True_alpha=1_n_mels=128/resnest50d_score=0.82314', './rfcx_kaggle_git/RFCX_kaggle/experiments/logs_model=resnest50d_Pretrained=True_SED=False_act_func=Mish_criterion=LSEP_length=10_step=2_intersect=0.5_new_dataset1_num_classes=24_optim=ranger_sched=plateau_lr=1e-3_SpecAug=True_MixUp=True_alpha=1_n_mels=128/resnest50d_score=0.84154', './rfcx_kaggle_git/RFCX_kaggle/experiments/logs_model=resnest50d_Pretrained=True_SED=False_act_func=Mish_criterion=LSEP_length=10_step=2_intersect=0.5_new_dataset1_num_classes=24_optim=ranger_sched=plateau_lr=1e-3_SpecAug=True_MixUp=True_alpha=1_n_mels=128/resnest50d_score=0.85240', './rfcx_kaggle_git/RFCX_kaggle/experiments/logs_model=resnest50d_Pretrained=True_SED=False_act_func=Mish_criterion=LSEP_length=10_step=2_intersect=0.5_new_dataset1_num_classes=24_optim=ranger_sched=plateau_lr=1e-3_SpecAug=True_MixUp=True_alpha=1_n_mels=128/resnest50d_score=0.85621', './rfcx_kaggle_git/RFCX_kaggle/experiments/logs_model=resnest50d_Pretrained=True_SED=False_act_func=Mish_criterion=LSEP_length=10_step=2_intersect=0.5_new_dataset1_num_classes=24_optim=ranger_sched=plateau_lr=1e-3_SpecAug=True_MixUp=True_alpha=1_n_mels=128/resnest50d_score=0.85962', './rfcx_kaggle_git/RFCX_kaggle/experiments/logs_model=resnest50d_Pretrained=True_SED=False_act_func=Mish_criterion=LSEP_length=10_step=2_intersect=0.5_new_dataset1_num_classes=24_optim=ranger_sched=plateau_lr=1e-3_SpecAug=True_MixUp=True_alpha=1_n_mels=128/resnest50d_score=0.87544']\n",
      "./rfcx_kaggle_git/RFCX_kaggle/experiments/logs_model=resnest50d_Pretrained=True_SED=False_act_func=Mish_criterion=LSEP_length=10_step=2_intersect=0.5_new_dataset1_num_classes=24_optim=ranger_sched=plateau_lr=1e-3_SpecAug=True_MixUp=True_alpha=1_n_mels=128/resnest50d_score=0.87544\n",
      "Ranger optimizer loaded. \n",
      "Gradient Centralization usage = True\n",
      "GC applied to both conv and fc layers\n"
     ]
    },
    {
     "name": "stderr",
     "output_type": "stream",
     "text": [
      "3.4120: 100%|██████████| 113/113 [00:20<00:00,  5.41it/s]\n",
      "  0%|          | 0/29 [00:00<?, ?it/s]"
     ]
    },
    {
     "name": "stdout",
     "output_type": "stream",
     "text": [
      "Predict test without augmentations\n"
     ]
    },
    {
     "name": "stderr",
     "output_type": "stream",
     "text": [
      "100%|██████████| 29/29 [00:02<00:00, 11.84it/s]\n",
      "3.3207: 100%|██████████| 113/113 [00:20<00:00,  5.38it/s]\n",
      "  0%|          | 0/29 [00:00<?, ?it/s]"
     ]
    },
    {
     "name": "stdout",
     "output_type": "stream",
     "text": [
      "Predict test without augmentations\n"
     ]
    },
    {
     "name": "stderr",
     "output_type": "stream",
     "text": [
      "100%|██████████| 29/29 [00:02<00:00, 11.97it/s]\n",
      "3.2815: 100%|██████████| 113/113 [00:21<00:00,  5.37it/s]\n",
      "  0%|          | 0/29 [00:00<?, ?it/s]"
     ]
    },
    {
     "name": "stdout",
     "output_type": "stream",
     "text": [
      "Predict test without augmentations\n"
     ]
    },
    {
     "name": "stderr",
     "output_type": "stream",
     "text": [
      "100%|██████████| 29/29 [00:02<00:00, 11.48it/s]\n",
      "3.2143: 100%|██████████| 113/113 [00:20<00:00,  5.40it/s]\n",
      "  0%|          | 0/29 [00:00<?, ?it/s]"
     ]
    },
    {
     "name": "stdout",
     "output_type": "stream",
     "text": [
      "Predict test without augmentations\n"
     ]
    },
    {
     "name": "stderr",
     "output_type": "stream",
     "text": [
      "100%|██████████| 29/29 [00:02<00:00, 11.92it/s]\n",
      "3.2140: 100%|██████████| 113/113 [00:20<00:00,  5.41it/s]\n",
      "  0%|          | 0/29 [00:00<?, ?it/s]"
     ]
    },
    {
     "name": "stdout",
     "output_type": "stream",
     "text": [
      "Predict test without augmentations\n"
     ]
    },
    {
     "name": "stderr",
     "output_type": "stream",
     "text": [
      "100%|██████████| 29/29 [00:02<00:00, 11.94it/s]\n",
      "3.1632: 100%|██████████| 113/113 [00:20<00:00,  5.42it/s]\n",
      "  0%|          | 0/29 [00:00<?, ?it/s]"
     ]
    },
    {
     "name": "stdout",
     "output_type": "stream",
     "text": [
      "Predict test without augmentations\n"
     ]
    },
    {
     "name": "stderr",
     "output_type": "stream",
     "text": [
      "100%|██████████| 29/29 [00:02<00:00, 12.42it/s]\n",
      "3.1437: 100%|██████████| 113/113 [00:20<00:00,  5.44it/s]\n",
      "  0%|          | 0/29 [00:00<?, ?it/s]"
     ]
    },
    {
     "name": "stdout",
     "output_type": "stream",
     "text": [
      "Predict test without augmentations\n"
     ]
    },
    {
     "name": "stderr",
     "output_type": "stream",
     "text": [
      "100%|██████████| 29/29 [00:02<00:00, 12.16it/s]\n",
      "3.1483: 100%|██████████| 113/113 [00:20<00:00,  5.42it/s]\n",
      "  0%|          | 0/29 [00:00<?, ?it/s]"
     ]
    },
    {
     "name": "stdout",
     "output_type": "stream",
     "text": [
      "Predict test without augmentations\n"
     ]
    },
    {
     "name": "stderr",
     "output_type": "stream",
     "text": [
      "100%|██████████| 29/29 [00:02<00:00, 12.48it/s]\n",
      "3.0961: 100%|██████████| 113/113 [00:20<00:00,  5.42it/s]\n",
      "  0%|          | 0/29 [00:00<?, ?it/s]"
     ]
    },
    {
     "name": "stdout",
     "output_type": "stream",
     "text": [
      "Predict test without augmentations\n"
     ]
    },
    {
     "name": "stderr",
     "output_type": "stream",
     "text": [
      "100%|██████████| 29/29 [00:02<00:00, 12.56it/s]\n",
      "3.0891: 100%|██████████| 113/113 [00:20<00:00,  5.43it/s]\n",
      "  0%|          | 0/29 [00:00<?, ?it/s]"
     ]
    },
    {
     "name": "stdout",
     "output_type": "stream",
     "text": [
      "Predict test without augmentations\n"
     ]
    },
    {
     "name": "stderr",
     "output_type": "stream",
     "text": [
      "100%|██████████| 29/29 [00:02<00:00, 12.27it/s]\n",
      "3.0564: 100%|██████████| 113/113 [00:20<00:00,  5.43it/s]\n",
      "  0%|          | 0/29 [00:00<?, ?it/s]"
     ]
    },
    {
     "name": "stdout",
     "output_type": "stream",
     "text": [
      "Predict test without augmentations\n"
     ]
    },
    {
     "name": "stderr",
     "output_type": "stream",
     "text": [
      "100%|██████████| 29/29 [00:02<00:00, 12.19it/s]\n",
      "3.0417: 100%|██████████| 113/113 [00:20<00:00,  5.41it/s]\n",
      "  0%|          | 0/29 [00:00<?, ?it/s]"
     ]
    },
    {
     "name": "stdout",
     "output_type": "stream",
     "text": [
      "Predict test without augmentations\n"
     ]
    },
    {
     "name": "stderr",
     "output_type": "stream",
     "text": [
      "100%|██████████| 29/29 [00:02<00:00, 12.30it/s]\n",
      "3.0184: 100%|██████████| 113/113 [00:20<00:00,  5.44it/s]\n",
      "  0%|          | 0/29 [00:00<?, ?it/s]"
     ]
    },
    {
     "name": "stdout",
     "output_type": "stream",
     "text": [
      "Predict test without augmentations\n"
     ]
    },
    {
     "name": "stderr",
     "output_type": "stream",
     "text": [
      "100%|██████████| 29/29 [00:02<00:00, 12.43it/s]\n",
      "3.0008: 100%|██████████| 113/113 [00:20<00:00,  5.42it/s]\n",
      "  0%|          | 0/29 [00:00<?, ?it/s]"
     ]
    },
    {
     "name": "stdout",
     "output_type": "stream",
     "text": [
      "Predict test without augmentations\n"
     ]
    },
    {
     "name": "stderr",
     "output_type": "stream",
     "text": [
      "100%|██████████| 29/29 [00:02<00:00, 12.20it/s]\n",
      "2.9847: 100%|██████████| 113/113 [00:20<00:00,  5.45it/s]\n",
      "  0%|          | 0/29 [00:00<?, ?it/s]"
     ]
    },
    {
     "name": "stdout",
     "output_type": "stream",
     "text": [
      "Predict test without augmentations\n"
     ]
    },
    {
     "name": "stderr",
     "output_type": "stream",
     "text": [
      "100%|██████████| 29/29 [00:02<00:00, 12.50it/s]\n",
      "2.9721: 100%|██████████| 113/113 [00:20<00:00,  5.44it/s]\n",
      "  0%|          | 0/29 [00:00<?, ?it/s]"
     ]
    },
    {
     "name": "stdout",
     "output_type": "stream",
     "text": [
      "Predict test without augmentations\n"
     ]
    },
    {
     "name": "stderr",
     "output_type": "stream",
     "text": [
      "100%|██████████| 29/29 [00:02<00:00, 11.71it/s]\n",
      "2.9865: 100%|██████████| 113/113 [00:20<00:00,  5.47it/s]\n",
      "  0%|          | 0/29 [00:00<?, ?it/s]"
     ]
    },
    {
     "name": "stdout",
     "output_type": "stream",
     "text": [
      "Predict test without augmentations\n"
     ]
    },
    {
     "name": "stderr",
     "output_type": "stream",
     "text": [
      "100%|██████████| 29/29 [00:02<00:00, 12.58it/s]\n",
      "2.9457: 100%|██████████| 113/113 [00:20<00:00,  5.42it/s]\n",
      "  0%|          | 0/29 [00:00<?, ?it/s]"
     ]
    },
    {
     "name": "stdout",
     "output_type": "stream",
     "text": [
      "Predict test without augmentations\n"
     ]
    },
    {
     "name": "stderr",
     "output_type": "stream",
     "text": [
      "100%|██████████| 29/29 [00:02<00:00, 12.60it/s]\n",
      "2.9427: 100%|██████████| 113/113 [00:20<00:00,  5.40it/s]\n",
      "  0%|          | 0/29 [00:00<?, ?it/s]"
     ]
    },
    {
     "name": "stdout",
     "output_type": "stream",
     "text": [
      "Predict test without augmentations\n"
     ]
    },
    {
     "name": "stderr",
     "output_type": "stream",
     "text": [
      "100%|██████████| 29/29 [00:02<00:00, 12.55it/s]\n",
      "2.9350: 100%|██████████| 113/113 [00:20<00:00,  5.46it/s]\n",
      "  0%|          | 0/29 [00:00<?, ?it/s]"
     ]
    },
    {
     "name": "stdout",
     "output_type": "stream",
     "text": [
      "Predict test without augmentations\n"
     ]
    },
    {
     "name": "stderr",
     "output_type": "stream",
     "text": [
      "100%|██████████| 29/29 [00:02<00:00, 12.37it/s]\n",
      "2.9057: 100%|██████████| 113/113 [00:20<00:00,  5.45it/s]\n",
      "  0%|          | 0/29 [00:00<?, ?it/s]"
     ]
    },
    {
     "name": "stdout",
     "output_type": "stream",
     "text": [
      "Predict test without augmentations\n"
     ]
    },
    {
     "name": "stderr",
     "output_type": "stream",
     "text": [
      "100%|██████████| 29/29 [00:02<00:00, 12.30it/s]\n",
      "2.8999: 100%|██████████| 113/113 [00:20<00:00,  5.42it/s]\n",
      "  0%|          | 0/29 [00:00<?, ?it/s]"
     ]
    },
    {
     "name": "stdout",
     "output_type": "stream",
     "text": [
      "Predict test without augmentations\n"
     ]
    },
    {
     "name": "stderr",
     "output_type": "stream",
     "text": [
      "100%|██████████| 29/29 [00:02<00:00, 12.40it/s]\n",
      "2.9063: 100%|██████████| 113/113 [00:20<00:00,  5.44it/s]\n",
      "  0%|          | 0/29 [00:00<?, ?it/s]"
     ]
    },
    {
     "name": "stdout",
     "output_type": "stream",
     "text": [
      "Predict test without augmentations\n"
     ]
    },
    {
     "name": "stderr",
     "output_type": "stream",
     "text": [
      "100%|██████████| 29/29 [00:02<00:00, 12.34it/s]\n",
      "2.9052: 100%|██████████| 113/113 [00:20<00:00,  5.43it/s]\n",
      "  0%|          | 0/29 [00:00<?, ?it/s]"
     ]
    },
    {
     "name": "stdout",
     "output_type": "stream",
     "text": [
      "Predict test without augmentations\n"
     ]
    },
    {
     "name": "stderr",
     "output_type": "stream",
     "text": [
      "100%|██████████| 29/29 [00:02<00:00, 12.31it/s]\n",
      "2.9119: 100%|██████████| 113/113 [00:20<00:00,  5.45it/s]\n",
      "  0%|          | 0/29 [00:00<?, ?it/s]"
     ]
    },
    {
     "name": "stdout",
     "output_type": "stream",
     "text": [
      "Predict test without augmentations\n"
     ]
    },
    {
     "name": "stderr",
     "output_type": "stream",
     "text": [
      "100%|██████████| 29/29 [00:02<00:00, 12.30it/s]\n",
      "2.8734: 100%|██████████| 113/113 [00:20<00:00,  5.43it/s]\n",
      "  0%|          | 0/29 [00:00<?, ?it/s]"
     ]
    },
    {
     "name": "stdout",
     "output_type": "stream",
     "text": [
      "Predict test without augmentations\n"
     ]
    },
    {
     "name": "stderr",
     "output_type": "stream",
     "text": [
      "100%|██████████| 29/29 [00:02<00:00, 12.29it/s]\n",
      "2.8793: 100%|██████████| 113/113 [00:20<00:00,  5.43it/s]\n",
      "  0%|          | 0/29 [00:00<?, ?it/s]"
     ]
    },
    {
     "name": "stdout",
     "output_type": "stream",
     "text": [
      "Predict test without augmentations\n"
     ]
    },
    {
     "name": "stderr",
     "output_type": "stream",
     "text": [
      "100%|██████████| 29/29 [00:02<00:00, 12.33it/s]\n",
      "2.8828: 100%|██████████| 113/113 [00:20<00:00,  5.43it/s]\n",
      "  0%|          | 0/29 [00:00<?, ?it/s]"
     ]
    },
    {
     "name": "stdout",
     "output_type": "stream",
     "text": [
      "Predict test without augmentations\n"
     ]
    },
    {
     "name": "stderr",
     "output_type": "stream",
     "text": [
      "100%|██████████| 29/29 [00:02<00:00, 12.52it/s]\n",
      "2.8567: 100%|██████████| 113/113 [00:20<00:00,  5.42it/s]\n",
      "  0%|          | 0/29 [00:00<?, ?it/s]"
     ]
    },
    {
     "name": "stdout",
     "output_type": "stream",
     "text": [
      "Predict test without augmentations\n"
     ]
    },
    {
     "name": "stderr",
     "output_type": "stream",
     "text": [
      "100%|██████████| 29/29 [00:02<00:00, 12.16it/s]\n",
      "2.8733: 100%|██████████| 113/113 [00:20<00:00,  5.43it/s]\n",
      "  0%|          | 0/29 [00:00<?, ?it/s]"
     ]
    },
    {
     "name": "stdout",
     "output_type": "stream",
     "text": [
      "Predict test without augmentations\n"
     ]
    },
    {
     "name": "stderr",
     "output_type": "stream",
     "text": [
      "100%|██████████| 29/29 [00:02<00:00, 12.40it/s]\n",
      "2.8866: 100%|██████████| 113/113 [00:20<00:00,  5.42it/s]\n",
      "  0%|          | 0/29 [00:00<?, ?it/s]"
     ]
    },
    {
     "name": "stdout",
     "output_type": "stream",
     "text": [
      "Predict test without augmentations\n"
     ]
    },
    {
     "name": "stderr",
     "output_type": "stream",
     "text": [
      "100%|██████████| 29/29 [00:02<00:00, 11.10it/s]\n",
      "2.8620: 100%|██████████| 113/113 [00:20<00:00,  5.45it/s]\n",
      "  0%|          | 0/29 [00:00<?, ?it/s]"
     ]
    },
    {
     "name": "stdout",
     "output_type": "stream",
     "text": [
      "Predict test without augmentations\n"
     ]
    },
    {
     "name": "stderr",
     "output_type": "stream",
     "text": [
      "100%|██████████| 29/29 [00:02<00:00, 12.46it/s]\n",
      "2.8832: 100%|██████████| 113/113 [00:20<00:00,  5.47it/s]\n",
      "  0%|          | 0/29 [00:00<?, ?it/s]"
     ]
    },
    {
     "name": "stdout",
     "output_type": "stream",
     "text": [
      "Predict test without augmentations\n"
     ]
    },
    {
     "name": "stderr",
     "output_type": "stream",
     "text": [
      "100%|██████████| 29/29 [00:02<00:00, 12.39it/s]\n",
      "2.8292: 100%|██████████| 113/113 [00:20<00:00,  5.42it/s]\n",
      "  0%|          | 0/29 [00:00<?, ?it/s]"
     ]
    },
    {
     "name": "stdout",
     "output_type": "stream",
     "text": [
      "Predict test without augmentations\n"
     ]
    },
    {
     "name": "stderr",
     "output_type": "stream",
     "text": [
      "100%|██████████| 29/29 [00:02<00:00, 12.43it/s]\n",
      "2.8549: 100%|██████████| 113/113 [00:20<00:00,  5.43it/s]\n",
      "  0%|          | 0/29 [00:00<?, ?it/s]"
     ]
    },
    {
     "name": "stdout",
     "output_type": "stream",
     "text": [
      "Predict test without augmentations\n"
     ]
    },
    {
     "name": "stderr",
     "output_type": "stream",
     "text": [
      "100%|██████████| 29/29 [00:02<00:00, 12.56it/s]\n",
      "2.8574: 100%|██████████| 113/113 [00:20<00:00,  5.43it/s]\n",
      "  0%|          | 0/29 [00:00<?, ?it/s]"
     ]
    },
    {
     "name": "stdout",
     "output_type": "stream",
     "text": [
      "Predict test without augmentations\n"
     ]
    },
    {
     "name": "stderr",
     "output_type": "stream",
     "text": [
      "100%|██████████| 29/29 [00:02<00:00, 12.13it/s]\n",
      "2.8415: 100%|██████████| 113/113 [00:20<00:00,  5.45it/s]\n",
      "  0%|          | 0/29 [00:00<?, ?it/s]"
     ]
    },
    {
     "name": "stdout",
     "output_type": "stream",
     "text": [
      "Predict test without augmentations\n"
     ]
    },
    {
     "name": "stderr",
     "output_type": "stream",
     "text": [
      "100%|██████████| 29/29 [00:02<00:00, 12.37it/s]\n",
      "2.8578: 100%|██████████| 113/113 [00:20<00:00,  5.42it/s]\n",
      "  0%|          | 0/29 [00:00<?, ?it/s]"
     ]
    },
    {
     "name": "stdout",
     "output_type": "stream",
     "text": [
      "Predict test without augmentations\n"
     ]
    },
    {
     "name": "stderr",
     "output_type": "stream",
     "text": [
      "100%|██████████| 29/29 [00:02<00:00, 12.49it/s]\n",
      "2.8381: 100%|██████████| 113/113 [00:20<00:00,  5.42it/s]\n",
      "  0%|          | 0/29 [00:00<?, ?it/s]"
     ]
    },
    {
     "name": "stdout",
     "output_type": "stream",
     "text": [
      "Predict test without augmentations\n"
     ]
    },
    {
     "name": "stderr",
     "output_type": "stream",
     "text": [
      "100%|██████████| 29/29 [00:02<00:00, 12.45it/s]\n",
      "2.8442: 100%|██████████| 113/113 [00:20<00:00,  5.44it/s]\n",
      "  0%|          | 0/29 [00:00<?, ?it/s]"
     ]
    },
    {
     "name": "stdout",
     "output_type": "stream",
     "text": [
      "Predict test without augmentations\n"
     ]
    },
    {
     "name": "stderr",
     "output_type": "stream",
     "text": [
      "100%|██████████| 29/29 [00:02<00:00, 12.45it/s]\n",
      "2.8318: 100%|██████████| 113/113 [00:20<00:00,  5.44it/s]\n",
      "  0%|          | 0/29 [00:00<?, ?it/s]"
     ]
    },
    {
     "name": "stdout",
     "output_type": "stream",
     "text": [
      "Predict test without augmentations\n"
     ]
    },
    {
     "name": "stderr",
     "output_type": "stream",
     "text": [
      "100%|██████████| 29/29 [00:02<00:00, 12.34it/s]\n",
      "2.8290: 100%|██████████| 113/113 [00:20<00:00,  5.42it/s]\n",
      "  0%|          | 0/29 [00:00<?, ?it/s]"
     ]
    },
    {
     "name": "stdout",
     "output_type": "stream",
     "text": [
      "Predict test without augmentations\n"
     ]
    },
    {
     "name": "stderr",
     "output_type": "stream",
     "text": [
      "100%|██████████| 29/29 [00:02<00:00, 12.05it/s]\n",
      "2.8268: 100%|██████████| 113/113 [00:20<00:00,  5.44it/s]\n",
      "  0%|          | 0/29 [00:00<?, ?it/s]"
     ]
    },
    {
     "name": "stdout",
     "output_type": "stream",
     "text": [
      "Predict test without augmentations\n"
     ]
    },
    {
     "name": "stderr",
     "output_type": "stream",
     "text": [
      "100%|██████████| 29/29 [00:02<00:00, 12.40it/s]\n",
      "2.8335: 100%|██████████| 113/113 [00:20<00:00,  5.44it/s]\n",
      "  0%|          | 0/29 [00:00<?, ?it/s]"
     ]
    },
    {
     "name": "stdout",
     "output_type": "stream",
     "text": [
      "Predict test without augmentations\n"
     ]
    },
    {
     "name": "stderr",
     "output_type": "stream",
     "text": [
      "100%|██████████| 29/29 [00:02<00:00, 11.10it/s]\n",
      "2.8121: 100%|██████████| 113/113 [00:20<00:00,  5.43it/s]\n",
      "  0%|          | 0/29 [00:00<?, ?it/s]"
     ]
    },
    {
     "name": "stdout",
     "output_type": "stream",
     "text": [
      "Predict test without augmentations\n"
     ]
    },
    {
     "name": "stderr",
     "output_type": "stream",
     "text": [
      "100%|██████████| 29/29 [00:02<00:00, 12.35it/s]\n",
      "2.8290: 100%|██████████| 113/113 [00:20<00:00,  5.44it/s]\n",
      "  0%|          | 0/29 [00:00<?, ?it/s]"
     ]
    },
    {
     "name": "stdout",
     "output_type": "stream",
     "text": [
      "Predict test without augmentations\n"
     ]
    },
    {
     "name": "stderr",
     "output_type": "stream",
     "text": [
      "100%|██████████| 29/29 [00:02<00:00, 12.37it/s]\n",
      "2.8348: 100%|██████████| 113/113 [00:20<00:00,  5.43it/s]\n",
      "  0%|          | 0/29 [00:00<?, ?it/s]"
     ]
    },
    {
     "name": "stdout",
     "output_type": "stream",
     "text": [
      "Predict test without augmentations\n"
     ]
    },
    {
     "name": "stderr",
     "output_type": "stream",
     "text": [
      "100%|██████████| 29/29 [00:02<00:00, 12.32it/s]\n",
      "2.8026: 100%|██████████| 113/113 [00:20<00:00,  5.44it/s]\n",
      "  0%|          | 0/29 [00:00<?, ?it/s]"
     ]
    },
    {
     "name": "stdout",
     "output_type": "stream",
     "text": [
      "Predict test without augmentations\n"
     ]
    },
    {
     "name": "stderr",
     "output_type": "stream",
     "text": [
      "100%|██████████| 29/29 [00:02<00:00, 12.45it/s]\n",
      "2.8142: 100%|██████████| 113/113 [00:20<00:00,  5.40it/s]\n",
      "  0%|          | 0/29 [00:00<?, ?it/s]"
     ]
    },
    {
     "name": "stdout",
     "output_type": "stream",
     "text": [
      "Predict test without augmentations\n"
     ]
    },
    {
     "name": "stderr",
     "output_type": "stream",
     "text": [
      "100%|██████████| 29/29 [00:02<00:00, 12.34it/s]\n",
      "2.8118: 100%|██████████| 113/113 [00:20<00:00,  5.44it/s]\n",
      "  0%|          | 0/29 [00:00<?, ?it/s]"
     ]
    },
    {
     "name": "stdout",
     "output_type": "stream",
     "text": [
      "Predict test without augmentations\n"
     ]
    },
    {
     "name": "stderr",
     "output_type": "stream",
     "text": [
      "100%|██████████| 29/29 [00:02<00:00, 12.32it/s]\n",
      "2.8101: 100%|██████████| 113/113 [00:20<00:00,  5.42it/s]\n",
      "  0%|          | 0/29 [00:00<?, ?it/s]"
     ]
    },
    {
     "name": "stdout",
     "output_type": "stream",
     "text": [
      "Predict test without augmentations\n"
     ]
    },
    {
     "name": "stderr",
     "output_type": "stream",
     "text": [
      "100%|██████████| 29/29 [00:02<00:00, 12.64it/s]\n",
      "2.8244: 100%|██████████| 113/113 [00:20<00:00,  5.42it/s]\n",
      "  0%|          | 0/29 [00:00<?, ?it/s]"
     ]
    },
    {
     "name": "stdout",
     "output_type": "stream",
     "text": [
      "Predict test without augmentations\n"
     ]
    },
    {
     "name": "stderr",
     "output_type": "stream",
     "text": [
      "100%|██████████| 29/29 [00:02<00:00, 12.61it/s]\n",
      "2.8122: 100%|██████████| 113/113 [00:20<00:00,  5.41it/s]\n",
      "  0%|          | 0/29 [00:00<?, ?it/s]"
     ]
    },
    {
     "name": "stdout",
     "output_type": "stream",
     "text": [
      "Predict test without augmentations\n"
     ]
    },
    {
     "name": "stderr",
     "output_type": "stream",
     "text": [
      "100%|██████████| 29/29 [00:02<00:00, 12.33it/s]\n",
      "2.7984: 100%|██████████| 113/113 [00:20<00:00,  5.44it/s]\n",
      "  0%|          | 0/29 [00:00<?, ?it/s]"
     ]
    },
    {
     "name": "stdout",
     "output_type": "stream",
     "text": [
      "Predict test without augmentations\n"
     ]
    },
    {
     "name": "stderr",
     "output_type": "stream",
     "text": [
      "100%|██████████| 29/29 [00:02<00:00, 12.49it/s]\n",
      "2.8077: 100%|██████████| 113/113 [00:20<00:00,  5.45it/s]\n",
      "  0%|          | 0/29 [00:00<?, ?it/s]"
     ]
    },
    {
     "name": "stdout",
     "output_type": "stream",
     "text": [
      "Predict test without augmentations\n"
     ]
    },
    {
     "name": "stderr",
     "output_type": "stream",
     "text": [
      "100%|██████████| 29/29 [00:02<00:00, 11.30it/s]\n",
      "2.7943: 100%|██████████| 113/113 [00:20<00:00,  5.44it/s]\n",
      "  0%|          | 0/29 [00:00<?, ?it/s]"
     ]
    },
    {
     "name": "stdout",
     "output_type": "stream",
     "text": [
      "Predict test without augmentations\n"
     ]
    },
    {
     "name": "stderr",
     "output_type": "stream",
     "text": [
      "100%|██████████| 29/29 [00:02<00:00, 12.46it/s]\n",
      "  0%|          | 0/113 [00:00<?, ?it/s]"
     ]
    },
    {
     "name": "stdout",
     "output_type": "stream",
     "text": [
      "Epoch    56: reducing learning rate of group 0 to 1.0000e-04.\n"
     ]
    },
    {
     "name": "stderr",
     "output_type": "stream",
     "text": [
      "2.8031: 100%|██████████| 113/113 [00:20<00:00,  5.46it/s]\n",
      "  0%|          | 0/29 [00:00<?, ?it/s]"
     ]
    },
    {
     "name": "stdout",
     "output_type": "stream",
     "text": [
      "Predict test without augmentations\n"
     ]
    },
    {
     "name": "stderr",
     "output_type": "stream",
     "text": [
      "100%|██████████| 29/29 [00:02<00:00, 12.14it/s]\n",
      "2.7785: 100%|██████████| 113/113 [00:20<00:00,  5.45it/s]\n",
      "  0%|          | 0/29 [00:00<?, ?it/s]"
     ]
    },
    {
     "name": "stdout",
     "output_type": "stream",
     "text": [
      "Predict test without augmentations\n"
     ]
    },
    {
     "name": "stderr",
     "output_type": "stream",
     "text": [
      "100%|██████████| 29/29 [00:02<00:00, 12.55it/s]\n",
      "2.7999: 100%|██████████| 113/113 [00:20<00:00,  5.46it/s]\n",
      "  0%|          | 0/29 [00:00<?, ?it/s]"
     ]
    },
    {
     "name": "stdout",
     "output_type": "stream",
     "text": [
      "Predict test without augmentations\n"
     ]
    },
    {
     "name": "stderr",
     "output_type": "stream",
     "text": [
      "100%|██████████| 29/29 [00:02<00:00, 12.46it/s]\n",
      "2.7615: 100%|██████████| 113/113 [00:20<00:00,  5.45it/s]\n",
      "  0%|          | 0/29 [00:00<?, ?it/s]"
     ]
    },
    {
     "name": "stdout",
     "output_type": "stream",
     "text": [
      "Predict test without augmentations\n"
     ]
    },
    {
     "name": "stderr",
     "output_type": "stream",
     "text": [
      "100%|██████████| 29/29 [00:02<00:00, 12.26it/s]\n",
      "2.7731: 100%|██████████| 113/113 [00:20<00:00,  5.43it/s]\n",
      "  0%|          | 0/29 [00:00<?, ?it/s]"
     ]
    },
    {
     "name": "stdout",
     "output_type": "stream",
     "text": [
      "Predict test without augmentations\n"
     ]
    },
    {
     "name": "stderr",
     "output_type": "stream",
     "text": [
      "100%|██████████| 29/29 [00:02<00:00, 12.33it/s]\n"
     ]
    },
    {
     "name": "stdout",
     "output_type": "stream",
     "text": [
      "['./rfcx_kaggle_git/RFCX_kaggle/experiments/logs_model=resnest50d_Pretrained=True_SED=False_act_func=Mish_criterion=LSEP_length=10_step=2_intersect=0.5_new_dataset1_num_classes=24_optim=ranger_sched=plateau_lr=1e-3_SpecAug=True_MixUp=True_alpha=1_n_mels=128/resnest50d_score=0.22205', './rfcx_kaggle_git/RFCX_kaggle/experiments/logs_model=resnest50d_Pretrained=True_SED=False_act_func=Mish_criterion=LSEP_length=10_step=2_intersect=0.5_new_dataset1_num_classes=24_optim=ranger_sched=plateau_lr=1e-3_SpecAug=True_MixUp=True_alpha=1_n_mels=128/resnest50d_score=0.34887', './rfcx_kaggle_git/RFCX_kaggle/experiments/logs_model=resnest50d_Pretrained=True_SED=False_act_func=Mish_criterion=LSEP_length=10_step=2_intersect=0.5_new_dataset1_num_classes=24_optim=ranger_sched=plateau_lr=1e-3_SpecAug=True_MixUp=True_alpha=1_n_mels=128/resnest50d_score=0.37915', './rfcx_kaggle_git/RFCX_kaggle/experiments/logs_model=resnest50d_Pretrained=True_SED=False_act_func=Mish_criterion=LSEP_length=10_step=2_intersect=0.5_new_dataset1_num_classes=24_optim=ranger_sched=plateau_lr=1e-3_SpecAug=True_MixUp=True_alpha=1_n_mels=128/resnest50d_score=0.41944', './rfcx_kaggle_git/RFCX_kaggle/experiments/logs_model=resnest50d_Pretrained=True_SED=False_act_func=Mish_criterion=LSEP_length=10_step=2_intersect=0.5_new_dataset1_num_classes=24_optim=ranger_sched=plateau_lr=1e-3_SpecAug=True_MixUp=True_alpha=1_n_mels=128/resnest50d_score=0.49632', './rfcx_kaggle_git/RFCX_kaggle/experiments/logs_model=resnest50d_Pretrained=True_SED=False_act_func=Mish_criterion=LSEP_length=10_step=2_intersect=0.5_new_dataset1_num_classes=24_optim=ranger_sched=plateau_lr=1e-3_SpecAug=True_MixUp=True_alpha=1_n_mels=128/resnest50d_score=0.52504', './rfcx_kaggle_git/RFCX_kaggle/experiments/logs_model=resnest50d_Pretrained=True_SED=False_act_func=Mish_criterion=LSEP_length=10_step=2_intersect=0.5_new_dataset1_num_classes=24_optim=ranger_sched=plateau_lr=1e-3_SpecAug=True_MixUp=True_alpha=1_n_mels=128/resnest50d_score=0.55596', './rfcx_kaggle_git/RFCX_kaggle/experiments/logs_model=resnest50d_Pretrained=True_SED=False_act_func=Mish_criterion=LSEP_length=10_step=2_intersect=0.5_new_dataset1_num_classes=24_optim=ranger_sched=plateau_lr=1e-3_SpecAug=True_MixUp=True_alpha=1_n_mels=128/resnest50d_score=0.60871', './rfcx_kaggle_git/RFCX_kaggle/experiments/logs_model=resnest50d_Pretrained=True_SED=False_act_func=Mish_criterion=LSEP_length=10_step=2_intersect=0.5_new_dataset1_num_classes=24_optim=ranger_sched=plateau_lr=1e-3_SpecAug=True_MixUp=True_alpha=1_n_mels=128/resnest50d_score=0.63882', './rfcx_kaggle_git/RFCX_kaggle/experiments/logs_model=resnest50d_Pretrained=True_SED=False_act_func=Mish_criterion=LSEP_length=10_step=2_intersect=0.5_new_dataset1_num_classes=24_optim=ranger_sched=plateau_lr=1e-3_SpecAug=True_MixUp=True_alpha=1_n_mels=128/resnest50d_score=0.65550', './rfcx_kaggle_git/RFCX_kaggle/experiments/logs_model=resnest50d_Pretrained=True_SED=False_act_func=Mish_criterion=LSEP_length=10_step=2_intersect=0.5_new_dataset1_num_classes=24_optim=ranger_sched=plateau_lr=1e-3_SpecAug=True_MixUp=True_alpha=1_n_mels=128/resnest50d_score=0.67625', './rfcx_kaggle_git/RFCX_kaggle/experiments/logs_model=resnest50d_Pretrained=True_SED=False_act_func=Mish_criterion=LSEP_length=10_step=2_intersect=0.5_new_dataset1_num_classes=24_optim=ranger_sched=plateau_lr=1e-3_SpecAug=True_MixUp=True_alpha=1_n_mels=128/resnest50d_score=0.72557', './rfcx_kaggle_git/RFCX_kaggle/experiments/logs_model=resnest50d_Pretrained=True_SED=False_act_func=Mish_criterion=LSEP_length=10_step=2_intersect=0.5_new_dataset1_num_classes=24_optim=ranger_sched=plateau_lr=1e-3_SpecAug=True_MixUp=True_alpha=1_n_mels=128/resnest50d_score=0.74266', './rfcx_kaggle_git/RFCX_kaggle/experiments/logs_model=resnest50d_Pretrained=True_SED=False_act_func=Mish_criterion=LSEP_length=10_step=2_intersect=0.5_new_dataset1_num_classes=24_optim=ranger_sched=plateau_lr=1e-3_SpecAug=True_MixUp=True_alpha=1_n_mels=128/resnest50d_score=0.76149', './rfcx_kaggle_git/RFCX_kaggle/experiments/logs_model=resnest50d_Pretrained=True_SED=False_act_func=Mish_criterion=LSEP_length=10_step=2_intersect=0.5_new_dataset1_num_classes=24_optim=ranger_sched=plateau_lr=1e-3_SpecAug=True_MixUp=True_alpha=1_n_mels=128/resnest50d_score=0.79249', './rfcx_kaggle_git/RFCX_kaggle/experiments/logs_model=resnest50d_Pretrained=True_SED=False_act_func=Mish_criterion=LSEP_length=10_step=2_intersect=0.5_new_dataset1_num_classes=24_optim=ranger_sched=plateau_lr=1e-3_SpecAug=True_MixUp=True_alpha=1_n_mels=128/resnest50d_score=0.80710', './rfcx_kaggle_git/RFCX_kaggle/experiments/logs_model=resnest50d_Pretrained=True_SED=False_act_func=Mish_criterion=LSEP_length=10_step=2_intersect=0.5_new_dataset1_num_classes=24_optim=ranger_sched=plateau_lr=1e-3_SpecAug=True_MixUp=True_alpha=1_n_mels=128/resnest50d_score=0.81882', './rfcx_kaggle_git/RFCX_kaggle/experiments/logs_model=resnest50d_Pretrained=True_SED=False_act_func=Mish_criterion=LSEP_length=10_step=2_intersect=0.5_new_dataset1_num_classes=24_optim=ranger_sched=plateau_lr=1e-3_SpecAug=True_MixUp=True_alpha=1_n_mels=128/resnest50d_score=0.83029', './rfcx_kaggle_git/RFCX_kaggle/experiments/logs_model=resnest50d_Pretrained=True_SED=False_act_func=Mish_criterion=LSEP_length=10_step=2_intersect=0.5_new_dataset1_num_classes=24_optim=ranger_sched=plateau_lr=1e-3_SpecAug=True_MixUp=True_alpha=1_n_mels=128/resnest50d_score=0.83403', './rfcx_kaggle_git/RFCX_kaggle/experiments/logs_model=resnest50d_Pretrained=True_SED=False_act_func=Mish_criterion=LSEP_length=10_step=2_intersect=0.5_new_dataset1_num_classes=24_optim=ranger_sched=plateau_lr=1e-3_SpecAug=True_MixUp=True_alpha=1_n_mels=128/resnest50d_score=0.83839', './rfcx_kaggle_git/RFCX_kaggle/experiments/logs_model=resnest50d_Pretrained=True_SED=False_act_func=Mish_criterion=LSEP_length=10_step=2_intersect=0.5_new_dataset1_num_classes=24_optim=ranger_sched=plateau_lr=1e-3_SpecAug=True_MixUp=True_alpha=1_n_mels=128/resnest50d_score=0.84691', './rfcx_kaggle_git/RFCX_kaggle/experiments/logs_model=resnest50d_Pretrained=True_SED=False_act_func=Mish_criterion=LSEP_length=10_step=2_intersect=0.5_new_dataset1_num_classes=24_optim=ranger_sched=plateau_lr=1e-3_SpecAug=True_MixUp=True_alpha=1_n_mels=128/resnest50d_score=0.85146', './rfcx_kaggle_git/RFCX_kaggle/experiments/logs_model=resnest50d_Pretrained=True_SED=False_act_func=Mish_criterion=LSEP_length=10_step=2_intersect=0.5_new_dataset1_num_classes=24_optim=ranger_sched=plateau_lr=1e-3_SpecAug=True_MixUp=True_alpha=1_n_mels=128/resnest50d_score=0.85171', './rfcx_kaggle_git/RFCX_kaggle/experiments/logs_model=resnest50d_Pretrained=True_SED=False_act_func=Mish_criterion=LSEP_length=10_step=2_intersect=0.5_new_dataset1_num_classes=24_optim=ranger_sched=plateau_lr=1e-3_SpecAug=True_MixUp=True_alpha=1_n_mels=128/resnest50d_score=0.86368', './rfcx_kaggle_git/RFCX_kaggle/experiments/logs_model=resnest50d_Pretrained=True_SED=False_act_func=Mish_criterion=LSEP_length=10_step=2_intersect=0.5_new_dataset1_num_classes=24_optim=ranger_sched=plateau_lr=1e-3_SpecAug=True_MixUp=True_alpha=1_n_mels=128/resnest50d_score=0.86378', './rfcx_kaggle_git/RFCX_kaggle/experiments/logs_model=resnest50d_Pretrained=True_SED=False_act_func=Mish_criterion=LSEP_length=10_step=2_intersect=0.5_new_dataset1_num_classes=24_optim=ranger_sched=plateau_lr=1e-3_SpecAug=True_MixUp=True_alpha=1_n_mels=128/resnest50d_score=0.86712']\n",
      "./rfcx_kaggle_git/RFCX_kaggle/experiments/logs_model=resnest50d_Pretrained=True_SED=False_act_func=Mish_criterion=LSEP_length=10_step=2_intersect=0.5_new_dataset1_num_classes=24_optim=ranger_sched=plateau_lr=1e-3_SpecAug=True_MixUp=True_alpha=1_n_mels=128/resnest50d_score=0.86712\n",
      "Ranger optimizer loaded. \n",
      "Gradient Centralization usage = True\n",
      "GC applied to both conv and fc layers\n"
     ]
    },
    {
     "name": "stderr",
     "output_type": "stream",
     "text": [
      "3.4333: 100%|██████████| 113/113 [00:20<00:00,  5.44it/s]\n",
      "  0%|          | 0/29 [00:00<?, ?it/s]"
     ]
    },
    {
     "name": "stdout",
     "output_type": "stream",
     "text": [
      "Predict test without augmentations\n"
     ]
    },
    {
     "name": "stderr",
     "output_type": "stream",
     "text": [
      "100%|██████████| 29/29 [00:02<00:00, 11.94it/s]\n",
      "3.3275: 100%|██████████| 113/113 [00:20<00:00,  5.47it/s]\n",
      "  0%|          | 0/29 [00:00<?, ?it/s]"
     ]
    },
    {
     "name": "stdout",
     "output_type": "stream",
     "text": [
      "Predict test without augmentations\n"
     ]
    },
    {
     "name": "stderr",
     "output_type": "stream",
     "text": [
      "100%|██████████| 29/29 [00:02<00:00, 12.48it/s]\n",
      "3.2806: 100%|██████████| 113/113 [00:20<00:00,  5.42it/s]\n",
      "  0%|          | 0/29 [00:00<?, ?it/s]"
     ]
    },
    {
     "name": "stdout",
     "output_type": "stream",
     "text": [
      "Predict test without augmentations\n"
     ]
    },
    {
     "name": "stderr",
     "output_type": "stream",
     "text": [
      "100%|██████████| 29/29 [00:02<00:00, 12.69it/s]\n",
      "3.2734: 100%|██████████| 113/113 [00:20<00:00,  5.44it/s]\n",
      "  0%|          | 0/29 [00:00<?, ?it/s]"
     ]
    },
    {
     "name": "stdout",
     "output_type": "stream",
     "text": [
      "Predict test without augmentations\n"
     ]
    },
    {
     "name": "stderr",
     "output_type": "stream",
     "text": [
      "100%|██████████| 29/29 [00:02<00:00, 12.54it/s]\n",
      "3.2388: 100%|██████████| 113/113 [00:20<00:00,  5.43it/s]\n",
      "  0%|          | 0/29 [00:00<?, ?it/s]"
     ]
    },
    {
     "name": "stdout",
     "output_type": "stream",
     "text": [
      "Predict test without augmentations\n"
     ]
    },
    {
     "name": "stderr",
     "output_type": "stream",
     "text": [
      "100%|██████████| 29/29 [00:02<00:00, 12.52it/s]\n",
      "3.1793: 100%|██████████| 113/113 [00:20<00:00,  5.45it/s]\n",
      "  0%|          | 0/29 [00:00<?, ?it/s]"
     ]
    },
    {
     "name": "stdout",
     "output_type": "stream",
     "text": [
      "Predict test without augmentations\n"
     ]
    },
    {
     "name": "stderr",
     "output_type": "stream",
     "text": [
      "100%|██████████| 29/29 [00:02<00:00, 12.42it/s]\n",
      "3.1712: 100%|██████████| 113/113 [00:20<00:00,  5.45it/s]\n",
      "  0%|          | 0/29 [00:00<?, ?it/s]"
     ]
    },
    {
     "name": "stdout",
     "output_type": "stream",
     "text": [
      "Predict test without augmentations\n"
     ]
    },
    {
     "name": "stderr",
     "output_type": "stream",
     "text": [
      "100%|██████████| 29/29 [00:02<00:00, 11.25it/s]\n",
      "3.1400: 100%|██████████| 113/113 [00:20<00:00,  5.41it/s]\n",
      "  0%|          | 0/29 [00:00<?, ?it/s]"
     ]
    },
    {
     "name": "stdout",
     "output_type": "stream",
     "text": [
      "Predict test without augmentations\n"
     ]
    },
    {
     "name": "stderr",
     "output_type": "stream",
     "text": [
      "100%|██████████| 29/29 [00:02<00:00, 12.49it/s]\n",
      "3.0899: 100%|██████████| 113/113 [00:20<00:00,  5.44it/s]\n",
      "  0%|          | 0/29 [00:00<?, ?it/s]"
     ]
    },
    {
     "name": "stdout",
     "output_type": "stream",
     "text": [
      "Predict test without augmentations\n"
     ]
    },
    {
     "name": "stderr",
     "output_type": "stream",
     "text": [
      "100%|██████████| 29/29 [00:02<00:00, 12.83it/s]\n",
      "3.0815: 100%|██████████| 113/113 [00:20<00:00,  5.43it/s]\n",
      "  0%|          | 0/29 [00:00<?, ?it/s]"
     ]
    },
    {
     "name": "stdout",
     "output_type": "stream",
     "text": [
      "Predict test without augmentations\n"
     ]
    },
    {
     "name": "stderr",
     "output_type": "stream",
     "text": [
      "100%|██████████| 29/29 [00:02<00:00, 12.65it/s]\n",
      "3.0464: 100%|██████████| 113/113 [00:20<00:00,  5.44it/s]\n",
      "  0%|          | 0/29 [00:00<?, ?it/s]"
     ]
    },
    {
     "name": "stdout",
     "output_type": "stream",
     "text": [
      "Predict test without augmentations\n"
     ]
    },
    {
     "name": "stderr",
     "output_type": "stream",
     "text": [
      "100%|██████████| 29/29 [00:02<00:00, 12.29it/s]\n",
      "3.0061: 100%|██████████| 113/113 [00:20<00:00,  5.46it/s]\n",
      "  0%|          | 0/29 [00:00<?, ?it/s]"
     ]
    },
    {
     "name": "stdout",
     "output_type": "stream",
     "text": [
      "Predict test without augmentations\n"
     ]
    },
    {
     "name": "stderr",
     "output_type": "stream",
     "text": [
      "100%|██████████| 29/29 [00:02<00:00, 12.44it/s]\n",
      "3.0265: 100%|██████████| 113/113 [00:20<00:00,  5.44it/s]\n",
      "  0%|          | 0/29 [00:00<?, ?it/s]"
     ]
    },
    {
     "name": "stdout",
     "output_type": "stream",
     "text": [
      "Predict test without augmentations\n"
     ]
    },
    {
     "name": "stderr",
     "output_type": "stream",
     "text": [
      "100%|██████████| 29/29 [00:02<00:00, 12.44it/s]\n",
      "2.9891: 100%|██████████| 113/113 [00:20<00:00,  5.45it/s]\n",
      "  0%|          | 0/29 [00:00<?, ?it/s]"
     ]
    },
    {
     "name": "stdout",
     "output_type": "stream",
     "text": [
      "Predict test without augmentations\n"
     ]
    },
    {
     "name": "stderr",
     "output_type": "stream",
     "text": [
      "100%|██████████| 29/29 [00:02<00:00, 12.40it/s]\n",
      "2.9971: 100%|██████████| 113/113 [00:20<00:00,  5.44it/s]\n",
      "  0%|          | 0/29 [00:00<?, ?it/s]"
     ]
    },
    {
     "name": "stdout",
     "output_type": "stream",
     "text": [
      "Predict test without augmentations\n"
     ]
    },
    {
     "name": "stderr",
     "output_type": "stream",
     "text": [
      "100%|██████████| 29/29 [00:02<00:00, 12.54it/s]\n",
      "2.9848: 100%|██████████| 113/113 [00:20<00:00,  5.42it/s]\n",
      "  0%|          | 0/29 [00:00<?, ?it/s]"
     ]
    },
    {
     "name": "stdout",
     "output_type": "stream",
     "text": [
      "Predict test without augmentations\n"
     ]
    },
    {
     "name": "stderr",
     "output_type": "stream",
     "text": [
      "100%|██████████| 29/29 [00:02<00:00, 12.73it/s]\n",
      "2.9401: 100%|██████████| 113/113 [00:20<00:00,  5.45it/s]\n",
      "  0%|          | 0/29 [00:00<?, ?it/s]"
     ]
    },
    {
     "name": "stdout",
     "output_type": "stream",
     "text": [
      "Predict test without augmentations\n"
     ]
    },
    {
     "name": "stderr",
     "output_type": "stream",
     "text": [
      "100%|██████████| 29/29 [00:02<00:00, 12.45it/s]\n",
      "2.9456: 100%|██████████| 113/113 [00:20<00:00,  5.42it/s]\n",
      "  0%|          | 0/29 [00:00<?, ?it/s]"
     ]
    },
    {
     "name": "stdout",
     "output_type": "stream",
     "text": [
      "Predict test without augmentations\n"
     ]
    },
    {
     "name": "stderr",
     "output_type": "stream",
     "text": [
      "100%|██████████| 29/29 [00:02<00:00, 12.57it/s]\n",
      "2.9119: 100%|██████████| 113/113 [00:20<00:00,  5.46it/s]\n",
      "  0%|          | 0/29 [00:00<?, ?it/s]"
     ]
    },
    {
     "name": "stdout",
     "output_type": "stream",
     "text": [
      "Predict test without augmentations\n"
     ]
    },
    {
     "name": "stderr",
     "output_type": "stream",
     "text": [
      "100%|██████████| 29/29 [00:02<00:00, 12.82it/s]\n",
      "2.9152: 100%|██████████| 113/113 [00:20<00:00,  5.44it/s]\n",
      "  0%|          | 0/29 [00:00<?, ?it/s]"
     ]
    },
    {
     "name": "stdout",
     "output_type": "stream",
     "text": [
      "Predict test without augmentations\n"
     ]
    },
    {
     "name": "stderr",
     "output_type": "stream",
     "text": [
      "100%|██████████| 29/29 [00:02<00:00, 11.85it/s]\n",
      "2.8916: 100%|██████████| 113/113 [00:20<00:00,  5.43it/s]\n",
      "  0%|          | 0/29 [00:00<?, ?it/s]"
     ]
    },
    {
     "name": "stdout",
     "output_type": "stream",
     "text": [
      "Predict test without augmentations\n"
     ]
    },
    {
     "name": "stderr",
     "output_type": "stream",
     "text": [
      "100%|██████████| 29/29 [00:02<00:00, 12.50it/s]\n",
      "2.9100: 100%|██████████| 113/113 [00:20<00:00,  5.44it/s]\n",
      "  0%|          | 0/29 [00:00<?, ?it/s]"
     ]
    },
    {
     "name": "stdout",
     "output_type": "stream",
     "text": [
      "Predict test without augmentations\n"
     ]
    },
    {
     "name": "stderr",
     "output_type": "stream",
     "text": [
      "100%|██████████| 29/29 [00:02<00:00, 13.16it/s]\n",
      "2.9082: 100%|██████████| 113/113 [00:20<00:00,  5.41it/s]\n",
      "  0%|          | 0/29 [00:00<?, ?it/s]"
     ]
    },
    {
     "name": "stdout",
     "output_type": "stream",
     "text": [
      "Predict test without augmentations\n"
     ]
    },
    {
     "name": "stderr",
     "output_type": "stream",
     "text": [
      "100%|██████████| 29/29 [00:02<00:00, 12.69it/s]\n",
      "2.8977: 100%|██████████| 113/113 [00:20<00:00,  5.46it/s]\n",
      "  0%|          | 0/29 [00:00<?, ?it/s]"
     ]
    },
    {
     "name": "stdout",
     "output_type": "stream",
     "text": [
      "Predict test without augmentations\n"
     ]
    },
    {
     "name": "stderr",
     "output_type": "stream",
     "text": [
      "100%|██████████| 29/29 [00:02<00:00, 12.48it/s]\n",
      "2.8776: 100%|██████████| 113/113 [00:20<00:00,  5.43it/s]\n",
      "  0%|          | 0/29 [00:00<?, ?it/s]"
     ]
    },
    {
     "name": "stdout",
     "output_type": "stream",
     "text": [
      "Predict test without augmentations\n"
     ]
    },
    {
     "name": "stderr",
     "output_type": "stream",
     "text": [
      "100%|██████████| 29/29 [00:02<00:00, 12.51it/s]\n",
      "2.8716: 100%|██████████| 113/113 [00:20<00:00,  5.46it/s]\n",
      "  0%|          | 0/29 [00:00<?, ?it/s]"
     ]
    },
    {
     "name": "stdout",
     "output_type": "stream",
     "text": [
      "Predict test without augmentations\n"
     ]
    },
    {
     "name": "stderr",
     "output_type": "stream",
     "text": [
      "100%|██████████| 29/29 [00:02<00:00, 12.54it/s]\n",
      "2.8616: 100%|██████████| 113/113 [00:20<00:00,  5.44it/s]\n",
      "  0%|          | 0/29 [00:00<?, ?it/s]"
     ]
    },
    {
     "name": "stdout",
     "output_type": "stream",
     "text": [
      "Predict test without augmentations\n"
     ]
    },
    {
     "name": "stderr",
     "output_type": "stream",
     "text": [
      "100%|██████████| 29/29 [00:02<00:00, 12.46it/s]\n",
      "2.8904: 100%|██████████| 113/113 [00:20<00:00,  5.42it/s]\n",
      "  0%|          | 0/29 [00:00<?, ?it/s]"
     ]
    },
    {
     "name": "stdout",
     "output_type": "stream",
     "text": [
      "Predict test without augmentations\n"
     ]
    },
    {
     "name": "stderr",
     "output_type": "stream",
     "text": [
      "100%|██████████| 29/29 [00:02<00:00, 12.62it/s]\n",
      "  0%|          | 0/113 [00:00<?, ?it/s]"
     ]
    },
    {
     "name": "stdout",
     "output_type": "stream",
     "text": [
      "Epoch    28: reducing learning rate of group 0 to 1.0000e-04.\n"
     ]
    },
    {
     "name": "stderr",
     "output_type": "stream",
     "text": [
      "2.8416: 100%|██████████| 113/113 [00:20<00:00,  5.43it/s]\n",
      "  0%|          | 0/29 [00:00<?, ?it/s]"
     ]
    },
    {
     "name": "stdout",
     "output_type": "stream",
     "text": [
      "Predict test without augmentations\n"
     ]
    },
    {
     "name": "stderr",
     "output_type": "stream",
     "text": [
      "100%|██████████| 29/29 [00:02<00:00, 12.37it/s]\n",
      "2.8562: 100%|██████████| 113/113 [00:20<00:00,  5.46it/s]\n",
      "  0%|          | 0/29 [00:00<?, ?it/s]"
     ]
    },
    {
     "name": "stdout",
     "output_type": "stream",
     "text": [
      "Predict test without augmentations\n"
     ]
    },
    {
     "name": "stderr",
     "output_type": "stream",
     "text": [
      "100%|██████████| 29/29 [00:02<00:00, 12.22it/s]\n",
      "2.8138: 100%|██████████| 113/113 [00:20<00:00,  5.44it/s]\n",
      "  0%|          | 0/29 [00:00<?, ?it/s]"
     ]
    },
    {
     "name": "stdout",
     "output_type": "stream",
     "text": [
      "Predict test without augmentations\n"
     ]
    },
    {
     "name": "stderr",
     "output_type": "stream",
     "text": [
      "100%|██████████| 29/29 [00:02<00:00, 12.65it/s]\n",
      "2.8284: 100%|██████████| 113/113 [00:20<00:00,  5.46it/s]\n",
      "  0%|          | 0/29 [00:00<?, ?it/s]"
     ]
    },
    {
     "name": "stdout",
     "output_type": "stream",
     "text": [
      "Predict test without augmentations\n"
     ]
    },
    {
     "name": "stderr",
     "output_type": "stream",
     "text": [
      "100%|██████████| 29/29 [00:02<00:00, 12.47it/s]\n",
      "2.8079: 100%|██████████| 113/113 [00:20<00:00,  5.43it/s]\n",
      "  0%|          | 0/29 [00:00<?, ?it/s]"
     ]
    },
    {
     "name": "stdout",
     "output_type": "stream",
     "text": [
      "Predict test without augmentations\n"
     ]
    },
    {
     "name": "stderr",
     "output_type": "stream",
     "text": [
      "100%|██████████| 29/29 [00:02<00:00, 11.85it/s]\n",
      "2.8098: 100%|██████████| 113/113 [00:20<00:00,  5.44it/s]\n",
      "  0%|          | 0/29 [00:00<?, ?it/s]"
     ]
    },
    {
     "name": "stdout",
     "output_type": "stream",
     "text": [
      "Predict test without augmentations\n"
     ]
    },
    {
     "name": "stderr",
     "output_type": "stream",
     "text": [
      "100%|██████████| 29/29 [00:02<00:00, 12.59it/s]\n",
      "2.8026: 100%|██████████| 113/113 [00:20<00:00,  5.46it/s]\n",
      "  0%|          | 0/29 [00:00<?, ?it/s]"
     ]
    },
    {
     "name": "stdout",
     "output_type": "stream",
     "text": [
      "Predict test without augmentations\n"
     ]
    },
    {
     "name": "stderr",
     "output_type": "stream",
     "text": [
      "100%|██████████| 29/29 [00:02<00:00, 12.52it/s]\n",
      "2.8110: 100%|██████████| 113/113 [00:20<00:00,  5.43it/s]\n",
      "  0%|          | 0/29 [00:00<?, ?it/s]"
     ]
    },
    {
     "name": "stdout",
     "output_type": "stream",
     "text": [
      "Predict test without augmentations\n"
     ]
    },
    {
     "name": "stderr",
     "output_type": "stream",
     "text": [
      "100%|██████████| 29/29 [00:02<00:00, 12.67it/s]\n",
      "2.7956: 100%|██████████| 113/113 [00:20<00:00,  5.46it/s]\n",
      "  0%|          | 0/29 [00:00<?, ?it/s]"
     ]
    },
    {
     "name": "stdout",
     "output_type": "stream",
     "text": [
      "Predict test without augmentations\n"
     ]
    },
    {
     "name": "stderr",
     "output_type": "stream",
     "text": [
      "100%|██████████| 29/29 [00:02<00:00, 12.45it/s]\n",
      "2.7862: 100%|██████████| 113/113 [00:20<00:00,  5.42it/s]\n",
      "  0%|          | 0/29 [00:00<?, ?it/s]"
     ]
    },
    {
     "name": "stdout",
     "output_type": "stream",
     "text": [
      "Predict test without augmentations\n"
     ]
    },
    {
     "name": "stderr",
     "output_type": "stream",
     "text": [
      "100%|██████████| 29/29 [00:02<00:00, 12.37it/s]\n",
      "2.8065: 100%|██████████| 113/113 [00:20<00:00,  5.42it/s]\n",
      "  0%|          | 0/29 [00:00<?, ?it/s]"
     ]
    },
    {
     "name": "stdout",
     "output_type": "stream",
     "text": [
      "Predict test without augmentations\n"
     ]
    },
    {
     "name": "stderr",
     "output_type": "stream",
     "text": [
      "100%|██████████| 29/29 [00:02<00:00, 12.40it/s]\n",
      "2.7874: 100%|██████████| 113/113 [00:20<00:00,  5.46it/s]\n",
      "  0%|          | 0/29 [00:00<?, ?it/s]"
     ]
    },
    {
     "name": "stdout",
     "output_type": "stream",
     "text": [
      "Predict test without augmentations\n"
     ]
    },
    {
     "name": "stderr",
     "output_type": "stream",
     "text": [
      "100%|██████████| 29/29 [00:02<00:00, 12.15it/s]\n",
      "2.7803: 100%|██████████| 113/113 [00:20<00:00,  5.46it/s]\n",
      "  0%|          | 0/29 [00:00<?, ?it/s]"
     ]
    },
    {
     "name": "stdout",
     "output_type": "stream",
     "text": [
      "Predict test without augmentations\n"
     ]
    },
    {
     "name": "stderr",
     "output_type": "stream",
     "text": [
      "100%|██████████| 29/29 [00:02<00:00, 12.43it/s]\n",
      "2.7981: 100%|██████████| 113/113 [00:20<00:00,  5.43it/s]\n",
      "  0%|          | 0/29 [00:00<?, ?it/s]"
     ]
    },
    {
     "name": "stdout",
     "output_type": "stream",
     "text": [
      "Predict test without augmentations\n"
     ]
    },
    {
     "name": "stderr",
     "output_type": "stream",
     "text": [
      "100%|██████████| 29/29 [00:02<00:00, 12.55it/s]\n",
      "2.7812: 100%|██████████| 113/113 [00:20<00:00,  5.46it/s]\n",
      "  0%|          | 0/29 [00:00<?, ?it/s]"
     ]
    },
    {
     "name": "stdout",
     "output_type": "stream",
     "text": [
      "Predict test without augmentations\n"
     ]
    },
    {
     "name": "stderr",
     "output_type": "stream",
     "text": [
      "100%|██████████| 29/29 [00:02<00:00, 12.48it/s]\n",
      "2.7711: 100%|██████████| 113/113 [00:20<00:00,  5.45it/s]\n",
      "  0%|          | 0/29 [00:00<?, ?it/s]"
     ]
    },
    {
     "name": "stdout",
     "output_type": "stream",
     "text": [
      "Predict test without augmentations\n"
     ]
    },
    {
     "name": "stderr",
     "output_type": "stream",
     "text": [
      "100%|██████████| 29/29 [00:02<00:00, 12.28it/s]\n",
      "2.7906: 100%|██████████| 113/113 [00:20<00:00,  5.45it/s]\n",
      "  0%|          | 0/29 [00:00<?, ?it/s]"
     ]
    },
    {
     "name": "stdout",
     "output_type": "stream",
     "text": [
      "Predict test without augmentations\n"
     ]
    },
    {
     "name": "stderr",
     "output_type": "stream",
     "text": [
      "100%|██████████| 29/29 [00:02<00:00, 12.60it/s]\n",
      "2.7873: 100%|██████████| 113/113 [00:20<00:00,  5.43it/s]\n",
      "  0%|          | 0/29 [00:00<?, ?it/s]"
     ]
    },
    {
     "name": "stdout",
     "output_type": "stream",
     "text": [
      "Predict test without augmentations\n"
     ]
    },
    {
     "name": "stderr",
     "output_type": "stream",
     "text": [
      "100%|██████████| 29/29 [00:02<00:00, 11.63it/s]\n",
      "2.7832: 100%|██████████| 113/113 [00:20<00:00,  5.46it/s]\n",
      "  0%|          | 0/29 [00:00<?, ?it/s]"
     ]
    },
    {
     "name": "stdout",
     "output_type": "stream",
     "text": [
      "Predict test without augmentations\n"
     ]
    },
    {
     "name": "stderr",
     "output_type": "stream",
     "text": [
      "100%|██████████| 29/29 [00:02<00:00, 12.17it/s]\n",
      "2.7846: 100%|██████████| 113/113 [00:20<00:00,  5.45it/s]\n",
      "  0%|          | 0/29 [00:00<?, ?it/s]"
     ]
    },
    {
     "name": "stdout",
     "output_type": "stream",
     "text": [
      "Predict test without augmentations\n"
     ]
    },
    {
     "name": "stderr",
     "output_type": "stream",
     "text": [
      "100%|██████████| 29/29 [00:02<00:00, 12.33it/s]\n",
      "  0%|          | 0/113 [00:00<?, ?it/s]"
     ]
    },
    {
     "name": "stdout",
     "output_type": "stream",
     "text": [
      "Epoch    48: reducing learning rate of group 0 to 1.0000e-05.\n"
     ]
    },
    {
     "name": "stderr",
     "output_type": "stream",
     "text": [
      "2.7688: 100%|██████████| 113/113 [00:20<00:00,  5.44it/s]\n",
      "  0%|          | 0/29 [00:00<?, ?it/s]"
     ]
    },
    {
     "name": "stdout",
     "output_type": "stream",
     "text": [
      "Predict test without augmentations\n"
     ]
    },
    {
     "name": "stderr",
     "output_type": "stream",
     "text": [
      "100%|██████████| 29/29 [00:02<00:00, 12.42it/s]\n",
      "2.7735: 100%|██████████| 113/113 [00:20<00:00,  5.44it/s]\n",
      "  0%|          | 0/29 [00:00<?, ?it/s]"
     ]
    },
    {
     "name": "stdout",
     "output_type": "stream",
     "text": [
      "Predict test without augmentations\n"
     ]
    },
    {
     "name": "stderr",
     "output_type": "stream",
     "text": [
      "100%|██████████| 29/29 [00:02<00:00, 12.28it/s]\n",
      "2.7804: 100%|██████████| 113/113 [00:20<00:00,  5.41it/s]\n",
      "  0%|          | 0/29 [00:00<?, ?it/s]"
     ]
    },
    {
     "name": "stdout",
     "output_type": "stream",
     "text": [
      "Predict test without augmentations\n"
     ]
    },
    {
     "name": "stderr",
     "output_type": "stream",
     "text": [
      "100%|██████████| 29/29 [00:02<00:00, 12.47it/s]\n",
      "2.7521: 100%|██████████| 113/113 [00:20<00:00,  5.44it/s]\n",
      "  0%|          | 0/29 [00:00<?, ?it/s]"
     ]
    },
    {
     "name": "stdout",
     "output_type": "stream",
     "text": [
      "Predict test without augmentations\n"
     ]
    },
    {
     "name": "stderr",
     "output_type": "stream",
     "text": [
      "100%|██████████| 29/29 [00:02<00:00, 12.35it/s]\n",
      "2.7881: 100%|██████████| 113/113 [00:20<00:00,  5.41it/s]\n",
      "  0%|          | 0/29 [00:00<?, ?it/s]"
     ]
    },
    {
     "name": "stdout",
     "output_type": "stream",
     "text": [
      "Predict test without augmentations\n"
     ]
    },
    {
     "name": "stderr",
     "output_type": "stream",
     "text": [
      "100%|██████████| 29/29 [00:02<00:00, 12.42it/s]\n",
      "2.7585: 100%|██████████| 113/113 [00:20<00:00,  5.45it/s]\n",
      "  0%|          | 0/29 [00:00<?, ?it/s]"
     ]
    },
    {
     "name": "stdout",
     "output_type": "stream",
     "text": [
      "Predict test without augmentations\n"
     ]
    },
    {
     "name": "stderr",
     "output_type": "stream",
     "text": [
      "100%|██████████| 29/29 [00:02<00:00, 12.58it/s]\n",
      "2.7695: 100%|██████████| 113/113 [00:20<00:00,  5.42it/s]\n",
      "  0%|          | 0/29 [00:00<?, ?it/s]"
     ]
    },
    {
     "name": "stdout",
     "output_type": "stream",
     "text": [
      "Predict test without augmentations\n"
     ]
    },
    {
     "name": "stderr",
     "output_type": "stream",
     "text": [
      "100%|██████████| 29/29 [00:02<00:00, 12.78it/s]\n",
      "2.7800: 100%|██████████| 113/113 [00:20<00:00,  5.44it/s]\n",
      "  0%|          | 0/29 [00:00<?, ?it/s]"
     ]
    },
    {
     "name": "stdout",
     "output_type": "stream",
     "text": [
      "Predict test without augmentations\n"
     ]
    },
    {
     "name": "stderr",
     "output_type": "stream",
     "text": [
      "100%|██████████| 29/29 [00:02<00:00, 12.52it/s]\n",
      "2.7839: 100%|██████████| 113/113 [00:20<00:00,  5.42it/s]\n",
      "  0%|          | 0/29 [00:00<?, ?it/s]"
     ]
    },
    {
     "name": "stdout",
     "output_type": "stream",
     "text": [
      "Predict test without augmentations\n"
     ]
    },
    {
     "name": "stderr",
     "output_type": "stream",
     "text": [
      "100%|██████████| 29/29 [00:02<00:00, 12.66it/s]\n",
      "2.7800: 100%|██████████| 113/113 [00:20<00:00,  5.43it/s]\n",
      "  0%|          | 0/29 [00:00<?, ?it/s]"
     ]
    },
    {
     "name": "stdout",
     "output_type": "stream",
     "text": [
      "Predict test without augmentations\n"
     ]
    },
    {
     "name": "stderr",
     "output_type": "stream",
     "text": [
      "100%|██████████| 29/29 [00:02<00:00, 12.54it/s]\n",
      "2.7755: 100%|██████████| 113/113 [00:20<00:00,  5.44it/s]\n",
      "  0%|          | 0/29 [00:00<?, ?it/s]"
     ]
    },
    {
     "name": "stdout",
     "output_type": "stream",
     "text": [
      "Predict test without augmentations\n"
     ]
    },
    {
     "name": "stderr",
     "output_type": "stream",
     "text": [
      "100%|██████████| 29/29 [00:02<00:00, 11.30it/s]\n",
      "2.7664: 100%|██████████| 113/113 [00:20<00:00,  5.40it/s]\n",
      "  0%|          | 0/29 [00:00<?, ?it/s]"
     ]
    },
    {
     "name": "stdout",
     "output_type": "stream",
     "text": [
      "Predict test without augmentations\n"
     ]
    },
    {
     "name": "stderr",
     "output_type": "stream",
     "text": [
      "100%|██████████| 29/29 [00:02<00:00, 12.44it/s]\n",
      "  0%|          | 0/113 [00:00<?, ?it/s]"
     ]
    },
    {
     "name": "stdout",
     "output_type": "stream",
     "text": [
      "Epoch    60: reducing learning rate of group 0 to 1.0000e-06.\n"
     ]
    },
    {
     "name": "stderr",
     "output_type": "stream",
     "text": [
      "2.7787: 100%|██████████| 113/113 [00:20<00:00,  5.46it/s]\n",
      "  0%|          | 0/29 [00:00<?, ?it/s]"
     ]
    },
    {
     "name": "stdout",
     "output_type": "stream",
     "text": [
      "Predict test without augmentations\n"
     ]
    },
    {
     "name": "stderr",
     "output_type": "stream",
     "text": [
      "100%|██████████| 29/29 [00:02<00:00, 12.38it/s]\n"
     ]
    },
    {
     "name": "stdout",
     "output_type": "stream",
     "text": [
      "['./rfcx_kaggle_git/RFCX_kaggle/experiments/logs_model=resnest50d_Pretrained=True_SED=False_act_func=Mish_criterion=LSEP_length=10_step=2_intersect=0.5_new_dataset1_num_classes=24_optim=ranger_sched=plateau_lr=1e-3_SpecAug=True_MixUp=True_alpha=1_n_mels=128/resnest50d_score=0.25345', './rfcx_kaggle_git/RFCX_kaggle/experiments/logs_model=resnest50d_Pretrained=True_SED=False_act_func=Mish_criterion=LSEP_length=10_step=2_intersect=0.5_new_dataset1_num_classes=24_optim=ranger_sched=plateau_lr=1e-3_SpecAug=True_MixUp=True_alpha=1_n_mels=128/resnest50d_score=0.32593', './rfcx_kaggle_git/RFCX_kaggle/experiments/logs_model=resnest50d_Pretrained=True_SED=False_act_func=Mish_criterion=LSEP_length=10_step=2_intersect=0.5_new_dataset1_num_classes=24_optim=ranger_sched=plateau_lr=1e-3_SpecAug=True_MixUp=True_alpha=1_n_mels=128/resnest50d_score=0.37733', './rfcx_kaggle_git/RFCX_kaggle/experiments/logs_model=resnest50d_Pretrained=True_SED=False_act_func=Mish_criterion=LSEP_length=10_step=2_intersect=0.5_new_dataset1_num_classes=24_optim=ranger_sched=plateau_lr=1e-3_SpecAug=True_MixUp=True_alpha=1_n_mels=128/resnest50d_score=0.43056', './rfcx_kaggle_git/RFCX_kaggle/experiments/logs_model=resnest50d_Pretrained=True_SED=False_act_func=Mish_criterion=LSEP_length=10_step=2_intersect=0.5_new_dataset1_num_classes=24_optim=ranger_sched=plateau_lr=1e-3_SpecAug=True_MixUp=True_alpha=1_n_mels=128/resnest50d_score=0.55597', './rfcx_kaggle_git/RFCX_kaggle/experiments/logs_model=resnest50d_Pretrained=True_SED=False_act_func=Mish_criterion=LSEP_length=10_step=2_intersect=0.5_new_dataset1_num_classes=24_optim=ranger_sched=plateau_lr=1e-3_SpecAug=True_MixUp=True_alpha=1_n_mels=128/resnest50d_score=0.57697', './rfcx_kaggle_git/RFCX_kaggle/experiments/logs_model=resnest50d_Pretrained=True_SED=False_act_func=Mish_criterion=LSEP_length=10_step=2_intersect=0.5_new_dataset1_num_classes=24_optim=ranger_sched=plateau_lr=1e-3_SpecAug=True_MixUp=True_alpha=1_n_mels=128/resnest50d_score=0.58952', './rfcx_kaggle_git/RFCX_kaggle/experiments/logs_model=resnest50d_Pretrained=True_SED=False_act_func=Mish_criterion=LSEP_length=10_step=2_intersect=0.5_new_dataset1_num_classes=24_optim=ranger_sched=plateau_lr=1e-3_SpecAug=True_MixUp=True_alpha=1_n_mels=128/resnest50d_score=0.63832', './rfcx_kaggle_git/RFCX_kaggle/experiments/logs_model=resnest50d_Pretrained=True_SED=False_act_func=Mish_criterion=LSEP_length=10_step=2_intersect=0.5_new_dataset1_num_classes=24_optim=ranger_sched=plateau_lr=1e-3_SpecAug=True_MixUp=True_alpha=1_n_mels=128/resnest50d_score=0.69513', './rfcx_kaggle_git/RFCX_kaggle/experiments/logs_model=resnest50d_Pretrained=True_SED=False_act_func=Mish_criterion=LSEP_length=10_step=2_intersect=0.5_new_dataset1_num_classes=24_optim=ranger_sched=plateau_lr=1e-3_SpecAug=True_MixUp=True_alpha=1_n_mels=128/resnest50d_score=0.74162', './rfcx_kaggle_git/RFCX_kaggle/experiments/logs_model=resnest50d_Pretrained=True_SED=False_act_func=Mish_criterion=LSEP_length=10_step=2_intersect=0.5_new_dataset1_num_classes=24_optim=ranger_sched=plateau_lr=1e-3_SpecAug=True_MixUp=True_alpha=1_n_mels=128/resnest50d_score=0.77749', './rfcx_kaggle_git/RFCX_kaggle/experiments/logs_model=resnest50d_Pretrained=True_SED=False_act_func=Mish_criterion=LSEP_length=10_step=2_intersect=0.5_new_dataset1_num_classes=24_optim=ranger_sched=plateau_lr=1e-3_SpecAug=True_MixUp=True_alpha=1_n_mels=128/resnest50d_score=0.77900', './rfcx_kaggle_git/RFCX_kaggle/experiments/logs_model=resnest50d_Pretrained=True_SED=False_act_func=Mish_criterion=LSEP_length=10_step=2_intersect=0.5_new_dataset1_num_classes=24_optim=ranger_sched=plateau_lr=1e-3_SpecAug=True_MixUp=True_alpha=1_n_mels=128/resnest50d_score=0.80186', './rfcx_kaggle_git/RFCX_kaggle/experiments/logs_model=resnest50d_Pretrained=True_SED=False_act_func=Mish_criterion=LSEP_length=10_step=2_intersect=0.5_new_dataset1_num_classes=24_optim=ranger_sched=plateau_lr=1e-3_SpecAug=True_MixUp=True_alpha=1_n_mels=128/resnest50d_score=0.81505', './rfcx_kaggle_git/RFCX_kaggle/experiments/logs_model=resnest50d_Pretrained=True_SED=False_act_func=Mish_criterion=LSEP_length=10_step=2_intersect=0.5_new_dataset1_num_classes=24_optim=ranger_sched=plateau_lr=1e-3_SpecAug=True_MixUp=True_alpha=1_n_mels=128/resnest50d_score=0.84270', './rfcx_kaggle_git/RFCX_kaggle/experiments/logs_model=resnest50d_Pretrained=True_SED=False_act_func=Mish_criterion=LSEP_length=10_step=2_intersect=0.5_new_dataset1_num_classes=24_optim=ranger_sched=plateau_lr=1e-3_SpecAug=True_MixUp=True_alpha=1_n_mels=128/resnest50d_score=0.84500', './rfcx_kaggle_git/RFCX_kaggle/experiments/logs_model=resnest50d_Pretrained=True_SED=False_act_func=Mish_criterion=LSEP_length=10_step=2_intersect=0.5_new_dataset1_num_classes=24_optim=ranger_sched=plateau_lr=1e-3_SpecAug=True_MixUp=True_alpha=1_n_mels=128/resnest50d_score=0.84633', './rfcx_kaggle_git/RFCX_kaggle/experiments/logs_model=resnest50d_Pretrained=True_SED=False_act_func=Mish_criterion=LSEP_length=10_step=2_intersect=0.5_new_dataset1_num_classes=24_optim=ranger_sched=plateau_lr=1e-3_SpecAug=True_MixUp=True_alpha=1_n_mels=128/resnest50d_score=0.85147', './rfcx_kaggle_git/RFCX_kaggle/experiments/logs_model=resnest50d_Pretrained=True_SED=False_act_func=Mish_criterion=LSEP_length=10_step=2_intersect=0.5_new_dataset1_num_classes=24_optim=ranger_sched=plateau_lr=1e-3_SpecAug=True_MixUp=True_alpha=1_n_mels=128/resnest50d_score=0.85794', './rfcx_kaggle_git/RFCX_kaggle/experiments/logs_model=resnest50d_Pretrained=True_SED=False_act_func=Mish_criterion=LSEP_length=10_step=2_intersect=0.5_new_dataset1_num_classes=24_optim=ranger_sched=plateau_lr=1e-3_SpecAug=True_MixUp=True_alpha=1_n_mels=128/resnest50d_score=0.87020', './rfcx_kaggle_git/RFCX_kaggle/experiments/logs_model=resnest50d_Pretrained=True_SED=False_act_func=Mish_criterion=LSEP_length=10_step=2_intersect=0.5_new_dataset1_num_classes=24_optim=ranger_sched=plateau_lr=1e-3_SpecAug=True_MixUp=True_alpha=1_n_mels=128/resnest50d_score=0.87285']\n",
      "./rfcx_kaggle_git/RFCX_kaggle/experiments/logs_model=resnest50d_Pretrained=True_SED=False_act_func=Mish_criterion=LSEP_length=10_step=2_intersect=0.5_new_dataset1_num_classes=24_optim=ranger_sched=plateau_lr=1e-3_SpecAug=True_MixUp=True_alpha=1_n_mels=128/resnest50d_score=0.87285\n",
      "Ranger optimizer loaded. \n",
      "Gradient Centralization usage = True\n",
      "GC applied to both conv and fc layers\n"
     ]
    },
    {
     "name": "stderr",
     "output_type": "stream",
     "text": [
      "3.4095: 100%|██████████| 113/113 [00:20<00:00,  5.45it/s]\n",
      "  0%|          | 0/29 [00:00<?, ?it/s]"
     ]
    },
    {
     "name": "stdout",
     "output_type": "stream",
     "text": [
      "Predict test without augmentations\n"
     ]
    },
    {
     "name": "stderr",
     "output_type": "stream",
     "text": [
      "100%|██████████| 29/29 [00:02<00:00, 12.44it/s]\n",
      "3.3125: 100%|██████████| 113/113 [00:20<00:00,  5.45it/s]\n",
      "  0%|          | 0/29 [00:00<?, ?it/s]"
     ]
    },
    {
     "name": "stdout",
     "output_type": "stream",
     "text": [
      "Predict test without augmentations\n"
     ]
    },
    {
     "name": "stderr",
     "output_type": "stream",
     "text": [
      "100%|██████████| 29/29 [00:02<00:00, 12.39it/s]\n",
      "3.2731: 100%|██████████| 113/113 [00:20<00:00,  5.40it/s]\n",
      "  0%|          | 0/29 [00:00<?, ?it/s]"
     ]
    },
    {
     "name": "stdout",
     "output_type": "stream",
     "text": [
      "Predict test without augmentations\n"
     ]
    },
    {
     "name": "stderr",
     "output_type": "stream",
     "text": [
      "100%|██████████| 29/29 [00:02<00:00, 12.28it/s]\n",
      "3.2532: 100%|██████████| 113/113 [00:20<00:00,  5.46it/s]\n",
      "  0%|          | 0/29 [00:00<?, ?it/s]"
     ]
    },
    {
     "name": "stdout",
     "output_type": "stream",
     "text": [
      "Predict test without augmentations\n"
     ]
    },
    {
     "name": "stderr",
     "output_type": "stream",
     "text": [
      "100%|██████████| 29/29 [00:02<00:00, 12.27it/s]\n",
      "3.2205: 100%|██████████| 113/113 [00:20<00:00,  5.45it/s]\n",
      "  0%|          | 0/29 [00:00<?, ?it/s]"
     ]
    },
    {
     "name": "stdout",
     "output_type": "stream",
     "text": [
      "Predict test without augmentations\n"
     ]
    },
    {
     "name": "stderr",
     "output_type": "stream",
     "text": [
      "100%|██████████| 29/29 [00:02<00:00, 12.32it/s]\n",
      "3.2032: 100%|██████████| 113/113 [00:20<00:00,  5.44it/s]\n",
      "  0%|          | 0/29 [00:00<?, ?it/s]"
     ]
    },
    {
     "name": "stdout",
     "output_type": "stream",
     "text": [
      "Predict test without augmentations\n"
     ]
    },
    {
     "name": "stderr",
     "output_type": "stream",
     "text": [
      "100%|██████████| 29/29 [00:02<00:00, 12.41it/s]\n",
      "3.1654: 100%|██████████| 113/113 [00:20<00:00,  5.46it/s]\n",
      "  0%|          | 0/29 [00:00<?, ?it/s]"
     ]
    },
    {
     "name": "stdout",
     "output_type": "stream",
     "text": [
      "Predict test without augmentations\n"
     ]
    },
    {
     "name": "stderr",
     "output_type": "stream",
     "text": [
      "100%|██████████| 29/29 [00:02<00:00, 12.47it/s]\n",
      "3.1319: 100%|██████████| 113/113 [00:20<00:00,  5.44it/s]\n",
      "  0%|          | 0/29 [00:00<?, ?it/s]"
     ]
    },
    {
     "name": "stdout",
     "output_type": "stream",
     "text": [
      "Predict test without augmentations\n"
     ]
    },
    {
     "name": "stderr",
     "output_type": "stream",
     "text": [
      "100%|██████████| 29/29 [00:02<00:00, 12.42it/s]\n",
      "3.0981: 100%|██████████| 113/113 [00:20<00:00,  5.42it/s]\n",
      "  0%|          | 0/29 [00:00<?, ?it/s]"
     ]
    },
    {
     "name": "stdout",
     "output_type": "stream",
     "text": [
      "Predict test without augmentations\n"
     ]
    },
    {
     "name": "stderr",
     "output_type": "stream",
     "text": [
      "100%|██████████| 29/29 [00:02<00:00, 12.46it/s]\n",
      "3.0612: 100%|██████████| 113/113 [00:20<00:00,  5.45it/s]\n",
      "  0%|          | 0/29 [00:00<?, ?it/s]"
     ]
    },
    {
     "name": "stdout",
     "output_type": "stream",
     "text": [
      "Predict test without augmentations\n"
     ]
    },
    {
     "name": "stderr",
     "output_type": "stream",
     "text": [
      "100%|██████████| 29/29 [00:02<00:00, 12.17it/s]\n",
      "3.0366: 100%|██████████| 113/113 [00:20<00:00,  5.43it/s]\n",
      "  0%|          | 0/29 [00:00<?, ?it/s]"
     ]
    },
    {
     "name": "stdout",
     "output_type": "stream",
     "text": [
      "Predict test without augmentations\n"
     ]
    },
    {
     "name": "stderr",
     "output_type": "stream",
     "text": [
      "100%|██████████| 29/29 [00:02<00:00, 12.42it/s]\n",
      "3.0068: 100%|██████████| 113/113 [00:20<00:00,  5.44it/s]\n",
      "  0%|          | 0/29 [00:00<?, ?it/s]"
     ]
    },
    {
     "name": "stdout",
     "output_type": "stream",
     "text": [
      "Predict test without augmentations\n"
     ]
    },
    {
     "name": "stderr",
     "output_type": "stream",
     "text": [
      "100%|██████████| 29/29 [00:02<00:00, 12.48it/s]\n",
      "2.9913: 100%|██████████| 113/113 [00:20<00:00,  5.47it/s]\n",
      "  0%|          | 0/29 [00:00<?, ?it/s]"
     ]
    },
    {
     "name": "stdout",
     "output_type": "stream",
     "text": [
      "Predict test without augmentations\n"
     ]
    },
    {
     "name": "stderr",
     "output_type": "stream",
     "text": [
      "100%|██████████| 29/29 [00:02<00:00, 11.18it/s]\n",
      "2.9820: 100%|██████████| 113/113 [00:20<00:00,  5.43it/s]\n",
      "  0%|          | 0/29 [00:00<?, ?it/s]"
     ]
    },
    {
     "name": "stdout",
     "output_type": "stream",
     "text": [
      "Predict test without augmentations\n"
     ]
    },
    {
     "name": "stderr",
     "output_type": "stream",
     "text": [
      "100%|██████████| 29/29 [00:02<00:00, 12.42it/s]\n",
      "2.9662: 100%|██████████| 113/113 [00:20<00:00,  5.43it/s]\n",
      "  0%|          | 0/29 [00:00<?, ?it/s]"
     ]
    },
    {
     "name": "stdout",
     "output_type": "stream",
     "text": [
      "Predict test without augmentations\n"
     ]
    },
    {
     "name": "stderr",
     "output_type": "stream",
     "text": [
      "100%|██████████| 29/29 [00:02<00:00, 12.86it/s]\n",
      "2.9585: 100%|██████████| 113/113 [00:20<00:00,  5.43it/s]\n",
      "  0%|          | 0/29 [00:00<?, ?it/s]"
     ]
    },
    {
     "name": "stdout",
     "output_type": "stream",
     "text": [
      "Predict test without augmentations\n"
     ]
    },
    {
     "name": "stderr",
     "output_type": "stream",
     "text": [
      "100%|██████████| 29/29 [00:02<00:00, 12.48it/s]\n",
      "2.9553: 100%|██████████| 113/113 [00:20<00:00,  5.41it/s]\n",
      "  0%|          | 0/29 [00:00<?, ?it/s]"
     ]
    },
    {
     "name": "stdout",
     "output_type": "stream",
     "text": [
      "Predict test without augmentations\n"
     ]
    },
    {
     "name": "stderr",
     "output_type": "stream",
     "text": [
      "100%|██████████| 29/29 [00:02<00:00, 12.16it/s]\n",
      "2.9266: 100%|██████████| 113/113 [00:20<00:00,  5.43it/s]\n",
      "  0%|          | 0/29 [00:00<?, ?it/s]"
     ]
    },
    {
     "name": "stdout",
     "output_type": "stream",
     "text": [
      "Predict test without augmentations\n"
     ]
    },
    {
     "name": "stderr",
     "output_type": "stream",
     "text": [
      "100%|██████████| 29/29 [00:02<00:00, 12.49it/s]\n",
      "2.9315: 100%|██████████| 113/113 [00:20<00:00,  5.45it/s]\n",
      "  0%|          | 0/29 [00:00<?, ?it/s]"
     ]
    },
    {
     "name": "stdout",
     "output_type": "stream",
     "text": [
      "Predict test without augmentations\n"
     ]
    },
    {
     "name": "stderr",
     "output_type": "stream",
     "text": [
      "100%|██████████| 29/29 [00:02<00:00, 12.17it/s]\n",
      "2.9148: 100%|██████████| 113/113 [00:20<00:00,  5.43it/s]\n",
      "  0%|          | 0/29 [00:00<?, ?it/s]"
     ]
    },
    {
     "name": "stdout",
     "output_type": "stream",
     "text": [
      "Predict test without augmentations\n"
     ]
    },
    {
     "name": "stderr",
     "output_type": "stream",
     "text": [
      "100%|██████████| 29/29 [00:02<00:00, 12.68it/s]\n",
      "2.9002: 100%|██████████| 113/113 [00:20<00:00,  5.43it/s]\n",
      "  0%|          | 0/29 [00:00<?, ?it/s]"
     ]
    },
    {
     "name": "stdout",
     "output_type": "stream",
     "text": [
      "Predict test without augmentations\n"
     ]
    },
    {
     "name": "stderr",
     "output_type": "stream",
     "text": [
      "100%|██████████| 29/29 [00:02<00:00, 12.37it/s]\n",
      "2.8731: 100%|██████████| 113/113 [00:20<00:00,  5.41it/s]\n",
      "  0%|          | 0/29 [00:00<?, ?it/s]"
     ]
    },
    {
     "name": "stdout",
     "output_type": "stream",
     "text": [
      "Predict test without augmentations\n"
     ]
    },
    {
     "name": "stderr",
     "output_type": "stream",
     "text": [
      "100%|██████████| 29/29 [00:02<00:00, 12.26it/s]\n",
      "2.9023: 100%|██████████| 113/113 [00:20<00:00,  5.44it/s]\n",
      "  0%|          | 0/29 [00:00<?, ?it/s]"
     ]
    },
    {
     "name": "stdout",
     "output_type": "stream",
     "text": [
      "Predict test without augmentations\n"
     ]
    },
    {
     "name": "stderr",
     "output_type": "stream",
     "text": [
      "100%|██████████| 29/29 [00:02<00:00, 12.31it/s]\n",
      "2.9139: 100%|██████████| 113/113 [00:20<00:00,  5.43it/s]\n",
      "  0%|          | 0/29 [00:00<?, ?it/s]"
     ]
    },
    {
     "name": "stdout",
     "output_type": "stream",
     "text": [
      "Predict test without augmentations\n"
     ]
    },
    {
     "name": "stderr",
     "output_type": "stream",
     "text": [
      "100%|██████████| 29/29 [00:02<00:00, 12.47it/s]\n",
      "2.8834: 100%|██████████| 113/113 [00:20<00:00,  5.43it/s]\n",
      "  0%|          | 0/29 [00:00<?, ?it/s]"
     ]
    },
    {
     "name": "stdout",
     "output_type": "stream",
     "text": [
      "Predict test without augmentations\n"
     ]
    },
    {
     "name": "stderr",
     "output_type": "stream",
     "text": [
      "100%|██████████| 29/29 [00:02<00:00, 12.41it/s]\n",
      "2.8907: 100%|██████████| 113/113 [00:20<00:00,  5.43it/s]\n",
      "  0%|          | 0/29 [00:00<?, ?it/s]"
     ]
    },
    {
     "name": "stdout",
     "output_type": "stream",
     "text": [
      "Predict test without augmentations\n"
     ]
    },
    {
     "name": "stderr",
     "output_type": "stream",
     "text": [
      "100%|██████████| 29/29 [00:02<00:00, 12.19it/s]\n",
      "2.8769: 100%|██████████| 113/113 [00:20<00:00,  5.43it/s]\n",
      "  0%|          | 0/29 [00:00<?, ?it/s]"
     ]
    },
    {
     "name": "stdout",
     "output_type": "stream",
     "text": [
      "Predict test without augmentations\n"
     ]
    },
    {
     "name": "stderr",
     "output_type": "stream",
     "text": [
      "100%|██████████| 29/29 [00:02<00:00, 12.33it/s]\n",
      "2.8826: 100%|██████████| 113/113 [00:20<00:00,  5.44it/s]\n",
      "  0%|          | 0/29 [00:00<?, ?it/s]"
     ]
    },
    {
     "name": "stdout",
     "output_type": "stream",
     "text": [
      "Predict test without augmentations\n"
     ]
    },
    {
     "name": "stderr",
     "output_type": "stream",
     "text": [
      "100%|██████████| 29/29 [00:02<00:00, 11.91it/s]\n",
      "2.8890: 100%|██████████| 113/113 [00:20<00:00,  5.41it/s]\n",
      "  0%|          | 0/29 [00:00<?, ?it/s]"
     ]
    },
    {
     "name": "stdout",
     "output_type": "stream",
     "text": [
      "Predict test without augmentations\n"
     ]
    },
    {
     "name": "stderr",
     "output_type": "stream",
     "text": [
      "100%|██████████| 29/29 [00:02<00:00, 12.24it/s]\n",
      "2.8509: 100%|██████████| 113/113 [00:20<00:00,  5.44it/s]\n",
      "  0%|          | 0/29 [00:00<?, ?it/s]"
     ]
    },
    {
     "name": "stdout",
     "output_type": "stream",
     "text": [
      "Predict test without augmentations\n"
     ]
    },
    {
     "name": "stderr",
     "output_type": "stream",
     "text": [
      "100%|██████████| 29/29 [00:02<00:00, 12.44it/s]\n",
      "2.8485: 100%|██████████| 113/113 [00:20<00:00,  5.44it/s]\n",
      "  0%|          | 0/29 [00:00<?, ?it/s]"
     ]
    },
    {
     "name": "stdout",
     "output_type": "stream",
     "text": [
      "Predict test without augmentations\n"
     ]
    },
    {
     "name": "stderr",
     "output_type": "stream",
     "text": [
      "100%|██████████| 29/29 [00:02<00:00, 12.55it/s]\n",
      "2.8431: 100%|██████████| 113/113 [00:20<00:00,  5.44it/s]\n",
      "  0%|          | 0/29 [00:00<?, ?it/s]"
     ]
    },
    {
     "name": "stdout",
     "output_type": "stream",
     "text": [
      "Predict test without augmentations\n"
     ]
    },
    {
     "name": "stderr",
     "output_type": "stream",
     "text": [
      "100%|██████████| 29/29 [00:02<00:00, 12.38it/s]\n",
      "  0%|          | 0/113 [00:00<?, ?it/s]"
     ]
    },
    {
     "name": "stdout",
     "output_type": "stream",
     "text": [
      "Epoch    32: reducing learning rate of group 0 to 1.0000e-04.\n"
     ]
    },
    {
     "name": "stderr",
     "output_type": "stream",
     "text": [
      "2.8187: 100%|██████████| 113/113 [00:20<00:00,  5.44it/s]\n",
      "  0%|          | 0/29 [00:00<?, ?it/s]"
     ]
    },
    {
     "name": "stdout",
     "output_type": "stream",
     "text": [
      "Predict test without augmentations\n"
     ]
    },
    {
     "name": "stderr",
     "output_type": "stream",
     "text": [
      "100%|██████████| 29/29 [00:02<00:00, 12.15it/s]\n",
      "2.8234: 100%|██████████| 113/113 [00:20<00:00,  5.44it/s]\n",
      "  0%|          | 0/29 [00:00<?, ?it/s]"
     ]
    },
    {
     "name": "stdout",
     "output_type": "stream",
     "text": [
      "Predict test without augmentations\n"
     ]
    },
    {
     "name": "stderr",
     "output_type": "stream",
     "text": [
      "100%|██████████| 29/29 [00:02<00:00, 12.41it/s]\n",
      "2.8180: 100%|██████████| 113/113 [00:20<00:00,  5.44it/s]\n",
      "  0%|          | 0/29 [00:00<?, ?it/s]"
     ]
    },
    {
     "name": "stdout",
     "output_type": "stream",
     "text": [
      "Predict test without augmentations\n"
     ]
    },
    {
     "name": "stderr",
     "output_type": "stream",
     "text": [
      "100%|██████████| 29/29 [00:02<00:00, 12.33it/s]\n",
      "2.8079: 100%|██████████| 113/113 [00:20<00:00,  5.46it/s]\n",
      "  0%|          | 0/29 [00:00<?, ?it/s]"
     ]
    },
    {
     "name": "stdout",
     "output_type": "stream",
     "text": [
      "Predict test without augmentations\n"
     ]
    },
    {
     "name": "stderr",
     "output_type": "stream",
     "text": [
      "100%|██████████| 29/29 [00:02<00:00, 12.40it/s]\n",
      "2.8232: 100%|██████████| 113/113 [00:20<00:00,  5.45it/s]\n",
      "  0%|          | 0/29 [00:00<?, ?it/s]"
     ]
    },
    {
     "name": "stdout",
     "output_type": "stream",
     "text": [
      "Predict test without augmentations\n"
     ]
    },
    {
     "name": "stderr",
     "output_type": "stream",
     "text": [
      "100%|██████████| 29/29 [00:02<00:00, 12.31it/s]\n",
      "2.7974: 100%|██████████| 113/113 [00:20<00:00,  5.45it/s]\n",
      "  0%|          | 0/29 [00:00<?, ?it/s]"
     ]
    },
    {
     "name": "stdout",
     "output_type": "stream",
     "text": [
      "Predict test without augmentations\n"
     ]
    },
    {
     "name": "stderr",
     "output_type": "stream",
     "text": [
      "100%|██████████| 29/29 [00:02<00:00, 12.53it/s]\n",
      "2.7913: 100%|██████████| 113/113 [00:20<00:00,  5.46it/s]\n",
      "  0%|          | 0/29 [00:00<?, ?it/s]"
     ]
    },
    {
     "name": "stdout",
     "output_type": "stream",
     "text": [
      "Predict test without augmentations\n"
     ]
    },
    {
     "name": "stderr",
     "output_type": "stream",
     "text": [
      "100%|██████████| 29/29 [00:02<00:00, 12.23it/s]\n",
      "2.7957: 100%|██████████| 113/113 [00:20<00:00,  5.46it/s]\n",
      "  0%|          | 0/29 [00:00<?, ?it/s]"
     ]
    },
    {
     "name": "stdout",
     "output_type": "stream",
     "text": [
      "Predict test without augmentations\n"
     ]
    },
    {
     "name": "stderr",
     "output_type": "stream",
     "text": [
      "100%|██████████| 29/29 [00:02<00:00, 12.39it/s]\n",
      "2.7779: 100%|██████████| 113/113 [00:20<00:00,  5.44it/s]\n",
      "  0%|          | 0/29 [00:00<?, ?it/s]"
     ]
    },
    {
     "name": "stdout",
     "output_type": "stream",
     "text": [
      "Predict test without augmentations\n"
     ]
    },
    {
     "name": "stderr",
     "output_type": "stream",
     "text": [
      "100%|██████████| 29/29 [00:02<00:00, 11.62it/s]\n",
      "2.7623: 100%|██████████| 113/113 [00:20<00:00,  5.43it/s]\n",
      "  0%|          | 0/29 [00:00<?, ?it/s]"
     ]
    },
    {
     "name": "stdout",
     "output_type": "stream",
     "text": [
      "Predict test without augmentations\n"
     ]
    },
    {
     "name": "stderr",
     "output_type": "stream",
     "text": [
      "100%|██████████| 29/29 [00:02<00:00, 12.35it/s]\n",
      "2.7736: 100%|██████████| 113/113 [00:20<00:00,  5.45it/s]\n",
      "  0%|          | 0/29 [00:00<?, ?it/s]"
     ]
    },
    {
     "name": "stdout",
     "output_type": "stream",
     "text": [
      "Predict test without augmentations\n"
     ]
    },
    {
     "name": "stderr",
     "output_type": "stream",
     "text": [
      "100%|██████████| 29/29 [00:02<00:00, 12.31it/s]\n",
      "2.7942: 100%|██████████| 113/113 [00:20<00:00,  5.45it/s]\n",
      "  0%|          | 0/29 [00:00<?, ?it/s]"
     ]
    },
    {
     "name": "stdout",
     "output_type": "stream",
     "text": [
      "Predict test without augmentations\n"
     ]
    },
    {
     "name": "stderr",
     "output_type": "stream",
     "text": [
      "100%|██████████| 29/29 [00:02<00:00, 12.45it/s]\n",
      "2.7888: 100%|██████████| 113/113 [00:20<00:00,  5.46it/s]\n",
      "  0%|          | 0/29 [00:00<?, ?it/s]"
     ]
    },
    {
     "name": "stdout",
     "output_type": "stream",
     "text": [
      "Predict test without augmentations\n"
     ]
    },
    {
     "name": "stderr",
     "output_type": "stream",
     "text": [
      "100%|██████████| 29/29 [00:02<00:00, 12.48it/s]\n",
      "2.7825: 100%|██████████| 113/113 [00:20<00:00,  5.42it/s]\n",
      "  0%|          | 0/29 [00:00<?, ?it/s]"
     ]
    },
    {
     "name": "stdout",
     "output_type": "stream",
     "text": [
      "Predict test without augmentations\n"
     ]
    },
    {
     "name": "stderr",
     "output_type": "stream",
     "text": [
      "100%|██████████| 29/29 [00:02<00:00, 12.34it/s]\n",
      "2.7668: 100%|██████████| 113/113 [00:20<00:00,  5.45it/s]\n",
      "  0%|          | 0/29 [00:00<?, ?it/s]"
     ]
    },
    {
     "name": "stdout",
     "output_type": "stream",
     "text": [
      "Predict test without augmentations\n"
     ]
    },
    {
     "name": "stderr",
     "output_type": "stream",
     "text": [
      "100%|██████████| 29/29 [00:02<00:00, 12.25it/s]\n",
      "2.7586: 100%|██████████| 113/113 [00:20<00:00,  5.40it/s]\n",
      "  0%|          | 0/29 [00:00<?, ?it/s]"
     ]
    },
    {
     "name": "stdout",
     "output_type": "stream",
     "text": [
      "Predict test without augmentations\n"
     ]
    },
    {
     "name": "stderr",
     "output_type": "stream",
     "text": [
      "100%|██████████| 29/29 [00:02<00:00, 12.40it/s]\n",
      "2.7849: 100%|██████████| 113/113 [00:20<00:00,  5.45it/s]\n",
      "  0%|          | 0/29 [00:00<?, ?it/s]"
     ]
    },
    {
     "name": "stdout",
     "output_type": "stream",
     "text": [
      "Predict test without augmentations\n"
     ]
    },
    {
     "name": "stderr",
     "output_type": "stream",
     "text": [
      "100%|██████████| 29/29 [00:02<00:00, 11.72it/s]\n",
      "2.7622: 100%|██████████| 113/113 [00:20<00:00,  5.42it/s]\n",
      "  0%|          | 0/29 [00:00<?, ?it/s]"
     ]
    },
    {
     "name": "stdout",
     "output_type": "stream",
     "text": [
      "Predict test without augmentations\n"
     ]
    },
    {
     "name": "stderr",
     "output_type": "stream",
     "text": [
      "100%|██████████| 29/29 [00:02<00:00, 12.58it/s]\n",
      "2.7691: 100%|██████████| 113/113 [00:20<00:00,  5.44it/s]\n",
      "  0%|          | 0/29 [00:00<?, ?it/s]"
     ]
    },
    {
     "name": "stdout",
     "output_type": "stream",
     "text": [
      "Predict test without augmentations\n"
     ]
    },
    {
     "name": "stderr",
     "output_type": "stream",
     "text": [
      "100%|██████████| 29/29 [00:02<00:00, 12.59it/s]\n",
      "2.7788: 100%|██████████| 113/113 [00:20<00:00,  5.45it/s]\n",
      "  0%|          | 0/29 [00:00<?, ?it/s]"
     ]
    },
    {
     "name": "stdout",
     "output_type": "stream",
     "text": [
      "Predict test without augmentations\n"
     ]
    },
    {
     "name": "stderr",
     "output_type": "stream",
     "text": [
      "100%|██████████| 29/29 [00:02<00:00, 12.56it/s]\n",
      "2.7823: 100%|██████████| 113/113 [00:20<00:00,  5.42it/s]\n",
      "  0%|          | 0/29 [00:00<?, ?it/s]"
     ]
    },
    {
     "name": "stdout",
     "output_type": "stream",
     "text": [
      "Predict test without augmentations\n"
     ]
    },
    {
     "name": "stderr",
     "output_type": "stream",
     "text": [
      "100%|██████████| 29/29 [00:02<00:00, 12.51it/s]\n",
      "  0%|          | 0/113 [00:00<?, ?it/s]"
     ]
    },
    {
     "name": "stdout",
     "output_type": "stream",
     "text": [
      "Epoch    53: reducing learning rate of group 0 to 1.0000e-05.\n"
     ]
    },
    {
     "name": "stderr",
     "output_type": "stream",
     "text": [
      "2.7751: 100%|██████████| 113/113 [00:20<00:00,  5.43it/s]\n",
      "  0%|          | 0/29 [00:00<?, ?it/s]"
     ]
    },
    {
     "name": "stdout",
     "output_type": "stream",
     "text": [
      "Predict test without augmentations\n"
     ]
    },
    {
     "name": "stderr",
     "output_type": "stream",
     "text": [
      "100%|██████████| 29/29 [00:02<00:00, 12.65it/s]\n",
      "2.7844: 100%|██████████| 113/113 [00:20<00:00,  5.44it/s]\n",
      "  0%|          | 0/29 [00:00<?, ?it/s]"
     ]
    },
    {
     "name": "stdout",
     "output_type": "stream",
     "text": [
      "Predict test without augmentations\n"
     ]
    },
    {
     "name": "stderr",
     "output_type": "stream",
     "text": [
      "100%|██████████| 29/29 [00:02<00:00, 12.21it/s]\n",
      "2.7794: 100%|██████████| 113/113 [00:20<00:00,  5.44it/s]\n",
      "  0%|          | 0/29 [00:00<?, ?it/s]"
     ]
    },
    {
     "name": "stdout",
     "output_type": "stream",
     "text": [
      "Predict test without augmentations\n"
     ]
    },
    {
     "name": "stderr",
     "output_type": "stream",
     "text": [
      "100%|██████████| 29/29 [00:02<00:00, 12.37it/s]\n",
      "2.7756: 100%|██████████| 113/113 [00:20<00:00,  5.43it/s]\n",
      "  0%|          | 0/29 [00:00<?, ?it/s]"
     ]
    },
    {
     "name": "stdout",
     "output_type": "stream",
     "text": [
      "Predict test without augmentations\n"
     ]
    },
    {
     "name": "stderr",
     "output_type": "stream",
     "text": [
      "100%|██████████| 29/29 [00:02<00:00, 12.25it/s]\n",
      "2.7715: 100%|██████████| 113/113 [00:20<00:00,  5.44it/s]\n",
      "  0%|          | 0/29 [00:00<?, ?it/s]"
     ]
    },
    {
     "name": "stdout",
     "output_type": "stream",
     "text": [
      "Predict test without augmentations\n"
     ]
    },
    {
     "name": "stderr",
     "output_type": "stream",
     "text": [
      "100%|██████████| 29/29 [00:02<00:00, 12.43it/s]\n",
      "2.7862: 100%|██████████| 113/113 [00:20<00:00,  5.43it/s]\n",
      "  0%|          | 0/29 [00:00<?, ?it/s]"
     ]
    },
    {
     "name": "stdout",
     "output_type": "stream",
     "text": [
      "Predict test without augmentations\n"
     ]
    },
    {
     "name": "stderr",
     "output_type": "stream",
     "text": [
      "100%|██████████| 29/29 [00:02<00:00, 12.52it/s]\n",
      "  0%|          | 0/113 [00:00<?, ?it/s]"
     ]
    },
    {
     "name": "stdout",
     "output_type": "stream",
     "text": [
      "Epoch    59: reducing learning rate of group 0 to 1.0000e-06.\n"
     ]
    },
    {
     "name": "stderr",
     "output_type": "stream",
     "text": [
      "2.7675: 100%|██████████| 113/113 [00:20<00:00,  5.43it/s]\n",
      "  0%|          | 0/29 [00:00<?, ?it/s]"
     ]
    },
    {
     "name": "stdout",
     "output_type": "stream",
     "text": [
      "Predict test without augmentations\n"
     ]
    },
    {
     "name": "stderr",
     "output_type": "stream",
     "text": [
      "100%|██████████| 29/29 [00:02<00:00, 12.46it/s]\n",
      "2.7666: 100%|██████████| 113/113 [00:20<00:00,  5.43it/s]\n",
      "  0%|          | 0/29 [00:00<?, ?it/s]"
     ]
    },
    {
     "name": "stdout",
     "output_type": "stream",
     "text": [
      "Predict test without augmentations\n"
     ]
    },
    {
     "name": "stderr",
     "output_type": "stream",
     "text": [
      "100%|██████████| 29/29 [00:02<00:00, 12.35it/s]\n"
     ]
    },
    {
     "name": "stdout",
     "output_type": "stream",
     "text": [
      "['./rfcx_kaggle_git/RFCX_kaggle/experiments/logs_model=resnest50d_Pretrained=True_SED=False_act_func=Mish_criterion=LSEP_length=10_step=2_intersect=0.5_new_dataset1_num_classes=24_optim=ranger_sched=plateau_lr=1e-3_SpecAug=True_MixUp=True_alpha=1_n_mels=128/resnest50d_score=0.24793', './rfcx_kaggle_git/RFCX_kaggle/experiments/logs_model=resnest50d_Pretrained=True_SED=False_act_func=Mish_criterion=LSEP_length=10_step=2_intersect=0.5_new_dataset1_num_classes=24_optim=ranger_sched=plateau_lr=1e-3_SpecAug=True_MixUp=True_alpha=1_n_mels=128/resnest50d_score=0.27412', './rfcx_kaggle_git/RFCX_kaggle/experiments/logs_model=resnest50d_Pretrained=True_SED=False_act_func=Mish_criterion=LSEP_length=10_step=2_intersect=0.5_new_dataset1_num_classes=24_optim=ranger_sched=plateau_lr=1e-3_SpecAug=True_MixUp=True_alpha=1_n_mels=128/resnest50d_score=0.29711', './rfcx_kaggle_git/RFCX_kaggle/experiments/logs_model=resnest50d_Pretrained=True_SED=False_act_func=Mish_criterion=LSEP_length=10_step=2_intersect=0.5_new_dataset1_num_classes=24_optim=ranger_sched=plateau_lr=1e-3_SpecAug=True_MixUp=True_alpha=1_n_mels=128/resnest50d_score=0.40621', './rfcx_kaggle_git/RFCX_kaggle/experiments/logs_model=resnest50d_Pretrained=True_SED=False_act_func=Mish_criterion=LSEP_length=10_step=2_intersect=0.5_new_dataset1_num_classes=24_optim=ranger_sched=plateau_lr=1e-3_SpecAug=True_MixUp=True_alpha=1_n_mels=128/resnest50d_score=0.46432', './rfcx_kaggle_git/RFCX_kaggle/experiments/logs_model=resnest50d_Pretrained=True_SED=False_act_func=Mish_criterion=LSEP_length=10_step=2_intersect=0.5_new_dataset1_num_classes=24_optim=ranger_sched=plateau_lr=1e-3_SpecAug=True_MixUp=True_alpha=1_n_mels=128/resnest50d_score=0.53405', './rfcx_kaggle_git/RFCX_kaggle/experiments/logs_model=resnest50d_Pretrained=True_SED=False_act_func=Mish_criterion=LSEP_length=10_step=2_intersect=0.5_new_dataset1_num_classes=24_optim=ranger_sched=plateau_lr=1e-3_SpecAug=True_MixUp=True_alpha=1_n_mels=128/resnest50d_score=0.56998', './rfcx_kaggle_git/RFCX_kaggle/experiments/logs_model=resnest50d_Pretrained=True_SED=False_act_func=Mish_criterion=LSEP_length=10_step=2_intersect=0.5_new_dataset1_num_classes=24_optim=ranger_sched=plateau_lr=1e-3_SpecAug=True_MixUp=True_alpha=1_n_mels=128/resnest50d_score=0.64755', './rfcx_kaggle_git/RFCX_kaggle/experiments/logs_model=resnest50d_Pretrained=True_SED=False_act_func=Mish_criterion=LSEP_length=10_step=2_intersect=0.5_new_dataset1_num_classes=24_optim=ranger_sched=plateau_lr=1e-3_SpecAug=True_MixUp=True_alpha=1_n_mels=128/resnest50d_score=0.72819', './rfcx_kaggle_git/RFCX_kaggle/experiments/logs_model=resnest50d_Pretrained=True_SED=False_act_func=Mish_criterion=LSEP_length=10_step=2_intersect=0.5_new_dataset1_num_classes=24_optim=ranger_sched=plateau_lr=1e-3_SpecAug=True_MixUp=True_alpha=1_n_mels=128/resnest50d_score=0.74715', './rfcx_kaggle_git/RFCX_kaggle/experiments/logs_model=resnest50d_Pretrained=True_SED=False_act_func=Mish_criterion=LSEP_length=10_step=2_intersect=0.5_new_dataset1_num_classes=24_optim=ranger_sched=plateau_lr=1e-3_SpecAug=True_MixUp=True_alpha=1_n_mels=128/resnest50d_score=0.79457', './rfcx_kaggle_git/RFCX_kaggle/experiments/logs_model=resnest50d_Pretrained=True_SED=False_act_func=Mish_criterion=LSEP_length=10_step=2_intersect=0.5_new_dataset1_num_classes=24_optim=ranger_sched=plateau_lr=1e-3_SpecAug=True_MixUp=True_alpha=1_n_mels=128/resnest50d_score=0.80593', './rfcx_kaggle_git/RFCX_kaggle/experiments/logs_model=resnest50d_Pretrained=True_SED=False_act_func=Mish_criterion=LSEP_length=10_step=2_intersect=0.5_new_dataset1_num_classes=24_optim=ranger_sched=plateau_lr=1e-3_SpecAug=True_MixUp=True_alpha=1_n_mels=128/resnest50d_score=0.81264', './rfcx_kaggle_git/RFCX_kaggle/experiments/logs_model=resnest50d_Pretrained=True_SED=False_act_func=Mish_criterion=LSEP_length=10_step=2_intersect=0.5_new_dataset1_num_classes=24_optim=ranger_sched=plateau_lr=1e-3_SpecAug=True_MixUp=True_alpha=1_n_mels=128/resnest50d_score=0.81477', './rfcx_kaggle_git/RFCX_kaggle/experiments/logs_model=resnest50d_Pretrained=True_SED=False_act_func=Mish_criterion=LSEP_length=10_step=2_intersect=0.5_new_dataset1_num_classes=24_optim=ranger_sched=plateau_lr=1e-3_SpecAug=True_MixUp=True_alpha=1_n_mels=128/resnest50d_score=0.85765', './rfcx_kaggle_git/RFCX_kaggle/experiments/logs_model=resnest50d_Pretrained=True_SED=False_act_func=Mish_criterion=LSEP_length=10_step=2_intersect=0.5_new_dataset1_num_classes=24_optim=ranger_sched=plateau_lr=1e-3_SpecAug=True_MixUp=True_alpha=1_n_mels=128/resnest50d_score=0.85856', './rfcx_kaggle_git/RFCX_kaggle/experiments/logs_model=resnest50d_Pretrained=True_SED=False_act_func=Mish_criterion=LSEP_length=10_step=2_intersect=0.5_new_dataset1_num_classes=24_optim=ranger_sched=plateau_lr=1e-3_SpecAug=True_MixUp=True_alpha=1_n_mels=128/resnest50d_score=0.86103', './rfcx_kaggle_git/RFCX_kaggle/experiments/logs_model=resnest50d_Pretrained=True_SED=False_act_func=Mish_criterion=LSEP_length=10_step=2_intersect=0.5_new_dataset1_num_classes=24_optim=ranger_sched=plateau_lr=1e-3_SpecAug=True_MixUp=True_alpha=1_n_mels=128/resnest50d_score=0.87097', './rfcx_kaggle_git/RFCX_kaggle/experiments/logs_model=resnest50d_Pretrained=True_SED=False_act_func=Mish_criterion=LSEP_length=10_step=2_intersect=0.5_new_dataset1_num_classes=24_optim=ranger_sched=plateau_lr=1e-3_SpecAug=True_MixUp=True_alpha=1_n_mels=128/resnest50d_score=0.87493', './rfcx_kaggle_git/RFCX_kaggle/experiments/logs_model=resnest50d_Pretrained=True_SED=False_act_func=Mish_criterion=LSEP_length=10_step=2_intersect=0.5_new_dataset1_num_classes=24_optim=ranger_sched=plateau_lr=1e-3_SpecAug=True_MixUp=True_alpha=1_n_mels=128/resnest50d_score=0.88208']\n",
      "./rfcx_kaggle_git/RFCX_kaggle/experiments/logs_model=resnest50d_Pretrained=True_SED=False_act_func=Mish_criterion=LSEP_length=10_step=2_intersect=0.5_new_dataset1_num_classes=24_optim=ranger_sched=plateau_lr=1e-3_SpecAug=True_MixUp=True_alpha=1_n_mels=128/resnest50d_score=0.88208\n",
      "Ranger optimizer loaded. \n",
      "Gradient Centralization usage = True\n",
      "GC applied to both conv and fc layers\n"
     ]
    },
    {
     "name": "stderr",
     "output_type": "stream",
     "text": [
      "3.4118: 100%|██████████| 113/113 [00:20<00:00,  5.44it/s]\n",
      "  0%|          | 0/29 [00:00<?, ?it/s]"
     ]
    },
    {
     "name": "stdout",
     "output_type": "stream",
     "text": [
      "Predict test without augmentations\n"
     ]
    },
    {
     "name": "stderr",
     "output_type": "stream",
     "text": [
      "100%|██████████| 29/29 [00:02<00:00, 12.52it/s]\n",
      "3.3289: 100%|██████████| 113/113 [00:20<00:00,  5.40it/s]\n",
      "  0%|          | 0/29 [00:00<?, ?it/s]"
     ]
    },
    {
     "name": "stdout",
     "output_type": "stream",
     "text": [
      "Predict test without augmentations\n"
     ]
    },
    {
     "name": "stderr",
     "output_type": "stream",
     "text": [
      "100%|██████████| 29/29 [00:02<00:00, 11.96it/s]\n",
      "3.2849: 100%|██████████| 113/113 [00:20<00:00,  5.41it/s]\n",
      "  0%|          | 0/29 [00:00<?, ?it/s]"
     ]
    },
    {
     "name": "stdout",
     "output_type": "stream",
     "text": [
      "Predict test without augmentations\n"
     ]
    },
    {
     "name": "stderr",
     "output_type": "stream",
     "text": [
      "100%|██████████| 29/29 [00:02<00:00, 12.69it/s]\n",
      "3.2472: 100%|██████████| 113/113 [00:20<00:00,  5.42it/s]\n",
      "  0%|          | 0/29 [00:00<?, ?it/s]"
     ]
    },
    {
     "name": "stdout",
     "output_type": "stream",
     "text": [
      "Predict test without augmentations\n"
     ]
    },
    {
     "name": "stderr",
     "output_type": "stream",
     "text": [
      "100%|██████████| 29/29 [00:02<00:00, 12.18it/s]\n",
      "3.2372: 100%|██████████| 113/113 [00:20<00:00,  5.41it/s]\n",
      "  0%|          | 0/29 [00:00<?, ?it/s]"
     ]
    },
    {
     "name": "stdout",
     "output_type": "stream",
     "text": [
      "Predict test without augmentations\n"
     ]
    },
    {
     "name": "stderr",
     "output_type": "stream",
     "text": [
      "100%|██████████| 29/29 [00:02<00:00, 12.56it/s]\n",
      "3.2143: 100%|██████████| 113/113 [00:20<00:00,  5.44it/s]\n",
      "  0%|          | 0/29 [00:00<?, ?it/s]"
     ]
    },
    {
     "name": "stdout",
     "output_type": "stream",
     "text": [
      "Predict test without augmentations\n"
     ]
    },
    {
     "name": "stderr",
     "output_type": "stream",
     "text": [
      "100%|██████████| 29/29 [00:02<00:00, 12.29it/s]\n",
      "3.1749: 100%|██████████| 113/113 [00:20<00:00,  5.41it/s]\n",
      "  0%|          | 0/29 [00:00<?, ?it/s]"
     ]
    },
    {
     "name": "stdout",
     "output_type": "stream",
     "text": [
      "Predict test without augmentations\n"
     ]
    },
    {
     "name": "stderr",
     "output_type": "stream",
     "text": [
      "100%|██████████| 29/29 [00:02<00:00, 11.88it/s]\n",
      "3.1275: 100%|██████████| 113/113 [00:20<00:00,  5.42it/s]\n",
      "  0%|          | 0/29 [00:00<?, ?it/s]"
     ]
    },
    {
     "name": "stdout",
     "output_type": "stream",
     "text": [
      "Predict test without augmentations\n"
     ]
    },
    {
     "name": "stderr",
     "output_type": "stream",
     "text": [
      "100%|██████████| 29/29 [00:02<00:00, 12.55it/s]\n",
      "3.0996: 100%|██████████| 113/113 [00:20<00:00,  5.43it/s]\n",
      "  0%|          | 0/29 [00:00<?, ?it/s]"
     ]
    },
    {
     "name": "stdout",
     "output_type": "stream",
     "text": [
      "Predict test without augmentations\n"
     ]
    },
    {
     "name": "stderr",
     "output_type": "stream",
     "text": [
      "100%|██████████| 29/29 [00:02<00:00, 12.44it/s]\n",
      "3.0844: 100%|██████████| 113/113 [00:20<00:00,  5.43it/s]\n",
      "  0%|          | 0/29 [00:00<?, ?it/s]"
     ]
    },
    {
     "name": "stdout",
     "output_type": "stream",
     "text": [
      "Predict test without augmentations\n"
     ]
    },
    {
     "name": "stderr",
     "output_type": "stream",
     "text": [
      "100%|██████████| 29/29 [00:02<00:00, 12.51it/s]\n",
      "3.0367: 100%|██████████| 113/113 [00:20<00:00,  5.42it/s]\n",
      "  0%|          | 0/29 [00:00<?, ?it/s]"
     ]
    },
    {
     "name": "stdout",
     "output_type": "stream",
     "text": [
      "Predict test without augmentations\n"
     ]
    },
    {
     "name": "stderr",
     "output_type": "stream",
     "text": [
      "100%|██████████| 29/29 [00:02<00:00, 12.38it/s]\n",
      "3.0290: 100%|██████████| 113/113 [00:20<00:00,  5.41it/s]\n",
      "  0%|          | 0/29 [00:00<?, ?it/s]"
     ]
    },
    {
     "name": "stdout",
     "output_type": "stream",
     "text": [
      "Predict test without augmentations\n"
     ]
    },
    {
     "name": "stderr",
     "output_type": "stream",
     "text": [
      "100%|██████████| 29/29 [00:02<00:00, 12.61it/s]\n",
      "3.0090: 100%|██████████| 113/113 [00:20<00:00,  5.44it/s]\n",
      "  0%|          | 0/29 [00:00<?, ?it/s]"
     ]
    },
    {
     "name": "stdout",
     "output_type": "stream",
     "text": [
      "Predict test without augmentations\n"
     ]
    },
    {
     "name": "stderr",
     "output_type": "stream",
     "text": [
      "100%|██████████| 29/29 [00:02<00:00, 12.69it/s]\n",
      "3.0250: 100%|██████████| 113/113 [00:20<00:00,  5.42it/s]\n",
      "  0%|          | 0/29 [00:00<?, ?it/s]"
     ]
    },
    {
     "name": "stdout",
     "output_type": "stream",
     "text": [
      "Predict test without augmentations\n"
     ]
    },
    {
     "name": "stderr",
     "output_type": "stream",
     "text": [
      "100%|██████████| 29/29 [00:02<00:00, 12.40it/s]\n",
      "2.9543: 100%|██████████| 113/113 [00:20<00:00,  5.44it/s]\n",
      "  0%|          | 0/29 [00:00<?, ?it/s]"
     ]
    },
    {
     "name": "stdout",
     "output_type": "stream",
     "text": [
      "Predict test without augmentations\n"
     ]
    },
    {
     "name": "stderr",
     "output_type": "stream",
     "text": [
      "100%|██████████| 29/29 [00:02<00:00, 11.57it/s]\n",
      "2.9768: 100%|██████████| 113/113 [00:20<00:00,  5.40it/s]\n",
      "  0%|          | 0/29 [00:00<?, ?it/s]"
     ]
    },
    {
     "name": "stdout",
     "output_type": "stream",
     "text": [
      "Predict test without augmentations\n"
     ]
    },
    {
     "name": "stderr",
     "output_type": "stream",
     "text": [
      "100%|██████████| 29/29 [00:02<00:00, 12.62it/s]\n",
      "2.9736: 100%|██████████| 113/113 [00:20<00:00,  5.40it/s]\n",
      "  0%|          | 0/29 [00:00<?, ?it/s]"
     ]
    },
    {
     "name": "stdout",
     "output_type": "stream",
     "text": [
      "Predict test without augmentations\n"
     ]
    },
    {
     "name": "stderr",
     "output_type": "stream",
     "text": [
      "100%|██████████| 29/29 [00:02<00:00, 11.43it/s]\n",
      "2.9636: 100%|██████████| 113/113 [00:20<00:00,  5.40it/s]\n",
      "  0%|          | 0/29 [00:00<?, ?it/s]"
     ]
    },
    {
     "name": "stdout",
     "output_type": "stream",
     "text": [
      "Predict test without augmentations\n"
     ]
    },
    {
     "name": "stderr",
     "output_type": "stream",
     "text": [
      "100%|██████████| 29/29 [00:02<00:00, 12.33it/s]\n",
      "2.9383: 100%|██████████| 113/113 [00:20<00:00,  5.42it/s]\n",
      "  0%|          | 0/29 [00:00<?, ?it/s]"
     ]
    },
    {
     "name": "stdout",
     "output_type": "stream",
     "text": [
      "Predict test without augmentations\n"
     ]
    },
    {
     "name": "stderr",
     "output_type": "stream",
     "text": [
      "100%|██████████| 29/29 [00:02<00:00, 12.45it/s]\n",
      "2.9282: 100%|██████████| 113/113 [00:20<00:00,  5.41it/s]\n",
      "  0%|          | 0/29 [00:00<?, ?it/s]"
     ]
    },
    {
     "name": "stdout",
     "output_type": "stream",
     "text": [
      "Predict test without augmentations\n"
     ]
    },
    {
     "name": "stderr",
     "output_type": "stream",
     "text": [
      "100%|██████████| 29/29 [00:02<00:00, 12.48it/s]\n",
      "2.9215: 100%|██████████| 113/113 [00:20<00:00,  5.42it/s]\n",
      "  0%|          | 0/29 [00:00<?, ?it/s]"
     ]
    },
    {
     "name": "stdout",
     "output_type": "stream",
     "text": [
      "Predict test without augmentations\n"
     ]
    },
    {
     "name": "stderr",
     "output_type": "stream",
     "text": [
      "100%|██████████| 29/29 [00:02<00:00, 12.61it/s]\n",
      "2.9222: 100%|██████████| 113/113 [00:20<00:00,  5.41it/s]\n",
      "  0%|          | 0/29 [00:00<?, ?it/s]"
     ]
    },
    {
     "name": "stdout",
     "output_type": "stream",
     "text": [
      "Predict test without augmentations\n"
     ]
    },
    {
     "name": "stderr",
     "output_type": "stream",
     "text": [
      "100%|██████████| 29/29 [00:02<00:00, 12.51it/s]\n",
      "2.9214: 100%|██████████| 113/113 [00:20<00:00,  5.42it/s]\n",
      "  0%|          | 0/29 [00:00<?, ?it/s]"
     ]
    },
    {
     "name": "stdout",
     "output_type": "stream",
     "text": [
      "Predict test without augmentations\n"
     ]
    },
    {
     "name": "stderr",
     "output_type": "stream",
     "text": [
      "100%|██████████| 29/29 [00:02<00:00, 12.32it/s]\n",
      "2.9141: 100%|██████████| 113/113 [00:20<00:00,  5.43it/s]\n",
      "  0%|          | 0/29 [00:00<?, ?it/s]"
     ]
    },
    {
     "name": "stdout",
     "output_type": "stream",
     "text": [
      "Predict test without augmentations\n"
     ]
    },
    {
     "name": "stderr",
     "output_type": "stream",
     "text": [
      "100%|██████████| 29/29 [00:02<00:00, 12.45it/s]\n",
      "2.8828: 100%|██████████| 113/113 [00:20<00:00,  5.44it/s]\n",
      "  0%|          | 0/29 [00:00<?, ?it/s]"
     ]
    },
    {
     "name": "stdout",
     "output_type": "stream",
     "text": [
      "Predict test without augmentations\n"
     ]
    },
    {
     "name": "stderr",
     "output_type": "stream",
     "text": [
      "100%|██████████| 29/29 [00:02<00:00, 12.49it/s]\n",
      "2.8900: 100%|██████████| 113/113 [00:20<00:00,  5.42it/s]\n",
      "  0%|          | 0/29 [00:00<?, ?it/s]"
     ]
    },
    {
     "name": "stdout",
     "output_type": "stream",
     "text": [
      "Predict test without augmentations\n"
     ]
    },
    {
     "name": "stderr",
     "output_type": "stream",
     "text": [
      "100%|██████████| 29/29 [00:02<00:00, 12.43it/s]\n",
      "2.9032: 100%|██████████| 113/113 [00:20<00:00,  5.42it/s]\n",
      "  0%|          | 0/29 [00:00<?, ?it/s]"
     ]
    },
    {
     "name": "stdout",
     "output_type": "stream",
     "text": [
      "Predict test without augmentations\n"
     ]
    },
    {
     "name": "stderr",
     "output_type": "stream",
     "text": [
      "100%|██████████| 29/29 [00:02<00:00, 12.59it/s]\n",
      "2.8823: 100%|██████████| 113/113 [00:20<00:00,  5.42it/s]\n",
      "  0%|          | 0/29 [00:00<?, ?it/s]"
     ]
    },
    {
     "name": "stdout",
     "output_type": "stream",
     "text": [
      "Predict test without augmentations\n"
     ]
    },
    {
     "name": "stderr",
     "output_type": "stream",
     "text": [
      "100%|██████████| 29/29 [00:02<00:00, 11.74it/s]\n",
      "2.8800: 100%|██████████| 113/113 [00:20<00:00,  5.43it/s]\n",
      "  0%|          | 0/29 [00:00<?, ?it/s]"
     ]
    },
    {
     "name": "stdout",
     "output_type": "stream",
     "text": [
      "Predict test without augmentations\n"
     ]
    },
    {
     "name": "stderr",
     "output_type": "stream",
     "text": [
      "100%|██████████| 29/29 [00:02<00:00, 12.50it/s]\n",
      "2.8832: 100%|██████████| 113/113 [00:20<00:00,  5.44it/s]\n",
      "  0%|          | 0/29 [00:00<?, ?it/s]"
     ]
    },
    {
     "name": "stdout",
     "output_type": "stream",
     "text": [
      "Predict test without augmentations\n"
     ]
    },
    {
     "name": "stderr",
     "output_type": "stream",
     "text": [
      "100%|██████████| 29/29 [00:02<00:00, 12.71it/s]\n",
      "2.8686: 100%|██████████| 113/113 [00:20<00:00,  5.40it/s]\n",
      "  0%|          | 0/29 [00:00<?, ?it/s]"
     ]
    },
    {
     "name": "stdout",
     "output_type": "stream",
     "text": [
      "Predict test without augmentations\n"
     ]
    },
    {
     "name": "stderr",
     "output_type": "stream",
     "text": [
      "100%|██████████| 29/29 [00:02<00:00, 12.45it/s]\n",
      "2.8633: 100%|██████████| 113/113 [00:20<00:00,  5.41it/s]\n",
      "  0%|          | 0/29 [00:00<?, ?it/s]"
     ]
    },
    {
     "name": "stdout",
     "output_type": "stream",
     "text": [
      "Predict test without augmentations\n"
     ]
    },
    {
     "name": "stderr",
     "output_type": "stream",
     "text": [
      "100%|██████████| 29/29 [00:02<00:00, 12.16it/s]\n",
      "2.8774: 100%|██████████| 113/113 [00:20<00:00,  5.39it/s]\n",
      "  0%|          | 0/29 [00:00<?, ?it/s]"
     ]
    },
    {
     "name": "stdout",
     "output_type": "stream",
     "text": [
      "Predict test without augmentations\n"
     ]
    },
    {
     "name": "stderr",
     "output_type": "stream",
     "text": [
      "100%|██████████| 29/29 [00:02<00:00, 10.97it/s]\n",
      "2.8616: 100%|██████████| 113/113 [00:21<00:00,  5.34it/s]\n",
      "  0%|          | 0/29 [00:00<?, ?it/s]"
     ]
    },
    {
     "name": "stdout",
     "output_type": "stream",
     "text": [
      "Predict test without augmentations\n"
     ]
    },
    {
     "name": "stderr",
     "output_type": "stream",
     "text": [
      "100%|██████████| 29/29 [00:02<00:00, 12.24it/s]\n",
      "2.8378: 100%|██████████| 113/113 [00:21<00:00,  5.36it/s]\n",
      "  0%|          | 0/29 [00:00<?, ?it/s]"
     ]
    },
    {
     "name": "stdout",
     "output_type": "stream",
     "text": [
      "Predict test without augmentations\n"
     ]
    },
    {
     "name": "stderr",
     "output_type": "stream",
     "text": [
      "100%|██████████| 29/29 [00:02<00:00, 11.47it/s]\n",
      "2.8453: 100%|██████████| 113/113 [00:20<00:00,  5.38it/s]\n",
      "  0%|          | 0/29 [00:00<?, ?it/s]"
     ]
    },
    {
     "name": "stdout",
     "output_type": "stream",
     "text": [
      "Predict test without augmentations\n"
     ]
    },
    {
     "name": "stderr",
     "output_type": "stream",
     "text": [
      "100%|██████████| 29/29 [00:02<00:00, 11.56it/s]\n",
      "2.8207: 100%|██████████| 113/113 [00:20<00:00,  5.41it/s]\n",
      "  0%|          | 0/29 [00:00<?, ?it/s]"
     ]
    },
    {
     "name": "stdout",
     "output_type": "stream",
     "text": [
      "Predict test without augmentations\n"
     ]
    },
    {
     "name": "stderr",
     "output_type": "stream",
     "text": [
      "100%|██████████| 29/29 [00:02<00:00, 12.66it/s]\n",
      "2.8269: 100%|██████████| 113/113 [00:20<00:00,  5.44it/s]\n",
      "  0%|          | 0/29 [00:00<?, ?it/s]"
     ]
    },
    {
     "name": "stdout",
     "output_type": "stream",
     "text": [
      "Predict test without augmentations\n"
     ]
    },
    {
     "name": "stderr",
     "output_type": "stream",
     "text": [
      "100%|██████████| 29/29 [00:02<00:00, 12.48it/s]\n",
      "2.8479: 100%|██████████| 113/113 [00:20<00:00,  5.41it/s]\n",
      "  0%|          | 0/29 [00:00<?, ?it/s]"
     ]
    },
    {
     "name": "stdout",
     "output_type": "stream",
     "text": [
      "Predict test without augmentations\n"
     ]
    },
    {
     "name": "stderr",
     "output_type": "stream",
     "text": [
      "100%|██████████| 29/29 [00:02<00:00, 12.53it/s]\n",
      "2.8515: 100%|██████████| 113/113 [00:20<00:00,  5.42it/s]\n",
      "  0%|          | 0/29 [00:00<?, ?it/s]"
     ]
    },
    {
     "name": "stdout",
     "output_type": "stream",
     "text": [
      "Predict test without augmentations\n"
     ]
    },
    {
     "name": "stderr",
     "output_type": "stream",
     "text": [
      "100%|██████████| 29/29 [00:02<00:00, 12.43it/s]\n",
      "2.8464: 100%|██████████| 113/113 [00:20<00:00,  5.44it/s]\n",
      "  0%|          | 0/29 [00:00<?, ?it/s]"
     ]
    },
    {
     "name": "stdout",
     "output_type": "stream",
     "text": [
      "Predict test without augmentations\n"
     ]
    },
    {
     "name": "stderr",
     "output_type": "stream",
     "text": [
      "100%|██████████| 29/29 [00:02<00:00, 11.71it/s]\n",
      "2.8229: 100%|██████████| 113/113 [00:20<00:00,  5.44it/s]\n",
      "  0%|          | 0/29 [00:00<?, ?it/s]"
     ]
    },
    {
     "name": "stdout",
     "output_type": "stream",
     "text": [
      "Predict test without augmentations\n"
     ]
    },
    {
     "name": "stderr",
     "output_type": "stream",
     "text": [
      "100%|██████████| 29/29 [00:02<00:00, 12.40it/s]\n",
      "2.8424: 100%|██████████| 113/113 [00:20<00:00,  5.46it/s]\n",
      "  0%|          | 0/29 [00:00<?, ?it/s]"
     ]
    },
    {
     "name": "stdout",
     "output_type": "stream",
     "text": [
      "Predict test without augmentations\n"
     ]
    },
    {
     "name": "stderr",
     "output_type": "stream",
     "text": [
      "100%|██████████| 29/29 [00:02<00:00, 12.79it/s]\n",
      "2.8356: 100%|██████████| 113/113 [00:20<00:00,  5.39it/s]\n",
      "  0%|          | 0/29 [00:00<?, ?it/s]"
     ]
    },
    {
     "name": "stdout",
     "output_type": "stream",
     "text": [
      "Predict test without augmentations\n"
     ]
    },
    {
     "name": "stderr",
     "output_type": "stream",
     "text": [
      "100%|██████████| 29/29 [00:02<00:00, 12.30it/s]\n",
      "2.8406: 100%|██████████| 113/113 [00:20<00:00,  5.43it/s]\n",
      "  0%|          | 0/29 [00:00<?, ?it/s]"
     ]
    },
    {
     "name": "stdout",
     "output_type": "stream",
     "text": [
      "Predict test without augmentations\n"
     ]
    },
    {
     "name": "stderr",
     "output_type": "stream",
     "text": [
      "100%|██████████| 29/29 [00:02<00:00, 12.55it/s]\n",
      "  0%|          | 0/113 [00:00<?, ?it/s]"
     ]
    },
    {
     "name": "stdout",
     "output_type": "stream",
     "text": [
      "Epoch    45: reducing learning rate of group 0 to 1.0000e-04.\n"
     ]
    },
    {
     "name": "stderr",
     "output_type": "stream",
     "text": [
      "2.7923: 100%|██████████| 113/113 [00:20<00:00,  5.42it/s]\n",
      "  0%|          | 0/29 [00:00<?, ?it/s]"
     ]
    },
    {
     "name": "stdout",
     "output_type": "stream",
     "text": [
      "Predict test without augmentations\n"
     ]
    },
    {
     "name": "stderr",
     "output_type": "stream",
     "text": [
      "100%|██████████| 29/29 [00:02<00:00, 12.66it/s]\n",
      "2.7963: 100%|██████████| 113/113 [00:20<00:00,  5.44it/s]\n",
      "  0%|          | 0/29 [00:00<?, ?it/s]"
     ]
    },
    {
     "name": "stdout",
     "output_type": "stream",
     "text": [
      "Predict test without augmentations\n"
     ]
    },
    {
     "name": "stderr",
     "output_type": "stream",
     "text": [
      "100%|██████████| 29/29 [00:02<00:00, 12.38it/s]\n",
      "2.8063: 100%|██████████| 113/113 [00:20<00:00,  5.43it/s]\n",
      "  0%|          | 0/29 [00:00<?, ?it/s]"
     ]
    },
    {
     "name": "stdout",
     "output_type": "stream",
     "text": [
      "Predict test without augmentations\n"
     ]
    },
    {
     "name": "stderr",
     "output_type": "stream",
     "text": [
      "100%|██████████| 29/29 [00:02<00:00, 12.38it/s]\n",
      "2.7773: 100%|██████████| 113/113 [00:20<00:00,  5.43it/s]\n",
      "  0%|          | 0/29 [00:00<?, ?it/s]"
     ]
    },
    {
     "name": "stdout",
     "output_type": "stream",
     "text": [
      "Predict test without augmentations\n"
     ]
    },
    {
     "name": "stderr",
     "output_type": "stream",
     "text": [
      "100%|██████████| 29/29 [00:02<00:00, 12.38it/s]\n",
      "2.7912: 100%|██████████| 113/113 [00:20<00:00,  5.42it/s]\n",
      "  0%|          | 0/29 [00:00<?, ?it/s]"
     ]
    },
    {
     "name": "stdout",
     "output_type": "stream",
     "text": [
      "Predict test without augmentations\n"
     ]
    },
    {
     "name": "stderr",
     "output_type": "stream",
     "text": [
      "100%|██████████| 29/29 [00:02<00:00, 12.58it/s]\n",
      "2.7822: 100%|██████████| 113/113 [00:20<00:00,  5.43it/s]\n",
      "  0%|          | 0/29 [00:00<?, ?it/s]"
     ]
    },
    {
     "name": "stdout",
     "output_type": "stream",
     "text": [
      "Predict test without augmentations\n"
     ]
    },
    {
     "name": "stderr",
     "output_type": "stream",
     "text": [
      "100%|██████████| 29/29 [00:02<00:00, 12.55it/s]\n",
      "2.7890: 100%|██████████| 113/113 [00:20<00:00,  5.44it/s]\n",
      "  0%|          | 0/29 [00:00<?, ?it/s]"
     ]
    },
    {
     "name": "stdout",
     "output_type": "stream",
     "text": [
      "Predict test without augmentations\n"
     ]
    },
    {
     "name": "stderr",
     "output_type": "stream",
     "text": [
      "100%|██████████| 29/29 [00:02<00:00, 12.52it/s]\n",
      "2.7919: 100%|██████████| 113/113 [00:20<00:00,  5.44it/s]\n",
      "  0%|          | 0/29 [00:00<?, ?it/s]"
     ]
    },
    {
     "name": "stdout",
     "output_type": "stream",
     "text": [
      "Predict test without augmentations\n"
     ]
    },
    {
     "name": "stderr",
     "output_type": "stream",
     "text": [
      "100%|██████████| 29/29 [00:02<00:00, 12.58it/s]\n",
      "2.7840: 100%|██████████| 113/113 [00:20<00:00,  5.41it/s]\n",
      "  0%|          | 0/29 [00:00<?, ?it/s]"
     ]
    },
    {
     "name": "stdout",
     "output_type": "stream",
     "text": [
      "Predict test without augmentations\n"
     ]
    },
    {
     "name": "stderr",
     "output_type": "stream",
     "text": [
      "100%|██████████| 29/29 [00:02<00:00, 12.70it/s]\n",
      "2.7830: 100%|██████████| 113/113 [00:20<00:00,  5.45it/s]\n",
      "  0%|          | 0/29 [00:00<?, ?it/s]"
     ]
    },
    {
     "name": "stdout",
     "output_type": "stream",
     "text": [
      "Predict test without augmentations\n"
     ]
    },
    {
     "name": "stderr",
     "output_type": "stream",
     "text": [
      "100%|██████████| 29/29 [00:02<00:00, 12.34it/s]\n",
      "2.7817: 100%|██████████| 113/113 [00:20<00:00,  5.41it/s]\n",
      "  0%|          | 0/29 [00:00<?, ?it/s]"
     ]
    },
    {
     "name": "stdout",
     "output_type": "stream",
     "text": [
      "Predict test without augmentations\n"
     ]
    },
    {
     "name": "stderr",
     "output_type": "stream",
     "text": [
      "100%|██████████| 29/29 [00:02<00:00, 12.52it/s]\n",
      "2.7524: 100%|██████████| 113/113 [00:20<00:00,  5.44it/s]\n",
      "  0%|          | 0/29 [00:00<?, ?it/s]"
     ]
    },
    {
     "name": "stdout",
     "output_type": "stream",
     "text": [
      "Predict test without augmentations\n"
     ]
    },
    {
     "name": "stderr",
     "output_type": "stream",
     "text": [
      "100%|██████████| 29/29 [00:02<00:00, 12.43it/s]\n",
      "2.7594: 100%|██████████| 113/113 [00:20<00:00,  5.41it/s]\n",
      "  0%|          | 0/29 [00:00<?, ?it/s]"
     ]
    },
    {
     "name": "stdout",
     "output_type": "stream",
     "text": [
      "Predict test without augmentations\n"
     ]
    },
    {
     "name": "stderr",
     "output_type": "stream",
     "text": [
      "100%|██████████| 29/29 [00:02<00:00, 11.60it/s]\n",
      "2.7620: 100%|██████████| 113/113 [00:20<00:00,  5.41it/s]\n",
      "  0%|          | 0/29 [00:00<?, ?it/s]"
     ]
    },
    {
     "name": "stdout",
     "output_type": "stream",
     "text": [
      "Predict test without augmentations\n"
     ]
    },
    {
     "name": "stderr",
     "output_type": "stream",
     "text": [
      "100%|██████████| 29/29 [00:02<00:00, 12.24it/s]\n",
      "2.7623: 100%|██████████| 113/113 [00:20<00:00,  5.43it/s]\n",
      "  0%|          | 0/29 [00:00<?, ?it/s]"
     ]
    },
    {
     "name": "stdout",
     "output_type": "stream",
     "text": [
      "Predict test without augmentations\n"
     ]
    },
    {
     "name": "stderr",
     "output_type": "stream",
     "text": [
      "100%|██████████| 29/29 [00:02<00:00, 12.77it/s]\n",
      "2.7609: 100%|██████████| 113/113 [00:20<00:00,  5.40it/s]\n",
      "  0%|          | 0/29 [00:00<?, ?it/s]"
     ]
    },
    {
     "name": "stdout",
     "output_type": "stream",
     "text": [
      "Predict test without augmentations\n"
     ]
    },
    {
     "name": "stderr",
     "output_type": "stream",
     "text": [
      "100%|██████████| 29/29 [00:02<00:00, 12.64it/s]\n"
     ]
    },
    {
     "name": "stdout",
     "output_type": "stream",
     "text": [
      "Epoch    61: reducing learning rate of group 0 to 1.0000e-05.\n",
      "['./rfcx_kaggle_git/RFCX_kaggle/experiments/logs_model=resnest50d_Pretrained=True_SED=False_act_func=Mish_criterion=LSEP_length=10_step=2_intersect=0.5_new_dataset1_num_classes=24_optim=ranger_sched=plateau_lr=1e-3_SpecAug=True_MixUp=True_alpha=1_n_mels=128/resnest50d_score=0.19939', './rfcx_kaggle_git/RFCX_kaggle/experiments/logs_model=resnest50d_Pretrained=True_SED=False_act_func=Mish_criterion=LSEP_length=10_step=2_intersect=0.5_new_dataset1_num_classes=24_optim=ranger_sched=plateau_lr=1e-3_SpecAug=True_MixUp=True_alpha=1_n_mels=128/resnest50d_score=0.23049', './rfcx_kaggle_git/RFCX_kaggle/experiments/logs_model=resnest50d_Pretrained=True_SED=False_act_func=Mish_criterion=LSEP_length=10_step=2_intersect=0.5_new_dataset1_num_classes=24_optim=ranger_sched=plateau_lr=1e-3_SpecAug=True_MixUp=True_alpha=1_n_mels=128/resnest50d_score=0.33492', './rfcx_kaggle_git/RFCX_kaggle/experiments/logs_model=resnest50d_Pretrained=True_SED=False_act_func=Mish_criterion=LSEP_length=10_step=2_intersect=0.5_new_dataset1_num_classes=24_optim=ranger_sched=plateau_lr=1e-3_SpecAug=True_MixUp=True_alpha=1_n_mels=128/resnest50d_score=0.40395', './rfcx_kaggle_git/RFCX_kaggle/experiments/logs_model=resnest50d_Pretrained=True_SED=False_act_func=Mish_criterion=LSEP_length=10_step=2_intersect=0.5_new_dataset1_num_classes=24_optim=ranger_sched=plateau_lr=1e-3_SpecAug=True_MixUp=True_alpha=1_n_mels=128/resnest50d_score=0.44874', './rfcx_kaggle_git/RFCX_kaggle/experiments/logs_model=resnest50d_Pretrained=True_SED=False_act_func=Mish_criterion=LSEP_length=10_step=2_intersect=0.5_new_dataset1_num_classes=24_optim=ranger_sched=plateau_lr=1e-3_SpecAug=True_MixUp=True_alpha=1_n_mels=128/resnest50d_score=0.50916', './rfcx_kaggle_git/RFCX_kaggle/experiments/logs_model=resnest50d_Pretrained=True_SED=False_act_func=Mish_criterion=LSEP_length=10_step=2_intersect=0.5_new_dataset1_num_classes=24_optim=ranger_sched=plateau_lr=1e-3_SpecAug=True_MixUp=True_alpha=1_n_mels=128/resnest50d_score=0.53194', './rfcx_kaggle_git/RFCX_kaggle/experiments/logs_model=resnest50d_Pretrained=True_SED=False_act_func=Mish_criterion=LSEP_length=10_step=2_intersect=0.5_new_dataset1_num_classes=24_optim=ranger_sched=plateau_lr=1e-3_SpecAug=True_MixUp=True_alpha=1_n_mels=128/resnest50d_score=0.60192', './rfcx_kaggle_git/RFCX_kaggle/experiments/logs_model=resnest50d_Pretrained=True_SED=False_act_func=Mish_criterion=LSEP_length=10_step=2_intersect=0.5_new_dataset1_num_classes=24_optim=ranger_sched=plateau_lr=1e-3_SpecAug=True_MixUp=True_alpha=1_n_mels=128/resnest50d_score=0.64225', './rfcx_kaggle_git/RFCX_kaggle/experiments/logs_model=resnest50d_Pretrained=True_SED=False_act_func=Mish_criterion=LSEP_length=10_step=2_intersect=0.5_new_dataset1_num_classes=24_optim=ranger_sched=plateau_lr=1e-3_SpecAug=True_MixUp=True_alpha=1_n_mels=128/resnest50d_score=0.66261', './rfcx_kaggle_git/RFCX_kaggle/experiments/logs_model=resnest50d_Pretrained=True_SED=False_act_func=Mish_criterion=LSEP_length=10_step=2_intersect=0.5_new_dataset1_num_classes=24_optim=ranger_sched=plateau_lr=1e-3_SpecAug=True_MixUp=True_alpha=1_n_mels=128/resnest50d_score=0.68771', './rfcx_kaggle_git/RFCX_kaggle/experiments/logs_model=resnest50d_Pretrained=True_SED=False_act_func=Mish_criterion=LSEP_length=10_step=2_intersect=0.5_new_dataset1_num_classes=24_optim=ranger_sched=plateau_lr=1e-3_SpecAug=True_MixUp=True_alpha=1_n_mels=128/resnest50d_score=0.72914', './rfcx_kaggle_git/RFCX_kaggle/experiments/logs_model=resnest50d_Pretrained=True_SED=False_act_func=Mish_criterion=LSEP_length=10_step=2_intersect=0.5_new_dataset1_num_classes=24_optim=ranger_sched=plateau_lr=1e-3_SpecAug=True_MixUp=True_alpha=1_n_mels=128/resnest50d_score=0.75711', './rfcx_kaggle_git/RFCX_kaggle/experiments/logs_model=resnest50d_Pretrained=True_SED=False_act_func=Mish_criterion=LSEP_length=10_step=2_intersect=0.5_new_dataset1_num_classes=24_optim=ranger_sched=plateau_lr=1e-3_SpecAug=True_MixUp=True_alpha=1_n_mels=128/resnest50d_score=0.78725', './rfcx_kaggle_git/RFCX_kaggle/experiments/logs_model=resnest50d_Pretrained=True_SED=False_act_func=Mish_criterion=LSEP_length=10_step=2_intersect=0.5_new_dataset1_num_classes=24_optim=ranger_sched=plateau_lr=1e-3_SpecAug=True_MixUp=True_alpha=1_n_mels=128/resnest50d_score=0.78810', './rfcx_kaggle_git/RFCX_kaggle/experiments/logs_model=resnest50d_Pretrained=True_SED=False_act_func=Mish_criterion=LSEP_length=10_step=2_intersect=0.5_new_dataset1_num_classes=24_optim=ranger_sched=plateau_lr=1e-3_SpecAug=True_MixUp=True_alpha=1_n_mels=128/resnest50d_score=0.79649', './rfcx_kaggle_git/RFCX_kaggle/experiments/logs_model=resnest50d_Pretrained=True_SED=False_act_func=Mish_criterion=LSEP_length=10_step=2_intersect=0.5_new_dataset1_num_classes=24_optim=ranger_sched=plateau_lr=1e-3_SpecAug=True_MixUp=True_alpha=1_n_mels=128/resnest50d_score=0.81218', './rfcx_kaggle_git/RFCX_kaggle/experiments/logs_model=resnest50d_Pretrained=True_SED=False_act_func=Mish_criterion=LSEP_length=10_step=2_intersect=0.5_new_dataset1_num_classes=24_optim=ranger_sched=plateau_lr=1e-3_SpecAug=True_MixUp=True_alpha=1_n_mels=128/resnest50d_score=0.81353', './rfcx_kaggle_git/RFCX_kaggle/experiments/logs_model=resnest50d_Pretrained=True_SED=False_act_func=Mish_criterion=LSEP_length=10_step=2_intersect=0.5_new_dataset1_num_classes=24_optim=ranger_sched=plateau_lr=1e-3_SpecAug=True_MixUp=True_alpha=1_n_mels=128/resnest50d_score=0.84127', './rfcx_kaggle_git/RFCX_kaggle/experiments/logs_model=resnest50d_Pretrained=True_SED=False_act_func=Mish_criterion=LSEP_length=10_step=2_intersect=0.5_new_dataset1_num_classes=24_optim=ranger_sched=plateau_lr=1e-3_SpecAug=True_MixUp=True_alpha=1_n_mels=128/resnest50d_score=0.84797', './rfcx_kaggle_git/RFCX_kaggle/experiments/logs_model=resnest50d_Pretrained=True_SED=False_act_func=Mish_criterion=LSEP_length=10_step=2_intersect=0.5_new_dataset1_num_classes=24_optim=ranger_sched=plateau_lr=1e-3_SpecAug=True_MixUp=True_alpha=1_n_mels=128/resnest50d_score=0.85524', './rfcx_kaggle_git/RFCX_kaggle/experiments/logs_model=resnest50d_Pretrained=True_SED=False_act_func=Mish_criterion=LSEP_length=10_step=2_intersect=0.5_new_dataset1_num_classes=24_optim=ranger_sched=plateau_lr=1e-3_SpecAug=True_MixUp=True_alpha=1_n_mels=128/resnest50d_score=0.86143', './rfcx_kaggle_git/RFCX_kaggle/experiments/logs_model=resnest50d_Pretrained=True_SED=False_act_func=Mish_criterion=LSEP_length=10_step=2_intersect=0.5_new_dataset1_num_classes=24_optim=ranger_sched=plateau_lr=1e-3_SpecAug=True_MixUp=True_alpha=1_n_mels=128/resnest50d_score=0.87188']\n",
      "./rfcx_kaggle_git/RFCX_kaggle/experiments/logs_model=resnest50d_Pretrained=True_SED=False_act_func=Mish_criterion=LSEP_length=10_step=2_intersect=0.5_new_dataset1_num_classes=24_optim=ranger_sched=plateau_lr=1e-3_SpecAug=True_MixUp=True_alpha=1_n_mels=128/resnest50d_score=0.87188\n"
     ]
    }
   ],
   "source": [
    "try:\n",
    "    shutil.rmtree(config[\"general\"][\"out_path\"])\n",
    "except:\n",
    "    pass\n",
    "\n",
    "try:\n",
    "    os.mkdir(config[\"general\"][\"out_path\"])\n",
    "except:\n",
    "    pass\n",
    "\n",
    "\n",
    "for i in range(config[\"training\"][\"n_folds\"]):\n",
    "    spectrogram_extractor = Spectrogram(**config[\"preprocessing\"][\"spectrogram\"])\n",
    "    logmel_extractor = LogmelFilterBank(sr=config[\"preprocessing\"][\"sr\"],\n",
    "                                        **config[\"preprocessing\"][\"logmel\"])\n",
    "\n",
    "    # MixUp\n",
    "    if \"MixUp\" in config[\"training\"][\"augmentations\"]:\n",
    "        mixup = MixUp(**config[\"training\"][\"augmentations\"][\"MixUp\"])\n",
    "    else:\n",
    "        mixup = None\n",
    "\n",
    "    # Spec augmenter\n",
    "    if \"SpecAug\" in config[\"training\"][\"augmentations\"]:\n",
    "        spec_augmenter = SpecAugmentation(**config[\"training\"][\"augmentations\"][\"SpecAug\"])\n",
    "    else:\n",
    "        spec_augmenter = None\n",
    "\n",
    "\n",
    "    if config[\"preprocessing\"][\"use_cmvn\"]:\n",
    "        cmvn = CMVN(2)\n",
    "    else:\n",
    "        cmvn = None\n",
    "    \n",
    "    \n",
    "    model_name = config[\"general\"][\"model_name\"]\n",
    "    model = None\n",
    "    model = ENCODER_PARAMS[model_name][\"init_op\"]()\n",
    "    feat_module = [spectrogram_extractor]\n",
    "    if cmvn is not None:\n",
    "        feat_module.append(cmvn)\n",
    "    feat_module.append(logmel_extractor)\n",
    "    \n",
    "    model = Wrapper(model, nn.Sequential(*feat_module), classes_num=config[\"general\"][\"classes_num\"], model_name=model_name,\n",
    "                SED=config[\"general\"][\"SED\"],\n",
    "                spec_augmenter=spec_augmenter, \n",
    "                mixup_module=mixup,\n",
    "                activation_func=config[\"training\"][\"activation_func\"])\n",
    "    model.to(DEVICE)\n",
    "\n",
    "    if config[\"training\"][\"state_dict\"] is not None:\n",
    "        model.model.load_state_dict(torch.load(config[\"training\"][\"state_dict\"],\n",
    "                                         map_location=torch.device(DEVICE))['model_state_dict'])\n",
    "        optimizer = Ranger(model.model.parameters(),\n",
    "                           lr=config[\"training\"][\"lr\"],\n",
    "                           betas=(.95, 0.999))#torch.optim.Adam(model.model.parameters(), lr=config[\"training\"][\"lr\"]) # TODO: add mappings file for losses\n",
    "\n",
    "        try:\n",
    "            optimizer.load_state_dict(torch.load(config[\"training\"][\"state_dict\"],\n",
    "                                                 map_location=torch.device(DEVICE))['optimizer_state_dict'])\n",
    "        except:\n",
    "            print(\"ERROR in optimizer loading\")\n",
    "            pass\n",
    "    else:\n",
    "        optimizer = Ranger(model.model.parameters(),\n",
    "                           lr=config[\"training\"][\"lr\"],\n",
    "                           betas=(.95, 0.999))\n",
    "    scheduler = torch.optim.lr_scheduler.ReduceLROnPlateau(optimizer, factor=0.1, patience=5, min_lr=1e-6, verbose=True)\n",
    "    \n",
    "#     train_dataset = LabeledWavDataset(transforms=augmenter_train,\n",
    "#                                       fold=i,\n",
    "#                                       classes_num=config[\"general\"][\"classes_num\"],\n",
    "#                                       sr=config[\"preprocessing\"][\"sr\"],\n",
    "#                                       **config[\"training\"][\"dataset\"])\n",
    "    train_dataset = LabeledWavDatasetBalanced(df=train[train[\"kfold\"] != i],\n",
    "                                              transforms=augmenter_train,\n",
    "#                                       classes_num=config[\"general\"][\"classes_num\"],\n",
    "#                                       sr=config[\"preprocessing\"][\"sr\"],\n",
    "                                      **config[\"training\"][\"dataset\"])\n",
    "\n",
    "    val_dataset = LabeledWavDatasetBalanced(\n",
    "                                    df=train[train[\"kfold\"] == i],\n",
    "                                    transforms=augmenter_val,\n",
    "#                                     classes_num=config[\"general\"][\"classes_num\"],\n",
    "#                                     sr=config[\"preprocessing\"][\"sr\"],\n",
    "                                    **config[\"validation\"][\"dataset\"])\n",
    "\n",
    "\n",
    "    train_dataloader = DataLoader(train_dataset, **config[\"training\"][\"dataloader\"])\n",
    "    val_dataloader = DataLoader(val_dataset, **config[\"validation\"][\"dataloader\"])\n",
    "    \n",
    "    training(EPOCHS=EPOCHS, model=model,\n",
    "             train_dataloader=train_dataloader, val_dataloader=val_dataloader,\n",
    "             DEVICE=DEVICE, criterion=criterion, optimizer=optimizer,\n",
    "             scheduler=scheduler, config=config, fold=i)"
   ]
  },
  {
   "cell_type": "code",
   "execution_count": 11,
   "metadata": {},
   "outputs": [
    {
     "data": {
      "text/plain": [
       "0.0747"
      ]
     },
     "execution_count": 11,
     "metadata": {},
     "output_type": "execute_result"
    }
   ],
   "source": [
    "train[train[\"kfold\"] != i]['t_min'].values[5]"
   ]
  },
  {
   "cell_type": "code",
   "execution_count": 12,
   "metadata": {
    "pycharm": {
     "is_executing": true,
     "name": "#%%\n"
    }
   },
   "outputs": [
    {
     "name": "stdout",
     "output_type": "stream",
     "text": [
      "backup\t\t     ngrok\t      rfcx-species-audio-detection.zip\r\n",
      "cornell_archive.tar  rfcx_kaggle\r\n",
      "lost+found\t     rfcx_kaggle_git\r\n"
     ]
    }
   ],
   "source": [
    "!ls"
   ]
  },
  {
   "cell_type": "code",
   "execution_count": 13,
   "metadata": {
    "pycharm": {
     "is_executing": true,
     "name": "#%%\n"
    }
   },
   "outputs": [
    {
     "data": {
      "text/plain": [
       "'./rfcx_kaggle_git/RFCX_kaggle/experiments/logs_model=resnest50d_Pretrained=True_SED=False_act_func=Mish_criterion=LSEP_length=10_step=2_intersect=0.5_new_dataset1_num_classes=24_optim=ranger_sched=plateau_lr=1e-3_SpecAug=True_MixUp=True_alpha=1_n_mels=128/'"
      ]
     },
     "execution_count": 13,
     "metadata": {},
     "output_type": "execute_result"
    }
   ],
   "source": [
    "config[\"general\"][\"out_path\"]"
   ]
  },
  {
   "cell_type": "code",
   "execution_count": 14,
   "metadata": {
    "pycharm": {
     "is_executing": true
    }
   },
   "outputs": [
    {
     "name": "stdout",
     "output_type": "stream",
     "text": [
      "backup\t\t     ngrok\t      rfcx-species-audio-detection.zip\r\n",
      "cornell_archive.tar  rfcx_kaggle\r\n",
      "lost+found\t     rfcx_kaggle_git\r\n"
     ]
    }
   ],
   "source": [
    "!ls"
   ]
  },
  {
   "cell_type": "code",
   "execution_count": 15,
   "metadata": {},
   "outputs": [
    {
     "name": "stdout",
     "output_type": "stream",
     "text": [
      "Sun Jan 31 22:29:07 2021       \r\n",
      "+-----------------------------------------------------------------------------+\r\n",
      "| NVIDIA-SMI 450.102.04   Driver Version: 450.102.04   CUDA Version: 11.0     |\r\n",
      "|-------------------------------+----------------------+----------------------+\r\n",
      "| GPU  Name        Persistence-M| Bus-Id        Disp.A | Volatile Uncorr. ECC |\r\n",
      "| Fan  Temp  Perf  Pwr:Usage/Cap|         Memory-Usage | GPU-Util  Compute M. |\r\n",
      "|                               |                      |               MIG M. |\r\n",
      "|===============================+======================+======================|\r\n",
      "|   0  GeForce RTX 208...  Off  | 00000000:0E:00.0  On |                  N/A |\r\n",
      "| 80%   80C    P2   224W / 260W |   9968MiB / 11018MiB |     89%      Default |\r\n",
      "|                               |                      |                  N/A |\r\n",
      "+-------------------------------+----------------------+----------------------+\r\n",
      "|   1  GeForce RTX 208...  Off  | 00000000:0F:00.0 Off |                  N/A |\r\n",
      "| 61%   55C    P2   106W / 300W |   9259MiB / 11019MiB |     49%      Default |\r\n",
      "|                               |                      |                  N/A |\r\n",
      "+-------------------------------+----------------------+----------------------+\r\n",
      "                                                                               \r\n",
      "+-----------------------------------------------------------------------------+\r\n",
      "| Processes:                                                                  |\r\n",
      "|  GPU   GI   CI        PID   Type   Process name                  GPU Memory |\r\n",
      "|        ID   ID                                                   Usage      |\r\n",
      "|=============================================================================|\r\n",
      "|    0   N/A  N/A      1525      G   /usr/lib/xorg/Xorg                 26MiB |\r\n",
      "|    0   N/A  N/A      1714      G   /usr/bin/gnome-shell               97MiB |\r\n",
      "|    0   N/A  N/A      3427      G   /usr/lib/xorg/Xorg                232MiB |\r\n",
      "|    0   N/A  N/A      3559      G   /usr/bin/gnome-shell              160MiB |\r\n",
      "|    0   N/A  N/A      4058      G   ...AAAAAAAAA= --shared-files      183MiB |\r\n",
      "|    0   N/A  N/A      8607      G   ...AAAAAAAAA= --shared-files       44MiB |\r\n",
      "|    0   N/A  N/A     12669      G   ..._12341.log --shared-files        6MiB |\r\n",
      "|    0   N/A  N/A     14425      C   ...a3/envs/kaggle/bin/python     9209MiB |\r\n",
      "|    1   N/A  N/A      1525      G   /usr/lib/xorg/Xorg                  4MiB |\r\n",
      "|    1   N/A  N/A      3427      G   /usr/lib/xorg/Xorg                  4MiB |\r\n",
      "|    1   N/A  N/A     24064      C   ...a3/envs/kaggle/bin/python     9245MiB |\r\n",
      "+-----------------------------------------------------------------------------+\r\n"
     ]
    }
   ],
   "source": [
    "!nvidia-smi"
   ]
  },
  {
   "cell_type": "code",
   "execution_count": 16,
   "metadata": {},
   "outputs": [
    {
     "name": "stderr",
     "output_type": "stream",
     "text": [
      "\r",
      "  0%|          | 0/29 [00:00<?, ?it/s]"
     ]
    },
    {
     "name": "stdout",
     "output_type": "stream",
     "text": [
      "Predict test without augmentations\n"
     ]
    },
    {
     "name": "stderr",
     "output_type": "stream",
     "text": [
      "  0%|          | 0/29 [00:00<?, ?it/s]\n"
     ]
    },
    {
     "ename": "UnboundLocalError",
     "evalue": "local variable 'preds' referenced before assignment",
     "output_type": "error",
     "traceback": [
      "\u001b[0;31m---------------------------------------------------------------------------\u001b[0m",
      "\u001b[0;31mUnboundLocalError\u001b[0m                         Traceback (most recent call last)",
      "\u001b[0;32m<ipython-input-16-03028c5ac72c>\u001b[0m in \u001b[0;36m<module>\u001b[0;34m\u001b[0m\n\u001b[1;32m      1\u001b[0m \u001b[0;32mfrom\u001b[0m \u001b[0mpipeline_utils\u001b[0m \u001b[0;32mimport\u001b[0m \u001b[0mevaluate\u001b[0m\u001b[0;34m\u001b[0m\u001b[0;34m\u001b[0m\u001b[0m\n\u001b[1;32m      2\u001b[0m _ = evaluate(model=model, dataloader=val_dataloader,\n\u001b[0;32m----> 3\u001b[0;31m               DEVICE=DEVICE, config=config)\n\u001b[0m",
      "\u001b[0;32m/media/paniquex/samsung_2tb/rfcx_kaggle_git/RFCX_kaggle/src/pipeline_utils.py\u001b[0m in \u001b[0;36mevaluate\u001b[0;34m(model, dataloader, DEVICE, criterion, config, tta_steps)\u001b[0m\n\u001b[1;32m    123\u001b[0m                     \u001b[0mloss\u001b[0m \u001b[0;34m=\u001b[0m \u001b[0mcriterion\u001b[0m\u001b[0;34m(\u001b[0m\u001b[0mpreds\u001b[0m\u001b[0;34m.\u001b[0m\u001b[0mfloat\u001b[0m\u001b[0;34m(\u001b[0m\u001b[0;34m)\u001b[0m\u001b[0;34m,\u001b[0m \u001b[0mclass_\u001b[0m\u001b[0;34m.\u001b[0m\u001b[0mfloat\u001b[0m\u001b[0;34m(\u001b[0m\u001b[0;34m)\u001b[0m\u001b[0;34m)\u001b[0m\u001b[0;34m\u001b[0m\u001b[0;34m\u001b[0m\u001b[0m\n\u001b[1;32m    124\u001b[0m                 \u001b[0mlosses\u001b[0m\u001b[0;34m.\u001b[0m\u001b[0mappend\u001b[0m\u001b[0;34m(\u001b[0m\u001b[0mloss\u001b[0m\u001b[0;34m.\u001b[0m\u001b[0mitem\u001b[0m\u001b[0;34m(\u001b[0m\u001b[0;34m)\u001b[0m\u001b[0;34m)\u001b[0m\u001b[0;34m\u001b[0m\u001b[0;34m\u001b[0m\u001b[0m\n\u001b[0;32m--> 125\u001b[0;31m             \u001b[0mpreds\u001b[0m \u001b[0;34m=\u001b[0m \u001b[0mpreds\u001b[0m\u001b[0;34m.\u001b[0m\u001b[0mcpu\u001b[0m\u001b[0;34m(\u001b[0m\u001b[0;34m)\u001b[0m\u001b[0;34m.\u001b[0m\u001b[0mnumpy\u001b[0m\u001b[0;34m(\u001b[0m\u001b[0;34m)\u001b[0m\u001b[0;34m\u001b[0m\u001b[0;34m\u001b[0m\u001b[0m\n\u001b[0m\u001b[1;32m    126\u001b[0m             \u001b[0mtrues\u001b[0m \u001b[0;34m=\u001b[0m \u001b[0mbatch\u001b[0m\u001b[0;34m[\u001b[0m\u001b[0;34m'species_id'\u001b[0m\u001b[0;34m]\u001b[0m\u001b[0;34m.\u001b[0m\u001b[0mnumpy\u001b[0m\u001b[0;34m(\u001b[0m\u001b[0;34m)\u001b[0m\u001b[0;34m\u001b[0m\u001b[0;34m\u001b[0m\u001b[0m\n\u001b[1;32m    127\u001b[0m             \u001b[0;32mfor\u001b[0m \u001b[0msample\u001b[0m\u001b[0;34m,\u001b[0m \u001b[0mtrue\u001b[0m\u001b[0;34m,\u001b[0m \u001b[0mpred\u001b[0m \u001b[0;32min\u001b[0m \u001b[0mzip\u001b[0m\u001b[0;34m(\u001b[0m\u001b[0mbatch\u001b[0m\u001b[0;34m[\u001b[0m\u001b[0;34m'sample'\u001b[0m\u001b[0;34m]\u001b[0m\u001b[0;34m,\u001b[0m \u001b[0mtrues\u001b[0m\u001b[0;34m,\u001b[0m \u001b[0mpreds\u001b[0m\u001b[0;34m)\u001b[0m\u001b[0;34m:\u001b[0m\u001b[0;34m\u001b[0m\u001b[0;34m\u001b[0m\u001b[0m\n",
      "\u001b[0;31mUnboundLocalError\u001b[0m: local variable 'preds' referenced before assignment"
     ]
    }
   ],
   "source": [
    "from pipeline_utils import evaluate\n",
    "_ = evaluate(model=model, dataloader=val_dataloader,\n",
    "              DEVICE=DEVICE, config=config)"
   ]
  },
  {
   "cell_type": "code",
   "execution_count": null,
   "metadata": {},
   "outputs": [],
   "source": [
    "_[0]['lwlrap_max']"
   ]
  },
  {
   "cell_type": "code",
   "execution_count": null,
   "metadata": {},
   "outputs": [],
   "source": [
    "optim_params = optimizer.state_dict()\n",
    "model_params = model.model.state_dict()\n",
    "all_params = {'model_state_dict': model_params, 'optimizer_state_dict': optim_params}\n",
    "torch.save(all_params, f\"{config['general']['out_path']}{config['general']['model_name']}_score=CHECK\")\n"
   ]
  },
  {
   "cell_type": "code",
   "execution_count": null,
   "metadata": {},
   "outputs": [],
   "source": []
  }
 ],
 "metadata": {
  "kernelspec": {
   "display_name": "Python 3",
   "language": "python",
   "name": "python3"
  },
  "language_info": {
   "codemirror_mode": {
    "name": "ipython",
    "version": 3
   },
   "file_extension": ".py",
   "mimetype": "text/x-python",
   "name": "python",
   "nbconvert_exporter": "python",
   "pygments_lexer": "ipython3",
   "version": "3.7.9"
  }
 },
 "nbformat": 4,
 "nbformat_minor": 4
}
