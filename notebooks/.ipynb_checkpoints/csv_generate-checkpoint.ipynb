{
 "cells": [
  {
   "cell_type": "code",
   "execution_count": 65,
   "metadata": {},
   "outputs": [],
   "source": [
    "path = \"/media/paniquex/samsung_2tb/IDAO_2021_oski/data/track_1/idao_dataset/\""
   ]
  },
  {
   "cell_type": "code",
   "execution_count": 66,
   "metadata": {},
   "outputs": [],
   "source": [
    "import pandas as pd\n",
    "import os\n",
    "\n",
    "\n",
    "file_names = os.listdir(os.path.join(path, \"train\", \"NR\")) + os.listdir(os.path.join(path, \"train\", \"ER\"))"
   ]
  },
  {
   "cell_type": "code",
   "execution_count": 67,
   "metadata": {},
   "outputs": [
    {
     "data": {
      "text/plain": [
       "('NR', '6')"
      ]
     },
     "execution_count": 67,
     "metadata": {},
     "output_type": "execute_result"
    }
   ],
   "source": [
    "file_names[0].split(\"_\")[6], file_names[0].split(\"_\")[7]"
   ]
  },
  {
   "cell_type": "code",
   "execution_count": 68,
   "metadata": {},
   "outputs": [
    {
     "data": {
      "text/plain": [
       "('ER', '30')"
      ]
     },
     "execution_count": 68,
     "metadata": {},
     "output_type": "execute_result"
    }
   ],
   "source": [
    "file_names[-1].split(\"_\")[5], file_names[-1].split(\"_\")[6]"
   ]
  },
  {
   "cell_type": "code",
   "execution_count": 69,
   "metadata": {},
   "outputs": [],
   "source": [
    "train_csv = pd.DataFrame([file.split(\"_\")[6:8] if len(file.split(\"_\")) > 18 else file.split(\"_\")[5:7] for file in file_names])\n",
    "train_csv[\"file_path\"] = file_names\n",
    "train_csv.loc[train_csv[0] == \"NR\", \"file_path\"] = path + \"train/NR/\" + train_csv[\"file_path\"]\n",
    "train_csv.loc[train_csv[0] == \"ER\", \"file_path\"] = path + \"train/ER/\" + train_csv[\"file_path\"]"
   ]
  },
  {
   "cell_type": "code",
   "execution_count": 70,
   "metadata": {},
   "outputs": [
    {
     "data": {
      "text/plain": [
       "'/media/paniquex/samsung_2tb/IDAO_2021_oski/data/track_1/idao_dataset/train/NR/2.2355000972747803__CYGNO_60_40_He_NR_6_keV_930V_30cm_SRIM_IDAO_iso_crop_hist_pic_run1_ev473;1.png'"
      ]
     },
     "execution_count": 70,
     "metadata": {},
     "output_type": "execute_result"
    }
   ],
   "source": [
    "train_csv[\"file_path\"][0]"
   ]
  },
  {
   "cell_type": "code",
   "execution_count": 71,
   "metadata": {},
   "outputs": [],
   "source": [
    "train_csv[\"target\"] = train_csv[0] + train_csv[1]"
   ]
  },
  {
   "cell_type": "code",
   "execution_count": 72,
   "metadata": {},
   "outputs": [],
   "source": [
    "train_csv[1] = train_csv[1].astype(int)"
   ]
  },
  {
   "cell_type": "code",
   "execution_count": 73,
   "metadata": {},
   "outputs": [],
   "source": [
    "from sklearn.preprocessing import LabelEncoder\n",
    "\n",
    "le = LabelEncoder()\n",
    "\n",
    "train_csv[\"target\"] = le.fit_transform(train_csv[\"target\"])"
   ]
  },
  {
   "cell_type": "code",
   "execution_count": 74,
   "metadata": {},
   "outputs": [],
   "source": [
    "train_csv.to_csv(path + \"/train.csv\")"
   ]
  },
  {
   "cell_type": "code",
   "execution_count": 75,
   "metadata": {},
   "outputs": [],
   "source": [
    "mask_NR = (train_csv[0] == \"NR\") & ((train_csv[1] == 1) | (train_csv[1] == 6) | (train_csv[1] == 20))\n",
    "mask_ER = (train_csv[0] == \"ER\") & ((train_csv[1] == 3) | (train_csv[1] == 10) | (train_csv[1] == 30))\n",
    "val_private = train_csv[~(mask_NR | mask_ER)]"
   ]
  },
  {
   "cell_type": "code",
   "execution_count": 76,
   "metadata": {},
   "outputs": [],
   "source": [
    "train_csv[~(mask_NR | mask_ER)].to_csv(path + \"/val_private.csv\")"
   ]
  },
  {
   "cell_type": "code",
   "execution_count": 77,
   "metadata": {},
   "outputs": [
    {
     "data": {
      "text/html": [
       "<div>\n",
       "<style scoped>\n",
       "    .dataframe tbody tr th:only-of-type {\n",
       "        vertical-align: middle;\n",
       "    }\n",
       "\n",
       "    .dataframe tbody tr th {\n",
       "        vertical-align: top;\n",
       "    }\n",
       "\n",
       "    .dataframe thead th {\n",
       "        text-align: right;\n",
       "    }\n",
       "</style>\n",
       "<table border=\"1\" class=\"dataframe\">\n",
       "  <thead>\n",
       "    <tr style=\"text-align: right;\">\n",
       "      <th></th>\n",
       "      <th>0</th>\n",
       "      <th>1</th>\n",
       "      <th>file_path</th>\n",
       "      <th>target</th>\n",
       "    </tr>\n",
       "  </thead>\n",
       "  <tbody>\n",
       "    <tr>\n",
       "      <th>2719</th>\n",
       "      <td>NR</td>\n",
       "      <td>30</td>\n",
       "      <td>/media/paniquex/samsung_2tb/IDAO_2021_oski/dat...</td>\n",
       "      <td>10</td>\n",
       "    </tr>\n",
       "    <tr>\n",
       "      <th>3783</th>\n",
       "      <td>NR</td>\n",
       "      <td>3</td>\n",
       "      <td>/media/paniquex/samsung_2tb/IDAO_2021_oski/dat...</td>\n",
       "      <td>9</td>\n",
       "    </tr>\n",
       "    <tr>\n",
       "      <th>4874</th>\n",
       "      <td>NR</td>\n",
       "      <td>10</td>\n",
       "      <td>/media/paniquex/samsung_2tb/IDAO_2021_oski/dat...</td>\n",
       "      <td>7</td>\n",
       "    </tr>\n",
       "    <tr>\n",
       "      <th>4915</th>\n",
       "      <td>NR</td>\n",
       "      <td>30</td>\n",
       "      <td>/media/paniquex/samsung_2tb/IDAO_2021_oski/dat...</td>\n",
       "      <td>10</td>\n",
       "    </tr>\n",
       "    <tr>\n",
       "      <th>5485</th>\n",
       "      <td>NR</td>\n",
       "      <td>3</td>\n",
       "      <td>/media/paniquex/samsung_2tb/IDAO_2021_oski/dat...</td>\n",
       "      <td>9</td>\n",
       "    </tr>\n",
       "    <tr>\n",
       "      <th>5781</th>\n",
       "      <td>NR</td>\n",
       "      <td>10</td>\n",
       "      <td>/media/paniquex/samsung_2tb/IDAO_2021_oski/dat...</td>\n",
       "      <td>7</td>\n",
       "    </tr>\n",
       "    <tr>\n",
       "      <th>7132</th>\n",
       "      <td>ER</td>\n",
       "      <td>20</td>\n",
       "      <td>/media/paniquex/samsung_2tb/IDAO_2021_oski/dat...</td>\n",
       "      <td>2</td>\n",
       "    </tr>\n",
       "    <tr>\n",
       "      <th>7397</th>\n",
       "      <td>ER</td>\n",
       "      <td>20</td>\n",
       "      <td>/media/paniquex/samsung_2tb/IDAO_2021_oski/dat...</td>\n",
       "      <td>2</td>\n",
       "    </tr>\n",
       "    <tr>\n",
       "      <th>8012</th>\n",
       "      <td>ER</td>\n",
       "      <td>1</td>\n",
       "      <td>/media/paniquex/samsung_2tb/IDAO_2021_oski/dat...</td>\n",
       "      <td>0</td>\n",
       "    </tr>\n",
       "    <tr>\n",
       "      <th>8142</th>\n",
       "      <td>ER</td>\n",
       "      <td>6</td>\n",
       "      <td>/media/paniquex/samsung_2tb/IDAO_2021_oski/dat...</td>\n",
       "      <td>5</td>\n",
       "    </tr>\n",
       "    <tr>\n",
       "      <th>8712</th>\n",
       "      <td>ER</td>\n",
       "      <td>1</td>\n",
       "      <td>/media/paniquex/samsung_2tb/IDAO_2021_oski/dat...</td>\n",
       "      <td>0</td>\n",
       "    </tr>\n",
       "    <tr>\n",
       "      <th>11714</th>\n",
       "      <td>ER</td>\n",
       "      <td>1</td>\n",
       "      <td>/media/paniquex/samsung_2tb/IDAO_2021_oski/dat...</td>\n",
       "      <td>0</td>\n",
       "    </tr>\n",
       "  </tbody>\n",
       "</table>\n",
       "</div>"
      ],
      "text/plain": [
       "        0   1                                          file_path  target\n",
       "2719   NR  30  /media/paniquex/samsung_2tb/IDAO_2021_oski/dat...      10\n",
       "3783   NR   3  /media/paniquex/samsung_2tb/IDAO_2021_oski/dat...       9\n",
       "4874   NR  10  /media/paniquex/samsung_2tb/IDAO_2021_oski/dat...       7\n",
       "4915   NR  30  /media/paniquex/samsung_2tb/IDAO_2021_oski/dat...      10\n",
       "5485   NR   3  /media/paniquex/samsung_2tb/IDAO_2021_oski/dat...       9\n",
       "5781   NR  10  /media/paniquex/samsung_2tb/IDAO_2021_oski/dat...       7\n",
       "7132   ER  20  /media/paniquex/samsung_2tb/IDAO_2021_oski/dat...       2\n",
       "7397   ER  20  /media/paniquex/samsung_2tb/IDAO_2021_oski/dat...       2\n",
       "8012   ER   1  /media/paniquex/samsung_2tb/IDAO_2021_oski/dat...       0\n",
       "8142   ER   6  /media/paniquex/samsung_2tb/IDAO_2021_oski/dat...       5\n",
       "8712   ER   1  /media/paniquex/samsung_2tb/IDAO_2021_oski/dat...       0\n",
       "11714  ER   1  /media/paniquex/samsung_2tb/IDAO_2021_oski/dat...       0"
      ]
     },
     "execution_count": 77,
     "metadata": {},
     "output_type": "execute_result"
    }
   ],
   "source": [
    "train_csv[~(mask_NR | mask_ER)]"
   ]
  },
  {
   "cell_type": "markdown",
   "metadata": {},
   "source": [
    "## Test:"
   ]
  },
  {
   "cell_type": "code",
   "execution_count": 67,
   "metadata": {},
   "outputs": [],
   "source": []
  },
  {
   "cell_type": "code",
   "execution_count": 68,
   "metadata": {},
   "outputs": [],
   "source": [
    "path = \"\" # directory with public_test and private_test directories\n",
    "file_names_public = os.listdir(os.path.join(path, \"public_test\")) #+ os.listdir(os.path.join(path, \"private_test\"))\n",
    "test_csv = pd.DataFrame({\"file_path\": file_names_public, \"type\": \"public\"})\n",
    "file_names_private = os.listdir(os.path.join(path, \"private_test\")) #+ os.listdir(os.path.join(path, \"private_test\"))\n",
    "test_csv = test_csv.append(pd.DataFrame({\"file_path\": file_names_private, \"type\": \"private\"})).reset_index()\n",
    "\n",
    "test_csv.loc[test_csv[\"type\"] == \"public\", \"file_path\"] = str(os.path.join(path, \"public_test\")) + \"/\" + test_csv[\"file_path\"]\n",
    "test_csv.loc[test_csv[\"type\"] == \"private\", \"file_path\"] = str(os.path.join(path, \"private_test\")) + \"/\" + test_csv[\"file_path\"]"
   ]
  },
  {
   "cell_type": "code",
   "execution_count": 69,
   "metadata": {},
   "outputs": [],
   "source": []
  },
  {
   "cell_type": "code",
   "execution_count": 70,
   "metadata": {},
   "outputs": [],
   "source": []
  },
  {
   "cell_type": "code",
   "execution_count": 71,
   "metadata": {},
   "outputs": [
    {
     "data": {
      "text/plain": [
       "0            0\n",
       "1            1\n",
       "2            2\n",
       "3            3\n",
       "4            4\n",
       "         ...  \n",
       "16559    15057\n",
       "16560    15058\n",
       "16561    15059\n",
       "16562    15060\n",
       "16563    15061\n",
       "Name: index, Length: 16564, dtype: int64"
      ]
     },
     "execution_count": 71,
     "metadata": {},
     "output_type": "execute_result"
    }
   ],
   "source": [
    "test_csv.pop(\"index\")"
   ]
  },
  {
   "cell_type": "code",
   "execution_count": 72,
   "metadata": {},
   "outputs": [
    {
     "data": {
      "text/html": [
       "<div>\n",
       "<style scoped>\n",
       "    .dataframe tbody tr th:only-of-type {\n",
       "        vertical-align: middle;\n",
       "    }\n",
       "\n",
       "    .dataframe tbody tr th {\n",
       "        vertical-align: top;\n",
       "    }\n",
       "\n",
       "    .dataframe thead th {\n",
       "        text-align: right;\n",
       "    }\n",
       "</style>\n",
       "<table border=\"1\" class=\"dataframe\">\n",
       "  <thead>\n",
       "    <tr style=\"text-align: right;\">\n",
       "      <th></th>\n",
       "      <th>file_path</th>\n",
       "      <th>type</th>\n",
       "    </tr>\n",
       "  </thead>\n",
       "  <tbody>\n",
       "    <tr>\n",
       "      <th>294</th>\n",
       "      <td>/media/paniquex/samsung_2tb/IDAO_2021_oski/dat...</td>\n",
       "      <td>public</td>\n",
       "    </tr>\n",
       "    <tr>\n",
       "      <th>12421</th>\n",
       "      <td>/media/paniquex/samsung_2tb/IDAO_2021_oski/dat...</td>\n",
       "      <td>private</td>\n",
       "    </tr>\n",
       "    <tr>\n",
       "      <th>16036</th>\n",
       "      <td>/media/paniquex/samsung_2tb/IDAO_2021_oski/dat...</td>\n",
       "      <td>private</td>\n",
       "    </tr>\n",
       "    <tr>\n",
       "      <th>12734</th>\n",
       "      <td>/media/paniquex/samsung_2tb/IDAO_2021_oski/dat...</td>\n",
       "      <td>private</td>\n",
       "    </tr>\n",
       "    <tr>\n",
       "      <th>3840</th>\n",
       "      <td>/media/paniquex/samsung_2tb/IDAO_2021_oski/dat...</td>\n",
       "      <td>private</td>\n",
       "    </tr>\n",
       "    <tr>\n",
       "      <th>4899</th>\n",
       "      <td>/media/paniquex/samsung_2tb/IDAO_2021_oski/dat...</td>\n",
       "      <td>private</td>\n",
       "    </tr>\n",
       "    <tr>\n",
       "      <th>720</th>\n",
       "      <td>/media/paniquex/samsung_2tb/IDAO_2021_oski/dat...</td>\n",
       "      <td>public</td>\n",
       "    </tr>\n",
       "    <tr>\n",
       "      <th>4377</th>\n",
       "      <td>/media/paniquex/samsung_2tb/IDAO_2021_oski/dat...</td>\n",
       "      <td>private</td>\n",
       "    </tr>\n",
       "    <tr>\n",
       "      <th>11917</th>\n",
       "      <td>/media/paniquex/samsung_2tb/IDAO_2021_oski/dat...</td>\n",
       "      <td>private</td>\n",
       "    </tr>\n",
       "    <tr>\n",
       "      <th>259</th>\n",
       "      <td>/media/paniquex/samsung_2tb/IDAO_2021_oski/dat...</td>\n",
       "      <td>public</td>\n",
       "    </tr>\n",
       "  </tbody>\n",
       "</table>\n",
       "</div>"
      ],
      "text/plain": [
       "                                               file_path     type\n",
       "294    /media/paniquex/samsung_2tb/IDAO_2021_oski/dat...   public\n",
       "12421  /media/paniquex/samsung_2tb/IDAO_2021_oski/dat...  private\n",
       "16036  /media/paniquex/samsung_2tb/IDAO_2021_oski/dat...  private\n",
       "12734  /media/paniquex/samsung_2tb/IDAO_2021_oski/dat...  private\n",
       "3840   /media/paniquex/samsung_2tb/IDAO_2021_oski/dat...  private\n",
       "4899   /media/paniquex/samsung_2tb/IDAO_2021_oski/dat...  private\n",
       "720    /media/paniquex/samsung_2tb/IDAO_2021_oski/dat...   public\n",
       "4377   /media/paniquex/samsung_2tb/IDAO_2021_oski/dat...  private\n",
       "11917  /media/paniquex/samsung_2tb/IDAO_2021_oski/dat...  private\n",
       "259    /media/paniquex/samsung_2tb/IDAO_2021_oski/dat...   public"
      ]
     },
     "execution_count": 72,
     "metadata": {},
     "output_type": "execute_result"
    }
   ],
   "source": [
    "test_csv.sample(10)"
   ]
  },
  {
   "cell_type": "code",
   "execution_count": 73,
   "metadata": {},
   "outputs": [
    {
     "data": {
      "text/plain": [
       "'/media/paniquex/samsung_2tb/IDAO_2021_oski/data/track_1/idao_dataset/public_test/49caac4a81475d3cc821689ad3cc2aad2a0e36bd.png'"
      ]
     },
     "execution_count": 73,
     "metadata": {},
     "output_type": "execute_result"
    }
   ],
   "source": [
    "test_csv.iloc[0][\"file_path\"]"
   ]
  },
  {
   "cell_type": "code",
   "execution_count": 74,
   "metadata": {},
   "outputs": [],
   "source": [
    "test_csv.to_csv(os.path.join(path, \"test.csv\"))"
   ]
  },
  {
   "cell_type": "code",
   "execution_count": 15,
   "metadata": {},
   "outputs": [
    {
     "data": {
      "text/html": [
       "<div>\n",
       "<style scoped>\n",
       "    .dataframe tbody tr th:only-of-type {\n",
       "        vertical-align: middle;\n",
       "    }\n",
       "\n",
       "    .dataframe tbody tr th {\n",
       "        vertical-align: top;\n",
       "    }\n",
       "\n",
       "    .dataframe thead th {\n",
       "        text-align: right;\n",
       "    }\n",
       "</style>\n",
       "<table border=\"1\" class=\"dataframe\">\n",
       "  <thead>\n",
       "    <tr style=\"text-align: right;\">\n",
       "      <th></th>\n",
       "      <th>id</th>\n",
       "      <th>classification_predictions</th>\n",
       "      <th>regression_predictions</th>\n",
       "    </tr>\n",
       "  </thead>\n",
       "  <tbody>\n",
       "    <tr>\n",
       "      <th>0</th>\n",
       "      <td>0002894871bb30af2670648c58b2506e9801a321</td>\n",
       "      <td>1</td>\n",
       "      <td>1</td>\n",
       "    </tr>\n",
       "    <tr>\n",
       "      <th>1</th>\n",
       "      <td>000a95ca23df016a149ff9af94b6e9d8633d6691</td>\n",
       "      <td>1</td>\n",
       "      <td>1</td>\n",
       "    </tr>\n",
       "    <tr>\n",
       "      <th>2</th>\n",
       "      <td>000b4407dee7dad2ba46586e6ba1264f45965e51</td>\n",
       "      <td>1</td>\n",
       "      <td>1</td>\n",
       "    </tr>\n",
       "    <tr>\n",
       "      <th>3</th>\n",
       "      <td>000c45d729066044e3dd3f885fddf013b845b6d7</td>\n",
       "      <td>1</td>\n",
       "      <td>1</td>\n",
       "    </tr>\n",
       "    <tr>\n",
       "      <th>4</th>\n",
       "      <td>0011f80e44faa713714ead6aeab3b2f9db54aebd</td>\n",
       "      <td>1</td>\n",
       "      <td>1</td>\n",
       "    </tr>\n",
       "    <tr>\n",
       "      <th>...</th>\n",
       "      <td>...</td>\n",
       "      <td>...</td>\n",
       "      <td>...</td>\n",
       "    </tr>\n",
       "    <tr>\n",
       "      <th>16559</th>\n",
       "      <td>ffdfd25b2f522ba2312dda90189ec48205578199</td>\n",
       "      <td>1</td>\n",
       "      <td>1</td>\n",
       "    </tr>\n",
       "    <tr>\n",
       "      <th>16560</th>\n",
       "      <td>ffe29ac691148f84c7a7759e687aa6c2f0eac11a</td>\n",
       "      <td>1</td>\n",
       "      <td>1</td>\n",
       "    </tr>\n",
       "    <tr>\n",
       "      <th>16561</th>\n",
       "      <td>ffedc12ec5c142dae2086408b778cf0db2ff944e</td>\n",
       "      <td>1</td>\n",
       "      <td>1</td>\n",
       "    </tr>\n",
       "    <tr>\n",
       "      <th>16562</th>\n",
       "      <td>fff423086a80114984b647af69f710cf3ef844f9</td>\n",
       "      <td>1</td>\n",
       "      <td>1</td>\n",
       "    </tr>\n",
       "    <tr>\n",
       "      <th>16563</th>\n",
       "      <td>fffdd654bd60b81ffd51a723a8839b8f5381feba</td>\n",
       "      <td>1</td>\n",
       "      <td>1</td>\n",
       "    </tr>\n",
       "  </tbody>\n",
       "</table>\n",
       "<p>16564 rows × 3 columns</p>\n",
       "</div>"
      ],
      "text/plain": [
       "                                             id  classification_predictions  \\\n",
       "0      0002894871bb30af2670648c58b2506e9801a321                           1   \n",
       "1      000a95ca23df016a149ff9af94b6e9d8633d6691                           1   \n",
       "2      000b4407dee7dad2ba46586e6ba1264f45965e51                           1   \n",
       "3      000c45d729066044e3dd3f885fddf013b845b6d7                           1   \n",
       "4      0011f80e44faa713714ead6aeab3b2f9db54aebd                           1   \n",
       "...                                         ...                         ...   \n",
       "16559  ffdfd25b2f522ba2312dda90189ec48205578199                           1   \n",
       "16560  ffe29ac691148f84c7a7759e687aa6c2f0eac11a                           1   \n",
       "16561  ffedc12ec5c142dae2086408b778cf0db2ff944e                           1   \n",
       "16562  fff423086a80114984b647af69f710cf3ef844f9                           1   \n",
       "16563  fffdd654bd60b81ffd51a723a8839b8f5381feba                           1   \n",
       "\n",
       "       regression_predictions  \n",
       "0                           1  \n",
       "1                           1  \n",
       "2                           1  \n",
       "3                           1  \n",
       "4                           1  \n",
       "...                       ...  \n",
       "16559                       1  \n",
       "16560                       1  \n",
       "16561                       1  \n",
       "16562                       1  \n",
       "16563                       1  \n",
       "\n",
       "[16564 rows x 3 columns]"
      ]
     },
     "execution_count": 15,
     "metadata": {},
     "output_type": "execute_result"
    }
   ],
   "source": [
    "pd.read_csv(\"/media/paniquex/samsung_2tb/IDAO_2021_oski/data/track1_predictions_example.csv\")"
   ]
  },
  {
   "cell_type": "code",
   "execution_count": 14,
   "metadata": {},
   "outputs": [
    {
     "name": "stdout",
     "output_type": "stream",
     "text": [
      "track_1  track1_predictions_example.csv  track_1.tar\r\n"
     ]
    }
   ],
   "source": [
    "!ls "
   ]
  },
  {
   "cell_type": "code",
   "execution_count": 16,
   "metadata": {},
   "outputs": [
    {
     "ename": "NameError",
     "evalue": "name 'train_csv' is not defined",
     "output_type": "error",
     "traceback": [
      "\u001b[0;31m---------------------------------------------------------------------------\u001b[0m",
      "\u001b[0;31mNameError\u001b[0m                                 Traceback (most recent call last)",
      "\u001b[0;32m<ipython-input-16-0174c25fb30a>\u001b[0m in \u001b[0;36m<module>\u001b[0;34m\u001b[0m\n\u001b[0;32m----> 1\u001b[0;31m \u001b[0mtrain_csv\u001b[0m\u001b[0;34m\u001b[0m\u001b[0;34m\u001b[0m\u001b[0m\n\u001b[0m",
      "\u001b[0;31mNameError\u001b[0m: name 'train_csv' is not defined"
     ]
    }
   ],
   "source": []
  },
  {
   "cell_type": "code",
   "execution_count": null,
   "metadata": {},
   "outputs": [],
   "source": []
  }
 ],
 "metadata": {
  "kernelspec": {
   "display_name": "Python 3",
   "language": "python",
   "name": "python3"
  },
  "language_info": {
   "codemirror_mode": {
    "name": "ipython",
    "version": 3
   },
   "file_extension": ".py",
   "mimetype": "text/x-python",
   "name": "python",
   "nbconvert_exporter": "python",
   "pygments_lexer": "ipython3",
   "version": "3.7.9"
  }
 },
 "nbformat": 4,
 "nbformat_minor": 4
}
