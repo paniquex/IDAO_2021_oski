{
 "cells": [
  {
   "cell_type": "code",
   "execution_count": 1,
   "metadata": {},
   "outputs": [],
   "source": [
    "import sys\n",
    "sys.path.append(\"/media/paniquex/samsung_2tb/rfcx_kaggle_git/RFCX_kaggle/src\")\n",
    "\n",
    "from collections import defaultdict\n",
    "import os\n",
    "import random\n",
    "\n",
    "import numpy as np\n",
    "import pandas as pd\n",
    "import yaml\n",
    "import shutil\n",
    "from sklearn.model_selection import train_test_split, StratifiedKFold\n",
    "\n",
    "from torch.utils.data import DataLoader\n",
    "from torch import nn\n",
    "import torch\n",
    "\n",
    "\n",
    "import audiomentations\n",
    "from torchlibrosa.stft import Spectrogram, LogmelFilterBank\n",
    "from torchlibrosa.augmentation import SpecAugmentation\n",
    "\n",
    "from transformers import get_linear_schedule_with_warmup\n",
    "\n",
    "from datasets import LabeledWavDataset, StepWavDataset, LabeledWavDatasetBalanced\n",
    "from preprocessing import CMVN\n",
    "from models import Wrapper, MixUp\n",
    "from pipeline_utils import training\n",
    "from models import ENCODER_PARAMS\n",
    "\n",
    "from ranger import Ranger\n",
    "\n",
    "\n",
    "os.chdir(\"/media/paniquex/samsung_2tb/\")"
   ]
  },
  {
   "cell_type": "code",
   "execution_count": 2,
   "metadata": {},
   "outputs": [
    {
     "name": "stderr",
     "output_type": "stream",
     "text": [
      "/home/paniquex/anaconda3/envs/kaggle/lib/python3.7/site-packages/ipykernel_launcher.py:3: YAMLLoadWarning: calling yaml.load() without Loader=... is deprecated, as the default Loader is unsafe. Please read https://msg.pyyaml.org/load for full details.\n",
      "  This is separate from the ipykernel package so we can avoid doing imports until\n"
     ]
    }
   ],
   "source": [
    "PATH_TO_CFG = \"/media/paniquex/samsung_2tb/rfcx_kaggle_git/RFCX_kaggle/config/config.yaml\"\n",
    "with open(PATH_TO_CFG, \"r\") as file:\n",
    "    config = yaml.load(file)\n",
    "\n",
    "DATA_ROOT = config[\"general\"][\"data_root\"]\n",
    "\n",
    "def fix_seed(seed):\n",
    "    random.seed(seed)\n",
    "    np.random.seed(seed)\n",
    "    os.environ[\"PYTHONHASHSEED\"] = str(seed)\n",
    "    torch.manual_seed(seed)\n",
    "    torch.cuda.manual_seed(seed)  # type: ignore\n",
    "    torch.backends.cudnn.deterministic = True  # type: ignore\n",
    "    torch.backends.cudnn.benchmark = True  # type: ignore\n",
    "\n",
    "fix_seed(config[\"general\"][\"seed\"])\n",
    "device_ids = [str(id) for id in config[\"general\"][\"device_ids\"]]\n",
    "ids = \",\".join(device_ids)\n",
    "DEVICE = torch.device(f\"cuda:{ids}\")"
   ]
  },
  {
   "cell_type": "code",
   "execution_count": 3,
   "metadata": {},
   "outputs": [],
   "source": [
    "# TODO: add mappings files\n",
    "if len(config[\"training\"][\"augmentations\"]):\n",
    "    augmenter_train = audiomentations.Compose([\n",
    "        audiomentations.AddGaussianNoise(**config[\"training\"][\"augmentations\"][\"GaussianNoise\"]),\n",
    "        audiomentations.AddGaussianSNR(**config[\"training\"][\"augmentations\"][\"GaussianSNR\"]),\n",
    "        #audiomentations.AddBackgroundNoise(\"../input/train_audio/\", p=1)\n",
    "        #audiomentations.AddImpulseResponse(p=0.1),\n",
    "        #audiomentations.AddShortNoises(\"../input/train_audio/\", p=1)\n",
    "        #audiomentations.FrequencyMask(min_frequency_band=0.0,  max_frequency_band=0.2, p=0.05),\n",
    "        #audiomentations.TimeMask(min_band_part=0.0, max_band_part=0.2, p=0.05),\n",
    "        #audiomentations.PitchShift(min_semitones=-0.5, max_semitones=0.5, p=0.05),\n",
    "        #audiomentations.Shift(p=0.1),\n",
    "        #audiomentations.Normalize(p=0.1),\n",
    "        #audiomentations.ClippingDistortion(min_percentile_threshold=0, max_percentile_threshold=1, p=0.05),\n",
    "        #audiomentations.PolarityInversion(p=0.05),\n",
    "        audiomentations.Gain(**config[\"training\"][\"augmentations\"][\"Gain\"])\n",
    "    ])\n",
    "else:\n",
    "    augmenter_train = None\n",
    "\n",
    "if len(config[\"validation\"][\"augmentations\"]):\n",
    "    augmenter_val = audiomentations.Compose([\n",
    "        audiomentations.AddGaussianNoise(**config[\"validation\"][\"augmentations\"][\"GaussianNoise\"]),\n",
    "        audiomentations.AddGaussianSNR(**config[\"validation\"][\"augmentations\"][\"GaussianSNR\"]),\n",
    "        #audiomentations.AddBackgroundNoise(\"../input/train_audio/\", p=1)\n",
    "        #audiomentations.AddImpulseResponse(p=0.1),\n",
    "        #audiomentations.AddShortNoises(\"../input/train_audio/\", p=1)\n",
    "        #audiomentations.FrequencyMask(min_frequency_band=0.0,  max_frequency_band=0.2, p=0.05),\n",
    "        #audiomentations.TimeMask(min_band_part=0.0, max_band_part=0.2, p=0.05),\n",
    "        #audiomentations.PitchShift(min_semitones=-0.5, max_semitones=0.5, p=0.05),\n",
    "        #audiomentations.Shift(p=0.1),\n",
    "        #audiomentations.Normalize(p=0.1),\n",
    "        #audiomentations.ClippingDistortion(min_percentile_threshold=0, max_percentile_threshold=1, p=0.05),\n",
    "        #audiomentations.PolarityInversion(p=0.05),\n",
    "        audiomentations.Gain(**config[\"validation\"][\"augmentations\"][\"Gain\"])\n",
    "    ])\n",
    "else:\n",
    "    augmenter_val = None\n",
    "\n"
   ]
  },
  {
   "cell_type": "code",
   "execution_count": 4,
   "metadata": {},
   "outputs": [
    {
     "name": "stdout",
     "output_type": "stream",
     "text": [
      "2    249\n",
      "4    247\n",
      "0    242\n",
      "3    240\n",
      "1    238\n",
      "Name: kfold, dtype: int64\n"
     ]
    }
   ],
   "source": [
    "train = pd.read_csv(os.path.join(DATA_ROOT, \"train_tp.csv\"))\n",
    "# train_gby = train.groupby(\"recording_id\")[[\"species_id\"]].first().reset_index()\n",
    "# train_gby = train_gby.sample(frac=1, random_state=config[\"general\"][\"seed\"]).reset_index(drop=True)\n",
    "\n",
    "# X = train_gby[\"recording_id\"].values\n",
    "\n",
    "# samples_train, samples_val = train_test_split(X,\n",
    "#                                               train_size=config[\"training\"][\"train_size\"],\n",
    "#                                               random_state=config[\"general\"][\"seed\"])\n",
    "\n",
    "train_gby = train.groupby(\"recording_id\")[[\"species_id\"]].first().reset_index()\n",
    "train_gby = train_gby.sample(frac=1, random_state=config[\"general\"][\"seed\"]).reset_index(drop=True)\n",
    "train_gby.loc[:, 'kfold'] = -1\n",
    "\n",
    "X = train_gby[\"recording_id\"].values\n",
    "y = train_gby[\"species_id\"].values\n",
    "\n",
    "kfold = StratifiedKFold(n_splits=config[\"training\"][\"n_folds\"])\n",
    "for fold, (t_idx, v_idx) in enumerate(kfold.split(X, y)):\n",
    "    train_gby.loc[v_idx, \"kfold\"] = fold\n",
    "\n",
    "train = train.merge(train_gby[['recording_id', 'kfold']], on=\"recording_id\", how=\"left\")\n",
    "print(train.kfold.value_counts())\n",
    "train.to_csv(\"/media/paniquex/samsung_2tb/rfcx_kaggle/rfcx-species-audio-detection/train_folds.csv\")\n",
    "train.to_csv(\"/media/paniquex/samsung_2tb/rfcx_kaggle/rfcx-species-audio-detection/train_22050/train_folds.csv\")"
   ]
  },
  {
   "cell_type": "code",
   "execution_count": 5,
   "metadata": {},
   "outputs": [],
   "source": [
    "# train_dataset = LabeledWavDataset(transforms=augmenter_train,\n",
    "#                                   samples=samples_train,\n",
    "#                                   classes_num=config[\"general\"][\"classes_num\"],\n",
    "#                                   sr=config[\"preprocessing\"][\"sr\"],\n",
    "#                                   **config[\"training\"][\"dataset\"])\n",
    "\n",
    "# val_dataset = LabeledWavDataset(transforms=augmenter_val,\n",
    "#                                  samples=samples_val,\n",
    "#                                  classes_num=config[\"general\"][\"classes_num\"],\n",
    "#                                  sr=config[\"preprocessing\"][\"sr\"],\n",
    "#                                  **config[\"validation\"][\"dataset\"])\n",
    "\n",
    "\n",
    "# train_dataloader = DataLoader(train_dataset, **config[\"training\"][\"dataloader\"])\n",
    "# val_dataloader = DataLoader(val_dataset, **config[\"validation\"][\"dataloader\"])"
   ]
  },
  {
   "cell_type": "code",
   "execution_count": null,
   "metadata": {},
   "outputs": [],
   "source": []
  },
  {
   "cell_type": "code",
   "execution_count": 6,
   "metadata": {},
   "outputs": [],
   "source": [
    "\n",
    "#torch.optim.Adam(model.model.parameters(), lr=config[\"training\"][\"lr\"]) # TODO: add mappings file for losses"
   ]
  },
  {
   "cell_type": "code",
   "execution_count": 7,
   "metadata": {},
   "outputs": [],
   "source": [
    "def lsep_loss_stable(input, target, average=True):\n",
    "\n",
    "    n = input.size(0)\n",
    "\n",
    "    differences = input.unsqueeze(1) - input.unsqueeze(2)\n",
    "    where_lower = (target.unsqueeze(1) < target.unsqueeze(2)).float()\n",
    "\n",
    "    differences = differences.view(n, -1)\n",
    "    where_lower = where_lower.view(n, -1)\n",
    "\n",
    "    max_difference, index = torch.max(differences, dim=1, keepdim=True)\n",
    "    differences = differences - max_difference\n",
    "    exps = differences.exp() * where_lower\n",
    "\n",
    "    lsep = max_difference + torch.log(torch.exp(-max_difference) + exps.sum(-1))\n",
    "\n",
    "    if average:\n",
    "        return lsep.mean()\n",
    "    else:\n",
    "        return lsep\n",
    "    \n",
    "    \n",
    "def focal_loss(input, target, focus=2.0, raw=True):\n",
    "\n",
    "    if raw:\n",
    "        input = torch.sigmoid(input)\n",
    "\n",
    "    eps = 1e-7\n",
    "\n",
    "    prob_true = input * target + (1 - input) * (1 - target)\n",
    "    prob_true = torch.clamp(prob_true, eps, 1-eps)\n",
    "    modulating_factor = (1.0 - prob_true).pow(focus)\n",
    "\n",
    "    return (-modulating_factor * prob_true.log()).mean()"
   ]
  },
  {
   "cell_type": "code",
   "execution_count": 8,
   "metadata": {},
   "outputs": [],
   "source": [
    "EPOCHS = config[\"training\"][\"n_epochs\"]\n",
    "\n",
    "criterion = lsep_loss_stable#nn.BCELoss() # TODO: add mappings file for losses\n",
    "# num_train_steps = int(len(train_dataloader) * EPOCHS)\n",
    "# num_warmup_steps = int(0.1 * EPOCHS * len(train_dataloader))\n",
    "# scheduler = torch.optim.lr_scheduler.CosineAnnealingLR(optimizer, T_max=10, eta_min=1e-6) # TODO: add mappings file for losses\n",
    "# scheduler = None\n",
    "# scheduler = get_linear_schedule_with_warmup(optimizer, num_warmup_steps=num_warmup_steps, num_training_steps=num_train_steps)"
   ]
  },
  {
   "cell_type": "code",
   "execution_count": 9,
   "metadata": {},
   "outputs": [
    {
     "data": {
      "text/html": [
       "<div>\n",
       "<style scoped>\n",
       "    .dataframe tbody tr th:only-of-type {\n",
       "        vertical-align: middle;\n",
       "    }\n",
       "\n",
       "    .dataframe tbody tr th {\n",
       "        vertical-align: top;\n",
       "    }\n",
       "\n",
       "    .dataframe thead th {\n",
       "        text-align: right;\n",
       "    }\n",
       "</style>\n",
       "<table border=\"1\" class=\"dataframe\">\n",
       "  <thead>\n",
       "    <tr style=\"text-align: right;\">\n",
       "      <th></th>\n",
       "      <th>recording_id</th>\n",
       "      <th>species_id</th>\n",
       "      <th>songtype_id</th>\n",
       "      <th>t_min</th>\n",
       "      <th>f_min</th>\n",
       "      <th>t_max</th>\n",
       "      <th>f_max</th>\n",
       "      <th>kfold</th>\n",
       "    </tr>\n",
       "  </thead>\n",
       "  <tbody>\n",
       "    <tr>\n",
       "      <th>0</th>\n",
       "      <td>003bec244</td>\n",
       "      <td>14</td>\n",
       "      <td>1</td>\n",
       "      <td>44.5440</td>\n",
       "      <td>2531.250</td>\n",
       "      <td>45.1307</td>\n",
       "      <td>5531.25</td>\n",
       "      <td>2</td>\n",
       "    </tr>\n",
       "    <tr>\n",
       "      <th>1</th>\n",
       "      <td>006ab765f</td>\n",
       "      <td>23</td>\n",
       "      <td>1</td>\n",
       "      <td>39.9615</td>\n",
       "      <td>7235.160</td>\n",
       "      <td>46.0452</td>\n",
       "      <td>11283.40</td>\n",
       "      <td>3</td>\n",
       "    </tr>\n",
       "    <tr>\n",
       "      <th>2</th>\n",
       "      <td>007f87ba2</td>\n",
       "      <td>12</td>\n",
       "      <td>1</td>\n",
       "      <td>39.1360</td>\n",
       "      <td>562.500</td>\n",
       "      <td>42.2720</td>\n",
       "      <td>3281.25</td>\n",
       "      <td>1</td>\n",
       "    </tr>\n",
       "    <tr>\n",
       "      <th>3</th>\n",
       "      <td>0099c367b</td>\n",
       "      <td>17</td>\n",
       "      <td>4</td>\n",
       "      <td>51.4206</td>\n",
       "      <td>1464.260</td>\n",
       "      <td>55.1996</td>\n",
       "      <td>4565.04</td>\n",
       "      <td>1</td>\n",
       "    </tr>\n",
       "    <tr>\n",
       "      <th>4</th>\n",
       "      <td>009b760e6</td>\n",
       "      <td>10</td>\n",
       "      <td>1</td>\n",
       "      <td>50.0854</td>\n",
       "      <td>947.461</td>\n",
       "      <td>52.5293</td>\n",
       "      <td>10852.70</td>\n",
       "      <td>3</td>\n",
       "    </tr>\n",
       "    <tr>\n",
       "      <th>...</th>\n",
       "      <td>...</td>\n",
       "      <td>...</td>\n",
       "      <td>...</td>\n",
       "      <td>...</td>\n",
       "      <td>...</td>\n",
       "      <td>...</td>\n",
       "      <td>...</td>\n",
       "      <td>...</td>\n",
       "    </tr>\n",
       "    <tr>\n",
       "      <th>1211</th>\n",
       "      <td>fe8d9ac40</td>\n",
       "      <td>13</td>\n",
       "      <td>1</td>\n",
       "      <td>53.4720</td>\n",
       "      <td>93.750</td>\n",
       "      <td>54.0960</td>\n",
       "      <td>843.75</td>\n",
       "      <td>4</td>\n",
       "    </tr>\n",
       "    <tr>\n",
       "      <th>1212</th>\n",
       "      <td>fea6b438a</td>\n",
       "      <td>4</td>\n",
       "      <td>1</td>\n",
       "      <td>43.5787</td>\n",
       "      <td>2531.250</td>\n",
       "      <td>45.7653</td>\n",
       "      <td>4031.25</td>\n",
       "      <td>3</td>\n",
       "    </tr>\n",
       "    <tr>\n",
       "      <th>1213</th>\n",
       "      <td>ff2eb9ce5</td>\n",
       "      <td>0</td>\n",
       "      <td>1</td>\n",
       "      <td>15.2267</td>\n",
       "      <td>5906.250</td>\n",
       "      <td>16.0213</td>\n",
       "      <td>8250.00</td>\n",
       "      <td>1</td>\n",
       "    </tr>\n",
       "    <tr>\n",
       "      <th>1214</th>\n",
       "      <td>ffb8d8391</td>\n",
       "      <td>5</td>\n",
       "      <td>1</td>\n",
       "      <td>14.3467</td>\n",
       "      <td>4781.250</td>\n",
       "      <td>16.6987</td>\n",
       "      <td>10406.20</td>\n",
       "      <td>3</td>\n",
       "    </tr>\n",
       "    <tr>\n",
       "      <th>1215</th>\n",
       "      <td>ffb9a7b9a</td>\n",
       "      <td>18</td>\n",
       "      <td>1</td>\n",
       "      <td>40.3200</td>\n",
       "      <td>3187.500</td>\n",
       "      <td>41.0133</td>\n",
       "      <td>5062.50</td>\n",
       "      <td>0</td>\n",
       "    </tr>\n",
       "  </tbody>\n",
       "</table>\n",
       "<p>1216 rows × 8 columns</p>\n",
       "</div>"
      ],
      "text/plain": [
       "     recording_id  species_id  songtype_id    t_min     f_min    t_max  \\\n",
       "0       003bec244          14            1  44.5440  2531.250  45.1307   \n",
       "1       006ab765f          23            1  39.9615  7235.160  46.0452   \n",
       "2       007f87ba2          12            1  39.1360   562.500  42.2720   \n",
       "3       0099c367b          17            4  51.4206  1464.260  55.1996   \n",
       "4       009b760e6          10            1  50.0854   947.461  52.5293   \n",
       "...           ...         ...          ...      ...       ...      ...   \n",
       "1211    fe8d9ac40          13            1  53.4720    93.750  54.0960   \n",
       "1212    fea6b438a           4            1  43.5787  2531.250  45.7653   \n",
       "1213    ff2eb9ce5           0            1  15.2267  5906.250  16.0213   \n",
       "1214    ffb8d8391           5            1  14.3467  4781.250  16.6987   \n",
       "1215    ffb9a7b9a          18            1  40.3200  3187.500  41.0133   \n",
       "\n",
       "         f_max  kfold  \n",
       "0      5531.25      2  \n",
       "1     11283.40      3  \n",
       "2      3281.25      1  \n",
       "3      4565.04      1  \n",
       "4     10852.70      3  \n",
       "...        ...    ...  \n",
       "1211    843.75      4  \n",
       "1212   4031.25      3  \n",
       "1213   8250.00      1  \n",
       "1214  10406.20      3  \n",
       "1215   5062.50      0  \n",
       "\n",
       "[1216 rows x 8 columns]"
      ]
     },
     "execution_count": 9,
     "metadata": {},
     "output_type": "execute_result"
    }
   ],
   "source": [
    "train"
   ]
  },
  {
   "cell_type": "code",
   "execution_count": 10,
   "metadata": {
    "pycharm": {
     "is_executing": true
    },
    "scrolled": false
   },
   "outputs": [
    {
     "name": "stdout",
     "output_type": "stream",
     "text": [
      "Ranger optimizer loaded. \n",
      "Gradient Centralization usage = True\n",
      "GC applied to both conv and fc layers\n"
     ]
    },
    {
     "name": "stderr",
     "output_type": "stream",
     "text": [
      "  0%|          | 0/113 [00:00<?, ?it/s]/home/paniquex/Ranger-Deep-Learning-Optimizer/Ranger-Deep-Learning-Optimizer/ranger/ranger.py:138: UserWarning: This overload of addcmul_ is deprecated:\n",
      "\taddcmul_(Number value, Tensor tensor1, Tensor tensor2)\n",
      "Consider using one of the following signatures instead:\n",
      "\taddcmul_(Tensor tensor1, Tensor tensor2, *, Number value) (Triggered internally at  /pytorch/torch/csrc/utils/python_arg_parser.cpp:766.)\n",
      "  exp_avg_sq.mul_(beta2).addcmul_(1 - beta2, grad, grad)\n",
      "3.4071: 100%|██████████| 113/113 [00:22<00:00,  5.04it/s]\n",
      "  0%|          | 0/29 [00:00<?, ?it/s]"
     ]
    },
    {
     "name": "stdout",
     "output_type": "stream",
     "text": [
      "Predict test without augmentations\n"
     ]
    },
    {
     "name": "stderr",
     "output_type": "stream",
     "text": [
      "100%|██████████| 29/29 [00:02<00:00, 11.61it/s]\n",
      "3.3084: 100%|██████████| 113/113 [00:21<00:00,  5.35it/s]\n",
      "  0%|          | 0/29 [00:00<?, ?it/s]"
     ]
    },
    {
     "name": "stdout",
     "output_type": "stream",
     "text": [
      "Predict test without augmentations\n"
     ]
    },
    {
     "name": "stderr",
     "output_type": "stream",
     "text": [
      "100%|██████████| 29/29 [00:02<00:00, 14.40it/s]\n",
      "3.2241: 100%|██████████| 113/113 [00:21<00:00,  5.29it/s]\n",
      "  0%|          | 0/29 [00:00<?, ?it/s]"
     ]
    },
    {
     "name": "stdout",
     "output_type": "stream",
     "text": [
      "Predict test without augmentations\n"
     ]
    },
    {
     "name": "stderr",
     "output_type": "stream",
     "text": [
      "100%|██████████| 29/29 [00:02<00:00, 14.20it/s]\n",
      "3.1567: 100%|██████████| 113/113 [00:22<00:00,  5.04it/s]\n",
      "  0%|          | 0/29 [00:00<?, ?it/s]"
     ]
    },
    {
     "name": "stdout",
     "output_type": "stream",
     "text": [
      "Predict test without augmentations\n"
     ]
    },
    {
     "name": "stderr",
     "output_type": "stream",
     "text": [
      "100%|██████████| 29/29 [00:02<00:00, 14.35it/s]\n",
      "3.1327: 100%|██████████| 113/113 [00:22<00:00,  5.09it/s]\n",
      "  0%|          | 0/29 [00:00<?, ?it/s]"
     ]
    },
    {
     "name": "stdout",
     "output_type": "stream",
     "text": [
      "Predict test without augmentations\n"
     ]
    },
    {
     "name": "stderr",
     "output_type": "stream",
     "text": [
      "100%|██████████| 29/29 [00:02<00:00, 14.20it/s]\n",
      "3.1035: 100%|██████████| 113/113 [00:22<00:00,  5.06it/s]\n",
      "  0%|          | 0/29 [00:00<?, ?it/s]"
     ]
    },
    {
     "name": "stdout",
     "output_type": "stream",
     "text": [
      "Predict test without augmentations\n"
     ]
    },
    {
     "name": "stderr",
     "output_type": "stream",
     "text": [
      "100%|██████████| 29/29 [00:02<00:00, 13.63it/s]\n",
      "3.0518: 100%|██████████| 113/113 [00:21<00:00,  5.16it/s]\n",
      "  0%|          | 0/29 [00:00<?, ?it/s]"
     ]
    },
    {
     "name": "stdout",
     "output_type": "stream",
     "text": [
      "Predict test without augmentations\n"
     ]
    },
    {
     "name": "stderr",
     "output_type": "stream",
     "text": [
      "100%|██████████| 29/29 [00:02<00:00, 12.50it/s]\n",
      "3.0178: 100%|██████████| 113/113 [00:21<00:00,  5.19it/s]\n",
      "  0%|          | 0/29 [00:00<?, ?it/s]"
     ]
    },
    {
     "name": "stdout",
     "output_type": "stream",
     "text": [
      "Predict test without augmentations\n"
     ]
    },
    {
     "name": "stderr",
     "output_type": "stream",
     "text": [
      "100%|██████████| 29/29 [00:02<00:00, 10.31it/s]\n",
      "2.9970: 100%|██████████| 113/113 [00:21<00:00,  5.20it/s]\n",
      "  0%|          | 0/29 [00:00<?, ?it/s]"
     ]
    },
    {
     "name": "stdout",
     "output_type": "stream",
     "text": [
      "Predict test without augmentations\n"
     ]
    },
    {
     "name": "stderr",
     "output_type": "stream",
     "text": [
      "100%|██████████| 29/29 [00:02<00:00, 10.34it/s]\n",
      "2.9828: 100%|██████████| 113/113 [00:21<00:00,  5.23it/s]\n",
      "  0%|          | 0/29 [00:00<?, ?it/s]"
     ]
    },
    {
     "name": "stdout",
     "output_type": "stream",
     "text": [
      "Predict test without augmentations\n"
     ]
    },
    {
     "name": "stderr",
     "output_type": "stream",
     "text": [
      "100%|██████████| 29/29 [00:02<00:00, 10.48it/s]\n",
      "2.9397: 100%|██████████| 113/113 [00:21<00:00,  5.22it/s]\n",
      "  0%|          | 0/29 [00:00<?, ?it/s]"
     ]
    },
    {
     "name": "stdout",
     "output_type": "stream",
     "text": [
      "Predict test without augmentations\n"
     ]
    },
    {
     "name": "stderr",
     "output_type": "stream",
     "text": [
      "100%|██████████| 29/29 [00:02<00:00, 10.55it/s]\n",
      "2.9431: 100%|██████████| 113/113 [00:21<00:00,  5.20it/s]\n",
      "  0%|          | 0/29 [00:00<?, ?it/s]"
     ]
    },
    {
     "name": "stdout",
     "output_type": "stream",
     "text": [
      "Predict test without augmentations\n"
     ]
    },
    {
     "name": "stderr",
     "output_type": "stream",
     "text": [
      "100%|██████████| 29/29 [00:02<00:00, 11.95it/s]\n",
      "2.9229: 100%|██████████| 113/113 [00:21<00:00,  5.14it/s]\n",
      "  0%|          | 0/29 [00:00<?, ?it/s]"
     ]
    },
    {
     "name": "stdout",
     "output_type": "stream",
     "text": [
      "Predict test without augmentations\n"
     ]
    },
    {
     "name": "stderr",
     "output_type": "stream",
     "text": [
      "100%|██████████| 29/29 [00:02<00:00, 10.27it/s]\n",
      "2.9380: 100%|██████████| 113/113 [00:21<00:00,  5.22it/s]\n",
      "  0%|          | 0/29 [00:00<?, ?it/s]"
     ]
    },
    {
     "name": "stdout",
     "output_type": "stream",
     "text": [
      "Predict test without augmentations\n"
     ]
    },
    {
     "name": "stderr",
     "output_type": "stream",
     "text": [
      "100%|██████████| 29/29 [00:02<00:00, 10.73it/s]\n",
      "2.9212: 100%|██████████| 113/113 [00:21<00:00,  5.20it/s]\n",
      "  0%|          | 0/29 [00:00<?, ?it/s]"
     ]
    },
    {
     "name": "stdout",
     "output_type": "stream",
     "text": [
      "Predict test without augmentations\n"
     ]
    },
    {
     "name": "stderr",
     "output_type": "stream",
     "text": [
      "100%|██████████| 29/29 [00:02<00:00, 10.47it/s]\n",
      "2.9155: 100%|██████████| 113/113 [00:21<00:00,  5.18it/s]\n",
      "  0%|          | 0/29 [00:00<?, ?it/s]"
     ]
    },
    {
     "name": "stdout",
     "output_type": "stream",
     "text": [
      "Predict test without augmentations\n"
     ]
    },
    {
     "name": "stderr",
     "output_type": "stream",
     "text": [
      "100%|██████████| 29/29 [00:02<00:00, 10.12it/s]\n",
      "2.8866: 100%|██████████| 113/113 [00:21<00:00,  5.18it/s]\n",
      "  0%|          | 0/29 [00:00<?, ?it/s]"
     ]
    },
    {
     "name": "stdout",
     "output_type": "stream",
     "text": [
      "Predict test without augmentations\n"
     ]
    },
    {
     "name": "stderr",
     "output_type": "stream",
     "text": [
      "100%|██████████| 29/29 [00:02<00:00, 10.40it/s]\n",
      "2.8770: 100%|██████████| 113/113 [00:21<00:00,  5.19it/s]\n",
      "  0%|          | 0/29 [00:00<?, ?it/s]"
     ]
    },
    {
     "name": "stdout",
     "output_type": "stream",
     "text": [
      "Predict test without augmentations\n"
     ]
    },
    {
     "name": "stderr",
     "output_type": "stream",
     "text": [
      "100%|██████████| 29/29 [00:02<00:00, 10.40it/s]\n",
      "2.8833: 100%|██████████| 113/113 [00:21<00:00,  5.21it/s]\n",
      "  0%|          | 0/29 [00:00<?, ?it/s]"
     ]
    },
    {
     "name": "stdout",
     "output_type": "stream",
     "text": [
      "Predict test without augmentations\n"
     ]
    },
    {
     "name": "stderr",
     "output_type": "stream",
     "text": [
      "100%|██████████| 29/29 [00:02<00:00, 11.39it/s]\n",
      "2.8776: 100%|██████████| 113/113 [00:21<00:00,  5.16it/s]\n",
      "  0%|          | 0/29 [00:00<?, ?it/s]"
     ]
    },
    {
     "name": "stdout",
     "output_type": "stream",
     "text": [
      "Predict test without augmentations\n"
     ]
    },
    {
     "name": "stderr",
     "output_type": "stream",
     "text": [
      "100%|██████████| 29/29 [00:02<00:00, 10.28it/s]\n",
      "2.8893: 100%|██████████| 113/113 [00:21<00:00,  5.19it/s]\n",
      "  0%|          | 0/29 [00:00<?, ?it/s]"
     ]
    },
    {
     "name": "stdout",
     "output_type": "stream",
     "text": [
      "Predict test without augmentations\n"
     ]
    },
    {
     "name": "stderr",
     "output_type": "stream",
     "text": [
      "100%|██████████| 29/29 [00:02<00:00, 10.48it/s]\n",
      "2.8548: 100%|██████████| 113/113 [00:21<00:00,  5.17it/s]\n",
      "  0%|          | 0/29 [00:00<?, ?it/s]"
     ]
    },
    {
     "name": "stdout",
     "output_type": "stream",
     "text": [
      "Predict test without augmentations\n"
     ]
    },
    {
     "name": "stderr",
     "output_type": "stream",
     "text": [
      "100%|██████████| 29/29 [00:02<00:00, 10.52it/s]\n",
      "2.8524: 100%|██████████| 113/113 [00:21<00:00,  5.20it/s]\n",
      "  0%|          | 0/29 [00:00<?, ?it/s]"
     ]
    },
    {
     "name": "stdout",
     "output_type": "stream",
     "text": [
      "Predict test without augmentations\n"
     ]
    },
    {
     "name": "stderr",
     "output_type": "stream",
     "text": [
      "100%|██████████| 29/29 [00:02<00:00, 10.28it/s]\n",
      "2.8561: 100%|██████████| 113/113 [00:21<00:00,  5.20it/s]\n",
      "  0%|          | 0/29 [00:00<?, ?it/s]"
     ]
    },
    {
     "name": "stdout",
     "output_type": "stream",
     "text": [
      "Predict test without augmentations\n"
     ]
    },
    {
     "name": "stderr",
     "output_type": "stream",
     "text": [
      "100%|██████████| 29/29 [00:02<00:00, 10.81it/s]\n",
      "  0%|          | 0/113 [00:00<?, ?it/s]"
     ]
    },
    {
     "name": "stdout",
     "output_type": "stream",
     "text": [
      "Epoch    24: reducing learning rate of group 0 to 1.0000e-04.\n"
     ]
    },
    {
     "name": "stderr",
     "output_type": "stream",
     "text": [
      "2.8635: 100%|██████████| 113/113 [00:21<00:00,  5.21it/s]\n",
      "  0%|          | 0/29 [00:00<?, ?it/s]"
     ]
    },
    {
     "name": "stdout",
     "output_type": "stream",
     "text": [
      "Predict test without augmentations\n"
     ]
    },
    {
     "name": "stderr",
     "output_type": "stream",
     "text": [
      "100%|██████████| 29/29 [00:02<00:00, 10.28it/s]\n",
      "2.8266: 100%|██████████| 113/113 [00:21<00:00,  5.19it/s]\n",
      "  0%|          | 0/29 [00:00<?, ?it/s]"
     ]
    },
    {
     "name": "stdout",
     "output_type": "stream",
     "text": [
      "Predict test without augmentations\n"
     ]
    },
    {
     "name": "stderr",
     "output_type": "stream",
     "text": [
      "100%|██████████| 29/29 [00:02<00:00, 11.35it/s]\n",
      "2.8125: 100%|██████████| 113/113 [00:21<00:00,  5.19it/s]\n",
      "  0%|          | 0/29 [00:00<?, ?it/s]"
     ]
    },
    {
     "name": "stdout",
     "output_type": "stream",
     "text": [
      "Predict test without augmentations\n"
     ]
    },
    {
     "name": "stderr",
     "output_type": "stream",
     "text": [
      "100%|██████████| 29/29 [00:02<00:00, 10.44it/s]\n",
      "2.8121: 100%|██████████| 113/113 [00:21<00:00,  5.19it/s]\n",
      "  0%|          | 0/29 [00:00<?, ?it/s]"
     ]
    },
    {
     "name": "stdout",
     "output_type": "stream",
     "text": [
      "Predict test without augmentations\n"
     ]
    },
    {
     "name": "stderr",
     "output_type": "stream",
     "text": [
      "100%|██████████| 29/29 [00:03<00:00,  9.64it/s]\n",
      "2.7882: 100%|██████████| 113/113 [00:21<00:00,  5.20it/s]\n",
      "  0%|          | 0/29 [00:00<?, ?it/s]"
     ]
    },
    {
     "name": "stdout",
     "output_type": "stream",
     "text": [
      "Predict test without augmentations\n"
     ]
    },
    {
     "name": "stderr",
     "output_type": "stream",
     "text": [
      "100%|██████████| 29/29 [00:02<00:00, 11.13it/s]\n",
      "2.8050: 100%|██████████| 113/113 [00:21<00:00,  5.17it/s]\n",
      "  0%|          | 0/29 [00:00<?, ?it/s]"
     ]
    },
    {
     "name": "stdout",
     "output_type": "stream",
     "text": [
      "Predict test without augmentations\n"
     ]
    },
    {
     "name": "stderr",
     "output_type": "stream",
     "text": [
      "100%|██████████| 29/29 [00:02<00:00, 10.45it/s]\n",
      "2.8035: 100%|██████████| 113/113 [00:21<00:00,  5.20it/s]\n",
      "  0%|          | 0/29 [00:00<?, ?it/s]"
     ]
    },
    {
     "name": "stdout",
     "output_type": "stream",
     "text": [
      "Predict test without augmentations\n"
     ]
    },
    {
     "name": "stderr",
     "output_type": "stream",
     "text": [
      "100%|██████████| 29/29 [00:02<00:00, 10.66it/s]\n",
      "2.7975: 100%|██████████| 113/113 [00:21<00:00,  5.18it/s]\n",
      "  0%|          | 0/29 [00:00<?, ?it/s]"
     ]
    },
    {
     "name": "stdout",
     "output_type": "stream",
     "text": [
      "Predict test without augmentations\n"
     ]
    },
    {
     "name": "stderr",
     "output_type": "stream",
     "text": [
      "100%|██████████| 29/29 [00:02<00:00, 10.42it/s]\n",
      "2.7722: 100%|██████████| 113/113 [00:21<00:00,  5.19it/s]\n",
      "  0%|          | 0/29 [00:00<?, ?it/s]"
     ]
    },
    {
     "name": "stdout",
     "output_type": "stream",
     "text": [
      "Predict test without augmentations\n"
     ]
    },
    {
     "name": "stderr",
     "output_type": "stream",
     "text": [
      "100%|██████████| 29/29 [00:02<00:00, 10.24it/s]\n",
      "2.7815: 100%|██████████| 113/113 [00:21<00:00,  5.17it/s]\n",
      "  0%|          | 0/29 [00:00<?, ?it/s]"
     ]
    },
    {
     "name": "stdout",
     "output_type": "stream",
     "text": [
      "Predict test without augmentations\n"
     ]
    },
    {
     "name": "stderr",
     "output_type": "stream",
     "text": [
      "100%|██████████| 29/29 [00:02<00:00, 11.13it/s]\n",
      "2.7873: 100%|██████████| 113/113 [00:21<00:00,  5.18it/s]\n",
      "  0%|          | 0/29 [00:00<?, ?it/s]"
     ]
    },
    {
     "name": "stdout",
     "output_type": "stream",
     "text": [
      "Predict test without augmentations\n"
     ]
    },
    {
     "name": "stderr",
     "output_type": "stream",
     "text": [
      "100%|██████████| 29/29 [00:02<00:00, 10.29it/s]\n",
      "2.7820: 100%|██████████| 113/113 [00:21<00:00,  5.18it/s]\n",
      "  0%|          | 0/29 [00:00<?, ?it/s]"
     ]
    },
    {
     "name": "stdout",
     "output_type": "stream",
     "text": [
      "Predict test without augmentations\n"
     ]
    },
    {
     "name": "stderr",
     "output_type": "stream",
     "text": [
      "100%|██████████| 29/29 [00:02<00:00, 10.02it/s]\n",
      "2.7671: 100%|██████████| 113/113 [00:21<00:00,  5.17it/s]\n",
      "  0%|          | 0/29 [00:00<?, ?it/s]"
     ]
    },
    {
     "name": "stdout",
     "output_type": "stream",
     "text": [
      "Predict test without augmentations\n"
     ]
    },
    {
     "name": "stderr",
     "output_type": "stream",
     "text": [
      "100%|██████████| 29/29 [00:02<00:00, 10.24it/s]\n",
      "2.7830: 100%|██████████| 113/113 [00:21<00:00,  5.20it/s]\n",
      "  0%|          | 0/29 [00:00<?, ?it/s]"
     ]
    },
    {
     "name": "stdout",
     "output_type": "stream",
     "text": [
      "Predict test without augmentations\n"
     ]
    },
    {
     "name": "stderr",
     "output_type": "stream",
     "text": [
      "100%|██████████| 29/29 [00:02<00:00, 10.36it/s]\n",
      "2.7763: 100%|██████████| 113/113 [00:21<00:00,  5.18it/s]\n",
      "  0%|          | 0/29 [00:00<?, ?it/s]"
     ]
    },
    {
     "name": "stdout",
     "output_type": "stream",
     "text": [
      "Predict test without augmentations\n"
     ]
    },
    {
     "name": "stderr",
     "output_type": "stream",
     "text": [
      "100%|██████████| 29/29 [00:02<00:00, 11.68it/s]\n",
      "2.7751: 100%|██████████| 113/113 [00:21<00:00,  5.17it/s]\n",
      "  0%|          | 0/29 [00:00<?, ?it/s]"
     ]
    },
    {
     "name": "stdout",
     "output_type": "stream",
     "text": [
      "Predict test without augmentations\n"
     ]
    },
    {
     "name": "stderr",
     "output_type": "stream",
     "text": [
      "100%|██████████| 29/29 [00:02<00:00, 10.40it/s]\n",
      "2.7512: 100%|██████████| 113/113 [00:21<00:00,  5.19it/s]\n",
      "  0%|          | 0/29 [00:00<?, ?it/s]"
     ]
    },
    {
     "name": "stdout",
     "output_type": "stream",
     "text": [
      "Predict test without augmentations\n"
     ]
    },
    {
     "name": "stderr",
     "output_type": "stream",
     "text": [
      "100%|██████████| 29/29 [00:02<00:00, 10.23it/s]\n",
      "  0%|          | 0/113 [00:00<?, ?it/s]"
     ]
    },
    {
     "name": "stdout",
     "output_type": "stream",
     "text": [
      "Epoch    41: reducing learning rate of group 0 to 1.0000e-05.\n"
     ]
    },
    {
     "name": "stderr",
     "output_type": "stream",
     "text": [
      "2.7708: 100%|██████████| 113/113 [00:21<00:00,  5.17it/s]\n",
      "  0%|          | 0/29 [00:00<?, ?it/s]"
     ]
    },
    {
     "name": "stdout",
     "output_type": "stream",
     "text": [
      "Predict test without augmentations\n"
     ]
    },
    {
     "name": "stderr",
     "output_type": "stream",
     "text": [
      "100%|██████████| 29/29 [00:02<00:00, 10.40it/s]\n",
      "2.7617: 100%|██████████| 113/113 [00:21<00:00,  5.22it/s]\n",
      "  0%|          | 0/29 [00:00<?, ?it/s]"
     ]
    },
    {
     "name": "stdout",
     "output_type": "stream",
     "text": [
      "Predict test without augmentations\n"
     ]
    },
    {
     "name": "stderr",
     "output_type": "stream",
     "text": [
      "100%|██████████| 29/29 [00:02<00:00, 10.28it/s]\n",
      "2.7982: 100%|██████████| 113/113 [00:21<00:00,  5.17it/s]\n",
      "  0%|          | 0/29 [00:00<?, ?it/s]"
     ]
    },
    {
     "name": "stdout",
     "output_type": "stream",
     "text": [
      "Predict test without augmentations\n"
     ]
    },
    {
     "name": "stderr",
     "output_type": "stream",
     "text": [
      "100%|██████████| 29/29 [00:02<00:00, 11.27it/s]\n",
      "2.7832: 100%|██████████| 113/113 [00:21<00:00,  5.21it/s]\n",
      "  0%|          | 0/29 [00:00<?, ?it/s]"
     ]
    },
    {
     "name": "stdout",
     "output_type": "stream",
     "text": [
      "Predict test without augmentations\n"
     ]
    },
    {
     "name": "stderr",
     "output_type": "stream",
     "text": [
      "100%|██████████| 29/29 [00:02<00:00, 10.30it/s]\n",
      "2.7562: 100%|██████████| 113/113 [00:21<00:00,  5.19it/s]\n",
      "  0%|          | 0/29 [00:00<?, ?it/s]"
     ]
    },
    {
     "name": "stdout",
     "output_type": "stream",
     "text": [
      "Predict test without augmentations\n"
     ]
    },
    {
     "name": "stderr",
     "output_type": "stream",
     "text": [
      "100%|██████████| 29/29 [00:02<00:00, 10.66it/s]\n",
      "2.7601: 100%|██████████| 113/113 [00:21<00:00,  5.15it/s]\n",
      "  0%|          | 0/29 [00:00<?, ?it/s]"
     ]
    },
    {
     "name": "stdout",
     "output_type": "stream",
     "text": [
      "Predict test without augmentations\n"
     ]
    },
    {
     "name": "stderr",
     "output_type": "stream",
     "text": [
      "100%|██████████| 29/29 [00:02<00:00, 10.36it/s]\n",
      "2.7531: 100%|██████████| 113/113 [00:22<00:00,  5.05it/s]\n",
      "  0%|          | 0/29 [00:00<?, ?it/s]"
     ]
    },
    {
     "name": "stdout",
     "output_type": "stream",
     "text": [
      "Predict test without augmentations\n"
     ]
    },
    {
     "name": "stderr",
     "output_type": "stream",
     "text": [
      "100%|██████████| 29/29 [00:02<00:00, 11.07it/s]\n",
      "2.7584: 100%|██████████| 113/113 [00:22<00:00,  5.01it/s]\n",
      "  0%|          | 0/29 [00:00<?, ?it/s]"
     ]
    },
    {
     "name": "stdout",
     "output_type": "stream",
     "text": [
      "Predict test without augmentations\n"
     ]
    },
    {
     "name": "stderr",
     "output_type": "stream",
     "text": [
      "100%|██████████| 29/29 [00:02<00:00, 10.04it/s]\n",
      "2.7678: 100%|██████████| 113/113 [00:22<00:00,  5.11it/s]\n",
      "  0%|          | 0/29 [00:00<?, ?it/s]"
     ]
    },
    {
     "name": "stdout",
     "output_type": "stream",
     "text": [
      "Predict test without augmentations\n"
     ]
    },
    {
     "name": "stderr",
     "output_type": "stream",
     "text": [
      "100%|██████████| 29/29 [00:02<00:00, 10.01it/s]\n",
      "2.7627: 100%|██████████| 113/113 [00:21<00:00,  5.15it/s]\n",
      "  0%|          | 0/29 [00:00<?, ?it/s]"
     ]
    },
    {
     "name": "stdout",
     "output_type": "stream",
     "text": [
      "Predict test without augmentations\n"
     ]
    },
    {
     "name": "stderr",
     "output_type": "stream",
     "text": [
      "100%|██████████| 29/29 [00:02<00:00, 10.10it/s]\n",
      "2.7708: 100%|██████████| 113/113 [00:21<00:00,  5.17it/s]\n",
      "  0%|          | 0/29 [00:00<?, ?it/s]"
     ]
    },
    {
     "name": "stdout",
     "output_type": "stream",
     "text": [
      "Predict test without augmentations\n"
     ]
    },
    {
     "name": "stderr",
     "output_type": "stream",
     "text": [
      "100%|██████████| 29/29 [00:02<00:00, 10.41it/s]\n",
      "2.7634: 100%|██████████| 113/113 [00:22<00:00,  5.10it/s]\n",
      "  0%|          | 0/29 [00:00<?, ?it/s]"
     ]
    },
    {
     "name": "stdout",
     "output_type": "stream",
     "text": [
      "Predict test without augmentations\n"
     ]
    },
    {
     "name": "stderr",
     "output_type": "stream",
     "text": [
      "100%|██████████| 29/29 [00:02<00:00, 10.58it/s]\n",
      "2.7531: 100%|██████████| 113/113 [00:21<00:00,  5.17it/s]\n",
      "  0%|          | 0/29 [00:00<?, ?it/s]"
     ]
    },
    {
     "name": "stdout",
     "output_type": "stream",
     "text": [
      "Predict test without augmentations\n"
     ]
    },
    {
     "name": "stderr",
     "output_type": "stream",
     "text": [
      "100%|██████████| 29/29 [00:02<00:00, 10.27it/s]\n",
      "2.7455: 100%|██████████| 113/113 [00:21<00:00,  5.18it/s]\n",
      "  0%|          | 0/29 [00:00<?, ?it/s]"
     ]
    },
    {
     "name": "stdout",
     "output_type": "stream",
     "text": [
      "Predict test without augmentations\n"
     ]
    },
    {
     "name": "stderr",
     "output_type": "stream",
     "text": [
      "100%|██████████| 29/29 [00:02<00:00, 10.17it/s]\n",
      "2.7616: 100%|██████████| 113/113 [00:21<00:00,  5.21it/s]\n",
      "  0%|          | 0/29 [00:00<?, ?it/s]"
     ]
    },
    {
     "name": "stdout",
     "output_type": "stream",
     "text": [
      "Predict test without augmentations\n"
     ]
    },
    {
     "name": "stderr",
     "output_type": "stream",
     "text": [
      "100%|██████████| 29/29 [00:02<00:00, 10.32it/s]\n",
      "2.7635: 100%|██████████| 113/113 [00:21<00:00,  5.18it/s]\n",
      "  0%|          | 0/29 [00:00<?, ?it/s]"
     ]
    },
    {
     "name": "stdout",
     "output_type": "stream",
     "text": [
      "Predict test without augmentations\n"
     ]
    },
    {
     "name": "stderr",
     "output_type": "stream",
     "text": [
      "100%|██████████| 29/29 [00:02<00:00, 10.37it/s]\n",
      "2.7791: 100%|██████████| 113/113 [00:21<00:00,  5.18it/s]\n",
      "  0%|          | 0/29 [00:00<?, ?it/s]"
     ]
    },
    {
     "name": "stdout",
     "output_type": "stream",
     "text": [
      "Predict test without augmentations\n"
     ]
    },
    {
     "name": "stderr",
     "output_type": "stream",
     "text": [
      "100%|██████████| 29/29 [00:02<00:00, 11.75it/s]\n",
      "2.7615: 100%|██████████| 113/113 [00:21<00:00,  5.16it/s]\n",
      "  0%|          | 0/29 [00:00<?, ?it/s]"
     ]
    },
    {
     "name": "stdout",
     "output_type": "stream",
     "text": [
      "Predict test without augmentations\n"
     ]
    },
    {
     "name": "stderr",
     "output_type": "stream",
     "text": [
      "100%|██████████| 29/29 [00:02<00:00, 10.34it/s]\n",
      "2.7521: 100%|██████████| 113/113 [00:22<00:00,  5.08it/s]\n",
      "  0%|          | 0/29 [00:00<?, ?it/s]"
     ]
    },
    {
     "name": "stdout",
     "output_type": "stream",
     "text": [
      "Predict test without augmentations\n"
     ]
    },
    {
     "name": "stderr",
     "output_type": "stream",
     "text": [
      "100%|██████████| 29/29 [00:02<00:00, 10.35it/s]\n",
      "2.7539: 100%|██████████| 113/113 [00:22<00:00,  5.12it/s]\n",
      "  0%|          | 0/29 [00:00<?, ?it/s]"
     ]
    },
    {
     "name": "stdout",
     "output_type": "stream",
     "text": [
      "Predict test without augmentations\n"
     ]
    },
    {
     "name": "stderr",
     "output_type": "stream",
     "text": [
      "100%|██████████| 29/29 [00:02<00:00, 10.10it/s]\n"
     ]
    },
    {
     "name": "stdout",
     "output_type": "stream",
     "text": [
      "['./rfcx_kaggle_git/RFCX_kaggle/experiments/logs_model=resnest50d_Pretrained=True_act_func=Mish_criterion=LSEP_length=30_step=15_intersect=0.4_new_dataset_num_classes=24_optim=ranger_sched=plateau_lr=1e-3_SpecAug=True_MixUp=True_alpha=1_n_mels=128_valid=NotLikeTest_folds=5/resnest50d_score=0.26094', './rfcx_kaggle_git/RFCX_kaggle/experiments/logs_model=resnest50d_Pretrained=True_act_func=Mish_criterion=LSEP_length=30_step=15_intersect=0.4_new_dataset_num_classes=24_optim=ranger_sched=plateau_lr=1e-3_SpecAug=True_MixUp=True_alpha=1_n_mels=128_valid=NotLikeTest_folds=5/resnest50d_score=0.37802', './rfcx_kaggle_git/RFCX_kaggle/experiments/logs_model=resnest50d_Pretrained=True_act_func=Mish_criterion=LSEP_length=30_step=15_intersect=0.4_new_dataset_num_classes=24_optim=ranger_sched=plateau_lr=1e-3_SpecAug=True_MixUp=True_alpha=1_n_mels=128_valid=NotLikeTest_folds=5/resnest50d_score=0.40026', './rfcx_kaggle_git/RFCX_kaggle/experiments/logs_model=resnest50d_Pretrained=True_act_func=Mish_criterion=LSEP_length=30_step=15_intersect=0.4_new_dataset_num_classes=24_optim=ranger_sched=plateau_lr=1e-3_SpecAug=True_MixUp=True_alpha=1_n_mels=128_valid=NotLikeTest_folds=5/resnest50d_score=0.52045', './rfcx_kaggle_git/RFCX_kaggle/experiments/logs_model=resnest50d_Pretrained=True_act_func=Mish_criterion=LSEP_length=30_step=15_intersect=0.4_new_dataset_num_classes=24_optim=ranger_sched=plateau_lr=1e-3_SpecAug=True_MixUp=True_alpha=1_n_mels=128_valid=NotLikeTest_folds=5/resnest50d_score=0.55115', './rfcx_kaggle_git/RFCX_kaggle/experiments/logs_model=resnest50d_Pretrained=True_act_func=Mish_criterion=LSEP_length=30_step=15_intersect=0.4_new_dataset_num_classes=24_optim=ranger_sched=plateau_lr=1e-3_SpecAug=True_MixUp=True_alpha=1_n_mels=128_valid=NotLikeTest_folds=5/resnest50d_score=0.60308', './rfcx_kaggle_git/RFCX_kaggle/experiments/logs_model=resnest50d_Pretrained=True_act_func=Mish_criterion=LSEP_length=30_step=15_intersect=0.4_new_dataset_num_classes=24_optim=ranger_sched=plateau_lr=1e-3_SpecAug=True_MixUp=True_alpha=1_n_mels=128_valid=NotLikeTest_folds=5/resnest50d_score=0.64357', './rfcx_kaggle_git/RFCX_kaggle/experiments/logs_model=resnest50d_Pretrained=True_act_func=Mish_criterion=LSEP_length=30_step=15_intersect=0.4_new_dataset_num_classes=24_optim=ranger_sched=plateau_lr=1e-3_SpecAug=True_MixUp=True_alpha=1_n_mels=128_valid=NotLikeTest_folds=5/resnest50d_score=0.68081', './rfcx_kaggle_git/RFCX_kaggle/experiments/logs_model=resnest50d_Pretrained=True_act_func=Mish_criterion=LSEP_length=30_step=15_intersect=0.4_new_dataset_num_classes=24_optim=ranger_sched=plateau_lr=1e-3_SpecAug=True_MixUp=True_alpha=1_n_mels=128_valid=NotLikeTest_folds=5/resnest50d_score=0.72699', './rfcx_kaggle_git/RFCX_kaggle/experiments/logs_model=resnest50d_Pretrained=True_act_func=Mish_criterion=LSEP_length=30_step=15_intersect=0.4_new_dataset_num_classes=24_optim=ranger_sched=plateau_lr=1e-3_SpecAug=True_MixUp=True_alpha=1_n_mels=128_valid=NotLikeTest_folds=5/resnest50d_score=0.75782', './rfcx_kaggle_git/RFCX_kaggle/experiments/logs_model=resnest50d_Pretrained=True_act_func=Mish_criterion=LSEP_length=30_step=15_intersect=0.4_new_dataset_num_classes=24_optim=ranger_sched=plateau_lr=1e-3_SpecAug=True_MixUp=True_alpha=1_n_mels=128_valid=NotLikeTest_folds=5/resnest50d_score=0.76869', './rfcx_kaggle_git/RFCX_kaggle/experiments/logs_model=resnest50d_Pretrained=True_act_func=Mish_criterion=LSEP_length=30_step=15_intersect=0.4_new_dataset_num_classes=24_optim=ranger_sched=plateau_lr=1e-3_SpecAug=True_MixUp=True_alpha=1_n_mels=128_valid=NotLikeTest_folds=5/resnest50d_score=0.79712', './rfcx_kaggle_git/RFCX_kaggle/experiments/logs_model=resnest50d_Pretrained=True_act_func=Mish_criterion=LSEP_length=30_step=15_intersect=0.4_new_dataset_num_classes=24_optim=ranger_sched=plateau_lr=1e-3_SpecAug=True_MixUp=True_alpha=1_n_mels=128_valid=NotLikeTest_folds=5/resnest50d_score=0.80977', './rfcx_kaggle_git/RFCX_kaggle/experiments/logs_model=resnest50d_Pretrained=True_act_func=Mish_criterion=LSEP_length=30_step=15_intersect=0.4_new_dataset_num_classes=24_optim=ranger_sched=plateau_lr=1e-3_SpecAug=True_MixUp=True_alpha=1_n_mels=128_valid=NotLikeTest_folds=5/resnest50d_score=0.82274', './rfcx_kaggle_git/RFCX_kaggle/experiments/logs_model=resnest50d_Pretrained=True_act_func=Mish_criterion=LSEP_length=30_step=15_intersect=0.4_new_dataset_num_classes=24_optim=ranger_sched=plateau_lr=1e-3_SpecAug=True_MixUp=True_alpha=1_n_mels=128_valid=NotLikeTest_folds=5/resnest50d_score=0.82431', './rfcx_kaggle_git/RFCX_kaggle/experiments/logs_model=resnest50d_Pretrained=True_act_func=Mish_criterion=LSEP_length=30_step=15_intersect=0.4_new_dataset_num_classes=24_optim=ranger_sched=plateau_lr=1e-3_SpecAug=True_MixUp=True_alpha=1_n_mels=128_valid=NotLikeTest_folds=5/resnest50d_score=0.84400', './rfcx_kaggle_git/RFCX_kaggle/experiments/logs_model=resnest50d_Pretrained=True_act_func=Mish_criterion=LSEP_length=30_step=15_intersect=0.4_new_dataset_num_classes=24_optim=ranger_sched=plateau_lr=1e-3_SpecAug=True_MixUp=True_alpha=1_n_mels=128_valid=NotLikeTest_folds=5/resnest50d_score=0.85458', './rfcx_kaggle_git/RFCX_kaggle/experiments/logs_model=resnest50d_Pretrained=True_act_func=Mish_criterion=LSEP_length=30_step=15_intersect=0.4_new_dataset_num_classes=24_optim=ranger_sched=plateau_lr=1e-3_SpecAug=True_MixUp=True_alpha=1_n_mels=128_valid=NotLikeTest_folds=5/resnest50d_score=0.86175', './rfcx_kaggle_git/RFCX_kaggle/experiments/logs_model=resnest50d_Pretrained=True_act_func=Mish_criterion=LSEP_length=30_step=15_intersect=0.4_new_dataset_num_classes=24_optim=ranger_sched=plateau_lr=1e-3_SpecAug=True_MixUp=True_alpha=1_n_mels=128_valid=NotLikeTest_folds=5/resnest50d_score=0.86342', './rfcx_kaggle_git/RFCX_kaggle/experiments/logs_model=resnest50d_Pretrained=True_act_func=Mish_criterion=LSEP_length=30_step=15_intersect=0.4_new_dataset_num_classes=24_optim=ranger_sched=plateau_lr=1e-3_SpecAug=True_MixUp=True_alpha=1_n_mels=128_valid=NotLikeTest_folds=5/resnest50d_score=0.86801', './rfcx_kaggle_git/RFCX_kaggle/experiments/logs_model=resnest50d_Pretrained=True_act_func=Mish_criterion=LSEP_length=30_step=15_intersect=0.4_new_dataset_num_classes=24_optim=ranger_sched=plateau_lr=1e-3_SpecAug=True_MixUp=True_alpha=1_n_mels=128_valid=NotLikeTest_folds=5/resnest50d_score=0.87376', './rfcx_kaggle_git/RFCX_kaggle/experiments/logs_model=resnest50d_Pretrained=True_act_func=Mish_criterion=LSEP_length=30_step=15_intersect=0.4_new_dataset_num_classes=24_optim=ranger_sched=plateau_lr=1e-3_SpecAug=True_MixUp=True_alpha=1_n_mels=128_valid=NotLikeTest_folds=5/resnest50d_score=0.88292']\n",
      "./rfcx_kaggle_git/RFCX_kaggle/experiments/logs_model=resnest50d_Pretrained=True_act_func=Mish_criterion=LSEP_length=30_step=15_intersect=0.4_new_dataset_num_classes=24_optim=ranger_sched=plateau_lr=1e-3_SpecAug=True_MixUp=True_alpha=1_n_mels=128_valid=NotLikeTest_folds=5/resnest50d_score=0.88292\n",
      "Ranger optimizer loaded. \n",
      "Gradient Centralization usage = True\n",
      "GC applied to both conv and fc layers\n"
     ]
    },
    {
     "name": "stderr",
     "output_type": "stream",
     "text": [
      "3.3977: 100%|██████████| 113/113 [00:21<00:00,  5.14it/s]\n",
      "  0%|          | 0/29 [00:00<?, ?it/s]"
     ]
    },
    {
     "name": "stdout",
     "output_type": "stream",
     "text": [
      "Predict test without augmentations\n"
     ]
    },
    {
     "name": "stderr",
     "output_type": "stream",
     "text": [
      "100%|██████████| 29/29 [00:02<00:00, 10.32it/s]\n",
      "3.2929: 100%|██████████| 113/113 [00:21<00:00,  5.16it/s]\n",
      "  0%|          | 0/29 [00:00<?, ?it/s]"
     ]
    },
    {
     "name": "stdout",
     "output_type": "stream",
     "text": [
      "Predict test without augmentations\n"
     ]
    },
    {
     "name": "stderr",
     "output_type": "stream",
     "text": [
      "100%|██████████| 29/29 [00:02<00:00, 10.70it/s]\n",
      "3.2212: 100%|██████████| 113/113 [00:21<00:00,  5.18it/s]\n",
      "  0%|          | 0/29 [00:00<?, ?it/s]"
     ]
    },
    {
     "name": "stdout",
     "output_type": "stream",
     "text": [
      "Predict test without augmentations\n"
     ]
    },
    {
     "name": "stderr",
     "output_type": "stream",
     "text": [
      "100%|██████████| 29/29 [00:02<00:00, 10.26it/s]\n",
      "3.1639: 100%|██████████| 113/113 [00:21<00:00,  5.18it/s]\n",
      "  0%|          | 0/29 [00:00<?, ?it/s]"
     ]
    },
    {
     "name": "stdout",
     "output_type": "stream",
     "text": [
      "Predict test without augmentations\n"
     ]
    },
    {
     "name": "stderr",
     "output_type": "stream",
     "text": [
      "100%|██████████| 29/29 [00:02<00:00, 10.22it/s]\n",
      "3.1526: 100%|██████████| 113/113 [00:21<00:00,  5.17it/s]\n",
      "  0%|          | 0/29 [00:00<?, ?it/s]"
     ]
    },
    {
     "name": "stdout",
     "output_type": "stream",
     "text": [
      "Predict test without augmentations\n"
     ]
    },
    {
     "name": "stderr",
     "output_type": "stream",
     "text": [
      "100%|██████████| 29/29 [00:02<00:00, 10.58it/s]\n",
      "3.1047: 100%|██████████| 113/113 [00:21<00:00,  5.17it/s]\n",
      "  0%|          | 0/29 [00:00<?, ?it/s]"
     ]
    },
    {
     "name": "stdout",
     "output_type": "stream",
     "text": [
      "Predict test without augmentations\n"
     ]
    },
    {
     "name": "stderr",
     "output_type": "stream",
     "text": [
      "100%|██████████| 29/29 [00:02<00:00, 10.23it/s]\n",
      "3.0470: 100%|██████████| 113/113 [00:21<00:00,  5.15it/s]\n",
      "  0%|          | 0/29 [00:00<?, ?it/s]"
     ]
    },
    {
     "name": "stdout",
     "output_type": "stream",
     "text": [
      "Predict test without augmentations\n"
     ]
    },
    {
     "name": "stderr",
     "output_type": "stream",
     "text": [
      "100%|██████████| 29/29 [00:02<00:00, 10.19it/s]\n",
      "3.0411: 100%|██████████| 113/113 [00:21<00:00,  5.17it/s]\n",
      "  0%|          | 0/29 [00:00<?, ?it/s]"
     ]
    },
    {
     "name": "stdout",
     "output_type": "stream",
     "text": [
      "Predict test without augmentations\n"
     ]
    },
    {
     "name": "stderr",
     "output_type": "stream",
     "text": [
      "100%|██████████| 29/29 [00:02<00:00, 11.42it/s]\n",
      "2.9907: 100%|██████████| 113/113 [00:21<00:00,  5.16it/s]\n",
      "  0%|          | 0/29 [00:00<?, ?it/s]"
     ]
    },
    {
     "name": "stdout",
     "output_type": "stream",
     "text": [
      "Predict test without augmentations\n"
     ]
    },
    {
     "name": "stderr",
     "output_type": "stream",
     "text": [
      "100%|██████████| 29/29 [00:02<00:00, 10.33it/s]\n",
      "2.9659: 100%|██████████| 113/113 [00:21<00:00,  5.19it/s]\n",
      "  0%|          | 0/29 [00:00<?, ?it/s]"
     ]
    },
    {
     "name": "stdout",
     "output_type": "stream",
     "text": [
      "Predict test without augmentations\n"
     ]
    },
    {
     "name": "stderr",
     "output_type": "stream",
     "text": [
      "100%|██████████| 29/29 [00:02<00:00,  9.76it/s]\n",
      "2.9495: 100%|██████████| 113/113 [00:21<00:00,  5.18it/s]\n",
      "  0%|          | 0/29 [00:00<?, ?it/s]"
     ]
    },
    {
     "name": "stdout",
     "output_type": "stream",
     "text": [
      "Predict test without augmentations\n"
     ]
    },
    {
     "name": "stderr",
     "output_type": "stream",
     "text": [
      "100%|██████████| 29/29 [00:02<00:00, 10.38it/s]\n",
      "2.9299: 100%|██████████| 113/113 [00:21<00:00,  5.17it/s]\n",
      "  0%|          | 0/29 [00:00<?, ?it/s]"
     ]
    },
    {
     "name": "stdout",
     "output_type": "stream",
     "text": [
      "Predict test without augmentations\n"
     ]
    },
    {
     "name": "stderr",
     "output_type": "stream",
     "text": [
      "100%|██████████| 29/29 [00:02<00:00, 10.20it/s]\n",
      "2.9363: 100%|██████████| 113/113 [00:21<00:00,  5.18it/s]\n",
      "  0%|          | 0/29 [00:00<?, ?it/s]"
     ]
    },
    {
     "name": "stdout",
     "output_type": "stream",
     "text": [
      "Predict test without augmentations\n"
     ]
    },
    {
     "name": "stderr",
     "output_type": "stream",
     "text": [
      "100%|██████████| 29/29 [00:02<00:00, 10.56it/s]\n",
      "2.8915: 100%|██████████| 113/113 [00:21<00:00,  5.17it/s]\n",
      "  0%|          | 0/29 [00:00<?, ?it/s]"
     ]
    },
    {
     "name": "stdout",
     "output_type": "stream",
     "text": [
      "Predict test without augmentations\n"
     ]
    },
    {
     "name": "stderr",
     "output_type": "stream",
     "text": [
      "100%|██████████| 29/29 [00:02<00:00, 10.82it/s]\n",
      "2.8964: 100%|██████████| 113/113 [00:21<00:00,  5.19it/s]\n",
      "  0%|          | 0/29 [00:00<?, ?it/s]"
     ]
    },
    {
     "name": "stdout",
     "output_type": "stream",
     "text": [
      "Predict test without augmentations\n"
     ]
    },
    {
     "name": "stderr",
     "output_type": "stream",
     "text": [
      "100%|██████████| 29/29 [00:02<00:00, 10.41it/s]\n",
      "2.9220: 100%|██████████| 113/113 [00:21<00:00,  5.17it/s]\n",
      "  0%|          | 0/29 [00:00<?, ?it/s]"
     ]
    },
    {
     "name": "stdout",
     "output_type": "stream",
     "text": [
      "Predict test without augmentations\n"
     ]
    },
    {
     "name": "stderr",
     "output_type": "stream",
     "text": [
      "100%|██████████| 29/29 [00:02<00:00, 11.86it/s]\n",
      "2.8954: 100%|██████████| 113/113 [00:21<00:00,  5.16it/s]\n",
      "  0%|          | 0/29 [00:00<?, ?it/s]"
     ]
    },
    {
     "name": "stdout",
     "output_type": "stream",
     "text": [
      "Predict test without augmentations\n"
     ]
    },
    {
     "name": "stderr",
     "output_type": "stream",
     "text": [
      "100%|██████████| 29/29 [00:02<00:00, 10.44it/s]\n",
      "2.8772: 100%|██████████| 113/113 [00:21<00:00,  5.17it/s]\n",
      "  0%|          | 0/29 [00:00<?, ?it/s]"
     ]
    },
    {
     "name": "stdout",
     "output_type": "stream",
     "text": [
      "Predict test without augmentations\n"
     ]
    },
    {
     "name": "stderr",
     "output_type": "stream",
     "text": [
      "100%|██████████| 29/29 [00:02<00:00, 10.49it/s]\n",
      "2.8901: 100%|██████████| 113/113 [00:21<00:00,  5.18it/s]\n",
      "  0%|          | 0/29 [00:00<?, ?it/s]"
     ]
    },
    {
     "name": "stdout",
     "output_type": "stream",
     "text": [
      "Predict test without augmentations\n"
     ]
    },
    {
     "name": "stderr",
     "output_type": "stream",
     "text": [
      "100%|██████████| 29/29 [00:02<00:00, 10.31it/s]\n",
      "2.8734: 100%|██████████| 113/113 [00:21<00:00,  5.19it/s]\n",
      "  0%|          | 0/29 [00:00<?, ?it/s]"
     ]
    },
    {
     "name": "stdout",
     "output_type": "stream",
     "text": [
      "Predict test without augmentations\n"
     ]
    },
    {
     "name": "stderr",
     "output_type": "stream",
     "text": [
      "100%|██████████| 29/29 [00:02<00:00, 10.27it/s]\n",
      "2.8586: 100%|██████████| 113/113 [00:21<00:00,  5.18it/s]\n",
      "  0%|          | 0/29 [00:00<?, ?it/s]"
     ]
    },
    {
     "name": "stdout",
     "output_type": "stream",
     "text": [
      "Predict test without augmentations\n"
     ]
    },
    {
     "name": "stderr",
     "output_type": "stream",
     "text": [
      "100%|██████████| 29/29 [00:02<00:00, 11.53it/s]\n",
      "2.8673: 100%|██████████| 113/113 [00:21<00:00,  5.17it/s]\n",
      "/home/paniquex/anaconda3/envs/kaggle/lib/python3.7/site-packages/sklearn/metrics/_classification.py:1221: UndefinedMetricWarning: Precision is ill-defined and being set to 0.0 in samples with no predicted labels. Use `zero_division` parameter to control this behavior.\n",
      "  _warn_prf(average, modifier, msg_start, len(result))\n",
      "  0%|          | 0/29 [00:00<?, ?it/s]"
     ]
    },
    {
     "name": "stdout",
     "output_type": "stream",
     "text": [
      "Predict test without augmentations\n"
     ]
    },
    {
     "name": "stderr",
     "output_type": "stream",
     "text": [
      "100%|██████████| 29/29 [00:02<00:00, 10.13it/s]\n",
      "2.8613: 100%|██████████| 113/113 [00:21<00:00,  5.19it/s]\n",
      "  0%|          | 0/29 [00:00<?, ?it/s]"
     ]
    },
    {
     "name": "stdout",
     "output_type": "stream",
     "text": [
      "Predict test without augmentations\n"
     ]
    },
    {
     "name": "stderr",
     "output_type": "stream",
     "text": [
      "100%|██████████| 29/29 [00:02<00:00, 10.63it/s]\n",
      "2.8338: 100%|██████████| 113/113 [00:21<00:00,  5.18it/s]\n",
      "  0%|          | 0/29 [00:00<?, ?it/s]"
     ]
    },
    {
     "name": "stdout",
     "output_type": "stream",
     "text": [
      "Predict test without augmentations\n"
     ]
    },
    {
     "name": "stderr",
     "output_type": "stream",
     "text": [
      "100%|██████████| 29/29 [00:02<00:00, 10.32it/s]\n",
      "2.8777: 100%|██████████| 113/113 [00:21<00:00,  5.18it/s]\n",
      "  0%|          | 0/29 [00:00<?, ?it/s]"
     ]
    },
    {
     "name": "stdout",
     "output_type": "stream",
     "text": [
      "Predict test without augmentations\n"
     ]
    },
    {
     "name": "stderr",
     "output_type": "stream",
     "text": [
      "100%|██████████| 29/29 [00:02<00:00, 10.88it/s]\n",
      "2.8403: 100%|██████████| 113/113 [00:22<00:00,  5.14it/s]\n",
      "  0%|          | 0/29 [00:00<?, ?it/s]"
     ]
    },
    {
     "name": "stdout",
     "output_type": "stream",
     "text": [
      "Predict test without augmentations\n"
     ]
    },
    {
     "name": "stderr",
     "output_type": "stream",
     "text": [
      "100%|██████████| 29/29 [00:02<00:00, 10.26it/s]\n",
      "2.8568: 100%|██████████| 113/113 [00:21<00:00,  5.19it/s]\n",
      "  0%|          | 0/29 [00:00<?, ?it/s]"
     ]
    },
    {
     "name": "stdout",
     "output_type": "stream",
     "text": [
      "Predict test without augmentations\n"
     ]
    },
    {
     "name": "stderr",
     "output_type": "stream",
     "text": [
      "100%|██████████| 29/29 [00:02<00:00, 10.05it/s]\n",
      "2.8434: 100%|██████████| 113/113 [00:21<00:00,  5.17it/s]\n",
      "  0%|          | 0/29 [00:00<?, ?it/s]"
     ]
    },
    {
     "name": "stdout",
     "output_type": "stream",
     "text": [
      "Predict test without augmentations\n"
     ]
    },
    {
     "name": "stderr",
     "output_type": "stream",
     "text": [
      "100%|██████████| 29/29 [00:02<00:00, 10.39it/s]\n",
      "2.8332: 100%|██████████| 113/113 [00:21<00:00,  5.19it/s]\n",
      "  0%|          | 0/29 [00:00<?, ?it/s]"
     ]
    },
    {
     "name": "stdout",
     "output_type": "stream",
     "text": [
      "Predict test without augmentations\n"
     ]
    },
    {
     "name": "stderr",
     "output_type": "stream",
     "text": [
      "100%|██████████| 29/29 [00:02<00:00, 10.35it/s]\n",
      "2.8528: 100%|██████████| 113/113 [00:21<00:00,  5.17it/s]\n",
      "  0%|          | 0/29 [00:00<?, ?it/s]"
     ]
    },
    {
     "name": "stdout",
     "output_type": "stream",
     "text": [
      "Predict test without augmentations\n"
     ]
    },
    {
     "name": "stderr",
     "output_type": "stream",
     "text": [
      "100%|██████████| 29/29 [00:02<00:00, 11.69it/s]\n",
      "2.8145: 100%|██████████| 113/113 [00:21<00:00,  5.17it/s]\n",
      "  0%|          | 0/29 [00:00<?, ?it/s]"
     ]
    },
    {
     "name": "stdout",
     "output_type": "stream",
     "text": [
      "Predict test without augmentations\n"
     ]
    },
    {
     "name": "stderr",
     "output_type": "stream",
     "text": [
      "100%|██████████| 29/29 [00:02<00:00, 10.28it/s]\n",
      "  0%|          | 0/113 [00:00<?, ?it/s]"
     ]
    },
    {
     "name": "stdout",
     "output_type": "stream",
     "text": [
      "Epoch    31: reducing learning rate of group 0 to 1.0000e-04.\n"
     ]
    },
    {
     "name": "stderr",
     "output_type": "stream",
     "text": [
      "2.8048: 100%|██████████| 113/113 [00:21<00:00,  5.17it/s]\n",
      "  0%|          | 0/29 [00:00<?, ?it/s]"
     ]
    },
    {
     "name": "stdout",
     "output_type": "stream",
     "text": [
      "Predict test without augmentations\n"
     ]
    },
    {
     "name": "stderr",
     "output_type": "stream",
     "text": [
      "100%|██████████| 29/29 [00:02<00:00, 11.45it/s]\n",
      "2.8111: 100%|██████████| 113/113 [00:21<00:00,  5.14it/s]\n",
      "  0%|          | 0/29 [00:00<?, ?it/s]"
     ]
    },
    {
     "name": "stdout",
     "output_type": "stream",
     "text": [
      "Predict test without augmentations\n"
     ]
    },
    {
     "name": "stderr",
     "output_type": "stream",
     "text": [
      "100%|██████████| 29/29 [00:02<00:00, 10.49it/s]\n",
      "2.7800: 100%|██████████| 113/113 [00:21<00:00,  5.15it/s]\n",
      "  0%|          | 0/29 [00:00<?, ?it/s]"
     ]
    },
    {
     "name": "stdout",
     "output_type": "stream",
     "text": [
      "Predict test without augmentations\n"
     ]
    },
    {
     "name": "stderr",
     "output_type": "stream",
     "text": [
      "100%|██████████| 29/29 [00:02<00:00, 10.23it/s]\n",
      "2.8058: 100%|██████████| 113/113 [00:21<00:00,  5.15it/s]\n",
      "  0%|          | 0/29 [00:00<?, ?it/s]"
     ]
    },
    {
     "name": "stdout",
     "output_type": "stream",
     "text": [
      "Predict test without augmentations\n"
     ]
    },
    {
     "name": "stderr",
     "output_type": "stream",
     "text": [
      "100%|██████████| 29/29 [00:02<00:00, 11.88it/s]\n",
      "2.7874: 100%|██████████| 113/113 [00:21<00:00,  5.16it/s]\n",
      "  0%|          | 0/29 [00:00<?, ?it/s]"
     ]
    },
    {
     "name": "stdout",
     "output_type": "stream",
     "text": [
      "Predict test without augmentations\n"
     ]
    },
    {
     "name": "stderr",
     "output_type": "stream",
     "text": [
      "100%|██████████| 29/29 [00:02<00:00, 10.43it/s]\n",
      "2.7849: 100%|██████████| 113/113 [00:21<00:00,  5.16it/s]\n",
      "  0%|          | 0/29 [00:00<?, ?it/s]"
     ]
    },
    {
     "name": "stdout",
     "output_type": "stream",
     "text": [
      "Predict test without augmentations\n"
     ]
    },
    {
     "name": "stderr",
     "output_type": "stream",
     "text": [
      "100%|██████████| 29/29 [00:02<00:00, 10.45it/s]\n",
      "2.7777: 100%|██████████| 113/113 [00:21<00:00,  5.18it/s]\n",
      "  0%|          | 0/29 [00:00<?, ?it/s]"
     ]
    },
    {
     "name": "stdout",
     "output_type": "stream",
     "text": [
      "Predict test without augmentations\n"
     ]
    },
    {
     "name": "stderr",
     "output_type": "stream",
     "text": [
      "100%|██████████| 29/29 [00:02<00:00, 10.35it/s]\n",
      "2.7816: 100%|██████████| 113/113 [00:21<00:00,  5.19it/s]\n",
      "  0%|          | 0/29 [00:00<?, ?it/s]"
     ]
    },
    {
     "name": "stdout",
     "output_type": "stream",
     "text": [
      "Predict test without augmentations\n"
     ]
    },
    {
     "name": "stderr",
     "output_type": "stream",
     "text": [
      "100%|██████████| 29/29 [00:02<00:00, 10.15it/s]\n",
      "2.7857: 100%|██████████| 113/113 [00:21<00:00,  5.19it/s]\n",
      "  0%|          | 0/29 [00:00<?, ?it/s]"
     ]
    },
    {
     "name": "stdout",
     "output_type": "stream",
     "text": [
      "Predict test without augmentations\n"
     ]
    },
    {
     "name": "stderr",
     "output_type": "stream",
     "text": [
      "100%|██████████| 29/29 [00:02<00:00, 11.40it/s]\n",
      "2.7747: 100%|██████████| 113/113 [00:21<00:00,  5.15it/s]\n",
      "  0%|          | 0/29 [00:00<?, ?it/s]"
     ]
    },
    {
     "name": "stdout",
     "output_type": "stream",
     "text": [
      "Predict test without augmentations\n"
     ]
    },
    {
     "name": "stderr",
     "output_type": "stream",
     "text": [
      "100%|██████████| 29/29 [00:02<00:00, 10.14it/s]\n",
      "2.7728: 100%|██████████| 113/113 [00:21<00:00,  5.18it/s]\n",
      "  0%|          | 0/29 [00:00<?, ?it/s]"
     ]
    },
    {
     "name": "stdout",
     "output_type": "stream",
     "text": [
      "Predict test without augmentations\n"
     ]
    },
    {
     "name": "stderr",
     "output_type": "stream",
     "text": [
      "100%|██████████| 29/29 [00:02<00:00, 11.10it/s]\n",
      "  0%|          | 0/113 [00:00<?, ?it/s]"
     ]
    },
    {
     "name": "stdout",
     "output_type": "stream",
     "text": [
      "Epoch    42: reducing learning rate of group 0 to 1.0000e-05.\n"
     ]
    },
    {
     "name": "stderr",
     "output_type": "stream",
     "text": [
      "2.7644: 100%|██████████| 113/113 [00:21<00:00,  5.15it/s]\n",
      "  0%|          | 0/29 [00:00<?, ?it/s]"
     ]
    },
    {
     "name": "stdout",
     "output_type": "stream",
     "text": [
      "Predict test without augmentations\n"
     ]
    },
    {
     "name": "stderr",
     "output_type": "stream",
     "text": [
      "100%|██████████| 29/29 [00:02<00:00, 10.42it/s]\n",
      "2.7784: 100%|██████████| 113/113 [00:21<00:00,  5.17it/s]\n",
      "  0%|          | 0/29 [00:00<?, ?it/s]"
     ]
    },
    {
     "name": "stdout",
     "output_type": "stream",
     "text": [
      "Predict test without augmentations\n"
     ]
    },
    {
     "name": "stderr",
     "output_type": "stream",
     "text": [
      "100%|██████████| 29/29 [00:02<00:00,  9.77it/s]\n",
      "2.7526: 100%|██████████| 113/113 [00:21<00:00,  5.18it/s]\n",
      "  0%|          | 0/29 [00:00<?, ?it/s]"
     ]
    },
    {
     "name": "stdout",
     "output_type": "stream",
     "text": [
      "Predict test without augmentations\n"
     ]
    },
    {
     "name": "stderr",
     "output_type": "stream",
     "text": [
      "100%|██████████| 29/29 [00:02<00:00, 10.58it/s]\n",
      "2.7704: 100%|██████████| 113/113 [00:21<00:00,  5.21it/s]\n",
      "  0%|          | 0/29 [00:00<?, ?it/s]"
     ]
    },
    {
     "name": "stdout",
     "output_type": "stream",
     "text": [
      "Predict test without augmentations\n"
     ]
    },
    {
     "name": "stderr",
     "output_type": "stream",
     "text": [
      "100%|██████████| 29/29 [00:02<00:00, 10.22it/s]\n",
      "2.7673: 100%|██████████| 113/113 [00:21<00:00,  5.16it/s]\n",
      "  0%|          | 0/29 [00:00<?, ?it/s]"
     ]
    },
    {
     "name": "stdout",
     "output_type": "stream",
     "text": [
      "Predict test without augmentations\n"
     ]
    },
    {
     "name": "stderr",
     "output_type": "stream",
     "text": [
      "100%|██████████| 29/29 [00:02<00:00, 11.58it/s]\n",
      "2.7610: 100%|██████████| 113/113 [00:21<00:00,  5.17it/s]\n",
      "  0%|          | 0/29 [00:00<?, ?it/s]"
     ]
    },
    {
     "name": "stdout",
     "output_type": "stream",
     "text": [
      "Predict test without augmentations\n"
     ]
    },
    {
     "name": "stderr",
     "output_type": "stream",
     "text": [
      "100%|██████████| 29/29 [00:02<00:00, 10.23it/s]\n",
      "  0%|          | 0/113 [00:00<?, ?it/s]"
     ]
    },
    {
     "name": "stdout",
     "output_type": "stream",
     "text": [
      "Epoch    48: reducing learning rate of group 0 to 1.0000e-06.\n"
     ]
    },
    {
     "name": "stderr",
     "output_type": "stream",
     "text": [
      "2.7554: 100%|██████████| 113/113 [00:21<00:00,  5.17it/s]\n",
      "  0%|          | 0/29 [00:00<?, ?it/s]"
     ]
    },
    {
     "name": "stdout",
     "output_type": "stream",
     "text": [
      "Predict test without augmentations\n"
     ]
    },
    {
     "name": "stderr",
     "output_type": "stream",
     "text": [
      "100%|██████████| 29/29 [00:02<00:00, 10.32it/s]\n",
      "2.7418: 100%|██████████| 113/113 [00:21<00:00,  5.19it/s]\n",
      "  0%|          | 0/29 [00:00<?, ?it/s]"
     ]
    },
    {
     "name": "stdout",
     "output_type": "stream",
     "text": [
      "Predict test without augmentations\n"
     ]
    },
    {
     "name": "stderr",
     "output_type": "stream",
     "text": [
      "100%|██████████| 29/29 [00:02<00:00, 10.38it/s]\n",
      "2.7690: 100%|██████████| 113/113 [00:21<00:00,  5.18it/s]\n",
      "  0%|          | 0/29 [00:00<?, ?it/s]"
     ]
    },
    {
     "name": "stdout",
     "output_type": "stream",
     "text": [
      "Predict test without augmentations\n"
     ]
    },
    {
     "name": "stderr",
     "output_type": "stream",
     "text": [
      "100%|██████████| 29/29 [00:02<00:00, 10.17it/s]\n",
      "2.7822: 100%|██████████| 113/113 [00:21<00:00,  5.16it/s]\n",
      "  0%|          | 0/29 [00:00<?, ?it/s]"
     ]
    },
    {
     "name": "stdout",
     "output_type": "stream",
     "text": [
      "Predict test without augmentations\n"
     ]
    },
    {
     "name": "stderr",
     "output_type": "stream",
     "text": [
      "100%|██████████| 29/29 [00:02<00:00, 11.90it/s]\n",
      "2.7791: 100%|██████████| 113/113 [00:21<00:00,  5.17it/s]\n",
      "  0%|          | 0/29 [00:00<?, ?it/s]"
     ]
    },
    {
     "name": "stdout",
     "output_type": "stream",
     "text": [
      "Predict test without augmentations\n"
     ]
    },
    {
     "name": "stderr",
     "output_type": "stream",
     "text": [
      "100%|██████████| 29/29 [00:02<00:00, 10.28it/s]\n",
      "2.7472: 100%|██████████| 113/113 [00:21<00:00,  5.14it/s]\n",
      "  0%|          | 0/29 [00:00<?, ?it/s]"
     ]
    },
    {
     "name": "stdout",
     "output_type": "stream",
     "text": [
      "Predict test without augmentations\n"
     ]
    },
    {
     "name": "stderr",
     "output_type": "stream",
     "text": [
      "100%|██████████| 29/29 [00:02<00:00, 10.62it/s]\n",
      "2.7603: 100%|██████████| 113/113 [00:21<00:00,  5.16it/s]\n",
      "  0%|          | 0/29 [00:00<?, ?it/s]"
     ]
    },
    {
     "name": "stdout",
     "output_type": "stream",
     "text": [
      "Predict test without augmentations\n"
     ]
    },
    {
     "name": "stderr",
     "output_type": "stream",
     "text": [
      "100%|██████████| 29/29 [00:02<00:00, 10.18it/s]\n",
      "2.7709: 100%|██████████| 113/113 [00:21<00:00,  5.19it/s]\n",
      "  0%|          | 0/29 [00:00<?, ?it/s]"
     ]
    },
    {
     "name": "stdout",
     "output_type": "stream",
     "text": [
      "Predict test without augmentations\n"
     ]
    },
    {
     "name": "stderr",
     "output_type": "stream",
     "text": [
      "100%|██████████| 29/29 [00:02<00:00, 10.15it/s]\n",
      "2.7674: 100%|██████████| 113/113 [00:21<00:00,  5.18it/s]\n",
      "  0%|          | 0/29 [00:00<?, ?it/s]"
     ]
    },
    {
     "name": "stdout",
     "output_type": "stream",
     "text": [
      "Predict test without augmentations\n"
     ]
    },
    {
     "name": "stderr",
     "output_type": "stream",
     "text": [
      "100%|██████████| 29/29 [00:02<00:00, 11.19it/s]\n",
      "2.7666: 100%|██████████| 113/113 [00:21<00:00,  5.17it/s]\n",
      "  0%|          | 0/29 [00:00<?, ?it/s]"
     ]
    },
    {
     "name": "stdout",
     "output_type": "stream",
     "text": [
      "Predict test without augmentations\n"
     ]
    },
    {
     "name": "stderr",
     "output_type": "stream",
     "text": [
      "100%|██████████| 29/29 [00:02<00:00, 10.34it/s]\n",
      "2.7692: 100%|██████████| 113/113 [00:21<00:00,  5.17it/s]\n",
      "  0%|          | 0/29 [00:00<?, ?it/s]"
     ]
    },
    {
     "name": "stdout",
     "output_type": "stream",
     "text": [
      "Predict test without augmentations\n"
     ]
    },
    {
     "name": "stderr",
     "output_type": "stream",
     "text": [
      "100%|██████████| 29/29 [00:02<00:00, 10.47it/s]\n",
      "2.7565: 100%|██████████| 113/113 [00:21<00:00,  5.17it/s]\n",
      "  0%|          | 0/29 [00:00<?, ?it/s]"
     ]
    },
    {
     "name": "stdout",
     "output_type": "stream",
     "text": [
      "Predict test without augmentations\n"
     ]
    },
    {
     "name": "stderr",
     "output_type": "stream",
     "text": [
      "100%|██████████| 29/29 [00:02<00:00, 10.27it/s]\n",
      "2.7752: 100%|██████████| 113/113 [00:21<00:00,  5.19it/s]\n",
      "  0%|          | 0/29 [00:00<?, ?it/s]"
     ]
    },
    {
     "name": "stdout",
     "output_type": "stream",
     "text": [
      "Predict test without augmentations\n"
     ]
    },
    {
     "name": "stderr",
     "output_type": "stream",
     "text": [
      "100%|██████████| 29/29 [00:02<00:00, 10.72it/s]\n"
     ]
    },
    {
     "name": "stdout",
     "output_type": "stream",
     "text": [
      "['./rfcx_kaggle_git/RFCX_kaggle/experiments/logs_model=resnest50d_Pretrained=True_act_func=Mish_criterion=LSEP_length=30_step=15_intersect=0.4_new_dataset_num_classes=24_optim=ranger_sched=plateau_lr=1e-3_SpecAug=True_MixUp=True_alpha=1_n_mels=128_valid=NotLikeTest_folds=5/resnest50d_score=0.29006', './rfcx_kaggle_git/RFCX_kaggle/experiments/logs_model=resnest50d_Pretrained=True_act_func=Mish_criterion=LSEP_length=30_step=15_intersect=0.4_new_dataset_num_classes=24_optim=ranger_sched=plateau_lr=1e-3_SpecAug=True_MixUp=True_alpha=1_n_mels=128_valid=NotLikeTest_folds=5/resnest50d_score=0.32046', './rfcx_kaggle_git/RFCX_kaggle/experiments/logs_model=resnest50d_Pretrained=True_act_func=Mish_criterion=LSEP_length=30_step=15_intersect=0.4_new_dataset_num_classes=24_optim=ranger_sched=plateau_lr=1e-3_SpecAug=True_MixUp=True_alpha=1_n_mels=128_valid=NotLikeTest_folds=5/resnest50d_score=0.46653', './rfcx_kaggle_git/RFCX_kaggle/experiments/logs_model=resnest50d_Pretrained=True_act_func=Mish_criterion=LSEP_length=30_step=15_intersect=0.4_new_dataset_num_classes=24_optim=ranger_sched=plateau_lr=1e-3_SpecAug=True_MixUp=True_alpha=1_n_mels=128_valid=NotLikeTest_folds=5/resnest50d_score=0.47991', './rfcx_kaggle_git/RFCX_kaggle/experiments/logs_model=resnest50d_Pretrained=True_act_func=Mish_criterion=LSEP_length=30_step=15_intersect=0.4_new_dataset_num_classes=24_optim=ranger_sched=plateau_lr=1e-3_SpecAug=True_MixUp=True_alpha=1_n_mels=128_valid=NotLikeTest_folds=5/resnest50d_score=0.52360', './rfcx_kaggle_git/RFCX_kaggle/experiments/logs_model=resnest50d_Pretrained=True_act_func=Mish_criterion=LSEP_length=30_step=15_intersect=0.4_new_dataset_num_classes=24_optim=ranger_sched=plateau_lr=1e-3_SpecAug=True_MixUp=True_alpha=1_n_mels=128_valid=NotLikeTest_folds=5/resnest50d_score=0.59972', './rfcx_kaggle_git/RFCX_kaggle/experiments/logs_model=resnest50d_Pretrained=True_act_func=Mish_criterion=LSEP_length=30_step=15_intersect=0.4_new_dataset_num_classes=24_optim=ranger_sched=plateau_lr=1e-3_SpecAug=True_MixUp=True_alpha=1_n_mels=128_valid=NotLikeTest_folds=5/resnest50d_score=0.63200', './rfcx_kaggle_git/RFCX_kaggle/experiments/logs_model=resnest50d_Pretrained=True_act_func=Mish_criterion=LSEP_length=30_step=15_intersect=0.4_new_dataset_num_classes=24_optim=ranger_sched=plateau_lr=1e-3_SpecAug=True_MixUp=True_alpha=1_n_mels=128_valid=NotLikeTest_folds=5/resnest50d_score=0.67136', './rfcx_kaggle_git/RFCX_kaggle/experiments/logs_model=resnest50d_Pretrained=True_act_func=Mish_criterion=LSEP_length=30_step=15_intersect=0.4_new_dataset_num_classes=24_optim=ranger_sched=plateau_lr=1e-3_SpecAug=True_MixUp=True_alpha=1_n_mels=128_valid=NotLikeTest_folds=5/resnest50d_score=0.72117', './rfcx_kaggle_git/RFCX_kaggle/experiments/logs_model=resnest50d_Pretrained=True_act_func=Mish_criterion=LSEP_length=30_step=15_intersect=0.4_new_dataset_num_classes=24_optim=ranger_sched=plateau_lr=1e-3_SpecAug=True_MixUp=True_alpha=1_n_mels=128_valid=NotLikeTest_folds=5/resnest50d_score=0.77438', './rfcx_kaggle_git/RFCX_kaggle/experiments/logs_model=resnest50d_Pretrained=True_act_func=Mish_criterion=LSEP_length=30_step=15_intersect=0.4_new_dataset_num_classes=24_optim=ranger_sched=plateau_lr=1e-3_SpecAug=True_MixUp=True_alpha=1_n_mels=128_valid=NotLikeTest_folds=5/resnest50d_score=0.79604', './rfcx_kaggle_git/RFCX_kaggle/experiments/logs_model=resnest50d_Pretrained=True_act_func=Mish_criterion=LSEP_length=30_step=15_intersect=0.4_new_dataset_num_classes=24_optim=ranger_sched=plateau_lr=1e-3_SpecAug=True_MixUp=True_alpha=1_n_mels=128_valid=NotLikeTest_folds=5/resnest50d_score=0.80384', './rfcx_kaggle_git/RFCX_kaggle/experiments/logs_model=resnest50d_Pretrained=True_act_func=Mish_criterion=LSEP_length=30_step=15_intersect=0.4_new_dataset_num_classes=24_optim=ranger_sched=plateau_lr=1e-3_SpecAug=True_MixUp=True_alpha=1_n_mels=128_valid=NotLikeTest_folds=5/resnest50d_score=0.80989', './rfcx_kaggle_git/RFCX_kaggle/experiments/logs_model=resnest50d_Pretrained=True_act_func=Mish_criterion=LSEP_length=30_step=15_intersect=0.4_new_dataset_num_classes=24_optim=ranger_sched=plateau_lr=1e-3_SpecAug=True_MixUp=True_alpha=1_n_mels=128_valid=NotLikeTest_folds=5/resnest50d_score=0.81394', './rfcx_kaggle_git/RFCX_kaggle/experiments/logs_model=resnest50d_Pretrained=True_act_func=Mish_criterion=LSEP_length=30_step=15_intersect=0.4_new_dataset_num_classes=24_optim=ranger_sched=plateau_lr=1e-3_SpecAug=True_MixUp=True_alpha=1_n_mels=128_valid=NotLikeTest_folds=5/resnest50d_score=0.82595', './rfcx_kaggle_git/RFCX_kaggle/experiments/logs_model=resnest50d_Pretrained=True_act_func=Mish_criterion=LSEP_length=30_step=15_intersect=0.4_new_dataset_num_classes=24_optim=ranger_sched=plateau_lr=1e-3_SpecAug=True_MixUp=True_alpha=1_n_mels=128_valid=NotLikeTest_folds=5/resnest50d_score=0.84978', './rfcx_kaggle_git/RFCX_kaggle/experiments/logs_model=resnest50d_Pretrained=True_act_func=Mish_criterion=LSEP_length=30_step=15_intersect=0.4_new_dataset_num_classes=24_optim=ranger_sched=plateau_lr=1e-3_SpecAug=True_MixUp=True_alpha=1_n_mels=128_valid=NotLikeTest_folds=5/resnest50d_score=0.85549', './rfcx_kaggle_git/RFCX_kaggle/experiments/logs_model=resnest50d_Pretrained=True_act_func=Mish_criterion=LSEP_length=30_step=15_intersect=0.4_new_dataset_num_classes=24_optim=ranger_sched=plateau_lr=1e-3_SpecAug=True_MixUp=True_alpha=1_n_mels=128_valid=NotLikeTest_folds=5/resnest50d_score=0.85975', './rfcx_kaggle_git/RFCX_kaggle/experiments/logs_model=resnest50d_Pretrained=True_act_func=Mish_criterion=LSEP_length=30_step=15_intersect=0.4_new_dataset_num_classes=24_optim=ranger_sched=plateau_lr=1e-3_SpecAug=True_MixUp=True_alpha=1_n_mels=128_valid=NotLikeTest_folds=5/resnest50d_score=0.86171']\n",
      "./rfcx_kaggle_git/RFCX_kaggle/experiments/logs_model=resnest50d_Pretrained=True_act_func=Mish_criterion=LSEP_length=30_step=15_intersect=0.4_new_dataset_num_classes=24_optim=ranger_sched=plateau_lr=1e-3_SpecAug=True_MixUp=True_alpha=1_n_mels=128_valid=NotLikeTest_folds=5/resnest50d_score=0.86171\n",
      "Ranger optimizer loaded. \n",
      "Gradient Centralization usage = True\n",
      "GC applied to both conv and fc layers\n"
     ]
    },
    {
     "name": "stderr",
     "output_type": "stream",
     "text": [
      "3.4148: 100%|██████████| 113/113 [00:21<00:00,  5.18it/s]\n",
      "  0%|          | 0/29 [00:00<?, ?it/s]"
     ]
    },
    {
     "name": "stdout",
     "output_type": "stream",
     "text": [
      "Predict test without augmentations\n"
     ]
    },
    {
     "name": "stderr",
     "output_type": "stream",
     "text": [
      "100%|██████████| 29/29 [00:02<00:00, 10.08it/s]\n",
      "3.3024: 100%|██████████| 113/113 [00:21<00:00,  5.18it/s]\n",
      "  0%|          | 0/29 [00:00<?, ?it/s]"
     ]
    },
    {
     "name": "stdout",
     "output_type": "stream",
     "text": [
      "Predict test without augmentations\n"
     ]
    },
    {
     "name": "stderr",
     "output_type": "stream",
     "text": [
      "100%|██████████| 29/29 [00:02<00:00, 10.36it/s]\n",
      "3.2361: 100%|██████████| 113/113 [00:21<00:00,  5.16it/s]\n",
      "  0%|          | 0/29 [00:00<?, ?it/s]"
     ]
    },
    {
     "name": "stdout",
     "output_type": "stream",
     "text": [
      "Predict test without augmentations\n"
     ]
    },
    {
     "name": "stderr",
     "output_type": "stream",
     "text": [
      "100%|██████████| 29/29 [00:02<00:00, 11.50it/s]\n",
      "3.1910: 100%|██████████| 113/113 [00:21<00:00,  5.18it/s]\n",
      "  0%|          | 0/29 [00:00<?, ?it/s]"
     ]
    },
    {
     "name": "stdout",
     "output_type": "stream",
     "text": [
      "Predict test without augmentations\n"
     ]
    },
    {
     "name": "stderr",
     "output_type": "stream",
     "text": [
      "100%|██████████| 29/29 [00:02<00:00, 10.16it/s]\n",
      "3.1553: 100%|██████████| 113/113 [00:21<00:00,  5.20it/s]\n",
      "  0%|          | 0/29 [00:00<?, ?it/s]"
     ]
    },
    {
     "name": "stdout",
     "output_type": "stream",
     "text": [
      "Predict test without augmentations\n"
     ]
    },
    {
     "name": "stderr",
     "output_type": "stream",
     "text": [
      "100%|██████████| 29/29 [00:02<00:00, 10.72it/s]\n",
      "3.1218: 100%|██████████| 113/113 [00:21<00:00,  5.18it/s]\n",
      "  0%|          | 0/29 [00:00<?, ?it/s]"
     ]
    },
    {
     "name": "stdout",
     "output_type": "stream",
     "text": [
      "Predict test without augmentations\n"
     ]
    },
    {
     "name": "stderr",
     "output_type": "stream",
     "text": [
      "100%|██████████| 29/29 [00:02<00:00, 10.52it/s]\n",
      "3.0772: 100%|██████████| 113/113 [00:21<00:00,  5.16it/s]\n",
      "  0%|          | 0/29 [00:00<?, ?it/s]"
     ]
    },
    {
     "name": "stdout",
     "output_type": "stream",
     "text": [
      "Predict test without augmentations\n"
     ]
    },
    {
     "name": "stderr",
     "output_type": "stream",
     "text": [
      "100%|██████████| 29/29 [00:02<00:00, 10.52it/s]\n",
      "3.0453: 100%|██████████| 113/113 [00:21<00:00,  5.18it/s]\n",
      "  0%|          | 0/29 [00:00<?, ?it/s]"
     ]
    },
    {
     "name": "stdout",
     "output_type": "stream",
     "text": [
      "Predict test without augmentations\n"
     ]
    },
    {
     "name": "stderr",
     "output_type": "stream",
     "text": [
      "100%|██████████| 29/29 [00:02<00:00, 11.79it/s]\n",
      "3.0058: 100%|██████████| 113/113 [00:21<00:00,  5.19it/s]\n",
      "  0%|          | 0/29 [00:00<?, ?it/s]"
     ]
    },
    {
     "name": "stdout",
     "output_type": "stream",
     "text": [
      "Predict test without augmentations\n"
     ]
    },
    {
     "name": "stderr",
     "output_type": "stream",
     "text": [
      "100%|██████████| 29/29 [00:02<00:00, 10.45it/s]\n",
      "2.9728: 100%|██████████| 113/113 [00:21<00:00,  5.16it/s]\n",
      "  0%|          | 0/29 [00:00<?, ?it/s]"
     ]
    },
    {
     "name": "stdout",
     "output_type": "stream",
     "text": [
      "Predict test without augmentations\n"
     ]
    },
    {
     "name": "stderr",
     "output_type": "stream",
     "text": [
      "100%|██████████| 29/29 [00:02<00:00, 10.04it/s]\n",
      "2.9533: 100%|██████████| 113/113 [00:21<00:00,  5.16it/s]\n",
      "  0%|          | 0/29 [00:00<?, ?it/s]"
     ]
    },
    {
     "name": "stdout",
     "output_type": "stream",
     "text": [
      "Predict test without augmentations\n"
     ]
    },
    {
     "name": "stderr",
     "output_type": "stream",
     "text": [
      "100%|██████████| 29/29 [00:02<00:00, 10.60it/s]\n",
      "2.9440: 100%|██████████| 113/113 [00:21<00:00,  5.20it/s]\n",
      "  0%|          | 0/29 [00:00<?, ?it/s]"
     ]
    },
    {
     "name": "stdout",
     "output_type": "stream",
     "text": [
      "Predict test without augmentations\n"
     ]
    },
    {
     "name": "stderr",
     "output_type": "stream",
     "text": [
      "100%|██████████| 29/29 [00:02<00:00, 10.35it/s]\n",
      "2.9469: 100%|██████████| 113/113 [00:21<00:00,  5.15it/s]\n",
      "  0%|          | 0/29 [00:00<?, ?it/s]"
     ]
    },
    {
     "name": "stdout",
     "output_type": "stream",
     "text": [
      "Predict test without augmentations\n"
     ]
    },
    {
     "name": "stderr",
     "output_type": "stream",
     "text": [
      "100%|██████████| 29/29 [00:02<00:00, 10.78it/s]\n",
      "2.9228: 100%|██████████| 113/113 [00:21<00:00,  5.15it/s]\n",
      "  0%|          | 0/29 [00:00<?, ?it/s]"
     ]
    },
    {
     "name": "stdout",
     "output_type": "stream",
     "text": [
      "Predict test without augmentations\n"
     ]
    },
    {
     "name": "stderr",
     "output_type": "stream",
     "text": [
      "100%|██████████| 29/29 [00:02<00:00, 10.27it/s]\n",
      "2.9344: 100%|██████████| 113/113 [00:21<00:00,  5.15it/s]\n",
      "  0%|          | 0/29 [00:00<?, ?it/s]"
     ]
    },
    {
     "name": "stdout",
     "output_type": "stream",
     "text": [
      "Predict test without augmentations\n"
     ]
    },
    {
     "name": "stderr",
     "output_type": "stream",
     "text": [
      "100%|██████████| 29/29 [00:02<00:00, 10.23it/s]\n",
      "2.9010: 100%|██████████| 113/113 [00:21<00:00,  5.17it/s]\n",
      "  0%|          | 0/29 [00:00<?, ?it/s]"
     ]
    },
    {
     "name": "stdout",
     "output_type": "stream",
     "text": [
      "Predict test without augmentations\n"
     ]
    },
    {
     "name": "stderr",
     "output_type": "stream",
     "text": [
      "100%|██████████| 29/29 [00:02<00:00, 10.86it/s]\n",
      "2.8992: 100%|██████████| 113/113 [00:21<00:00,  5.20it/s]\n",
      "  0%|          | 0/29 [00:00<?, ?it/s]"
     ]
    },
    {
     "name": "stdout",
     "output_type": "stream",
     "text": [
      "Predict test without augmentations\n"
     ]
    },
    {
     "name": "stderr",
     "output_type": "stream",
     "text": [
      "100%|██████████| 29/29 [00:02<00:00, 10.30it/s]\n",
      "2.9034: 100%|██████████| 113/113 [00:21<00:00,  5.16it/s]\n",
      "  0%|          | 0/29 [00:00<?, ?it/s]"
     ]
    },
    {
     "name": "stdout",
     "output_type": "stream",
     "text": [
      "Predict test without augmentations\n"
     ]
    },
    {
     "name": "stderr",
     "output_type": "stream",
     "text": [
      "100%|██████████| 29/29 [00:02<00:00, 10.99it/s]\n",
      "2.8997: 100%|██████████| 113/113 [00:22<00:00,  5.13it/s]\n",
      "  0%|          | 0/29 [00:00<?, ?it/s]"
     ]
    },
    {
     "name": "stdout",
     "output_type": "stream",
     "text": [
      "Predict test without augmentations\n"
     ]
    },
    {
     "name": "stderr",
     "output_type": "stream",
     "text": [
      "100%|██████████| 29/29 [00:02<00:00, 10.46it/s]\n",
      "2.8745: 100%|██████████| 113/113 [00:21<00:00,  5.14it/s]\n",
      "  0%|          | 0/29 [00:00<?, ?it/s]"
     ]
    },
    {
     "name": "stdout",
     "output_type": "stream",
     "text": [
      "Predict test without augmentations\n"
     ]
    },
    {
     "name": "stderr",
     "output_type": "stream",
     "text": [
      "100%|██████████| 29/29 [00:02<00:00, 10.44it/s]\n",
      "2.8713: 100%|██████████| 113/113 [00:21<00:00,  5.15it/s]\n",
      "  0%|          | 0/29 [00:00<?, ?it/s]"
     ]
    },
    {
     "name": "stdout",
     "output_type": "stream",
     "text": [
      "Predict test without augmentations\n"
     ]
    },
    {
     "name": "stderr",
     "output_type": "stream",
     "text": [
      "100%|██████████| 29/29 [00:02<00:00, 11.35it/s]\n",
      "2.8646: 100%|██████████| 113/113 [00:21<00:00,  5.18it/s]\n",
      "  0%|          | 0/29 [00:00<?, ?it/s]"
     ]
    },
    {
     "name": "stdout",
     "output_type": "stream",
     "text": [
      "Predict test without augmentations\n"
     ]
    },
    {
     "name": "stderr",
     "output_type": "stream",
     "text": [
      "100%|██████████| 29/29 [00:02<00:00, 10.53it/s]\n",
      "2.8587: 100%|██████████| 113/113 [00:21<00:00,  5.17it/s]\n",
      "  0%|          | 0/29 [00:00<?, ?it/s]"
     ]
    },
    {
     "name": "stdout",
     "output_type": "stream",
     "text": [
      "Predict test without augmentations\n"
     ]
    },
    {
     "name": "stderr",
     "output_type": "stream",
     "text": [
      "100%|██████████| 29/29 [00:02<00:00, 10.50it/s]\n",
      "2.8560: 100%|██████████| 113/113 [00:22<00:00,  5.05it/s]\n",
      "  0%|          | 0/29 [00:00<?, ?it/s]"
     ]
    },
    {
     "name": "stdout",
     "output_type": "stream",
     "text": [
      "Predict test without augmentations\n"
     ]
    },
    {
     "name": "stderr",
     "output_type": "stream",
     "text": [
      "100%|██████████| 29/29 [00:02<00:00, 10.20it/s]\n",
      "2.8581: 100%|██████████| 113/113 [00:22<00:00,  5.08it/s]\n",
      "  0%|          | 0/29 [00:00<?, ?it/s]"
     ]
    },
    {
     "name": "stdout",
     "output_type": "stream",
     "text": [
      "Predict test without augmentations\n"
     ]
    },
    {
     "name": "stderr",
     "output_type": "stream",
     "text": [
      "100%|██████████| 29/29 [00:02<00:00, 10.19it/s]\n",
      "2.8349: 100%|██████████| 113/113 [00:22<00:00,  5.13it/s]\n",
      "  0%|          | 0/29 [00:00<?, ?it/s]"
     ]
    },
    {
     "name": "stdout",
     "output_type": "stream",
     "text": [
      "Predict test without augmentations\n"
     ]
    },
    {
     "name": "stderr",
     "output_type": "stream",
     "text": [
      "100%|██████████| 29/29 [00:02<00:00, 10.59it/s]\n",
      "2.8498: 100%|██████████| 113/113 [00:21<00:00,  5.18it/s]\n",
      "  0%|          | 0/29 [00:00<?, ?it/s]"
     ]
    },
    {
     "name": "stdout",
     "output_type": "stream",
     "text": [
      "Predict test without augmentations\n"
     ]
    },
    {
     "name": "stderr",
     "output_type": "stream",
     "text": [
      "100%|██████████| 29/29 [00:02<00:00, 10.25it/s]\n",
      "2.8578: 100%|██████████| 113/113 [00:21<00:00,  5.17it/s]\n",
      "  0%|          | 0/29 [00:00<?, ?it/s]"
     ]
    },
    {
     "name": "stdout",
     "output_type": "stream",
     "text": [
      "Predict test without augmentations\n"
     ]
    },
    {
     "name": "stderr",
     "output_type": "stream",
     "text": [
      "100%|██████████| 29/29 [00:02<00:00, 10.25it/s]\n",
      "2.8257: 100%|██████████| 113/113 [00:21<00:00,  5.16it/s]\n",
      "  0%|          | 0/29 [00:00<?, ?it/s]"
     ]
    },
    {
     "name": "stdout",
     "output_type": "stream",
     "text": [
      "Predict test without augmentations\n"
     ]
    },
    {
     "name": "stderr",
     "output_type": "stream",
     "text": [
      "100%|██████████| 29/29 [00:02<00:00, 10.64it/s]\n",
      "2.8541: 100%|██████████| 113/113 [00:21<00:00,  5.20it/s]\n",
      "  0%|          | 0/29 [00:00<?, ?it/s]"
     ]
    },
    {
     "name": "stdout",
     "output_type": "stream",
     "text": [
      "Predict test without augmentations\n"
     ]
    },
    {
     "name": "stderr",
     "output_type": "stream",
     "text": [
      "100%|██████████| 29/29 [00:02<00:00, 10.50it/s]\n",
      "  0%|          | 0/113 [00:00<?, ?it/s]"
     ]
    },
    {
     "name": "stdout",
     "output_type": "stream",
     "text": [
      "Epoch    30: reducing learning rate of group 0 to 1.0000e-04.\n"
     ]
    },
    {
     "name": "stderr",
     "output_type": "stream",
     "text": [
      "2.8082: 100%|██████████| 113/113 [00:21<00:00,  5.17it/s]\n",
      "  0%|          | 0/29 [00:00<?, ?it/s]"
     ]
    },
    {
     "name": "stdout",
     "output_type": "stream",
     "text": [
      "Predict test without augmentations\n"
     ]
    },
    {
     "name": "stderr",
     "output_type": "stream",
     "text": [
      "100%|██████████| 29/29 [00:02<00:00, 10.68it/s]\n",
      "2.8235: 100%|██████████| 113/113 [00:21<00:00,  5.16it/s]\n",
      "  0%|          | 0/29 [00:00<?, ?it/s]"
     ]
    },
    {
     "name": "stdout",
     "output_type": "stream",
     "text": [
      "Predict test without augmentations\n"
     ]
    },
    {
     "name": "stderr",
     "output_type": "stream",
     "text": [
      "100%|██████████| 29/29 [00:02<00:00, 10.19it/s]\n",
      "2.8101: 100%|██████████| 113/113 [00:21<00:00,  5.18it/s]\n",
      "  0%|          | 0/29 [00:00<?, ?it/s]"
     ]
    },
    {
     "name": "stdout",
     "output_type": "stream",
     "text": [
      "Predict test without augmentations\n"
     ]
    },
    {
     "name": "stderr",
     "output_type": "stream",
     "text": [
      "100%|██████████| 29/29 [00:02<00:00, 10.29it/s]\n",
      "2.7623: 100%|██████████| 113/113 [00:21<00:00,  5.20it/s]\n",
      "  0%|          | 0/29 [00:00<?, ?it/s]"
     ]
    },
    {
     "name": "stdout",
     "output_type": "stream",
     "text": [
      "Predict test without augmentations\n"
     ]
    },
    {
     "name": "stderr",
     "output_type": "stream",
     "text": [
      "100%|██████████| 29/29 [00:02<00:00, 11.80it/s]\n",
      "2.7790: 100%|██████████| 113/113 [00:22<00:00,  5.13it/s]\n",
      "  0%|          | 0/29 [00:00<?, ?it/s]"
     ]
    },
    {
     "name": "stdout",
     "output_type": "stream",
     "text": [
      "Predict test without augmentations\n"
     ]
    },
    {
     "name": "stderr",
     "output_type": "stream",
     "text": [
      "100%|██████████| 29/29 [00:02<00:00, 10.24it/s]\n",
      "2.8006: 100%|██████████| 113/113 [00:21<00:00,  5.16it/s]\n",
      "  0%|          | 0/29 [00:00<?, ?it/s]"
     ]
    },
    {
     "name": "stdout",
     "output_type": "stream",
     "text": [
      "Predict test without augmentations\n"
     ]
    },
    {
     "name": "stderr",
     "output_type": "stream",
     "text": [
      "100%|██████████| 29/29 [00:02<00:00,  9.85it/s]\n",
      "2.7769: 100%|██████████| 113/113 [00:21<00:00,  5.18it/s]\n",
      "  0%|          | 0/29 [00:00<?, ?it/s]"
     ]
    },
    {
     "name": "stdout",
     "output_type": "stream",
     "text": [
      "Predict test without augmentations\n"
     ]
    },
    {
     "name": "stderr",
     "output_type": "stream",
     "text": [
      "100%|██████████| 29/29 [00:02<00:00, 10.33it/s]\n",
      "2.7797: 100%|██████████| 113/113 [00:21<00:00,  5.16it/s]\n",
      "  0%|          | 0/29 [00:00<?, ?it/s]"
     ]
    },
    {
     "name": "stdout",
     "output_type": "stream",
     "text": [
      "Predict test without augmentations\n"
     ]
    },
    {
     "name": "stderr",
     "output_type": "stream",
     "text": [
      "100%|██████████| 29/29 [00:02<00:00, 10.29it/s]\n",
      "2.7734: 100%|██████████| 113/113 [00:21<00:00,  5.14it/s]\n",
      "  0%|          | 0/29 [00:00<?, ?it/s]"
     ]
    },
    {
     "name": "stdout",
     "output_type": "stream",
     "text": [
      "Predict test without augmentations\n"
     ]
    },
    {
     "name": "stderr",
     "output_type": "stream",
     "text": [
      "100%|██████████| 29/29 [00:02<00:00, 10.54it/s]\n",
      "2.7839: 100%|██████████| 113/113 [00:22<00:00,  5.13it/s]\n",
      "  0%|          | 0/29 [00:00<?, ?it/s]"
     ]
    },
    {
     "name": "stdout",
     "output_type": "stream",
     "text": [
      "Predict test without augmentations\n"
     ]
    },
    {
     "name": "stderr",
     "output_type": "stream",
     "text": [
      "100%|██████████| 29/29 [00:02<00:00, 10.18it/s]\n",
      "2.7800: 100%|██████████| 113/113 [00:22<00:00,  5.12it/s]\n",
      "  0%|          | 0/29 [00:00<?, ?it/s]"
     ]
    },
    {
     "name": "stdout",
     "output_type": "stream",
     "text": [
      "Predict test without augmentations\n"
     ]
    },
    {
     "name": "stderr",
     "output_type": "stream",
     "text": [
      "100%|██████████| 29/29 [00:02<00:00, 11.48it/s]\n",
      "2.7805: 100%|██████████| 113/113 [00:22<00:00,  5.13it/s]\n",
      "  0%|          | 0/29 [00:00<?, ?it/s]"
     ]
    },
    {
     "name": "stdout",
     "output_type": "stream",
     "text": [
      "Predict test without augmentations\n"
     ]
    },
    {
     "name": "stderr",
     "output_type": "stream",
     "text": [
      "100%|██████████| 29/29 [00:02<00:00, 10.27it/s]\n",
      "2.7581: 100%|██████████| 113/113 [00:21<00:00,  5.19it/s]\n",
      "  0%|          | 0/29 [00:00<?, ?it/s]"
     ]
    },
    {
     "name": "stdout",
     "output_type": "stream",
     "text": [
      "Predict test without augmentations\n"
     ]
    },
    {
     "name": "stderr",
     "output_type": "stream",
     "text": [
      "100%|██████████| 29/29 [00:02<00:00, 10.86it/s]\n",
      "  0%|          | 0/113 [00:00<?, ?it/s]"
     ]
    },
    {
     "name": "stdout",
     "output_type": "stream",
     "text": [
      "Epoch    43: reducing learning rate of group 0 to 1.0000e-05.\n"
     ]
    },
    {
     "name": "stderr",
     "output_type": "stream",
     "text": [
      "2.7598: 100%|██████████| 113/113 [00:21<00:00,  5.15it/s]\n",
      "  0%|          | 0/29 [00:00<?, ?it/s]"
     ]
    },
    {
     "name": "stdout",
     "output_type": "stream",
     "text": [
      "Predict test without augmentations\n"
     ]
    },
    {
     "name": "stderr",
     "output_type": "stream",
     "text": [
      "100%|██████████| 29/29 [00:02<00:00, 10.28it/s]\n",
      "2.7598: 100%|██████████| 113/113 [00:21<00:00,  5.18it/s]\n",
      "  0%|          | 0/29 [00:00<?, ?it/s]"
     ]
    },
    {
     "name": "stdout",
     "output_type": "stream",
     "text": [
      "Predict test without augmentations\n"
     ]
    },
    {
     "name": "stderr",
     "output_type": "stream",
     "text": [
      "100%|██████████| 29/29 [00:02<00:00, 11.26it/s]\n",
      "2.7790: 100%|██████████| 113/113 [00:21<00:00,  5.18it/s]\n",
      "  0%|          | 0/29 [00:00<?, ?it/s]"
     ]
    },
    {
     "name": "stdout",
     "output_type": "stream",
     "text": [
      "Predict test without augmentations\n"
     ]
    },
    {
     "name": "stderr",
     "output_type": "stream",
     "text": [
      "100%|██████████| 29/29 [00:02<00:00, 10.13it/s]\n",
      "2.7517: 100%|██████████| 113/113 [00:21<00:00,  5.16it/s]\n",
      "  0%|          | 0/29 [00:00<?, ?it/s]"
     ]
    },
    {
     "name": "stdout",
     "output_type": "stream",
     "text": [
      "Predict test without augmentations\n"
     ]
    },
    {
     "name": "stderr",
     "output_type": "stream",
     "text": [
      "100%|██████████| 29/29 [00:02<00:00, 10.49it/s]\n",
      "2.7784: 100%|██████████| 113/113 [00:21<00:00,  5.15it/s]\n",
      "  0%|          | 0/29 [00:00<?, ?it/s]"
     ]
    },
    {
     "name": "stdout",
     "output_type": "stream",
     "text": [
      "Predict test without augmentations\n"
     ]
    },
    {
     "name": "stderr",
     "output_type": "stream",
     "text": [
      "100%|██████████| 29/29 [00:02<00:00, 10.58it/s]\n",
      "2.7473: 100%|██████████| 113/113 [00:21<00:00,  5.20it/s]\n",
      "  0%|          | 0/29 [00:00<?, ?it/s]"
     ]
    },
    {
     "name": "stdout",
     "output_type": "stream",
     "text": [
      "Predict test without augmentations\n"
     ]
    },
    {
     "name": "stderr",
     "output_type": "stream",
     "text": [
      "100%|██████████| 29/29 [00:02<00:00, 10.27it/s]\n",
      "  0%|          | 0/113 [00:00<?, ?it/s]"
     ]
    },
    {
     "name": "stdout",
     "output_type": "stream",
     "text": [
      "Epoch    49: reducing learning rate of group 0 to 1.0000e-06.\n"
     ]
    },
    {
     "name": "stderr",
     "output_type": "stream",
     "text": [
      "2.7740: 100%|██████████| 113/113 [00:21<00:00,  5.19it/s]\n",
      "  0%|          | 0/29 [00:00<?, ?it/s]"
     ]
    },
    {
     "name": "stdout",
     "output_type": "stream",
     "text": [
      "Predict test without augmentations\n"
     ]
    },
    {
     "name": "stderr",
     "output_type": "stream",
     "text": [
      "100%|██████████| 29/29 [00:02<00:00, 10.74it/s]\n",
      "2.7681: 100%|██████████| 113/113 [00:21<00:00,  5.18it/s]\n",
      "  0%|          | 0/29 [00:00<?, ?it/s]"
     ]
    },
    {
     "name": "stdout",
     "output_type": "stream",
     "text": [
      "Predict test without augmentations\n"
     ]
    },
    {
     "name": "stderr",
     "output_type": "stream",
     "text": [
      "100%|██████████| 29/29 [00:02<00:00, 10.36it/s]\n",
      "2.7406: 100%|██████████| 113/113 [00:22<00:00,  5.11it/s]\n",
      "  0%|          | 0/29 [00:00<?, ?it/s]"
     ]
    },
    {
     "name": "stdout",
     "output_type": "stream",
     "text": [
      "Predict test without augmentations\n"
     ]
    },
    {
     "name": "stderr",
     "output_type": "stream",
     "text": [
      "100%|██████████| 29/29 [00:02<00:00, 10.05it/s]\n",
      "2.7807: 100%|██████████| 113/113 [00:21<00:00,  5.17it/s]\n",
      "  0%|          | 0/29 [00:00<?, ?it/s]"
     ]
    },
    {
     "name": "stdout",
     "output_type": "stream",
     "text": [
      "Predict test without augmentations\n"
     ]
    },
    {
     "name": "stderr",
     "output_type": "stream",
     "text": [
      "100%|██████████| 29/29 [00:02<00:00, 10.45it/s]\n",
      "2.7567: 100%|██████████| 113/113 [00:21<00:00,  5.18it/s]\n",
      "  0%|          | 0/29 [00:00<?, ?it/s]"
     ]
    },
    {
     "name": "stdout",
     "output_type": "stream",
     "text": [
      "Predict test without augmentations\n"
     ]
    },
    {
     "name": "stderr",
     "output_type": "stream",
     "text": [
      "100%|██████████| 29/29 [00:02<00:00, 10.57it/s]\n",
      "2.7644: 100%|██████████| 113/113 [00:21<00:00,  5.16it/s]\n",
      "  0%|          | 0/29 [00:00<?, ?it/s]"
     ]
    },
    {
     "name": "stdout",
     "output_type": "stream",
     "text": [
      "Predict test without augmentations\n"
     ]
    },
    {
     "name": "stderr",
     "output_type": "stream",
     "text": [
      "100%|██████████| 29/29 [00:02<00:00, 11.20it/s]\n",
      "2.7640: 100%|██████████| 113/113 [00:21<00:00,  5.15it/s]\n",
      "  0%|          | 0/29 [00:00<?, ?it/s]"
     ]
    },
    {
     "name": "stdout",
     "output_type": "stream",
     "text": [
      "Predict test without augmentations\n"
     ]
    },
    {
     "name": "stderr",
     "output_type": "stream",
     "text": [
      "100%|██████████| 29/29 [00:02<00:00, 10.39it/s]\n",
      "2.7777: 100%|██████████| 113/113 [00:22<00:00,  5.11it/s]\n",
      "  0%|          | 0/29 [00:00<?, ?it/s]"
     ]
    },
    {
     "name": "stdout",
     "output_type": "stream",
     "text": [
      "Predict test without augmentations\n"
     ]
    },
    {
     "name": "stderr",
     "output_type": "stream",
     "text": [
      "100%|██████████| 29/29 [00:02<00:00, 11.83it/s]\n",
      "2.7675: 100%|██████████| 113/113 [00:21<00:00,  5.16it/s]\n",
      "  0%|          | 0/29 [00:00<?, ?it/s]"
     ]
    },
    {
     "name": "stdout",
     "output_type": "stream",
     "text": [
      "Predict test without augmentations\n"
     ]
    },
    {
     "name": "stderr",
     "output_type": "stream",
     "text": [
      "100%|██████████| 29/29 [00:02<00:00, 10.28it/s]\n",
      "2.7683: 100%|██████████| 113/113 [00:21<00:00,  5.18it/s]\n",
      "  0%|          | 0/29 [00:00<?, ?it/s]"
     ]
    },
    {
     "name": "stdout",
     "output_type": "stream",
     "text": [
      "Predict test without augmentations\n"
     ]
    },
    {
     "name": "stderr",
     "output_type": "stream",
     "text": [
      "100%|██████████| 29/29 [00:02<00:00, 11.25it/s]\n",
      "2.7547: 100%|██████████| 113/113 [00:21<00:00,  5.18it/s]\n",
      "  0%|          | 0/29 [00:00<?, ?it/s]"
     ]
    },
    {
     "name": "stdout",
     "output_type": "stream",
     "text": [
      "Predict test without augmentations\n"
     ]
    },
    {
     "name": "stderr",
     "output_type": "stream",
     "text": [
      "100%|██████████| 29/29 [00:02<00:00, 10.30it/s]\n",
      "2.7675: 100%|██████████| 113/113 [00:22<00:00,  5.13it/s]\n",
      "  0%|          | 0/29 [00:00<?, ?it/s]"
     ]
    },
    {
     "name": "stdout",
     "output_type": "stream",
     "text": [
      "Predict test without augmentations\n"
     ]
    },
    {
     "name": "stderr",
     "output_type": "stream",
     "text": [
      "100%|██████████| 29/29 [00:02<00:00, 10.10it/s]\n"
     ]
    },
    {
     "name": "stdout",
     "output_type": "stream",
     "text": [
      "['./rfcx_kaggle_git/RFCX_kaggle/experiments/logs_model=resnest50d_Pretrained=True_act_func=Mish_criterion=LSEP_length=30_step=15_intersect=0.4_new_dataset_num_classes=24_optim=ranger_sched=plateau_lr=1e-3_SpecAug=True_MixUp=True_alpha=1_n_mels=128_valid=NotLikeTest_folds=5/resnest50d_score=0.27260', './rfcx_kaggle_git/RFCX_kaggle/experiments/logs_model=resnest50d_Pretrained=True_act_func=Mish_criterion=LSEP_length=30_step=15_intersect=0.4_new_dataset_num_classes=24_optim=ranger_sched=plateau_lr=1e-3_SpecAug=True_MixUp=True_alpha=1_n_mels=128_valid=NotLikeTest_folds=5/resnest50d_score=0.38074', './rfcx_kaggle_git/RFCX_kaggle/experiments/logs_model=resnest50d_Pretrained=True_act_func=Mish_criterion=LSEP_length=30_step=15_intersect=0.4_new_dataset_num_classes=24_optim=ranger_sched=plateau_lr=1e-3_SpecAug=True_MixUp=True_alpha=1_n_mels=128_valid=NotLikeTest_folds=5/resnest50d_score=0.45367', './rfcx_kaggle_git/RFCX_kaggle/experiments/logs_model=resnest50d_Pretrained=True_act_func=Mish_criterion=LSEP_length=30_step=15_intersect=0.4_new_dataset_num_classes=24_optim=ranger_sched=plateau_lr=1e-3_SpecAug=True_MixUp=True_alpha=1_n_mels=128_valid=NotLikeTest_folds=5/resnest50d_score=0.53936', './rfcx_kaggle_git/RFCX_kaggle/experiments/logs_model=resnest50d_Pretrained=True_act_func=Mish_criterion=LSEP_length=30_step=15_intersect=0.4_new_dataset_num_classes=24_optim=ranger_sched=plateau_lr=1e-3_SpecAug=True_MixUp=True_alpha=1_n_mels=128_valid=NotLikeTest_folds=5/resnest50d_score=0.55784', './rfcx_kaggle_git/RFCX_kaggle/experiments/logs_model=resnest50d_Pretrained=True_act_func=Mish_criterion=LSEP_length=30_step=15_intersect=0.4_new_dataset_num_classes=24_optim=ranger_sched=plateau_lr=1e-3_SpecAug=True_MixUp=True_alpha=1_n_mels=128_valid=NotLikeTest_folds=5/resnest50d_score=0.64049', './rfcx_kaggle_git/RFCX_kaggle/experiments/logs_model=resnest50d_Pretrained=True_act_func=Mish_criterion=LSEP_length=30_step=15_intersect=0.4_new_dataset_num_classes=24_optim=ranger_sched=plateau_lr=1e-3_SpecAug=True_MixUp=True_alpha=1_n_mels=128_valid=NotLikeTest_folds=5/resnest50d_score=0.73003', './rfcx_kaggle_git/RFCX_kaggle/experiments/logs_model=resnest50d_Pretrained=True_act_func=Mish_criterion=LSEP_length=30_step=15_intersect=0.4_new_dataset_num_classes=24_optim=ranger_sched=plateau_lr=1e-3_SpecAug=True_MixUp=True_alpha=1_n_mels=128_valid=NotLikeTest_folds=5/resnest50d_score=0.73779', './rfcx_kaggle_git/RFCX_kaggle/experiments/logs_model=resnest50d_Pretrained=True_act_func=Mish_criterion=LSEP_length=30_step=15_intersect=0.4_new_dataset_num_classes=24_optim=ranger_sched=plateau_lr=1e-3_SpecAug=True_MixUp=True_alpha=1_n_mels=128_valid=NotLikeTest_folds=5/resnest50d_score=0.78426', './rfcx_kaggle_git/RFCX_kaggle/experiments/logs_model=resnest50d_Pretrained=True_act_func=Mish_criterion=LSEP_length=30_step=15_intersect=0.4_new_dataset_num_classes=24_optim=ranger_sched=plateau_lr=1e-3_SpecAug=True_MixUp=True_alpha=1_n_mels=128_valid=NotLikeTest_folds=5/resnest50d_score=0.78475', './rfcx_kaggle_git/RFCX_kaggle/experiments/logs_model=resnest50d_Pretrained=True_act_func=Mish_criterion=LSEP_length=30_step=15_intersect=0.4_new_dataset_num_classes=24_optim=ranger_sched=plateau_lr=1e-3_SpecAug=True_MixUp=True_alpha=1_n_mels=128_valid=NotLikeTest_folds=5/resnest50d_score=0.78937', './rfcx_kaggle_git/RFCX_kaggle/experiments/logs_model=resnest50d_Pretrained=True_act_func=Mish_criterion=LSEP_length=30_step=15_intersect=0.4_new_dataset_num_classes=24_optim=ranger_sched=plateau_lr=1e-3_SpecAug=True_MixUp=True_alpha=1_n_mels=128_valid=NotLikeTest_folds=5/resnest50d_score=0.79195', './rfcx_kaggle_git/RFCX_kaggle/experiments/logs_model=resnest50d_Pretrained=True_act_func=Mish_criterion=LSEP_length=30_step=15_intersect=0.4_new_dataset_num_classes=24_optim=ranger_sched=plateau_lr=1e-3_SpecAug=True_MixUp=True_alpha=1_n_mels=128_valid=NotLikeTest_folds=5/resnest50d_score=0.79967', './rfcx_kaggle_git/RFCX_kaggle/experiments/logs_model=resnest50d_Pretrained=True_act_func=Mish_criterion=LSEP_length=30_step=15_intersect=0.4_new_dataset_num_classes=24_optim=ranger_sched=plateau_lr=1e-3_SpecAug=True_MixUp=True_alpha=1_n_mels=128_valid=NotLikeTest_folds=5/resnest50d_score=0.81007', './rfcx_kaggle_git/RFCX_kaggle/experiments/logs_model=resnest50d_Pretrained=True_act_func=Mish_criterion=LSEP_length=30_step=15_intersect=0.4_new_dataset_num_classes=24_optim=ranger_sched=plateau_lr=1e-3_SpecAug=True_MixUp=True_alpha=1_n_mels=128_valid=NotLikeTest_folds=5/resnest50d_score=0.82527', './rfcx_kaggle_git/RFCX_kaggle/experiments/logs_model=resnest50d_Pretrained=True_act_func=Mish_criterion=LSEP_length=30_step=15_intersect=0.4_new_dataset_num_classes=24_optim=ranger_sched=plateau_lr=1e-3_SpecAug=True_MixUp=True_alpha=1_n_mels=128_valid=NotLikeTest_folds=5/resnest50d_score=0.83204', './rfcx_kaggle_git/RFCX_kaggle/experiments/logs_model=resnest50d_Pretrained=True_act_func=Mish_criterion=LSEP_length=30_step=15_intersect=0.4_new_dataset_num_classes=24_optim=ranger_sched=plateau_lr=1e-3_SpecAug=True_MixUp=True_alpha=1_n_mels=128_valid=NotLikeTest_folds=5/resnest50d_score=0.84660', './rfcx_kaggle_git/RFCX_kaggle/experiments/logs_model=resnest50d_Pretrained=True_act_func=Mish_criterion=LSEP_length=30_step=15_intersect=0.4_new_dataset_num_classes=24_optim=ranger_sched=plateau_lr=1e-3_SpecAug=True_MixUp=True_alpha=1_n_mels=128_valid=NotLikeTest_folds=5/resnest50d_score=0.85780', './rfcx_kaggle_git/RFCX_kaggle/experiments/logs_model=resnest50d_Pretrained=True_act_func=Mish_criterion=LSEP_length=30_step=15_intersect=0.4_new_dataset_num_classes=24_optim=ranger_sched=plateau_lr=1e-3_SpecAug=True_MixUp=True_alpha=1_n_mels=128_valid=NotLikeTest_folds=5/resnest50d_score=0.86211']\n",
      "./rfcx_kaggle_git/RFCX_kaggle/experiments/logs_model=resnest50d_Pretrained=True_act_func=Mish_criterion=LSEP_length=30_step=15_intersect=0.4_new_dataset_num_classes=24_optim=ranger_sched=plateau_lr=1e-3_SpecAug=True_MixUp=True_alpha=1_n_mels=128_valid=NotLikeTest_folds=5/resnest50d_score=0.86211\n",
      "Ranger optimizer loaded. \n",
      "Gradient Centralization usage = True\n",
      "GC applied to both conv and fc layers\n"
     ]
    },
    {
     "name": "stderr",
     "output_type": "stream",
     "text": [
      "3.4007: 100%|██████████| 113/113 [00:21<00:00,  5.16it/s]\n",
      "  0%|          | 0/29 [00:00<?, ?it/s]"
     ]
    },
    {
     "name": "stdout",
     "output_type": "stream",
     "text": [
      "Predict test without augmentations\n"
     ]
    },
    {
     "name": "stderr",
     "output_type": "stream",
     "text": [
      "100%|██████████| 29/29 [00:02<00:00, 11.23it/s]\n",
      "3.3021: 100%|██████████| 113/113 [00:21<00:00,  5.14it/s]\n",
      "  0%|          | 0/29 [00:00<?, ?it/s]"
     ]
    },
    {
     "name": "stdout",
     "output_type": "stream",
     "text": [
      "Predict test without augmentations\n"
     ]
    },
    {
     "name": "stderr",
     "output_type": "stream",
     "text": [
      "100%|██████████| 29/29 [00:02<00:00, 10.30it/s]\n",
      "3.2317: 100%|██████████| 113/113 [00:22<00:00,  5.08it/s]\n",
      "  0%|          | 0/29 [00:00<?, ?it/s]"
     ]
    },
    {
     "name": "stdout",
     "output_type": "stream",
     "text": [
      "Predict test without augmentations\n"
     ]
    },
    {
     "name": "stderr",
     "output_type": "stream",
     "text": [
      "100%|██████████| 29/29 [00:02<00:00, 10.51it/s]\n",
      "3.1710: 100%|██████████| 113/113 [00:21<00:00,  5.18it/s]\n",
      "  0%|          | 0/29 [00:00<?, ?it/s]"
     ]
    },
    {
     "name": "stdout",
     "output_type": "stream",
     "text": [
      "Predict test without augmentations\n"
     ]
    },
    {
     "name": "stderr",
     "output_type": "stream",
     "text": [
      "100%|██████████| 29/29 [00:02<00:00, 11.65it/s]\n",
      "3.0962: 100%|██████████| 113/113 [00:21<00:00,  5.18it/s]\n",
      "  0%|          | 0/29 [00:00<?, ?it/s]"
     ]
    },
    {
     "name": "stdout",
     "output_type": "stream",
     "text": [
      "Predict test without augmentations\n"
     ]
    },
    {
     "name": "stderr",
     "output_type": "stream",
     "text": [
      "100%|██████████| 29/29 [00:02<00:00, 10.11it/s]\n",
      "3.0772: 100%|██████████| 113/113 [00:21<00:00,  5.18it/s]\n",
      "  0%|          | 0/29 [00:00<?, ?it/s]"
     ]
    },
    {
     "name": "stdout",
     "output_type": "stream",
     "text": [
      "Predict test without augmentations\n"
     ]
    },
    {
     "name": "stderr",
     "output_type": "stream",
     "text": [
      "100%|██████████| 29/29 [00:02<00:00, 10.41it/s]\n",
      "3.0376: 100%|██████████| 113/113 [00:21<00:00,  5.17it/s]\n",
      "  0%|          | 0/29 [00:00<?, ?it/s]"
     ]
    },
    {
     "name": "stdout",
     "output_type": "stream",
     "text": [
      "Predict test without augmentations\n"
     ]
    },
    {
     "name": "stderr",
     "output_type": "stream",
     "text": [
      "100%|██████████| 29/29 [00:02<00:00, 10.96it/s]\n",
      "3.0114: 100%|██████████| 113/113 [00:21<00:00,  5.17it/s]\n",
      "  0%|          | 0/29 [00:00<?, ?it/s]"
     ]
    },
    {
     "name": "stdout",
     "output_type": "stream",
     "text": [
      "Predict test without augmentations\n"
     ]
    },
    {
     "name": "stderr",
     "output_type": "stream",
     "text": [
      "100%|██████████| 29/29 [00:02<00:00, 10.40it/s]\n",
      "2.9859: 100%|██████████| 113/113 [00:21<00:00,  5.17it/s]\n",
      "  0%|          | 0/29 [00:00<?, ?it/s]"
     ]
    },
    {
     "name": "stdout",
     "output_type": "stream",
     "text": [
      "Predict test without augmentations\n"
     ]
    },
    {
     "name": "stderr",
     "output_type": "stream",
     "text": [
      "100%|██████████| 29/29 [00:02<00:00, 10.45it/s]\n",
      "2.9729: 100%|██████████| 113/113 [00:21<00:00,  5.17it/s]\n",
      "  0%|          | 0/29 [00:00<?, ?it/s]"
     ]
    },
    {
     "name": "stdout",
     "output_type": "stream",
     "text": [
      "Predict test without augmentations\n"
     ]
    },
    {
     "name": "stderr",
     "output_type": "stream",
     "text": [
      "100%|██████████| 29/29 [00:02<00:00, 10.35it/s]\n",
      "2.9670: 100%|██████████| 113/113 [00:21<00:00,  5.16it/s]\n",
      "  0%|          | 0/29 [00:00<?, ?it/s]"
     ]
    },
    {
     "name": "stdout",
     "output_type": "stream",
     "text": [
      "Predict test without augmentations\n"
     ]
    },
    {
     "name": "stderr",
     "output_type": "stream",
     "text": [
      "100%|██████████| 29/29 [00:02<00:00, 10.28it/s]\n",
      "2.9343: 100%|██████████| 113/113 [00:22<00:00,  5.02it/s]\n",
      "  0%|          | 0/29 [00:00<?, ?it/s]"
     ]
    },
    {
     "name": "stdout",
     "output_type": "stream",
     "text": [
      "Predict test without augmentations\n"
     ]
    },
    {
     "name": "stderr",
     "output_type": "stream",
     "text": [
      "100%|██████████| 29/29 [00:02<00:00, 10.49it/s]\n",
      "2.9153: 100%|██████████| 113/113 [00:22<00:00,  5.10it/s]\n",
      "  0%|          | 0/29 [00:00<?, ?it/s]"
     ]
    },
    {
     "name": "stdout",
     "output_type": "stream",
     "text": [
      "Predict test without augmentations\n"
     ]
    },
    {
     "name": "stderr",
     "output_type": "stream",
     "text": [
      "100%|██████████| 29/29 [00:02<00:00, 10.23it/s]\n",
      "2.9232: 100%|██████████| 113/113 [00:21<00:00,  5.19it/s]\n",
      "  0%|          | 0/29 [00:00<?, ?it/s]"
     ]
    },
    {
     "name": "stdout",
     "output_type": "stream",
     "text": [
      "Predict test without augmentations\n"
     ]
    },
    {
     "name": "stderr",
     "output_type": "stream",
     "text": [
      "100%|██████████| 29/29 [00:02<00:00, 10.10it/s]\n",
      "2.8991: 100%|██████████| 113/113 [00:21<00:00,  5.21it/s]\n",
      "  0%|          | 0/29 [00:00<?, ?it/s]"
     ]
    },
    {
     "name": "stdout",
     "output_type": "stream",
     "text": [
      "Predict test without augmentations\n"
     ]
    },
    {
     "name": "stderr",
     "output_type": "stream",
     "text": [
      "100%|██████████| 29/29 [00:02<00:00, 14.08it/s]\n",
      "2.9017: 100%|██████████| 113/113 [00:22<00:00,  5.06it/s]\n",
      "  0%|          | 0/29 [00:00<?, ?it/s]"
     ]
    },
    {
     "name": "stdout",
     "output_type": "stream",
     "text": [
      "Predict test without augmentations\n"
     ]
    },
    {
     "name": "stderr",
     "output_type": "stream",
     "text": [
      "100%|██████████| 29/29 [00:02<00:00, 12.71it/s]\n",
      "2.8985: 100%|██████████| 113/113 [00:22<00:00,  5.11it/s]\n",
      "  0%|          | 0/29 [00:00<?, ?it/s]"
     ]
    },
    {
     "name": "stdout",
     "output_type": "stream",
     "text": [
      "Predict test without augmentations\n"
     ]
    },
    {
     "name": "stderr",
     "output_type": "stream",
     "text": [
      "100%|██████████| 29/29 [00:02<00:00, 14.09it/s]\n",
      "2.8921: 100%|██████████| 113/113 [00:22<00:00,  5.05it/s]\n",
      "  0%|          | 0/29 [00:00<?, ?it/s]"
     ]
    },
    {
     "name": "stdout",
     "output_type": "stream",
     "text": [
      "Predict test without augmentations\n"
     ]
    },
    {
     "name": "stderr",
     "output_type": "stream",
     "text": [
      "100%|██████████| 29/29 [00:02<00:00, 14.19it/s]\n",
      "2.8975: 100%|██████████| 113/113 [00:22<00:00,  5.03it/s]\n",
      "  0%|          | 0/29 [00:00<?, ?it/s]"
     ]
    },
    {
     "name": "stdout",
     "output_type": "stream",
     "text": [
      "Predict test without augmentations\n"
     ]
    },
    {
     "name": "stderr",
     "output_type": "stream",
     "text": [
      "100%|██████████| 29/29 [00:02<00:00, 13.03it/s]\n",
      "2.8745: 100%|██████████| 113/113 [00:22<00:00,  4.98it/s]\n",
      "  0%|          | 0/29 [00:00<?, ?it/s]"
     ]
    },
    {
     "name": "stdout",
     "output_type": "stream",
     "text": [
      "Predict test without augmentations\n"
     ]
    },
    {
     "name": "stderr",
     "output_type": "stream",
     "text": [
      "100%|██████████| 29/29 [00:02<00:00, 13.86it/s]\n",
      "2.8761: 100%|██████████| 113/113 [00:22<00:00,  5.10it/s]\n",
      "  0%|          | 0/29 [00:00<?, ?it/s]"
     ]
    },
    {
     "name": "stdout",
     "output_type": "stream",
     "text": [
      "Predict test without augmentations\n"
     ]
    },
    {
     "name": "stderr",
     "output_type": "stream",
     "text": [
      "100%|██████████| 29/29 [00:02<00:00, 13.35it/s]\n",
      "2.8645: 100%|██████████| 113/113 [00:22<00:00,  5.04it/s]\n",
      "  0%|          | 0/29 [00:00<?, ?it/s]"
     ]
    },
    {
     "name": "stdout",
     "output_type": "stream",
     "text": [
      "Predict test without augmentations\n"
     ]
    },
    {
     "name": "stderr",
     "output_type": "stream",
     "text": [
      "100%|██████████| 29/29 [00:02<00:00, 14.16it/s]\n",
      "2.8760: 100%|██████████| 113/113 [00:22<00:00,  5.03it/s]\n",
      "  0%|          | 0/29 [00:00<?, ?it/s]"
     ]
    },
    {
     "name": "stdout",
     "output_type": "stream",
     "text": [
      "Predict test without augmentations\n"
     ]
    },
    {
     "name": "stderr",
     "output_type": "stream",
     "text": [
      "100%|██████████| 29/29 [00:02<00:00, 14.35it/s]\n",
      "2.8669: 100%|██████████| 113/113 [00:22<00:00,  5.05it/s]\n",
      "  0%|          | 0/29 [00:00<?, ?it/s]"
     ]
    },
    {
     "name": "stdout",
     "output_type": "stream",
     "text": [
      "Predict test without augmentations\n"
     ]
    },
    {
     "name": "stderr",
     "output_type": "stream",
     "text": [
      "100%|██████████| 29/29 [00:02<00:00, 13.20it/s]\n",
      "2.8432: 100%|██████████| 113/113 [00:22<00:00,  5.07it/s]\n",
      "  0%|          | 0/29 [00:00<?, ?it/s]"
     ]
    },
    {
     "name": "stdout",
     "output_type": "stream",
     "text": [
      "Predict test without augmentations\n"
     ]
    },
    {
     "name": "stderr",
     "output_type": "stream",
     "text": [
      "100%|██████████| 29/29 [00:02<00:00, 14.25it/s]\n",
      "2.8286: 100%|██████████| 113/113 [00:21<00:00,  5.29it/s]\n",
      "  0%|          | 0/29 [00:00<?, ?it/s]"
     ]
    },
    {
     "name": "stdout",
     "output_type": "stream",
     "text": [
      "Predict test without augmentations\n"
     ]
    },
    {
     "name": "stderr",
     "output_type": "stream",
     "text": [
      "100%|██████████| 29/29 [00:02<00:00, 14.06it/s]\n",
      "2.8394: 100%|██████████| 113/113 [00:22<00:00,  5.12it/s]\n",
      "  0%|          | 0/29 [00:00<?, ?it/s]"
     ]
    },
    {
     "name": "stdout",
     "output_type": "stream",
     "text": [
      "Predict test without augmentations\n"
     ]
    },
    {
     "name": "stderr",
     "output_type": "stream",
     "text": [
      "100%|██████████| 29/29 [00:02<00:00, 13.29it/s]\n",
      "2.8403: 100%|██████████| 113/113 [00:21<00:00,  5.18it/s]\n",
      "  0%|          | 0/29 [00:00<?, ?it/s]"
     ]
    },
    {
     "name": "stdout",
     "output_type": "stream",
     "text": [
      "Predict test without augmentations\n"
     ]
    },
    {
     "name": "stderr",
     "output_type": "stream",
     "text": [
      "100%|██████████| 29/29 [00:02<00:00, 13.41it/s]\n",
      "2.8525: 100%|██████████| 113/113 [00:21<00:00,  5.22it/s]\n",
      "  0%|          | 0/29 [00:00<?, ?it/s]"
     ]
    },
    {
     "name": "stdout",
     "output_type": "stream",
     "text": [
      "Predict test without augmentations\n"
     ]
    },
    {
     "name": "stderr",
     "output_type": "stream",
     "text": [
      "100%|██████████| 29/29 [00:02<00:00, 13.54it/s]\n",
      "2.8263: 100%|██████████| 113/113 [00:21<00:00,  5.31it/s]\n",
      "  0%|          | 0/29 [00:00<?, ?it/s]"
     ]
    },
    {
     "name": "stdout",
     "output_type": "stream",
     "text": [
      "Predict test without augmentations\n"
     ]
    },
    {
     "name": "stderr",
     "output_type": "stream",
     "text": [
      "100%|██████████| 29/29 [00:02<00:00, 14.33it/s]\n",
      "2.8287: 100%|██████████| 113/113 [00:21<00:00,  5.32it/s]\n",
      "  0%|          | 0/29 [00:00<?, ?it/s]"
     ]
    },
    {
     "name": "stdout",
     "output_type": "stream",
     "text": [
      "Predict test without augmentations\n"
     ]
    },
    {
     "name": "stderr",
     "output_type": "stream",
     "text": [
      "100%|██████████| 29/29 [00:02<00:00, 13.72it/s]\n",
      "2.8245: 100%|██████████| 113/113 [00:21<00:00,  5.29it/s]\n",
      "  0%|          | 0/29 [00:00<?, ?it/s]"
     ]
    },
    {
     "name": "stdout",
     "output_type": "stream",
     "text": [
      "Predict test without augmentations\n"
     ]
    },
    {
     "name": "stderr",
     "output_type": "stream",
     "text": [
      "100%|██████████| 29/29 [00:02<00:00, 14.30it/s]\n",
      "2.8191: 100%|██████████| 113/113 [00:21<00:00,  5.26it/s]\n",
      "  0%|          | 0/29 [00:00<?, ?it/s]"
     ]
    },
    {
     "name": "stdout",
     "output_type": "stream",
     "text": [
      "Predict test without augmentations\n"
     ]
    },
    {
     "name": "stderr",
     "output_type": "stream",
     "text": [
      "100%|██████████| 29/29 [00:02<00:00, 14.49it/s]\n",
      "2.8471: 100%|██████████| 113/113 [00:21<00:00,  5.14it/s]\n",
      "  0%|          | 0/29 [00:00<?, ?it/s]"
     ]
    },
    {
     "name": "stdout",
     "output_type": "stream",
     "text": [
      "Predict test without augmentations\n"
     ]
    },
    {
     "name": "stderr",
     "output_type": "stream",
     "text": [
      "100%|██████████| 29/29 [00:02<00:00, 14.38it/s]\n",
      "2.8468: 100%|██████████| 113/113 [00:21<00:00,  5.26it/s]\n",
      "  0%|          | 0/29 [00:00<?, ?it/s]"
     ]
    },
    {
     "name": "stdout",
     "output_type": "stream",
     "text": [
      "Predict test without augmentations\n"
     ]
    },
    {
     "name": "stderr",
     "output_type": "stream",
     "text": [
      "100%|██████████| 29/29 [00:02<00:00, 14.03it/s]\n",
      "2.8295: 100%|██████████| 113/113 [00:22<00:00,  5.04it/s]\n",
      "  0%|          | 0/29 [00:00<?, ?it/s]"
     ]
    },
    {
     "name": "stdout",
     "output_type": "stream",
     "text": [
      "Predict test without augmentations\n"
     ]
    },
    {
     "name": "stderr",
     "output_type": "stream",
     "text": [
      "100%|██████████| 29/29 [00:02<00:00, 14.22it/s]\n",
      "2.8186: 100%|██████████| 113/113 [00:21<00:00,  5.19it/s]\n",
      "  0%|          | 0/29 [00:00<?, ?it/s]"
     ]
    },
    {
     "name": "stdout",
     "output_type": "stream",
     "text": [
      "Predict test without augmentations\n"
     ]
    },
    {
     "name": "stderr",
     "output_type": "stream",
     "text": [
      "100%|██████████| 29/29 [00:02<00:00, 14.34it/s]\n",
      "2.8095: 100%|██████████| 113/113 [00:21<00:00,  5.30it/s]\n",
      "  0%|          | 0/29 [00:00<?, ?it/s]"
     ]
    },
    {
     "name": "stdout",
     "output_type": "stream",
     "text": [
      "Predict test without augmentations\n"
     ]
    },
    {
     "name": "stderr",
     "output_type": "stream",
     "text": [
      "100%|██████████| 29/29 [00:02<00:00, 14.02it/s]\n",
      "  0%|          | 0/113 [00:00<?, ?it/s]"
     ]
    },
    {
     "name": "stdout",
     "output_type": "stream",
     "text": [
      "Epoch    38: reducing learning rate of group 0 to 1.0000e-04.\n"
     ]
    },
    {
     "name": "stderr",
     "output_type": "stream",
     "text": [
      "2.7779: 100%|██████████| 113/113 [00:21<00:00,  5.22it/s]\n",
      "  0%|          | 0/29 [00:00<?, ?it/s]"
     ]
    },
    {
     "name": "stdout",
     "output_type": "stream",
     "text": [
      "Predict test without augmentations\n"
     ]
    },
    {
     "name": "stderr",
     "output_type": "stream",
     "text": [
      "100%|██████████| 29/29 [00:02<00:00, 13.96it/s]\n",
      "2.7812: 100%|██████████| 113/113 [00:21<00:00,  5.17it/s]\n",
      "  0%|          | 0/29 [00:00<?, ?it/s]"
     ]
    },
    {
     "name": "stdout",
     "output_type": "stream",
     "text": [
      "Predict test without augmentations\n"
     ]
    },
    {
     "name": "stderr",
     "output_type": "stream",
     "text": [
      "100%|██████████| 29/29 [00:02<00:00, 14.18it/s]\n",
      "2.7722: 100%|██████████| 113/113 [00:21<00:00,  5.23it/s]\n",
      "  0%|          | 0/29 [00:00<?, ?it/s]"
     ]
    },
    {
     "name": "stdout",
     "output_type": "stream",
     "text": [
      "Predict test without augmentations\n"
     ]
    },
    {
     "name": "stderr",
     "output_type": "stream",
     "text": [
      "100%|██████████| 29/29 [00:02<00:00, 14.14it/s]\n",
      "2.7706: 100%|██████████| 113/113 [00:21<00:00,  5.23it/s]\n",
      "  0%|          | 0/29 [00:00<?, ?it/s]"
     ]
    },
    {
     "name": "stdout",
     "output_type": "stream",
     "text": [
      "Predict test without augmentations\n"
     ]
    },
    {
     "name": "stderr",
     "output_type": "stream",
     "text": [
      "100%|██████████| 29/29 [00:02<00:00, 14.27it/s]\n",
      "2.7588: 100%|██████████| 113/113 [00:22<00:00,  4.93it/s]\n",
      "  0%|          | 0/29 [00:00<?, ?it/s]"
     ]
    },
    {
     "name": "stdout",
     "output_type": "stream",
     "text": [
      "Predict test without augmentations\n"
     ]
    },
    {
     "name": "stderr",
     "output_type": "stream",
     "text": [
      "100%|██████████| 29/29 [00:02<00:00, 12.95it/s]\n",
      "2.7618: 100%|██████████| 113/113 [00:22<00:00,  4.94it/s]\n",
      "  0%|          | 0/29 [00:00<?, ?it/s]"
     ]
    },
    {
     "name": "stdout",
     "output_type": "stream",
     "text": [
      "Predict test without augmentations\n"
     ]
    },
    {
     "name": "stderr",
     "output_type": "stream",
     "text": [
      "100%|██████████| 29/29 [00:02<00:00, 14.19it/s]\n",
      "2.7739: 100%|██████████| 113/113 [00:22<00:00,  5.06it/s]\n",
      "  0%|          | 0/29 [00:00<?, ?it/s]"
     ]
    },
    {
     "name": "stdout",
     "output_type": "stream",
     "text": [
      "Predict test without augmentations\n"
     ]
    },
    {
     "name": "stderr",
     "output_type": "stream",
     "text": [
      "100%|██████████| 29/29 [00:02<00:00, 13.32it/s]\n",
      "2.7600: 100%|██████████| 113/113 [00:23<00:00,  4.89it/s]\n",
      "  0%|          | 0/29 [00:00<?, ?it/s]"
     ]
    },
    {
     "name": "stdout",
     "output_type": "stream",
     "text": [
      "Predict test without augmentations\n"
     ]
    },
    {
     "name": "stderr",
     "output_type": "stream",
     "text": [
      "100%|██████████| 29/29 [00:02<00:00, 13.26it/s]\n",
      "2.7470: 100%|██████████| 113/113 [00:21<00:00,  5.31it/s]\n",
      "  0%|          | 0/29 [00:00<?, ?it/s]"
     ]
    },
    {
     "name": "stdout",
     "output_type": "stream",
     "text": [
      "Predict test without augmentations\n"
     ]
    },
    {
     "name": "stderr",
     "output_type": "stream",
     "text": [
      "100%|██████████| 29/29 [00:02<00:00, 14.28it/s]\n",
      "2.7368: 100%|██████████| 113/113 [00:22<00:00,  5.12it/s]\n",
      "  0%|          | 0/29 [00:00<?, ?it/s]"
     ]
    },
    {
     "name": "stdout",
     "output_type": "stream",
     "text": [
      "Predict test without augmentations\n"
     ]
    },
    {
     "name": "stderr",
     "output_type": "stream",
     "text": [
      "100%|██████████| 29/29 [00:02<00:00, 13.96it/s]\n",
      "2.7474: 100%|██████████| 113/113 [00:21<00:00,  5.36it/s]\n",
      "  0%|          | 0/29 [00:00<?, ?it/s]"
     ]
    },
    {
     "name": "stdout",
     "output_type": "stream",
     "text": [
      "Predict test without augmentations\n"
     ]
    },
    {
     "name": "stderr",
     "output_type": "stream",
     "text": [
      "100%|██████████| 29/29 [00:02<00:00, 14.39it/s]\n",
      "2.7404: 100%|██████████| 113/113 [00:21<00:00,  5.24it/s]\n",
      "  0%|          | 0/29 [00:00<?, ?it/s]"
     ]
    },
    {
     "name": "stdout",
     "output_type": "stream",
     "text": [
      "Predict test without augmentations\n"
     ]
    },
    {
     "name": "stderr",
     "output_type": "stream",
     "text": [
      "100%|██████████| 29/29 [00:03<00:00,  8.20it/s]\n",
      "  0%|          | 0/113 [00:00<?, ?it/s]"
     ]
    },
    {
     "name": "stdout",
     "output_type": "stream",
     "text": [
      "Epoch    50: reducing learning rate of group 0 to 1.0000e-05.\n"
     ]
    },
    {
     "name": "stderr",
     "output_type": "stream",
     "text": [
      "2.7496: 100%|██████████| 113/113 [00:21<00:00,  5.20it/s]\n",
      "  0%|          | 0/29 [00:00<?, ?it/s]"
     ]
    },
    {
     "name": "stdout",
     "output_type": "stream",
     "text": [
      "Predict test without augmentations\n"
     ]
    },
    {
     "name": "stderr",
     "output_type": "stream",
     "text": [
      "100%|██████████| 29/29 [00:02<00:00, 13.19it/s]\n",
      "2.7652: 100%|██████████| 113/113 [00:22<00:00,  5.06it/s]\n",
      "  0%|          | 0/29 [00:00<?, ?it/s]"
     ]
    },
    {
     "name": "stdout",
     "output_type": "stream",
     "text": [
      "Predict test without augmentations\n"
     ]
    },
    {
     "name": "stderr",
     "output_type": "stream",
     "text": [
      "100%|██████████| 29/29 [00:02<00:00, 13.92it/s]\n",
      "2.7597: 100%|██████████| 113/113 [00:21<00:00,  5.17it/s]\n",
      "  0%|          | 0/29 [00:00<?, ?it/s]"
     ]
    },
    {
     "name": "stdout",
     "output_type": "stream",
     "text": [
      "Predict test without augmentations\n"
     ]
    },
    {
     "name": "stderr",
     "output_type": "stream",
     "text": [
      "100%|██████████| 29/29 [00:02<00:00, 14.30it/s]\n",
      "2.7623: 100%|██████████| 113/113 [00:21<00:00,  5.24it/s]\n",
      "  0%|          | 0/29 [00:00<?, ?it/s]"
     ]
    },
    {
     "name": "stdout",
     "output_type": "stream",
     "text": [
      "Predict test without augmentations\n"
     ]
    },
    {
     "name": "stderr",
     "output_type": "stream",
     "text": [
      "100%|██████████| 29/29 [00:02<00:00, 14.48it/s]\n",
      "2.7645: 100%|██████████| 113/113 [00:22<00:00,  5.08it/s]\n",
      "  0%|          | 0/29 [00:00<?, ?it/s]"
     ]
    },
    {
     "name": "stdout",
     "output_type": "stream",
     "text": [
      "Predict test without augmentations\n"
     ]
    },
    {
     "name": "stderr",
     "output_type": "stream",
     "text": [
      "100%|██████████| 29/29 [00:02<00:00, 11.83it/s]\n",
      "2.7590: 100%|██████████| 113/113 [00:21<00:00,  5.18it/s]\n",
      "  0%|          | 0/29 [00:00<?, ?it/s]"
     ]
    },
    {
     "name": "stdout",
     "output_type": "stream",
     "text": [
      "Predict test without augmentations\n"
     ]
    },
    {
     "name": "stderr",
     "output_type": "stream",
     "text": [
      "100%|██████████| 29/29 [00:02<00:00, 13.85it/s]\n",
      "2.7643: 100%|██████████| 113/113 [00:21<00:00,  5.22it/s]\n",
      "  0%|          | 0/29 [00:00<?, ?it/s]"
     ]
    },
    {
     "name": "stdout",
     "output_type": "stream",
     "text": [
      "Predict test without augmentations\n"
     ]
    },
    {
     "name": "stderr",
     "output_type": "stream",
     "text": [
      "100%|██████████| 29/29 [00:02<00:00, 13.92it/s]\n",
      "2.7633: 100%|██████████| 113/113 [00:21<00:00,  5.24it/s]\n",
      "  0%|          | 0/29 [00:00<?, ?it/s]"
     ]
    },
    {
     "name": "stdout",
     "output_type": "stream",
     "text": [
      "Predict test without augmentations\n"
     ]
    },
    {
     "name": "stderr",
     "output_type": "stream",
     "text": [
      "100%|██████████| 29/29 [00:02<00:00, 13.96it/s]\n",
      "2.7516: 100%|██████████| 113/113 [00:21<00:00,  5.21it/s]\n",
      "  0%|          | 0/29 [00:00<?, ?it/s]"
     ]
    },
    {
     "name": "stdout",
     "output_type": "stream",
     "text": [
      "Predict test without augmentations\n"
     ]
    },
    {
     "name": "stderr",
     "output_type": "stream",
     "text": [
      "100%|██████████| 29/29 [00:02<00:00, 13.95it/s]\n",
      "2.7490: 100%|██████████| 113/113 [00:21<00:00,  5.24it/s]\n",
      "  0%|          | 0/29 [00:00<?, ?it/s]"
     ]
    },
    {
     "name": "stdout",
     "output_type": "stream",
     "text": [
      "Predict test without augmentations\n"
     ]
    },
    {
     "name": "stderr",
     "output_type": "stream",
     "text": [
      "100%|██████████| 29/29 [00:02<00:00, 14.17it/s]\n",
      "2.7391: 100%|██████████| 113/113 [00:21<00:00,  5.38it/s]\n",
      "  0%|          | 0/29 [00:00<?, ?it/s]"
     ]
    },
    {
     "name": "stdout",
     "output_type": "stream",
     "text": [
      "Predict test without augmentations\n"
     ]
    },
    {
     "name": "stderr",
     "output_type": "stream",
     "text": [
      "100%|██████████| 29/29 [00:02<00:00, 14.16it/s]\n"
     ]
    },
    {
     "name": "stdout",
     "output_type": "stream",
     "text": [
      "['./rfcx_kaggle_git/RFCX_kaggle/experiments/logs_model=resnest50d_Pretrained=True_act_func=Mish_criterion=LSEP_length=30_step=15_intersect=0.4_new_dataset_num_classes=24_optim=ranger_sched=plateau_lr=1e-3_SpecAug=True_MixUp=True_alpha=1_n_mels=128_valid=NotLikeTest_folds=5/resnest50d_score=0.30141', './rfcx_kaggle_git/RFCX_kaggle/experiments/logs_model=resnest50d_Pretrained=True_act_func=Mish_criterion=LSEP_length=30_step=15_intersect=0.4_new_dataset_num_classes=24_optim=ranger_sched=plateau_lr=1e-3_SpecAug=True_MixUp=True_alpha=1_n_mels=128_valid=NotLikeTest_folds=5/resnest50d_score=0.35165', './rfcx_kaggle_git/RFCX_kaggle/experiments/logs_model=resnest50d_Pretrained=True_act_func=Mish_criterion=LSEP_length=30_step=15_intersect=0.4_new_dataset_num_classes=24_optim=ranger_sched=plateau_lr=1e-3_SpecAug=True_MixUp=True_alpha=1_n_mels=128_valid=NotLikeTest_folds=5/resnest50d_score=0.47624', './rfcx_kaggle_git/RFCX_kaggle/experiments/logs_model=resnest50d_Pretrained=True_act_func=Mish_criterion=LSEP_length=30_step=15_intersect=0.4_new_dataset_num_classes=24_optim=ranger_sched=plateau_lr=1e-3_SpecAug=True_MixUp=True_alpha=1_n_mels=128_valid=NotLikeTest_folds=5/resnest50d_score=0.53205', './rfcx_kaggle_git/RFCX_kaggle/experiments/logs_model=resnest50d_Pretrained=True_act_func=Mish_criterion=LSEP_length=30_step=15_intersect=0.4_new_dataset_num_classes=24_optim=ranger_sched=plateau_lr=1e-3_SpecAug=True_MixUp=True_alpha=1_n_mels=128_valid=NotLikeTest_folds=5/resnest50d_score=0.61504', './rfcx_kaggle_git/RFCX_kaggle/experiments/logs_model=resnest50d_Pretrained=True_act_func=Mish_criterion=LSEP_length=30_step=15_intersect=0.4_new_dataset_num_classes=24_optim=ranger_sched=plateau_lr=1e-3_SpecAug=True_MixUp=True_alpha=1_n_mels=128_valid=NotLikeTest_folds=5/resnest50d_score=0.66400', './rfcx_kaggle_git/RFCX_kaggle/experiments/logs_model=resnest50d_Pretrained=True_act_func=Mish_criterion=LSEP_length=30_step=15_intersect=0.4_new_dataset_num_classes=24_optim=ranger_sched=plateau_lr=1e-3_SpecAug=True_MixUp=True_alpha=1_n_mels=128_valid=NotLikeTest_folds=5/resnest50d_score=0.70484', './rfcx_kaggle_git/RFCX_kaggle/experiments/logs_model=resnest50d_Pretrained=True_act_func=Mish_criterion=LSEP_length=30_step=15_intersect=0.4_new_dataset_num_classes=24_optim=ranger_sched=plateau_lr=1e-3_SpecAug=True_MixUp=True_alpha=1_n_mels=128_valid=NotLikeTest_folds=5/resnest50d_score=0.71091', './rfcx_kaggle_git/RFCX_kaggle/experiments/logs_model=resnest50d_Pretrained=True_act_func=Mish_criterion=LSEP_length=30_step=15_intersect=0.4_new_dataset_num_classes=24_optim=ranger_sched=plateau_lr=1e-3_SpecAug=True_MixUp=True_alpha=1_n_mels=128_valid=NotLikeTest_folds=5/resnest50d_score=0.75008', './rfcx_kaggle_git/RFCX_kaggle/experiments/logs_model=resnest50d_Pretrained=True_act_func=Mish_criterion=LSEP_length=30_step=15_intersect=0.4_new_dataset_num_classes=24_optim=ranger_sched=plateau_lr=1e-3_SpecAug=True_MixUp=True_alpha=1_n_mels=128_valid=NotLikeTest_folds=5/resnest50d_score=0.75626', './rfcx_kaggle_git/RFCX_kaggle/experiments/logs_model=resnest50d_Pretrained=True_act_func=Mish_criterion=LSEP_length=30_step=15_intersect=0.4_new_dataset_num_classes=24_optim=ranger_sched=plateau_lr=1e-3_SpecAug=True_MixUp=True_alpha=1_n_mels=128_valid=NotLikeTest_folds=5/resnest50d_score=0.77503', './rfcx_kaggle_git/RFCX_kaggle/experiments/logs_model=resnest50d_Pretrained=True_act_func=Mish_criterion=LSEP_length=30_step=15_intersect=0.4_new_dataset_num_classes=24_optim=ranger_sched=plateau_lr=1e-3_SpecAug=True_MixUp=True_alpha=1_n_mels=128_valid=NotLikeTest_folds=5/resnest50d_score=0.77785', './rfcx_kaggle_git/RFCX_kaggle/experiments/logs_model=resnest50d_Pretrained=True_act_func=Mish_criterion=LSEP_length=30_step=15_intersect=0.4_new_dataset_num_classes=24_optim=ranger_sched=plateau_lr=1e-3_SpecAug=True_MixUp=True_alpha=1_n_mels=128_valid=NotLikeTest_folds=5/resnest50d_score=0.79278', './rfcx_kaggle_git/RFCX_kaggle/experiments/logs_model=resnest50d_Pretrained=True_act_func=Mish_criterion=LSEP_length=30_step=15_intersect=0.4_new_dataset_num_classes=24_optim=ranger_sched=plateau_lr=1e-3_SpecAug=True_MixUp=True_alpha=1_n_mels=128_valid=NotLikeTest_folds=5/resnest50d_score=0.80442', './rfcx_kaggle_git/RFCX_kaggle/experiments/logs_model=resnest50d_Pretrained=True_act_func=Mish_criterion=LSEP_length=30_step=15_intersect=0.4_new_dataset_num_classes=24_optim=ranger_sched=plateau_lr=1e-3_SpecAug=True_MixUp=True_alpha=1_n_mels=128_valid=NotLikeTest_folds=5/resnest50d_score=0.83612', './rfcx_kaggle_git/RFCX_kaggle/experiments/logs_model=resnest50d_Pretrained=True_act_func=Mish_criterion=LSEP_length=30_step=15_intersect=0.4_new_dataset_num_classes=24_optim=ranger_sched=plateau_lr=1e-3_SpecAug=True_MixUp=True_alpha=1_n_mels=128_valid=NotLikeTest_folds=5/resnest50d_score=0.83699', './rfcx_kaggle_git/RFCX_kaggle/experiments/logs_model=resnest50d_Pretrained=True_act_func=Mish_criterion=LSEP_length=30_step=15_intersect=0.4_new_dataset_num_classes=24_optim=ranger_sched=plateau_lr=1e-3_SpecAug=True_MixUp=True_alpha=1_n_mels=128_valid=NotLikeTest_folds=5/resnest50d_score=0.84113', './rfcx_kaggle_git/RFCX_kaggle/experiments/logs_model=resnest50d_Pretrained=True_act_func=Mish_criterion=LSEP_length=30_step=15_intersect=0.4_new_dataset_num_classes=24_optim=ranger_sched=plateau_lr=1e-3_SpecAug=True_MixUp=True_alpha=1_n_mels=128_valid=NotLikeTest_folds=5/resnest50d_score=0.85806', './rfcx_kaggle_git/RFCX_kaggle/experiments/logs_model=resnest50d_Pretrained=True_act_func=Mish_criterion=LSEP_length=30_step=15_intersect=0.4_new_dataset_num_classes=24_optim=ranger_sched=plateau_lr=1e-3_SpecAug=True_MixUp=True_alpha=1_n_mels=128_valid=NotLikeTest_folds=5/resnest50d_score=0.86053', './rfcx_kaggle_git/RFCX_kaggle/experiments/logs_model=resnest50d_Pretrained=True_act_func=Mish_criterion=LSEP_length=30_step=15_intersect=0.4_new_dataset_num_classes=24_optim=ranger_sched=plateau_lr=1e-3_SpecAug=True_MixUp=True_alpha=1_n_mels=128_valid=NotLikeTest_folds=5/resnest50d_score=0.86568', './rfcx_kaggle_git/RFCX_kaggle/experiments/logs_model=resnest50d_Pretrained=True_act_func=Mish_criterion=LSEP_length=30_step=15_intersect=0.4_new_dataset_num_classes=24_optim=ranger_sched=plateau_lr=1e-3_SpecAug=True_MixUp=True_alpha=1_n_mels=128_valid=NotLikeTest_folds=5/resnest50d_score=0.87010', './rfcx_kaggle_git/RFCX_kaggle/experiments/logs_model=resnest50d_Pretrained=True_act_func=Mish_criterion=LSEP_length=30_step=15_intersect=0.4_new_dataset_num_classes=24_optim=ranger_sched=plateau_lr=1e-3_SpecAug=True_MixUp=True_alpha=1_n_mels=128_valid=NotLikeTest_folds=5/resnest50d_score=0.87558']\n",
      "./rfcx_kaggle_git/RFCX_kaggle/experiments/logs_model=resnest50d_Pretrained=True_act_func=Mish_criterion=LSEP_length=30_step=15_intersect=0.4_new_dataset_num_classes=24_optim=ranger_sched=plateau_lr=1e-3_SpecAug=True_MixUp=True_alpha=1_n_mels=128_valid=NotLikeTest_folds=5/resnest50d_score=0.87558\n",
      "Ranger optimizer loaded. \n",
      "Gradient Centralization usage = True\n",
      "GC applied to both conv and fc layers\n"
     ]
    },
    {
     "name": "stderr",
     "output_type": "stream",
     "text": [
      "3.3990: 100%|██████████| 113/113 [00:21<00:00,  5.15it/s]\n",
      "  0%|          | 0/29 [00:00<?, ?it/s]"
     ]
    },
    {
     "name": "stdout",
     "output_type": "stream",
     "text": [
      "Predict test without augmentations\n"
     ]
    },
    {
     "name": "stderr",
     "output_type": "stream",
     "text": [
      "100%|██████████| 29/29 [00:02<00:00, 13.15it/s]\n",
      "3.3089: 100%|██████████| 113/113 [00:21<00:00,  5.23it/s]\n",
      "  0%|          | 0/29 [00:00<?, ?it/s]"
     ]
    },
    {
     "name": "stdout",
     "output_type": "stream",
     "text": [
      "Predict test without augmentations\n"
     ]
    },
    {
     "name": "stderr",
     "output_type": "stream",
     "text": [
      "100%|██████████| 29/29 [00:02<00:00, 14.43it/s]\n",
      "3.2524: 100%|██████████| 113/113 [00:21<00:00,  5.38it/s]\n",
      "  0%|          | 0/29 [00:00<?, ?it/s]"
     ]
    },
    {
     "name": "stdout",
     "output_type": "stream",
     "text": [
      "Predict test without augmentations\n"
     ]
    },
    {
     "name": "stderr",
     "output_type": "stream",
     "text": [
      "100%|██████████| 29/29 [00:02<00:00, 13.22it/s]\n",
      "3.1903: 100%|██████████| 113/113 [00:21<00:00,  5.20it/s]\n",
      "  0%|          | 0/29 [00:00<?, ?it/s]"
     ]
    },
    {
     "name": "stdout",
     "output_type": "stream",
     "text": [
      "Predict test without augmentations\n"
     ]
    },
    {
     "name": "stderr",
     "output_type": "stream",
     "text": [
      "100%|██████████| 29/29 [00:02<00:00, 14.47it/s]\n",
      "3.1711: 100%|██████████| 113/113 [00:22<00:00,  5.01it/s]\n",
      "  0%|          | 0/29 [00:00<?, ?it/s]"
     ]
    },
    {
     "name": "stdout",
     "output_type": "stream",
     "text": [
      "Predict test without augmentations\n"
     ]
    },
    {
     "name": "stderr",
     "output_type": "stream",
     "text": [
      "100%|██████████| 29/29 [00:01<00:00, 14.56it/s]\n",
      "3.0858: 100%|██████████| 113/113 [00:21<00:00,  5.24it/s]\n",
      "  0%|          | 0/29 [00:00<?, ?it/s]"
     ]
    },
    {
     "name": "stdout",
     "output_type": "stream",
     "text": [
      "Predict test without augmentations\n"
     ]
    },
    {
     "name": "stderr",
     "output_type": "stream",
     "text": [
      "100%|██████████| 29/29 [00:02<00:00, 14.36it/s]\n",
      "3.0782: 100%|██████████| 113/113 [00:21<00:00,  5.31it/s]\n",
      "  0%|          | 0/29 [00:00<?, ?it/s]"
     ]
    },
    {
     "name": "stdout",
     "output_type": "stream",
     "text": [
      "Predict test without augmentations\n"
     ]
    },
    {
     "name": "stderr",
     "output_type": "stream",
     "text": [
      "100%|██████████| 29/29 [00:02<00:00, 14.18it/s]\n",
      "3.0442: 100%|██████████| 113/113 [00:21<00:00,  5.34it/s]\n",
      "  0%|          | 0/29 [00:00<?, ?it/s]"
     ]
    },
    {
     "name": "stdout",
     "output_type": "stream",
     "text": [
      "Predict test without augmentations\n"
     ]
    },
    {
     "name": "stderr",
     "output_type": "stream",
     "text": [
      "100%|██████████| 29/29 [00:02<00:00, 14.47it/s]\n",
      "3.0079: 100%|██████████| 113/113 [00:21<00:00,  5.38it/s]\n",
      "  0%|          | 0/29 [00:00<?, ?it/s]"
     ]
    },
    {
     "name": "stdout",
     "output_type": "stream",
     "text": [
      "Predict test without augmentations\n"
     ]
    },
    {
     "name": "stderr",
     "output_type": "stream",
     "text": [
      "100%|██████████| 29/29 [00:02<00:00, 14.39it/s]\n",
      "2.9861: 100%|██████████| 113/113 [00:21<00:00,  5.38it/s]\n",
      "  0%|          | 0/29 [00:00<?, ?it/s]"
     ]
    },
    {
     "name": "stdout",
     "output_type": "stream",
     "text": [
      "Predict test without augmentations\n"
     ]
    },
    {
     "name": "stderr",
     "output_type": "stream",
     "text": [
      "100%|██████████| 29/29 [00:02<00:00, 14.45it/s]\n",
      "2.9620: 100%|██████████| 113/113 [00:21<00:00,  5.36it/s]\n",
      "  0%|          | 0/29 [00:00<?, ?it/s]"
     ]
    },
    {
     "name": "stdout",
     "output_type": "stream",
     "text": [
      "Predict test without augmentations\n"
     ]
    },
    {
     "name": "stderr",
     "output_type": "stream",
     "text": [
      "100%|██████████| 29/29 [00:02<00:00, 14.40it/s]\n",
      "2.9245: 100%|██████████| 113/113 [00:21<00:00,  5.22it/s]\n",
      "  0%|          | 0/29 [00:00<?, ?it/s]"
     ]
    },
    {
     "name": "stdout",
     "output_type": "stream",
     "text": [
      "Predict test without augmentations\n"
     ]
    },
    {
     "name": "stderr",
     "output_type": "stream",
     "text": [
      "100%|██████████| 29/29 [00:02<00:00, 14.40it/s]\n",
      "2.9247: 100%|██████████| 113/113 [00:21<00:00,  5.28it/s]\n",
      "  0%|          | 0/29 [00:00<?, ?it/s]"
     ]
    },
    {
     "name": "stdout",
     "output_type": "stream",
     "text": [
      "Predict test without augmentations\n"
     ]
    },
    {
     "name": "stderr",
     "output_type": "stream",
     "text": [
      "100%|██████████| 29/29 [00:02<00:00, 12.63it/s]\n",
      "2.9177: 100%|██████████| 113/113 [00:22<00:00,  4.94it/s]\n",
      "  0%|          | 0/29 [00:00<?, ?it/s]"
     ]
    },
    {
     "name": "stdout",
     "output_type": "stream",
     "text": [
      "Predict test without augmentations\n"
     ]
    },
    {
     "name": "stderr",
     "output_type": "stream",
     "text": [
      "100%|██████████| 29/29 [00:02<00:00, 13.85it/s]\n",
      "2.8995: 100%|██████████| 113/113 [00:22<00:00,  5.06it/s]\n",
      "  0%|          | 0/29 [00:00<?, ?it/s]"
     ]
    },
    {
     "name": "stdout",
     "output_type": "stream",
     "text": [
      "Predict test without augmentations\n"
     ]
    },
    {
     "name": "stderr",
     "output_type": "stream",
     "text": [
      "100%|██████████| 29/29 [00:02<00:00, 10.02it/s]\n",
      "2.8922: 100%|██████████| 113/113 [00:20<00:00,  5.40it/s]\n",
      "  0%|          | 0/29 [00:00<?, ?it/s]"
     ]
    },
    {
     "name": "stdout",
     "output_type": "stream",
     "text": [
      "Predict test without augmentations\n"
     ]
    },
    {
     "name": "stderr",
     "output_type": "stream",
     "text": [
      "100%|██████████| 29/29 [00:02<00:00, 14.42it/s]\n",
      "2.8945: 100%|██████████| 113/113 [00:21<00:00,  5.33it/s]\n",
      "  0%|          | 0/29 [00:00<?, ?it/s]"
     ]
    },
    {
     "name": "stdout",
     "output_type": "stream",
     "text": [
      "Predict test without augmentations\n"
     ]
    },
    {
     "name": "stderr",
     "output_type": "stream",
     "text": [
      "100%|██████████| 29/29 [00:01<00:00, 14.59it/s]\n",
      "2.8729: 100%|██████████| 113/113 [00:21<00:00,  5.34it/s]\n",
      "  0%|          | 0/29 [00:00<?, ?it/s]"
     ]
    },
    {
     "name": "stdout",
     "output_type": "stream",
     "text": [
      "Predict test without augmentations\n"
     ]
    },
    {
     "name": "stderr",
     "output_type": "stream",
     "text": [
      "100%|██████████| 29/29 [00:01<00:00, 14.52it/s]\n",
      "2.8863: 100%|██████████| 113/113 [00:20<00:00,  5.39it/s]\n",
      "  0%|          | 0/29 [00:00<?, ?it/s]"
     ]
    },
    {
     "name": "stdout",
     "output_type": "stream",
     "text": [
      "Predict test without augmentations\n"
     ]
    },
    {
     "name": "stderr",
     "output_type": "stream",
     "text": [
      "100%|██████████| 29/29 [00:02<00:00, 13.81it/s]\n",
      "2.8812: 100%|██████████| 113/113 [00:20<00:00,  5.39it/s]\n",
      "  0%|          | 0/29 [00:00<?, ?it/s]"
     ]
    },
    {
     "name": "stdout",
     "output_type": "stream",
     "text": [
      "Predict test without augmentations\n"
     ]
    },
    {
     "name": "stderr",
     "output_type": "stream",
     "text": [
      "100%|██████████| 29/29 [00:02<00:00, 14.37it/s]\n",
      "2.8490: 100%|██████████| 113/113 [00:20<00:00,  5.38it/s]\n",
      "  0%|          | 0/29 [00:00<?, ?it/s]"
     ]
    },
    {
     "name": "stdout",
     "output_type": "stream",
     "text": [
      "Predict test without augmentations\n"
     ]
    },
    {
     "name": "stderr",
     "output_type": "stream",
     "text": [
      "100%|██████████| 29/29 [00:01<00:00, 14.51it/s]\n",
      "2.8728: 100%|██████████| 113/113 [00:21<00:00,  5.36it/s]\n",
      "  0%|          | 0/29 [00:00<?, ?it/s]"
     ]
    },
    {
     "name": "stdout",
     "output_type": "stream",
     "text": [
      "Predict test without augmentations\n"
     ]
    },
    {
     "name": "stderr",
     "output_type": "stream",
     "text": [
      "100%|██████████| 29/29 [00:02<00:00, 13.95it/s]\n",
      "  0%|          | 0/113 [00:00<?, ?it/s]"
     ]
    },
    {
     "name": "stdout",
     "output_type": "stream",
     "text": [
      "Epoch    22: reducing learning rate of group 0 to 1.0000e-04.\n"
     ]
    },
    {
     "name": "stderr",
     "output_type": "stream",
     "text": [
      "2.8392: 100%|██████████| 113/113 [00:21<00:00,  5.38it/s]\n",
      "  0%|          | 0/29 [00:00<?, ?it/s]"
     ]
    },
    {
     "name": "stdout",
     "output_type": "stream",
     "text": [
      "Predict test without augmentations\n"
     ]
    },
    {
     "name": "stderr",
     "output_type": "stream",
     "text": [
      "100%|██████████| 29/29 [00:02<00:00, 14.45it/s]\n",
      "2.8190: 100%|██████████| 113/113 [00:21<00:00,  5.27it/s]\n",
      "  0%|          | 0/29 [00:00<?, ?it/s]"
     ]
    },
    {
     "name": "stdout",
     "output_type": "stream",
     "text": [
      "Predict test without augmentations\n"
     ]
    },
    {
     "name": "stderr",
     "output_type": "stream",
     "text": [
      "100%|██████████| 29/29 [00:01<00:00, 14.57it/s]\n",
      "2.8328: 100%|██████████| 113/113 [00:21<00:00,  5.36it/s]\n",
      "  0%|          | 0/29 [00:00<?, ?it/s]"
     ]
    },
    {
     "name": "stdout",
     "output_type": "stream",
     "text": [
      "Predict test without augmentations\n"
     ]
    },
    {
     "name": "stderr",
     "output_type": "stream",
     "text": [
      "100%|██████████| 29/29 [00:01<00:00, 14.62it/s]\n",
      "2.8032: 100%|██████████| 113/113 [00:21<00:00,  5.14it/s]\n",
      "  0%|          | 0/29 [00:00<?, ?it/s]"
     ]
    },
    {
     "name": "stdout",
     "output_type": "stream",
     "text": [
      "Predict test without augmentations\n"
     ]
    },
    {
     "name": "stderr",
     "output_type": "stream",
     "text": [
      "100%|██████████| 29/29 [00:02<00:00, 13.40it/s]\n",
      "2.8096: 100%|██████████| 113/113 [00:21<00:00,  5.17it/s]\n",
      "  0%|          | 0/29 [00:00<?, ?it/s]"
     ]
    },
    {
     "name": "stdout",
     "output_type": "stream",
     "text": [
      "Predict test without augmentations\n"
     ]
    },
    {
     "name": "stderr",
     "output_type": "stream",
     "text": [
      "100%|██████████| 29/29 [00:02<00:00, 14.50it/s]\n",
      "2.7964: 100%|██████████| 113/113 [00:21<00:00,  5.35it/s]\n",
      "  0%|          | 0/29 [00:00<?, ?it/s]"
     ]
    },
    {
     "name": "stdout",
     "output_type": "stream",
     "text": [
      "Predict test without augmentations\n"
     ]
    },
    {
     "name": "stderr",
     "output_type": "stream",
     "text": [
      "100%|██████████| 29/29 [00:02<00:00, 14.36it/s]\n",
      "2.8080: 100%|██████████| 113/113 [00:21<00:00,  5.38it/s]\n",
      "  0%|          | 0/29 [00:00<?, ?it/s]"
     ]
    },
    {
     "name": "stdout",
     "output_type": "stream",
     "text": [
      "Predict test without augmentations\n"
     ]
    },
    {
     "name": "stderr",
     "output_type": "stream",
     "text": [
      "100%|██████████| 29/29 [00:01<00:00, 14.53it/s]\n",
      "2.7883: 100%|██████████| 113/113 [00:21<00:00,  5.37it/s]\n",
      "  0%|          | 0/29 [00:00<?, ?it/s]"
     ]
    },
    {
     "name": "stdout",
     "output_type": "stream",
     "text": [
      "Predict test without augmentations\n"
     ]
    },
    {
     "name": "stderr",
     "output_type": "stream",
     "text": [
      "100%|██████████| 29/29 [00:01<00:00, 14.57it/s]\n",
      "2.8088: 100%|██████████| 113/113 [00:21<00:00,  5.37it/s]\n",
      "  0%|          | 0/29 [00:00<?, ?it/s]"
     ]
    },
    {
     "name": "stdout",
     "output_type": "stream",
     "text": [
      "Predict test without augmentations\n"
     ]
    },
    {
     "name": "stderr",
     "output_type": "stream",
     "text": [
      "100%|██████████| 29/29 [00:01<00:00, 14.73it/s]\n",
      "2.8125: 100%|██████████| 113/113 [00:21<00:00,  5.37it/s]\n",
      "  0%|          | 0/29 [00:00<?, ?it/s]"
     ]
    },
    {
     "name": "stdout",
     "output_type": "stream",
     "text": [
      "Predict test without augmentations\n"
     ]
    },
    {
     "name": "stderr",
     "output_type": "stream",
     "text": [
      "100%|██████████| 29/29 [00:01<00:00, 14.54it/s]\n",
      "2.7909: 100%|██████████| 113/113 [00:20<00:00,  5.38it/s]\n",
      "  0%|          | 0/29 [00:00<?, ?it/s]"
     ]
    },
    {
     "name": "stdout",
     "output_type": "stream",
     "text": [
      "Predict test without augmentations\n"
     ]
    },
    {
     "name": "stderr",
     "output_type": "stream",
     "text": [
      "100%|██████████| 29/29 [00:02<00:00, 14.37it/s]\n",
      "2.8090: 100%|██████████| 113/113 [00:21<00:00,  5.36it/s]\n",
      "  0%|          | 0/29 [00:00<?, ?it/s]"
     ]
    },
    {
     "name": "stdout",
     "output_type": "stream",
     "text": [
      "Predict test without augmentations\n"
     ]
    },
    {
     "name": "stderr",
     "output_type": "stream",
     "text": [
      "100%|██████████| 29/29 [00:01<00:00, 14.64it/s]\n",
      "2.7871: 100%|██████████| 113/113 [00:21<00:00,  5.38it/s]\n",
      "  0%|          | 0/29 [00:00<?, ?it/s]"
     ]
    },
    {
     "name": "stdout",
     "output_type": "stream",
     "text": [
      "Predict test without augmentations\n"
     ]
    },
    {
     "name": "stderr",
     "output_type": "stream",
     "text": [
      "100%|██████████| 29/29 [00:01<00:00, 14.69it/s]\n",
      "2.7981: 100%|██████████| 113/113 [00:21<00:00,  5.20it/s]\n",
      "  0%|          | 0/29 [00:00<?, ?it/s]"
     ]
    },
    {
     "name": "stdout",
     "output_type": "stream",
     "text": [
      "Predict test without augmentations\n"
     ]
    },
    {
     "name": "stderr",
     "output_type": "stream",
     "text": [
      "100%|██████████| 29/29 [00:02<00:00, 13.91it/s]\n",
      "2.7781: 100%|██████████| 113/113 [00:21<00:00,  5.24it/s]\n",
      "  0%|          | 0/29 [00:00<?, ?it/s]"
     ]
    },
    {
     "name": "stdout",
     "output_type": "stream",
     "text": [
      "Predict test without augmentations\n"
     ]
    },
    {
     "name": "stderr",
     "output_type": "stream",
     "text": [
      "100%|██████████| 29/29 [00:02<00:00, 14.44it/s]\n",
      "  0%|          | 0/113 [00:00<?, ?it/s]"
     ]
    },
    {
     "name": "stdout",
     "output_type": "stream",
     "text": [
      "Epoch    37: reducing learning rate of group 0 to 1.0000e-05.\n"
     ]
    },
    {
     "name": "stderr",
     "output_type": "stream",
     "text": [
      "2.7779: 100%|██████████| 113/113 [00:22<00:00,  5.04it/s]\n",
      "  0%|          | 0/29 [00:00<?, ?it/s]"
     ]
    },
    {
     "name": "stdout",
     "output_type": "stream",
     "text": [
      "Predict test without augmentations\n"
     ]
    },
    {
     "name": "stderr",
     "output_type": "stream",
     "text": [
      "100%|██████████| 29/29 [00:02<00:00, 14.39it/s]\n",
      "2.7777: 100%|██████████| 113/113 [00:21<00:00,  5.15it/s]\n",
      "  0%|          | 0/29 [00:00<?, ?it/s]"
     ]
    },
    {
     "name": "stdout",
     "output_type": "stream",
     "text": [
      "Predict test without augmentations\n"
     ]
    },
    {
     "name": "stderr",
     "output_type": "stream",
     "text": [
      "100%|██████████| 29/29 [00:02<00:00, 13.91it/s]\n",
      "2.7659: 100%|██████████| 113/113 [00:22<00:00,  5.12it/s]\n",
      "  0%|          | 0/29 [00:00<?, ?it/s]"
     ]
    },
    {
     "name": "stdout",
     "output_type": "stream",
     "text": [
      "Predict test without augmentations\n"
     ]
    },
    {
     "name": "stderr",
     "output_type": "stream",
     "text": [
      "100%|██████████| 29/29 [00:03<00:00,  8.36it/s]\n",
      "2.7784: 100%|██████████| 113/113 [00:22<00:00,  4.97it/s]\n",
      "  0%|          | 0/29 [00:00<?, ?it/s]"
     ]
    },
    {
     "name": "stdout",
     "output_type": "stream",
     "text": [
      "Predict test without augmentations\n"
     ]
    },
    {
     "name": "stderr",
     "output_type": "stream",
     "text": [
      "100%|██████████| 29/29 [00:03<00:00,  8.15it/s]\n",
      "2.7807: 100%|██████████| 113/113 [00:22<00:00,  4.97it/s]\n",
      "  0%|          | 0/29 [00:00<?, ?it/s]"
     ]
    },
    {
     "name": "stdout",
     "output_type": "stream",
     "text": [
      "Predict test without augmentations\n"
     ]
    },
    {
     "name": "stderr",
     "output_type": "stream",
     "text": [
      "100%|██████████| 29/29 [00:03<00:00,  8.20it/s]\n",
      "2.7787: 100%|██████████| 113/113 [00:22<00:00,  4.98it/s]\n",
      "  0%|          | 0/29 [00:00<?, ?it/s]"
     ]
    },
    {
     "name": "stdout",
     "output_type": "stream",
     "text": [
      "Predict test without augmentations\n"
     ]
    },
    {
     "name": "stderr",
     "output_type": "stream",
     "text": [
      "100%|██████████| 29/29 [00:03<00:00,  7.96it/s]\n",
      "  0%|          | 0/113 [00:00<?, ?it/s]"
     ]
    },
    {
     "name": "stdout",
     "output_type": "stream",
     "text": [
      "Epoch    43: reducing learning rate of group 0 to 1.0000e-06.\n"
     ]
    },
    {
     "name": "stderr",
     "output_type": "stream",
     "text": [
      "2.7772: 100%|██████████| 113/113 [00:22<00:00,  4.94it/s]\n",
      "  0%|          | 0/29 [00:00<?, ?it/s]"
     ]
    },
    {
     "name": "stdout",
     "output_type": "stream",
     "text": [
      "Predict test without augmentations\n"
     ]
    },
    {
     "name": "stderr",
     "output_type": "stream",
     "text": [
      "100%|██████████| 29/29 [00:03<00:00,  7.89it/s]\n",
      "2.7943: 100%|██████████| 113/113 [00:22<00:00,  4.96it/s]\n",
      "  0%|          | 0/29 [00:00<?, ?it/s]"
     ]
    },
    {
     "name": "stdout",
     "output_type": "stream",
     "text": [
      "Predict test without augmentations\n"
     ]
    },
    {
     "name": "stderr",
     "output_type": "stream",
     "text": [
      "100%|██████████| 29/29 [00:03<00:00,  7.80it/s]\n",
      "2.7676: 100%|██████████| 113/113 [00:22<00:00,  4.93it/s]\n",
      "  0%|          | 0/29 [00:00<?, ?it/s]"
     ]
    },
    {
     "name": "stdout",
     "output_type": "stream",
     "text": [
      "Predict test without augmentations\n"
     ]
    },
    {
     "name": "stderr",
     "output_type": "stream",
     "text": [
      "100%|██████████| 29/29 [00:03<00:00,  7.85it/s]\n",
      "2.7619: 100%|██████████| 113/113 [00:22<00:00,  4.98it/s]\n",
      "  0%|          | 0/29 [00:00<?, ?it/s]"
     ]
    },
    {
     "name": "stdout",
     "output_type": "stream",
     "text": [
      "Predict test without augmentations\n"
     ]
    },
    {
     "name": "stderr",
     "output_type": "stream",
     "text": [
      "100%|██████████| 29/29 [00:03<00:00,  8.39it/s]\n",
      "2.7689: 100%|██████████| 113/113 [00:22<00:00,  4.97it/s]\n",
      "  0%|          | 0/29 [00:00<?, ?it/s]"
     ]
    },
    {
     "name": "stdout",
     "output_type": "stream",
     "text": [
      "Predict test without augmentations\n"
     ]
    },
    {
     "name": "stderr",
     "output_type": "stream",
     "text": [
      "100%|██████████| 29/29 [00:03<00:00,  8.21it/s]\n",
      "2.7591: 100%|██████████| 113/113 [00:22<00:00,  4.97it/s]\n",
      "  0%|          | 0/29 [00:00<?, ?it/s]"
     ]
    },
    {
     "name": "stdout",
     "output_type": "stream",
     "text": [
      "Predict test without augmentations\n"
     ]
    },
    {
     "name": "stderr",
     "output_type": "stream",
     "text": [
      "100%|██████████| 29/29 [00:03<00:00,  8.22it/s]\n",
      "2.7704: 100%|██████████| 113/113 [00:22<00:00,  4.99it/s]\n",
      "  0%|          | 0/29 [00:00<?, ?it/s]"
     ]
    },
    {
     "name": "stdout",
     "output_type": "stream",
     "text": [
      "Predict test without augmentations\n"
     ]
    },
    {
     "name": "stderr",
     "output_type": "stream",
     "text": [
      "100%|██████████| 29/29 [00:03<00:00,  8.11it/s]\n",
      "2.7735: 100%|██████████| 113/113 [00:22<00:00,  4.97it/s]\n",
      "  0%|          | 0/29 [00:00<?, ?it/s]"
     ]
    },
    {
     "name": "stdout",
     "output_type": "stream",
     "text": [
      "Predict test without augmentations\n"
     ]
    },
    {
     "name": "stderr",
     "output_type": "stream",
     "text": [
      "100%|██████████| 29/29 [00:03<00:00,  8.35it/s]\n",
      "2.7770: 100%|██████████| 113/113 [00:22<00:00,  4.98it/s]\n",
      "  0%|          | 0/29 [00:00<?, ?it/s]"
     ]
    },
    {
     "name": "stdout",
     "output_type": "stream",
     "text": [
      "Predict test without augmentations\n"
     ]
    },
    {
     "name": "stderr",
     "output_type": "stream",
     "text": [
      "100%|██████████| 29/29 [00:03<00:00,  8.18it/s]\n",
      "2.7601: 100%|██████████| 113/113 [00:22<00:00,  5.01it/s]\n",
      "  0%|          | 0/29 [00:00<?, ?it/s]"
     ]
    },
    {
     "name": "stdout",
     "output_type": "stream",
     "text": [
      "Predict test without augmentations\n"
     ]
    },
    {
     "name": "stderr",
     "output_type": "stream",
     "text": [
      "100%|██████████| 29/29 [00:03<00:00,  7.89it/s]\n",
      "2.7712: 100%|██████████| 113/113 [00:22<00:00,  4.98it/s]\n",
      "  0%|          | 0/29 [00:00<?, ?it/s]"
     ]
    },
    {
     "name": "stdout",
     "output_type": "stream",
     "text": [
      "Predict test without augmentations\n"
     ]
    },
    {
     "name": "stderr",
     "output_type": "stream",
     "text": [
      "100%|██████████| 29/29 [00:03<00:00,  8.06it/s]\n",
      "2.7620: 100%|██████████| 113/113 [00:22<00:00,  4.99it/s]\n",
      "  0%|          | 0/29 [00:00<?, ?it/s]"
     ]
    },
    {
     "name": "stdout",
     "output_type": "stream",
     "text": [
      "Predict test without augmentations\n"
     ]
    },
    {
     "name": "stderr",
     "output_type": "stream",
     "text": [
      "100%|██████████| 29/29 [00:03<00:00,  8.01it/s]\n",
      "2.7689: 100%|██████████| 113/113 [00:22<00:00,  4.98it/s]\n",
      "  0%|          | 0/29 [00:00<?, ?it/s]"
     ]
    },
    {
     "name": "stdout",
     "output_type": "stream",
     "text": [
      "Predict test without augmentations\n"
     ]
    },
    {
     "name": "stderr",
     "output_type": "stream",
     "text": [
      "100%|██████████| 29/29 [00:03<00:00,  8.20it/s]\n",
      "2.7429: 100%|██████████| 113/113 [00:22<00:00,  4.98it/s]\n",
      "  0%|          | 0/29 [00:00<?, ?it/s]"
     ]
    },
    {
     "name": "stdout",
     "output_type": "stream",
     "text": [
      "Predict test without augmentations\n"
     ]
    },
    {
     "name": "stderr",
     "output_type": "stream",
     "text": [
      "100%|██████████| 29/29 [00:03<00:00,  8.32it/s]\n",
      "2.7589: 100%|██████████| 113/113 [00:22<00:00,  4.97it/s]\n",
      "  0%|          | 0/29 [00:00<?, ?it/s]"
     ]
    },
    {
     "name": "stdout",
     "output_type": "stream",
     "text": [
      "Predict test without augmentations\n"
     ]
    },
    {
     "name": "stderr",
     "output_type": "stream",
     "text": [
      "100%|██████████| 29/29 [00:03<00:00,  8.01it/s]\n",
      "2.7908: 100%|██████████| 113/113 [00:22<00:00,  4.97it/s]\n",
      "  0%|          | 0/29 [00:00<?, ?it/s]"
     ]
    },
    {
     "name": "stdout",
     "output_type": "stream",
     "text": [
      "Predict test without augmentations\n"
     ]
    },
    {
     "name": "stderr",
     "output_type": "stream",
     "text": [
      "100%|██████████| 29/29 [00:03<00:00,  8.16it/s]\n",
      "2.7815: 100%|██████████| 113/113 [00:22<00:00,  4.98it/s]\n",
      "  0%|          | 0/29 [00:00<?, ?it/s]"
     ]
    },
    {
     "name": "stdout",
     "output_type": "stream",
     "text": [
      "Predict test without augmentations\n"
     ]
    },
    {
     "name": "stderr",
     "output_type": "stream",
     "text": [
      "100%|██████████| 29/29 [00:03<00:00,  8.43it/s]\n",
      "2.7659: 100%|██████████| 113/113 [00:22<00:00,  5.00it/s]\n",
      "  0%|          | 0/29 [00:00<?, ?it/s]"
     ]
    },
    {
     "name": "stdout",
     "output_type": "stream",
     "text": [
      "Predict test without augmentations\n"
     ]
    },
    {
     "name": "stderr",
     "output_type": "stream",
     "text": [
      "100%|██████████| 29/29 [00:03<00:00,  8.24it/s]\n"
     ]
    },
    {
     "name": "stdout",
     "output_type": "stream",
     "text": [
      "['./rfcx_kaggle_git/RFCX_kaggle/experiments/logs_model=resnest50d_Pretrained=True_act_func=Mish_criterion=LSEP_length=30_step=15_intersect=0.4_new_dataset_num_classes=24_optim=ranger_sched=plateau_lr=1e-3_SpecAug=True_MixUp=True_alpha=1_n_mels=128_valid=NotLikeTest_folds=5/resnest50d_score=0.26634', './rfcx_kaggle_git/RFCX_kaggle/experiments/logs_model=resnest50d_Pretrained=True_act_func=Mish_criterion=LSEP_length=30_step=15_intersect=0.4_new_dataset_num_classes=24_optim=ranger_sched=plateau_lr=1e-3_SpecAug=True_MixUp=True_alpha=1_n_mels=128_valid=NotLikeTest_folds=5/resnest50d_score=0.31176', './rfcx_kaggle_git/RFCX_kaggle/experiments/logs_model=resnest50d_Pretrained=True_act_func=Mish_criterion=LSEP_length=30_step=15_intersect=0.4_new_dataset_num_classes=24_optim=ranger_sched=plateau_lr=1e-3_SpecAug=True_MixUp=True_alpha=1_n_mels=128_valid=NotLikeTest_folds=5/resnest50d_score=0.43373', './rfcx_kaggle_git/RFCX_kaggle/experiments/logs_model=resnest50d_Pretrained=True_act_func=Mish_criterion=LSEP_length=30_step=15_intersect=0.4_new_dataset_num_classes=24_optim=ranger_sched=plateau_lr=1e-3_SpecAug=True_MixUp=True_alpha=1_n_mels=128_valid=NotLikeTest_folds=5/resnest50d_score=0.45942', './rfcx_kaggle_git/RFCX_kaggle/experiments/logs_model=resnest50d_Pretrained=True_act_func=Mish_criterion=LSEP_length=30_step=15_intersect=0.4_new_dataset_num_classes=24_optim=ranger_sched=plateau_lr=1e-3_SpecAug=True_MixUp=True_alpha=1_n_mels=128_valid=NotLikeTest_folds=5/resnest50d_score=0.51596', './rfcx_kaggle_git/RFCX_kaggle/experiments/logs_model=resnest50d_Pretrained=True_act_func=Mish_criterion=LSEP_length=30_step=15_intersect=0.4_new_dataset_num_classes=24_optim=ranger_sched=plateau_lr=1e-3_SpecAug=True_MixUp=True_alpha=1_n_mels=128_valid=NotLikeTest_folds=5/resnest50d_score=0.57508', './rfcx_kaggle_git/RFCX_kaggle/experiments/logs_model=resnest50d_Pretrained=True_act_func=Mish_criterion=LSEP_length=30_step=15_intersect=0.4_new_dataset_num_classes=24_optim=ranger_sched=plateau_lr=1e-3_SpecAug=True_MixUp=True_alpha=1_n_mels=128_valid=NotLikeTest_folds=5/resnest50d_score=0.57561', './rfcx_kaggle_git/RFCX_kaggle/experiments/logs_model=resnest50d_Pretrained=True_act_func=Mish_criterion=LSEP_length=30_step=15_intersect=0.4_new_dataset_num_classes=24_optim=ranger_sched=plateau_lr=1e-3_SpecAug=True_MixUp=True_alpha=1_n_mels=128_valid=NotLikeTest_folds=5/resnest50d_score=0.62094', './rfcx_kaggle_git/RFCX_kaggle/experiments/logs_model=resnest50d_Pretrained=True_act_func=Mish_criterion=LSEP_length=30_step=15_intersect=0.4_new_dataset_num_classes=24_optim=ranger_sched=plateau_lr=1e-3_SpecAug=True_MixUp=True_alpha=1_n_mels=128_valid=NotLikeTest_folds=5/resnest50d_score=0.67529', './rfcx_kaggle_git/RFCX_kaggle/experiments/logs_model=resnest50d_Pretrained=True_act_func=Mish_criterion=LSEP_length=30_step=15_intersect=0.4_new_dataset_num_classes=24_optim=ranger_sched=plateau_lr=1e-3_SpecAug=True_MixUp=True_alpha=1_n_mels=128_valid=NotLikeTest_folds=5/resnest50d_score=0.73090', './rfcx_kaggle_git/RFCX_kaggle/experiments/logs_model=resnest50d_Pretrained=True_act_func=Mish_criterion=LSEP_length=30_step=15_intersect=0.4_new_dataset_num_classes=24_optim=ranger_sched=plateau_lr=1e-3_SpecAug=True_MixUp=True_alpha=1_n_mels=128_valid=NotLikeTest_folds=5/resnest50d_score=0.74765', './rfcx_kaggle_git/RFCX_kaggle/experiments/logs_model=resnest50d_Pretrained=True_act_func=Mish_criterion=LSEP_length=30_step=15_intersect=0.4_new_dataset_num_classes=24_optim=ranger_sched=plateau_lr=1e-3_SpecAug=True_MixUp=True_alpha=1_n_mels=128_valid=NotLikeTest_folds=5/resnest50d_score=0.75290', './rfcx_kaggle_git/RFCX_kaggle/experiments/logs_model=resnest50d_Pretrained=True_act_func=Mish_criterion=LSEP_length=30_step=15_intersect=0.4_new_dataset_num_classes=24_optim=ranger_sched=plateau_lr=1e-3_SpecAug=True_MixUp=True_alpha=1_n_mels=128_valid=NotLikeTest_folds=5/resnest50d_score=0.77519', './rfcx_kaggle_git/RFCX_kaggle/experiments/logs_model=resnest50d_Pretrained=True_act_func=Mish_criterion=LSEP_length=30_step=15_intersect=0.4_new_dataset_num_classes=24_optim=ranger_sched=plateau_lr=1e-3_SpecAug=True_MixUp=True_alpha=1_n_mels=128_valid=NotLikeTest_folds=5/resnest50d_score=0.81738', './rfcx_kaggle_git/RFCX_kaggle/experiments/logs_model=resnest50d_Pretrained=True_act_func=Mish_criterion=LSEP_length=30_step=15_intersect=0.4_new_dataset_num_classes=24_optim=ranger_sched=plateau_lr=1e-3_SpecAug=True_MixUp=True_alpha=1_n_mels=128_valid=NotLikeTest_folds=5/resnest50d_score=0.82160', './rfcx_kaggle_git/RFCX_kaggle/experiments/logs_model=resnest50d_Pretrained=True_act_func=Mish_criterion=LSEP_length=30_step=15_intersect=0.4_new_dataset_num_classes=24_optim=ranger_sched=plateau_lr=1e-3_SpecAug=True_MixUp=True_alpha=1_n_mels=128_valid=NotLikeTest_folds=5/resnest50d_score=0.83201', './rfcx_kaggle_git/RFCX_kaggle/experiments/logs_model=resnest50d_Pretrained=True_act_func=Mish_criterion=LSEP_length=30_step=15_intersect=0.4_new_dataset_num_classes=24_optim=ranger_sched=plateau_lr=1e-3_SpecAug=True_MixUp=True_alpha=1_n_mels=128_valid=NotLikeTest_folds=5/resnest50d_score=0.83554', './rfcx_kaggle_git/RFCX_kaggle/experiments/logs_model=resnest50d_Pretrained=True_act_func=Mish_criterion=LSEP_length=30_step=15_intersect=0.4_new_dataset_num_classes=24_optim=ranger_sched=plateau_lr=1e-3_SpecAug=True_MixUp=True_alpha=1_n_mels=128_valid=NotLikeTest_folds=5/resnest50d_score=0.84964', './rfcx_kaggle_git/RFCX_kaggle/experiments/logs_model=resnest50d_Pretrained=True_act_func=Mish_criterion=LSEP_length=30_step=15_intersect=0.4_new_dataset_num_classes=24_optim=ranger_sched=plateau_lr=1e-3_SpecAug=True_MixUp=True_alpha=1_n_mels=128_valid=NotLikeTest_folds=5/resnest50d_score=0.85756', './rfcx_kaggle_git/RFCX_kaggle/experiments/logs_model=resnest50d_Pretrained=True_act_func=Mish_criterion=LSEP_length=30_step=15_intersect=0.4_new_dataset_num_classes=24_optim=ranger_sched=plateau_lr=1e-3_SpecAug=True_MixUp=True_alpha=1_n_mels=128_valid=NotLikeTest_folds=5/resnest50d_score=0.87215', './rfcx_kaggle_git/RFCX_kaggle/experiments/logs_model=resnest50d_Pretrained=True_act_func=Mish_criterion=LSEP_length=30_step=15_intersect=0.4_new_dataset_num_classes=24_optim=ranger_sched=plateau_lr=1e-3_SpecAug=True_MixUp=True_alpha=1_n_mels=128_valid=NotLikeTest_folds=5/resnest50d_score=0.87727']\n",
      "./rfcx_kaggle_git/RFCX_kaggle/experiments/logs_model=resnest50d_Pretrained=True_act_func=Mish_criterion=LSEP_length=30_step=15_intersect=0.4_new_dataset_num_classes=24_optim=ranger_sched=plateau_lr=1e-3_SpecAug=True_MixUp=True_alpha=1_n_mels=128_valid=NotLikeTest_folds=5/resnest50d_score=0.87727\n"
     ]
    }
   ],
   "source": [
    "try:\n",
    "    shutil.rmtree(config[\"general\"][\"out_path\"])\n",
    "except:\n",
    "    pass\n",
    "\n",
    "try:\n",
    "    os.mkdir(config[\"general\"][\"out_path\"])\n",
    "except:\n",
    "    pass\n",
    "\n",
    "\n",
    "for i in range(config[\"training\"][\"n_folds\"]):\n",
    "    spectrogram_extractor = Spectrogram(**config[\"preprocessing\"][\"spectrogram\"])\n",
    "    logmel_extractor = LogmelFilterBank(sr=config[\"preprocessing\"][\"sr\"],\n",
    "                                        **config[\"preprocessing\"][\"logmel\"])\n",
    "\n",
    "    # MixUp\n",
    "    if \"MixUp\" in config[\"training\"][\"augmentations\"]:\n",
    "        mixup = MixUp(**config[\"training\"][\"augmentations\"][\"MixUp\"])\n",
    "    else:\n",
    "        mixup = None\n",
    "\n",
    "    # Spec augmenter\n",
    "    if \"SpecAug\" in config[\"training\"][\"augmentations\"]:\n",
    "        spec_augmenter = SpecAugmentation(**config[\"training\"][\"augmentations\"][\"SpecAug\"])\n",
    "    else:\n",
    "        spec_augmenter = None\n",
    "\n",
    "\n",
    "    if config[\"preprocessing\"][\"use_cmvn\"]:\n",
    "        cmvn = CMVN(2)\n",
    "    else:\n",
    "        cmvn = None\n",
    "    \n",
    "    \n",
    "    model_name = config[\"general\"][\"model_name\"]\n",
    "    model = None\n",
    "    model = ENCODER_PARAMS[model_name][\"init_op\"]()\n",
    "    feat_module = [spectrogram_extractor]\n",
    "    if cmvn is not None:\n",
    "        feat_module.append(cmvn)\n",
    "    feat_module.append(logmel_extractor)\n",
    "    \n",
    "    model = Wrapper(model, nn.Sequential(*feat_module), classes_num=config[\"general\"][\"classes_num\"], model_name=model_name,\n",
    "                spec_augmenter=spec_augmenter, \n",
    "                mixup_module=mixup,\n",
    "                activation_func=config[\"training\"][\"activation_func\"])\n",
    "    model.to(DEVICE)\n",
    "\n",
    "    if config[\"training\"][\"state_dict\"] is not None:\n",
    "        model.model.load_state_dict(torch.load(config[\"training\"][\"state_dict\"],\n",
    "                                         map_location=torch.device(DEVICE))['model_state_dict'])\n",
    "        optimizer = Ranger(model.model.parameters(),\n",
    "                           lr=config[\"training\"][\"lr\"],\n",
    "                           betas=(.95, 0.999))#torch.optim.Adam(model.model.parameters(), lr=config[\"training\"][\"lr\"]) # TODO: add mappings file for losses\n",
    "\n",
    "        try:\n",
    "            optimizer.load_state_dict(torch.load(config[\"training\"][\"state_dict\"],\n",
    "                                                 map_location=torch.device(DEVICE))['optimizer_state_dict'])\n",
    "        except:\n",
    "            print(\"ERROR in optimizer loading\")\n",
    "            pass\n",
    "    else:\n",
    "        optimizer = Ranger(model.model.parameters(),\n",
    "                           lr=config[\"training\"][\"lr\"],\n",
    "                           betas=(.95, 0.999))\n",
    "    scheduler = torch.optim.lr_scheduler.ReduceLROnPlateau(optimizer, factor=0.1, patience=5, min_lr=1e-6, verbose=True)\n",
    "    \n",
    "#     train_dataset = LabeledWavDataset(transforms=augmenter_train,\n",
    "#                                       fold=i,\n",
    "#                                       classes_num=config[\"general\"][\"classes_num\"],\n",
    "#                                       sr=config[\"preprocessing\"][\"sr\"],\n",
    "#                                       **config[\"training\"][\"dataset\"])\n",
    "    train_dataset = LabeledWavDatasetBalanced(df=train[train[\"kfold\"] != i],\n",
    "                                              transforms=augmenter_train,\n",
    "#                                       classes_num=config[\"general\"][\"classes_num\"],\n",
    "#                                       sr=config[\"preprocessing\"][\"sr\"],\n",
    "                                      **config[\"training\"][\"dataset\"])\n",
    "\n",
    "    val_dataset = LabeledWavDatasetBalanced(\n",
    "                                    df=train[train[\"kfold\"] == i],\n",
    "                                    transforms=augmenter_val,\n",
    "#                                     classes_num=config[\"general\"][\"classes_num\"],\n",
    "#                                     sr=config[\"preprocessing\"][\"sr\"],\n",
    "                                    **config[\"validation\"][\"dataset\"])\n",
    "\n",
    "\n",
    "    train_dataloader = DataLoader(train_dataset, **config[\"training\"][\"dataloader\"])\n",
    "    val_dataloader = DataLoader(val_dataset, **config[\"validation\"][\"dataloader\"])\n",
    "    \n",
    "    training(EPOCHS=EPOCHS, model=model,\n",
    "             train_dataloader=train_dataloader, val_dataloader=val_dataloader,\n",
    "             DEVICE=DEVICE, criterion=criterion, optimizer=optimizer,\n",
    "             scheduler=scheduler, config=config, fold=i)"
   ]
  },
  {
   "cell_type": "code",
   "execution_count": 11,
   "metadata": {},
   "outputs": [
    {
     "data": {
      "text/plain": [
       "0.0747"
      ]
     },
     "execution_count": 11,
     "metadata": {},
     "output_type": "execute_result"
    }
   ],
   "source": [
    "train[train[\"kfold\"] != i]['t_min'].values[5]"
   ]
  },
  {
   "cell_type": "code",
   "execution_count": 12,
   "metadata": {
    "pycharm": {
     "is_executing": true,
     "name": "#%%\n"
    }
   },
   "outputs": [
    {
     "name": "stdout",
     "output_type": "stream",
     "text": [
      "backup\t\t     ngrok\t      rfcx-species-audio-detection.zip\r\n",
      "cornell_archive.tar  rfcx_kaggle\r\n",
      "lost+found\t     rfcx_kaggle_git\r\n"
     ]
    }
   ],
   "source": [
    "!ls"
   ]
  },
  {
   "cell_type": "code",
   "execution_count": 13,
   "metadata": {
    "pycharm": {
     "is_executing": true,
     "name": "#%%\n"
    }
   },
   "outputs": [
    {
     "data": {
      "text/plain": [
       "'./rfcx_kaggle_git/RFCX_kaggle/experiments/logs_model=resnest50d_Pretrained=True_act_func=Mish_criterion=LSEP_length=30_step=15_intersect=0.4_new_dataset_num_classes=24_optim=ranger_sched=plateau_lr=1e-3_SpecAug=True_MixUp=True_alpha=1_n_mels=128_valid=NotLikeTest_folds=5/'"
      ]
     },
     "execution_count": 13,
     "metadata": {},
     "output_type": "execute_result"
    }
   ],
   "source": [
    "config[\"general\"][\"out_path\"]"
   ]
  },
  {
   "cell_type": "code",
   "execution_count": 14,
   "metadata": {
    "pycharm": {
     "is_executing": true
    }
   },
   "outputs": [
    {
     "name": "stdout",
     "output_type": "stream",
     "text": [
      "backup\t\t     ngrok\t      rfcx-species-audio-detection.zip\r\n",
      "cornell_archive.tar  rfcx_kaggle\r\n",
      "lost+found\t     rfcx_kaggle_git\r\n"
     ]
    }
   ],
   "source": [
    "!ls"
   ]
  },
  {
   "cell_type": "code",
   "execution_count": 15,
   "metadata": {},
   "outputs": [
    {
     "name": "stdout",
     "output_type": "stream",
     "text": [
      "Sat Jan 30 16:39:49 2021       \r\n",
      "+-----------------------------------------------------------------------------+\r\n",
      "| NVIDIA-SMI 450.102.04   Driver Version: 450.102.04   CUDA Version: 11.0     |\r\n",
      "|-------------------------------+----------------------+----------------------+\r\n",
      "| GPU  Name        Persistence-M| Bus-Id        Disp.A | Volatile Uncorr. ECC |\r\n",
      "| Fan  Temp  Perf  Pwr:Usage/Cap|         Memory-Usage | GPU-Util  Compute M. |\r\n",
      "|                               |                      |               MIG M. |\r\n",
      "|===============================+======================+======================|\r\n",
      "|   0  GeForce RTX 208...  Off  | 00000000:0E:00.0  On |                  N/A |\r\n",
      "| 75%   74C    P2   115W / 260W |  10102MiB / 11018MiB |      1%      Default |\r\n",
      "|                               |                      |                  N/A |\r\n",
      "+-------------------------------+----------------------+----------------------+\r\n",
      "|   1  GeForce RTX 208...  Off  | 00000000:0F:00.0 Off |                  N/A |\r\n",
      "| 62%   61C    P2   281W / 300W |  10811MiB / 11019MiB |     97%      Default |\r\n",
      "|                               |                      |                  N/A |\r\n",
      "+-------------------------------+----------------------+----------------------+\r\n",
      "                                                                               \r\n",
      "+-----------------------------------------------------------------------------+\r\n",
      "| Processes:                                                                  |\r\n",
      "|  GPU   GI   CI        PID   Type   Process name                  GPU Memory |\r\n",
      "|        ID   ID                                                   Usage      |\r\n",
      "|=============================================================================|\r\n",
      "|    0   N/A  N/A      1525      G   /usr/lib/xorg/Xorg                 26MiB |\r\n",
      "|    0   N/A  N/A      1714      G   /usr/bin/gnome-shell               97MiB |\r\n",
      "|    0   N/A  N/A      3427      G   /usr/lib/xorg/Xorg                246MiB |\r\n",
      "|    0   N/A  N/A      3559      G   /usr/bin/gnome-shell              138MiB |\r\n",
      "|    0   N/A  N/A      4058      G   ...AAAAAAAAA= --shared-files      184MiB |\r\n",
      "|    0   N/A  N/A      4363      C   ...a3/envs/kaggle/bin/python     9377MiB |\r\n",
      "|    0   N/A  N/A      9711      G   ...f_9334.log --shared-files       24MiB |\r\n",
      "|    1   N/A  N/A      1525      G   /usr/lib/xorg/Xorg                  4MiB |\r\n",
      "|    1   N/A  N/A      2985      C   ...a3/envs/kaggle/bin/python    10797MiB |\r\n",
      "|    1   N/A  N/A      3427      G   /usr/lib/xorg/Xorg                  4MiB |\r\n",
      "+-----------------------------------------------------------------------------+\r\n"
     ]
    }
   ],
   "source": [
    "!nvidia-smi"
   ]
  },
  {
   "cell_type": "code",
   "execution_count": 16,
   "metadata": {},
   "outputs": [
    {
     "name": "stderr",
     "output_type": "stream",
     "text": [
      "\r",
      "  0%|          | 0/29 [00:00<?, ?it/s]"
     ]
    },
    {
     "name": "stdout",
     "output_type": "stream",
     "text": [
      "Predict test without augmentations\n"
     ]
    },
    {
     "name": "stderr",
     "output_type": "stream",
     "text": [
      "100%|██████████| 29/29 [00:03<00:00,  8.20it/s]\n"
     ]
    }
   ],
   "source": [
    "from pipeline_utils import evaluate\n",
    "_ = evaluate(model=model, dataloader=val_dataloader,\n",
    "              DEVICE=DEVICE, config=config)"
   ]
  },
  {
   "cell_type": "code",
   "execution_count": 17,
   "metadata": {},
   "outputs": [
    {
     "data": {
      "text/plain": [
       "0.842773965481389"
      ]
     },
     "execution_count": 17,
     "metadata": {},
     "output_type": "execute_result"
    }
   ],
   "source": [
    "_[0]['lwlrap_max']"
   ]
  },
  {
   "cell_type": "code",
   "execution_count": 18,
   "metadata": {},
   "outputs": [],
   "source": [
    "optim_params = optimizer.state_dict()\n",
    "model_params = model.model.state_dict()\n",
    "all_params = {'model_state_dict': model_params, 'optimizer_state_dict': optim_params}\n",
    "torch.save(all_params, f\"{config['general']['out_path']}{config['general']['model_name']}_score=CHECK\")\n"
   ]
  },
  {
   "cell_type": "code",
   "execution_count": null,
   "metadata": {},
   "outputs": [],
   "source": []
  }
 ],
 "metadata": {
  "kernelspec": {
   "display_name": "Python 3",
   "language": "python",
   "name": "python3"
  },
  "language_info": {
   "codemirror_mode": {
    "name": "ipython",
    "version": 3
   },
   "file_extension": ".py",
   "mimetype": "text/x-python",
   "name": "python",
   "nbconvert_exporter": "python",
   "pygments_lexer": "ipython3",
   "version": "3.7.9"
  }
 },
 "nbformat": 4,
 "nbformat_minor": 4
}
