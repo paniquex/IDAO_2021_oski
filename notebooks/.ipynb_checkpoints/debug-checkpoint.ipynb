{
 "cells": [
  {
   "cell_type": "code",
   "execution_count": 1,
   "metadata": {},
   "outputs": [],
   "source": [
    "import sys\n",
    "sys.path.append(\"/media/paniquex/samsung_2tb/rfcx_kaggle_git/RFCX_kaggle/src\")\n",
    "\n",
    "from collections import defaultdict\n",
    "import os\n",
    "import random\n",
    "\n",
    "import numpy as np\n",
    "import pandas as pd\n",
    "import yaml\n",
    "import shutil\n",
    "from sklearn.model_selection import train_test_split\n",
    "\n",
    "from torch.utils.data import DataLoader\n",
    "from torch import nn\n",
    "import torch\n",
    "\n",
    "\n",
    "import audiomentations\n",
    "from torchlibrosa.stft import Spectrogram, LogmelFilterBank\n",
    "from torchlibrosa.augmentation import SpecAugmentation\n",
    "\n",
    "from transformers import get_linear_schedule_with_warmup\n",
    "\n",
    "from datasets import LabeledWavDataset, StepWavDataset\n",
    "from preprocessing import CMVN\n",
    "from models import Wrapper\n",
    "from pipeline_utils import evaluate_test, evaluate\n",
    "from models import ENCODER_PARAMS\n",
    "\n",
    "\n",
    "os.chdir(\"/media/paniquex/samsung_2tb/\")"
   ]
  },
  {
   "cell_type": "code",
   "execution_count": 2,
   "metadata": {},
   "outputs": [
    {
     "name": "stderr",
     "output_type": "stream",
     "text": [
      "/home/paniquex/anaconda3/envs/kaggle/lib/python3.7/site-packages/ipykernel_launcher.py:3: YAMLLoadWarning: calling yaml.load() without Loader=... is deprecated, as the default Loader is unsafe. Please read https://msg.pyyaml.org/load for full details.\n",
      "  This is separate from the ipykernel package so we can avoid doing imports until\n"
     ]
    }
   ],
   "source": [
    "PATH_TO_CFG = \"/media/paniquex/samsung_2tb/rfcx_kaggle_git/RFCX_kaggle/config/config.yaml\"\n",
    "with open(PATH_TO_CFG, \"r\") as file:\n",
    "    config = yaml.load(file)\n",
    "\n",
    "DATA_ROOT = config[\"general\"][\"data_root\"]\n",
    "\n",
    "def fix_seed(seed):\n",
    "    random.seed(seed)\n",
    "    np.random.seed(seed)\n",
    "    os.environ[\"PYTHONHASHSEED\"] = str(seed)\n",
    "    torch.manual_seed(seed)\n",
    "    torch.cuda.manual_seed(seed)  # type: ignore\n",
    "    torch.backends.cudnn.deterministic = True  # type: ignore\n",
    "    torch.backends.cudnn.benchmark = True  # type: ignore\n",
    "\n",
    "fix_seed(config[\"general\"][\"seed\"])\n",
    "device_ids = [str(id) for id in config[\"general\"][\"device_ids\"]]\n",
    "ids = \",\".join(device_ids)\n",
    "DEVICE = torch.device(f\"cpu\")"
   ]
  },
  {
   "cell_type": "code",
   "execution_count": 3,
   "metadata": {},
   "outputs": [
    {
     "ename": "KeyError",
     "evalue": "'train_size'",
     "output_type": "error",
     "traceback": [
      "\u001b[0;31m---------------------------------------------------------------------------\u001b[0m",
      "\u001b[0;31mKeyError\u001b[0m                                  Traceback (most recent call last)",
      "\u001b[0;32m<ipython-input-3-55e09ff4f1e1>\u001b[0m in \u001b[0;36m<module>\u001b[0;34m\u001b[0m\n\u001b[1;32m      6\u001b[0m \u001b[0;34m\u001b[0m\u001b[0m\n\u001b[1;32m      7\u001b[0m samples_train, samples_val = train_test_split(X,\n\u001b[0;32m----> 8\u001b[0;31m                                               \u001b[0mtrain_size\u001b[0m\u001b[0;34m=\u001b[0m\u001b[0mconfig\u001b[0m\u001b[0;34m[\u001b[0m\u001b[0;34m\"training\"\u001b[0m\u001b[0;34m]\u001b[0m\u001b[0;34m[\u001b[0m\u001b[0;34m\"train_size\"\u001b[0m\u001b[0;34m]\u001b[0m\u001b[0;34m,\u001b[0m\u001b[0;34m\u001b[0m\u001b[0;34m\u001b[0m\u001b[0m\n\u001b[0m\u001b[1;32m      9\u001b[0m                                               random_state=config[\"general\"][\"seed\"])\n\u001b[1;32m     10\u001b[0m \u001b[0;34m\u001b[0m\u001b[0m\n",
      "\u001b[0;31mKeyError\u001b[0m: 'train_size'"
     ]
    }
   ],
   "source": [
    "train = pd.read_csv(os.path.join(DATA_ROOT, \"train_tp.csv\"))\n",
    "train_gby = train.groupby(\"recording_id\")[[\"species_id\"]].first().reset_index()\n",
    "train_gby = train_gby.sample(frac=1, random_state=config[\"general\"][\"seed\"]).reset_index(drop=True)\n",
    "\n",
    "X = train_gby[\"recording_id\"].values\n",
    "\n",
    "samples_train, samples_val = train_test_split(X,\n",
    "                                              train_size=config[\"training\"][\"train_size\"],\n",
    "                                              random_state=config[\"general\"][\"seed\"])\n",
    "\n",
    "\n",
    "test_dataset = LabeledWavDataset(samples=samples_val, **config[\"validation\"][\"dataset\"])\n",
    "\n",
    "test_dataloader = DataLoader(test_dataset, **config[\"validation\"][\"dataloader\"])"
   ]
  },
  {
   "cell_type": "code",
   "execution_count": 6,
   "metadata": {},
   "outputs": [],
   "source": [
    "train[\"t_diff\"] = train[\"t_max\"] - train[\"t_min\"]"
   ]
  },
  {
   "cell_type": "code",
   "execution_count": 14,
   "metadata": {},
   "outputs": [
    {
     "data": {
      "image/png": "[encoded data removed]",
      "text/plain": [
       "<Figure size 432x288 with 1 Axes>"
      ]
     },
     "metadata": {
      "needs_background": "light"
     },
     "output_type": "display_data"
    }
   ],
   "source": [
    "train[\"t_diff\"].hist(label=train[\"species_id\"])"
   ]
  },
  {
   "cell_type": "code",
   "execution_count": 4,
   "metadata": {},
   "outputs": [],
   "source": [
    "spectrogram_extractor = Spectrogram(**config[\"preprocessing\"][\"spectrogram\"])\n",
    "logmel_extractor = LogmelFilterBank(sr=config[\"preprocessing\"][\"sr\"],\n",
    "                                    **config[\"preprocessing\"][\"logmel\"])\n",
    "\n",
    "# Spec augmenter\n",
    "if \"SpecAug\" in config[\"testing\"][\"augmentations\"]:\n",
    "    spec_augmenter = SpecAugmentation(**config[\"training\"][\"augmentations\"][\"SpecAug\"])\n",
    "else:\n",
    "    spec_augmenter = None\n",
    "\n",
    "if config[\"preprocessing\"][\"use_cmvn\"]:\n",
    "    cmvn = CMVN(2)\n",
    "else:\n",
    "    cmvn = None\n"
   ]
  },
  {
   "cell_type": "code",
   "execution_count": 5,
   "metadata": {},
   "outputs": [],
   "source": [
    "model_name = config[\"general\"][\"model_name\"]\n",
    "model = ENCODER_PARAMS[model_name][\"init_op\"]()\n",
    "feat_module = [spectrogram_extractor]\n",
    "if cmvn is not None:\n",
    "    feat_module.append(cmvn)\n",
    "feat_module.append(logmel_extractor)\n",
    "model = Wrapper(model, nn.Sequential(*feat_module), classes_num=config[\"general\"][\"classes_num\"], model_name=model_name,\n",
    "                spec_augmenter=spec_augmenter, activation_func=config[\"training\"][\"activation_func\"])\n",
    "if config[\"testing\"][\"state_dict\"] is not None:\n",
    "    model.load_state_dict(torch.load(config[\"testing\"][\"state_dict\"],\n",
    "                                     map_location=torch.device(DEVICE))['model_state_dict'])\n",
    "model.to(DEVICE);"
   ]
  },
  {
   "cell_type": "code",
   "execution_count": 6,
   "metadata": {},
   "outputs": [
    {
     "name": "stdout",
     "output_type": "stream",
     "text": [
      "ls: cannot access '/media/paniquex/samsung_2tb/rfcx_kaggle_git/RFCX_kaggle/notebooks/logs_model=resnest50d_Pretrained=True_act_func=Mish_criterion=BCE_length=2_step=1_intersect=0.5_new_dataset_num_classes=24_optim=ranger_sched=plateau_lr=1e-3_SpecAug=True_MixUp=True_alpha=1_n_mels=128_valid=NotLikeTest': No such file or directory\r\n"
     ]
    }
   ],
   "source": [
    "!ls /media/paniquex/samsung_2tb/rfcx_kaggle_git/RFCX_kaggle/notebooks/logs_model=resnest50d_Pretrained=True_act_func=Mish_criterion=BCE_length=2_step=1_intersect=0.5_new_dataset_num_classes=24_optim=ranger_sched=plateau_lr=1e-3_SpecAug=True_MixUp=True_alpha=1_n_mels=128_valid=NotLikeTest"
   ]
  },
  {
   "cell_type": "code",
   "execution_count": 7,
   "metadata": {},
   "outputs": [
    {
     "name": "stderr",
     "output_type": "stream",
     "text": [
      "\r",
      "  0%|          | 0/55 [00:00<?, ?it/s]"
     ]
    },
    {
     "name": "stdout",
     "output_type": "stream",
     "text": [
      "Predict test without augmentations\n"
     ]
    },
    {
     "name": "stderr",
     "output_type": "stream",
     "text": [
      "100%|██████████| 55/55 [00:03<00:00, 16.00it/s]\n",
      "/home/paniquex/anaconda3/envs/kaggle/lib/python3.7/site-packages/sklearn/metrics/_classification.py:1221: UndefinedMetricWarning: Precision is ill-defined and being set to 0.0 in samples with no predicted labels. Use `zero_division` parameter to control this behavior.\n",
      "  _warn_prf(average, modifier, msg_start, len(result))\n"
     ]
    }
   ],
   "source": [
    "try:\n",
    "    os.mkdir(config[\"general\"][\"out_path\"])\n",
    "except:\n",
    "    pass\n",
    "samples2preds = evaluate(model=model, dataloader=test_dataloader,\n",
    "              DEVICE=DEVICE, config=config)\n"
   ]
  },
  {
   "cell_type": "code",
   "execution_count": 8,
   "metadata": {},
   "outputs": [
    {
     "data": {
      "text/plain": [
       "(0.729980074579466, 0.7317967963315326)"
      ]
     },
     "execution_count": 8,
     "metadata": {},
     "output_type": "execute_result"
    }
   ],
   "source": [
    "samples2preds[0]['lwlrap_max'], samples2preds[0]['lwlrap_mean']"
   ]
  },
  {
   "cell_type": "code",
   "execution_count": 9,
   "metadata": {},
   "outputs": [
    {
     "ename": "SyntaxError",
     "evalue": "invalid syntax (<ipython-input-9-8f50081e2b36>, line 1)",
     "output_type": "error",
     "traceback": [
      "\u001b[0;36m  File \u001b[0;32m\"<ipython-input-9-8f50081e2b36>\"\u001b[0;36m, line \u001b[0;32m1\u001b[0m\n\u001b[0;31m    w 0.7796094043398845\u001b[0m\n\u001b[0m                       ^\u001b[0m\n\u001b[0;31mSyntaxError\u001b[0m\u001b[0;31m:\u001b[0m invalid syntax\n"
     ]
    }
   ],
   "source": [
    "w 0.7796094043398845"
   ]
  },
  {
   "cell_type": "code",
   "execution_count": null,
   "metadata": {},
   "outputs": [],
   "source": [
    "#0.7615494376540469 4, 4"
   ]
  },
  {
   "cell_type": "code",
   "execution_count": null,
   "metadata": {
    "pycharm": {
     "name": "#%%\n"
    }
   },
   "outputs": [],
   "source": [
    "!ls /media/paniquex/samsung_2tb/rfcx_kaggle/rfcx-species-audio-detection"
   ]
  },
  {
   "cell_type": "code",
   "execution_count": null,
   "metadata": {},
   "outputs": [],
   "source": [
    "for sample in samples2preds:\n",
    "    preds = np.vstack(samples2preds[sample])\n",
    "    print(np.min(preds[:, -1]))"
   ]
  },
  {
   "cell_type": "code",
   "execution_count": null,
   "metadata": {},
   "outputs": [],
   "source": [
    "train_tp = pd.read_csv(os.path.join(DATA_ROOT, \"train_tp.csv\"))"
   ]
  },
  {
   "cell_type": "code",
   "execution_count": null,
   "metadata": {},
   "outputs": [],
   "source": [
    "train_tp['t_diff'] = train_tp['t_max'] - train_tp['t_min']"
   ]
  },
  {
   "cell_type": "code",
   "execution_count": null,
   "metadata": {},
   "outputs": [],
   "source": [
    "train_tp.describe()"
   ]
  },
  {
   "cell_type": "code",
   "execution_count": null,
   "metadata": {},
   "outputs": [],
   "source": [
    "train_tp"
   ]
  },
  {
   "cell_type": "code",
   "execution_count": null,
   "metadata": {},
   "outputs": [],
   "source": [
    "i = 16\n",
    "preds = np.vstack(samples2preds[samples_val[i]])"
   ]
  },
  {
   "cell_type": "code",
   "execution_count": null,
   "metadata": {},
   "outputs": [],
   "source": [
    "train_tp.loc[train_tp['recording_id'] == samples_val[i]]\n",
    "t = train_tp.loc[train_tp['recording_id'] == samples_val[i]][[\"t_min\", \"t_max\"]].values"
   ]
  },
  {
   "cell_type": "code",
   "execution_count": null,
   "metadata": {},
   "outputs": [],
   "source": [
    "def intersect(start, end, t_min, t_max):\n",
    "    if min(end, t_max) > max(start, t_min):\n",
    "        return min(end, t_max) - max(start, t_min)"
   ]
  },
  {
   "cell_type": "code",
   "execution_count": null,
   "metadata": {},
   "outputs": [],
   "source": [
    "t"
   ]
  },
  {
   "cell_type": "code",
   "execution_count": null,
   "metadata": {},
   "outputs": [],
   "source": [
    "for tmp1, tmp2 in zip(t[:, 0], t[:, 1]):\n",
    "    print(tmp1, tmp2)"
   ]
  },
  {
   "cell_type": "code",
   "execution_count": null,
   "metadata": {},
   "outputs": [],
   "source": [
    "t_min, t_max = t[0, 0], t[0, 1]\n",
    "length = config[\"validation\"][\"dataset\"][\"length\"]\n",
    "step = config[\"validation\"][\"dataset\"][\"step\"]\n",
    "idxs = []\n",
    "\n",
    "\n",
    "for idx in range(0, preds.shape[0]):\n",
    "    start = idx * step\n",
    "    end = idx * step + length\n",
    "    for t_min, t_max in zip(t[:, 0], t[:, 1]):\n",
    "        if intersect(start, end, t_min, t_max):\n",
    "            print(idx)\n",
    "            idxs.append(idx)"
   ]
  },
  {
   "cell_type": "code",
   "execution_count": null,
   "metadata": {},
   "outputs": [],
   "source": []
  },
  {
   "cell_type": "code",
   "execution_count": null,
   "metadata": {},
   "outputs": [],
   "source": [
    "np.vstack(samples2preds[samples_val[i]])[idxs][:, -1]"
   ]
  },
  {
   "cell_type": "code",
   "execution_count": null,
   "metadata": {},
   "outputs": [],
   "source": [
    "# array([0.9448137 , 0.9125018 , 0.9099168 , 0.9257152 , 0.95631397],"
   ]
  },
  {
   "cell_type": "code",
   "execution_count": null,
   "metadata": {},
   "outputs": [],
   "source": [
    "t_min, t_max"
   ]
  },
  {
   "cell_type": "code",
   "execution_count": null,
   "metadata": {},
   "outputs": [],
   "source": [
    "samples_val[i]"
   ]
  },
  {
   "cell_type": "code",
   "execution_count": null,
   "metadata": {},
   "outputs": [],
   "source": [
    "# array([[5.53821505e-04, 5.24600083e-03, 7.47226598e-03, 1.58984785e-03,\n",
    "#         5.53033198e-04, 5.91792690e-04, 7.71170133e-04, 4.67549404e-03,\n",
    "#         5.31450100e-03, 3.65832518e-03, 1.41427922e-03, 5.89290808e-04,\n",
    "#         1.05503725e-03, 8.63160938e-03, 1.35270052e-03, 1.89951097e-03,\n",
    "#         4.03080089e-03, 8.04990195e-05, 2.79093185e-03, 4.48610727e-03,\n",
    "#         2.51024403e-03, 2.08632951e-03, 6.00798195e-03, 3.92247981e-04,\n",
    "#         9.38815117e-01],\n",
    "#        [5.22863353e-04, 2.10593175e-03, 1.00635355e-02, 1.03726995e-03,\n",
    "#         2.15745065e-04, 1.91335951e-03, 8.05639778e-04, 4.09070170e-03,\n",
    "#         5.00524743e-03, 3.28621536e-04, 3.15081771e-03, 3.02391651e-04,\n",
    "#         1.10922521e-03, 6.46043476e-03, 7.74671324e-04, 1.19725976e-03,\n",
    "#         2.46375683e-03, 8.13400329e-05, 3.13554984e-03, 3.92596796e-03,\n",
    "#         1.43579184e-03, 7.41721771e-04, 6.00989349e-03, 1.46919963e-04,\n",
    "#         9.66839075e-01]], dtype=float32)"
   ]
  },
  {
   "cell_type": "code",
   "execution_count": null,
   "metadata": {},
   "outputs": [],
   "source": [
    "train_fp = pd.read_csv(os.path.join(DATA_ROOT, \"train_fp.csv\"))"
   ]
  },
  {
   "cell_type": "code",
   "execution_count": null,
   "metadata": {},
   "outputs": [],
   "source": [
    "train_fp.loc[train_fp['recording_id'] == samples_val[10]][[\"t_min\", \"t_max\"]].values"
   ]
  },
  {
   "cell_type": "code",
   "execution_count": null,
   "metadata": {},
   "outputs": [],
   "source": []
  }
 ],
 "metadata": {
  "kernelspec": {
   "display_name": "Python 3",
   "language": "python",
   "name": "python3"
  },
  "language_info": {
   "codemirror_mode": {
    "name": "ipython",
    "version": 3
   },
   "file_extension": ".py",
   "mimetype": "text/x-python",
   "name": "python",
   "nbconvert_exporter": "python",
   "pygments_lexer": "ipython3",
   "version": "3.7.9"
  }
 },
 "nbformat": 4,
 "nbformat_minor": 4
}
