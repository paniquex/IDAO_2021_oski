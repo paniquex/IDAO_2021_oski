{
 "cells": [
  {
   "cell_type": "code",
   "execution_count": 34,
   "metadata": {},
   "outputs": [],
   "source": [
    "path = \"/media/paniquex/samsung_2tb/rfcx_kaggle_git/RFCX_kaggle/experiments/logs_features=melspec_mr_SR=32_CMVN=F_model=resnest50d_Pretrained=True_SED=F_aggr=max_act_func=Mish_criterion=LSEP_Balanced=T_length=6_n_classes=24_optim=ranger_sched=cosine_lr=1e-3_SpecAug=True_MixUp=True_alpha=16_Gain=T_n_mels=128\""
   ]
  },
  {
   "cell_type": "code",
   "execution_count": 35,
   "metadata": {},
   "outputs": [],
   "source": [
    "import numpy as np"
   ]
  },
  {
   "cell_type": "code",
   "execution_count": 36,
   "metadata": {},
   "outputs": [],
   "source": [
    "val_trues = np.load(path + \"/val_true_70.npy\")\n",
    "val_preds = np.load(path + \"/val_pred_preds_max_70.npy\")"
   ]
  },
  {
   "cell_type": "code",
   "execution_count": 37,
   "metadata": {},
   "outputs": [
    {
     "data": {
      "text/plain": [
       "((226, 24), (226, 24))"
      ]
     },
     "execution_count": 37,
     "metadata": {},
     "output_type": "execute_result"
    }
   ],
   "source": [
    "val_trues.shape, val_preds.shape"
   ]
  },
  {
   "cell_type": "code",
   "execution_count": 38,
   "metadata": {},
   "outputs": [],
   "source": [
    "from sklearn.metrics import f1_score"
   ]
  },
  {
   "cell_type": "code",
   "execution_count": 39,
   "metadata": {},
   "outputs": [
    {
     "data": {
      "text/plain": [
       "array([[0.01443198, 0.00474258, 0.00538323, ..., 0.0059738 , 0.0076164 ,\n",
       "        0.00465036],\n",
       "       [0.99999344, 0.00830723, 0.00559087, ..., 0.00775201, 0.01085634,\n",
       "        0.01275159],\n",
       "       [0.02103145, 0.00926781, 0.05803028, ..., 0.01858346, 0.01536254,\n",
       "        0.01421837],\n",
       "       ...,\n",
       "       [0.0017718 , 0.07903484, 0.00364706, ..., 0.01015946, 0.00738975,\n",
       "        0.00326188],\n",
       "       [0.9999734 , 0.03783682, 0.15163659, ..., 0.0109276 , 0.03541858,\n",
       "        0.00941031],\n",
       "       [0.06252138, 0.47949228, 0.12247407, ..., 0.00902828, 0.01696721,\n",
       "        0.05819578]], dtype=float32)"
      ]
     },
     "execution_count": 39,
     "metadata": {},
     "output_type": "execute_result"
    }
   ],
   "source": [
    "val_preds"
   ]
  },
  {
   "cell_type": "code",
   "execution_count": 40,
   "metadata": {},
   "outputs": [
    {
     "data": {
      "text/plain": [
       "array([0.99953747, 0.99999344, 0.99229574, 0.99999356, 0.9999999 ,\n",
       "       0.99873847, 0.99952054, 0.99999845, 0.98928356, 0.9584192 ,\n",
       "       0.99935263, 0.9972779 , 0.99778855, 0.99999845, 0.99976975,\n",
       "       0.9999293 , 0.9999137 , 0.99968016, 0.99963725, 0.94732505,\n",
       "       0.99999046, 0.9977417 , 0.9999968 , 0.999793  , 0.96217275,\n",
       "       0.9999622 , 0.9999746 , 0.9998828 , 0.99961483, 0.9991252 ,\n",
       "       0.99997723, 0.99978215, 0.9999846 , 0.9997391 , 0.99876726,\n",
       "       0.9999794 , 0.99977165, 0.9999907 , 0.99870706, 0.9999143 ,\n",
       "       0.998522  , 0.99997187, 0.99987173, 0.99998474, 0.99953914,\n",
       "       0.9978363 , 0.9999964 , 0.9987582 , 0.9996598 , 0.9999635 ,\n",
       "       0.99999833, 0.99978477, 0.995552  , 0.9917407 , 0.99986887,\n",
       "       0.9999759 , 0.99978703, 0.9993512 , 0.9999933 , 0.9996333 ,\n",
       "       0.99999666, 0.98502433, 0.9998642 , 0.9999647 , 0.999938  ,\n",
       "       0.99529535, 0.99891937, 0.9999348 , 0.9975569 , 0.9999498 ,\n",
       "       0.99999094, 0.9997687 , 0.9999831 , 0.99990535, 0.99730253,\n",
       "       0.9999901 , 0.9979176 , 0.9998969 , 0.99844223, 0.9996952 ,\n",
       "       0.9998287 , 0.9998221 , 0.9989237 , 0.9989537 , 0.9999536 ,\n",
       "       0.9999285 , 0.9975987 , 0.9995338 , 0.9999014 , 0.99995005,\n",
       "       0.9845265 , 0.9997297 , 0.9994698 , 0.9998246 , 0.9999975 ,\n",
       "       0.99997544, 0.9986327 , 0.9998273 , 0.9968311 , 0.99999607,\n",
       "       0.999974  , 0.99998164, 0.9933611 , 0.99994206, 0.9999862 ,\n",
       "       0.99928623, 0.98841816, 0.9991092 , 0.99979395, 0.9998029 ,\n",
       "       0.9999902 , 0.99351984, 0.9999993 , 0.9997172 , 0.9963128 ,\n",
       "       0.99998295, 0.99999464, 0.9997105 , 0.9999856 , 0.9999546 ,\n",
       "       0.9993149 , 0.9999993 , 0.9998282 , 0.9994618 , 0.99999964,\n",
       "       0.99918264, 0.9992436 , 0.99992144, 0.9998043 , 0.99396014,\n",
       "       0.99971133, 0.9999528 , 0.9999926 , 0.9999051 , 0.9997814 ,\n",
       "       0.9102848 , 0.99530137, 0.9999198 , 0.99987435, 0.9997682 ,\n",
       "       0.9960873 , 0.9996449 , 0.99956006, 0.9999821 , 0.9797106 ,\n",
       "       0.9997813 , 0.9999964 , 0.9999765 , 0.948023  , 0.9999964 ,\n",
       "       0.94552577, 0.99989545, 0.99999917, 0.99616086, 0.99996936,\n",
       "       0.9998944 , 0.999974  , 0.9999989 , 0.9997296 , 0.99867576,\n",
       "       0.9998381 , 0.9999696 , 0.9998153 , 0.99998677, 0.99927026,\n",
       "       0.9999969 , 0.9999974 , 0.99192655, 0.9972453 , 0.9998473 ,\n",
       "       0.8940066 , 0.99984515, 0.9999858 , 0.99983406, 0.99990296,\n",
       "       0.99886596, 0.99929583, 0.999959  , 0.99630946, 0.9989907 ,\n",
       "       0.99935406, 0.99999666, 0.98699665, 0.9999354 , 0.9933114 ,\n",
       "       0.9974607 , 0.99097943, 0.9999943 , 0.9944588 , 0.9999963 ,\n",
       "       0.9952453 , 0.9999958 , 0.99999976, 0.99831223, 1.        ,\n",
       "       0.9999951 , 0.9999459 , 0.99990296, 0.999998  , 0.9993648 ,\n",
       "       0.997456  , 0.99999845, 0.99354726, 0.99999475, 0.9994392 ,\n",
       "       0.99962604, 0.9990445 , 0.99994504, 0.9998752 , 0.99971944,\n",
       "       0.99799025, 0.99993217, 0.99590766, 0.99973434, 0.999474  ,\n",
       "       0.999912  , 0.99943024, 0.9996958 , 0.9999447 , 0.98630804,\n",
       "       0.9999944 , 0.9866666 , 0.99423176, 0.9999949 , 0.9999734 ,\n",
       "       0.9997874 ], dtype=float32)"
      ]
     },
     "execution_count": 40,
     "metadata": {},
     "output_type": "execute_result"
    }
   ],
   "source": [
    "np.max(val_preds, axis=1)"
   ]
  },
  {
   "cell_type": "code",
   "execution_count": 42,
   "metadata": {},
   "outputs": [
    {
     "name": "stdout",
     "output_type": "stream",
     "text": [
      "class: 0 f1: 0.7142857142857143\n",
      "class: 1 f1: 0.625\n",
      "class: 2 f1: 0.7142857142857143\n",
      "class: 3 f1: 0.2564102564102564\n",
      "class: 4 f1: 0.6060606060606061\n",
      "class: 5 f1: 0.9166666666666666\n",
      "class: 6 f1: 0.8695652173913044\n",
      "class: 7 f1: 0.47058823529411764\n",
      "class: 8 f1: 0.7692307692307693\n",
      "class: 9 f1: 0.625\n",
      "class: 10 f1: 0.8695652173913044\n",
      "class: 11 f1: 0.5789473684210525\n",
      "class: 12 f1: 0.6451612903225806\n",
      "class: 13 f1: 0.7407407407407407\n",
      "class: 14 f1: 0.6896551724137931\n",
      "class: 15 f1: 0.5294117647058824\n",
      "class: 16 f1: 0.8\n",
      "class: 17 f1: 0.7142857142857143\n",
      "class: 18 f1: 0.5882352941176471\n",
      "class: 19 f1: 0.9473684210526316\n",
      "class: 20 f1: 0.8235294117647058\n",
      "class: 21 f1: 0.5714285714285715\n",
      "class: 22 f1: 0.8695652173913044\n",
      "class: 23 f1: 0.6808510638297872\n"
     ]
    }
   ],
   "source": [
    "scores = []\n",
    "for i in range(val_trues.shape[1]):\n",
    "    score = f1_score(val_trues[:, i], np.round(val_preds[:, i]), average='binary')\n",
    "    print(f\"class: {i} f1: {f1_score(val_trues[:, i], np.round(val_preds[:, i]), average='binary')}\")\n",
    "    scores.append(f1_score(val_trues[:, i], np.round(val_preds[:, i]), average='binary'))"
   ]
  },
  {
   "cell_type": "code",
   "execution_count": 48,
   "metadata": {},
   "outputs": [
    {
     "data": {
      "text/plain": [
       "<BarContainer object of 24 artists>"
      ]
     },
     "execution_count": 48,
     "metadata": {},
     "output_type": "execute_result"
    },
    {
     "data": {
      "image/png": "[encoded data removed]",
      "text/plain": [
       "<Figure size 432x288 with 1 Axes>"
      ]
     },
     "metadata": {
      "needs_background": "light"
     },
     "output_type": "display_data"
    }
   ],
   "source": [
    "import matplotlib.pyplot as plt\n",
    "\n",
    "plt.bar(x=np.arange(len(scores)), height=scores)"
   ]
  },
  {
   "cell_type": "code",
   "execution_count": 50,
   "metadata": {},
   "outputs": [
    {
     "data": {
      "text/plain": [
       "[0.7142857142857143,\n",
       " 0.625,\n",
       " 0.7142857142857143,\n",
       " 0.2564102564102564,\n",
       " 0.6060606060606061,\n",
       " 0.9166666666666666,\n",
       " 0.8695652173913044,\n",
       " 0.47058823529411764,\n",
       " 0.7692307692307693,\n",
       " 0.625,\n",
       " 0.8695652173913044,\n",
       " 0.5789473684210525,\n",
       " 0.6451612903225806,\n",
       " 0.7407407407407407,\n",
       " 0.6896551724137931,\n",
       " 0.5294117647058824,\n",
       " 0.8,\n",
       " 0.7142857142857143,\n",
       " 0.5882352941176471,\n",
       " 0.9473684210526316,\n",
       " 0.8235294117647058,\n",
       " 0.5714285714285715,\n",
       " 0.8695652173913044,\n",
       " 0.6808510638297872]"
      ]
     },
     "execution_count": 50,
     "metadata": {},
     "output_type": "execute_result"
    }
   ],
   "source": [
    "import pandas as pd\n",
    "\n",
    "\n",
    "pd.read_csv(\"/media/paniquex/samsung_2tb/rfcx_kaggle/rfcx-species-audio-detection\")"
   ]
  },
  {
   "cell_type": "code",
   "execution_count": 4,
   "metadata": {},
   "outputs": [
    {
     "name": "stdout",
     "output_type": "stream",
     "text": [
      "'best_model_fold0_score=0.87447.pth'    val_pred_preds_max_13.npy\r\n",
      "'best_model_fold1_score=0.87595.pth'    val_pred_preds_max_14.npy\r\n",
      "'best_model_fold2_score=0.86847.pth'    val_pred_preds_max_15.npy\r\n",
      "'best_model_fold3_score=0.87911.pth'    val_pred_preds_max_16.npy\r\n",
      "'best_model_fold4_score=0.88870.pth'    val_pred_preds_max_17.npy\r\n",
      " config.yaml\t\t\t        val_pred_preds_max_18.npy\r\n",
      " OOF_LWLRAP_MAX_fold4_0.86285\t        val_pred_preds_max_19.npy\r\n",
      " OOF_LWLRAP_MEAN_fold4_0.86627\t        val_pred_preds_max_1.npy\r\n",
      "'tf_efficientnet_l2_ns_score=0.85615'   val_pred_preds_max_20.npy\r\n",
      "'tf_efficientnet_l2_ns_score=0.86272'   val_pred_preds_max_21.npy\r\n",
      "'tf_efficientnet_l2_ns_score=0.86499'   val_pred_preds_max_22.npy\r\n",
      "'tf_efficientnet_l2_ns_score=0.87303'   val_pred_preds_max_23.npy\r\n",
      "'tf_efficientnet_l2_ns_score=0.87859'   val_pred_preds_max_24.npy\r\n",
      " tf_efficientnet_l2_ns_train.csv        val_pred_preds_max_25.npy\r\n",
      " tf_efficientnet_l2_ns_val_0.csv        val_pred_preds_max_2.npy\r\n",
      " tf_efficientnet_l2_ns_val_1.csv        val_pred_preds_max_3.npy\r\n",
      " tf_efficientnet_l2_ns_val_2.csv        val_pred_preds_max_4.npy\r\n",
      " tf_efficientnet_l2_ns_val_3.csv        val_pred_preds_max_5.npy\r\n",
      " tf_efficientnet_l2_ns_val_4.csv        val_pred_preds_max_6.npy\r\n",
      " train_pred_preds_0.npy\t\t        val_pred_preds_max_7.npy\r\n",
      " train_pred_preds_10.npy\t        val_pred_preds_max_8.npy\r\n",
      " train_pred_preds_11.npy\t        val_pred_preds_max_9.npy\r\n",
      " train_pred_preds_12.npy\t        val_pred_preds_mean_0.npy\r\n",
      " train_pred_preds_13.npy\t        val_pred_preds_mean_10.npy\r\n",
      " train_pred_preds_14.npy\t        val_pred_preds_mean_11.npy\r\n",
      " train_pred_preds_15.npy\t        val_pred_preds_mean_12.npy\r\n",
      " train_pred_preds_16.npy\t        val_pred_preds_mean_13.npy\r\n",
      " train_pred_preds_17.npy\t        val_pred_preds_mean_14.npy\r\n",
      " train_pred_preds_18.npy\t        val_pred_preds_mean_15.npy\r\n",
      " train_pred_preds_19.npy\t        val_pred_preds_mean_16.npy\r\n",
      " train_pred_preds_1.npy\t\t        val_pred_preds_mean_17.npy\r\n",
      " train_pred_preds_20.npy\t        val_pred_preds_mean_18.npy\r\n",
      " train_pred_preds_21.npy\t        val_pred_preds_mean_19.npy\r\n",
      " train_pred_preds_22.npy\t        val_pred_preds_mean_1.npy\r\n",
      " train_pred_preds_23.npy\t        val_pred_preds_mean_20.npy\r\n",
      " train_pred_preds_24.npy\t        val_pred_preds_mean_21.npy\r\n",
      " train_pred_preds_25.npy\t        val_pred_preds_mean_22.npy\r\n",
      " train_pred_preds_2.npy\t\t        val_pred_preds_mean_23.npy\r\n",
      " train_pred_preds_3.npy\t\t        val_pred_preds_mean_24.npy\r\n",
      " train_pred_preds_4.npy\t\t        val_pred_preds_mean_25.npy\r\n",
      " train_pred_preds_5.npy\t\t        val_pred_preds_mean_2.npy\r\n",
      " train_pred_preds_6.npy\t\t        val_pred_preds_mean_3.npy\r\n",
      " train_pred_preds_7.npy\t\t        val_pred_preds_mean_4.npy\r\n",
      " train_pred_preds_8.npy\t\t        val_pred_preds_mean_5.npy\r\n",
      " train_pred_preds_9.npy\t\t        val_pred_preds_mean_6.npy\r\n",
      " train_true_0.npy\t\t        val_pred_preds_mean_7.npy\r\n",
      " train_true_10.npy\t\t        val_pred_preds_mean_8.npy\r\n",
      " train_true_11.npy\t\t        val_pred_preds_mean_9.npy\r\n",
      " train_true_12.npy\t\t        val_true_0.npy\r\n",
      " train_true_13.npy\t\t        val_true_10.npy\r\n",
      " train_true_14.npy\t\t        val_true_11.npy\r\n",
      " train_true_15.npy\t\t        val_true_12.npy\r\n",
      " train_true_16.npy\t\t        val_true_13.npy\r\n",
      " train_true_17.npy\t\t        val_true_14.npy\r\n",
      " train_true_18.npy\t\t        val_true_15.npy\r\n",
      " train_true_19.npy\t\t        val_true_16.npy\r\n",
      " train_true_1.npy\t\t        val_true_17.npy\r\n",
      " train_true_20.npy\t\t        val_true_18.npy\r\n",
      " train_true_21.npy\t\t        val_true_19.npy\r\n",
      " train_true_22.npy\t\t        val_true_1.npy\r\n",
      " train_true_23.npy\t\t        val_true_20.npy\r\n",
      " train_true_24.npy\t\t        val_true_21.npy\r\n",
      " train_true_25.npy\t\t        val_true_22.npy\r\n",
      " train_true_2.npy\t\t        val_true_23.npy\r\n",
      " train_true_3.npy\t\t        val_true_24.npy\r\n",
      " train_true_4.npy\t\t        val_true_25.npy\r\n",
      " train_true_5.npy\t\t        val_true_2.npy\r\n",
      " train_true_6.npy\t\t        val_true_3.npy\r\n",
      " train_true_7.npy\t\t        val_true_4.npy\r\n",
      " train_true_8.npy\t\t        val_true_5.npy\r\n",
      " train_true_9.npy\t\t        val_true_6.npy\r\n",
      " val_pred_preds_max_0.npy\t        val_true_7.npy\r\n",
      " val_pred_preds_max_10.npy\t        val_true_8.npy\r\n",
      " val_pred_preds_max_11.npy\t        val_true_9.npy\r\n",
      " val_pred_preds_max_12.npy\r\n"
     ]
    }
   ],
   "source": [
    "!ls /media/paniquex/samsung_2tb/rfcx_kaggle_git/RFCX_kaggle/experiments/feat=melspec_mr_SR=32_CMVN=T_mean_model=eff_l2_ns_Pretr=T_SED=T_aggr=mean_act_func=Mish_crit=FOCAL_Balanced=F_lens=F_len=3_s=1_i=0.5_n_classes=24_optim=ranger_wd_sched=cosine_lr=8e-3_SpecAug=F_MixUp=T_a=8_or_Gain=T_n_mels=128_hop_size=690"
   ]
  },
  {
   "cell_type": "code",
   "execution_count": null,
   "metadata": {},
   "outputs": [],
   "source": []
  }
 ],
 "metadata": {
  "kernelspec": {
   "display_name": "Python 3",
   "language": "python",
   "name": "python3"
  },
  "language_info": {
   "codemirror_mode": {
    "name": "ipython",
    "version": 3
   },
   "file_extension": ".py",
   "mimetype": "text/x-python",
   "name": "python",
   "nbconvert_exporter": "python",
   "pygments_lexer": "ipython3",
   "version": "3.7.9"
  }
 },
 "nbformat": 4,
 "nbformat_minor": 4
}
