{
 "cells": [
  {
   "cell_type": "code",
   "execution_count": 1,
   "metadata": {},
   "outputs": [],
   "source": [
    "import sys\n",
    "sys.path.append(\"/media/paniquex/samsung_2tb/rfcx_kaggle_git/RFCX_kaggle/src\")\n",
    "\n",
    "from collections import defaultdict\n",
    "import os\n",
    "import random\n",
    "\n",
    "import numpy as np\n",
    "import pandas as pd\n",
    "import yaml\n",
    "import shutil\n",
    "from sklearn.model_selection import train_test_split\n",
    "\n",
    "from torch.utils.data import DataLoader\n",
    "from torch import nn\n",
    "import torch\n",
    "\n",
    "\n",
    "import audiomentations\n",
    "from torchlibrosa.stft import Spectrogram, LogmelFilterBank\n",
    "from torchlibrosa.augmentation import SpecAugmentation\n",
    "\n",
    "from transformers import get_linear_schedule_with_warmup\n",
    "\n",
    "from datasets import LabeledWavDataset, StepWavDataset, TestDataset\n",
    "from preprocessing import CMVN\n",
    "from models import Wrapper\n",
    "from pipeline_utils import evaluate_test\n",
    "from models import ENCODER_PARAMS\n",
    "\n",
    "\n",
    "os.chdir(\"/media/paniquex/samsung_2tb/\")"
   ]
  },
  {
   "cell_type": "code",
   "execution_count": 2,
   "metadata": {},
   "outputs": [
    {
     "name": "stderr",
     "output_type": "stream",
     "text": [
      "/home/paniquex/anaconda3/envs/kaggle/lib/python3.7/site-packages/ipykernel_launcher.py:3: YAMLLoadWarning: calling yaml.load() without Loader=... is deprecated, as the default Loader is unsafe. Please read https://msg.pyyaml.org/load for full details.\n",
      "  This is separate from the ipykernel package so we can avoid doing imports until\n"
     ]
    }
   ],
   "source": [
    "PATH_TO_CFG = \"/media/paniquex/samsung_2tb/rfcx_kaggle_git/RFCX_kaggle/config/config.yaml\"\n",
    "with open(PATH_TO_CFG, \"r\") as file:\n",
    "    config = yaml.load(file)\n",
    "\n",
    "DATA_ROOT = config[\"general\"][\"data_root\"]\n",
    "\n",
    "def fix_seed(seed):\n",
    "    random.seed(seed)\n",
    "    np.random.seed(seed)\n",
    "    os.environ[\"PYTHONHASHSEED\"] = str(seed)\n",
    "    torch.manual_seed(seed)\n",
    "    torch.cuda.manual_seed(seed)  # type: ignore\n",
    "    torch.backends.cudnn.deterministic = True  # type: ignore\n",
    "    torch.backends.cudnn.benchmark = True  # type: ignore\n",
    "\n",
    "fix_seed(config[\"general\"][\"seed\"])\n",
    "device_ids = [str(id) for id in config[\"general\"][\"device_ids\"]]\n",
    "ids = \",\".join(device_ids)\n",
    "DEVICE = torch.device(f\"cuda:{ids}\")"
   ]
  },
  {
   "cell_type": "code",
   "execution_count": 3,
   "metadata": {},
   "outputs": [],
   "source": [
    "model_names = [name for name in os.listdir(config['testing']['models_dir']) if name.find(\"best_model_fold\") != -1]"
   ]
  },
  {
   "cell_type": "code",
   "execution_count": 4,
   "metadata": {},
   "outputs": [],
   "source": [
    "df = pd.read_csv(os.path.join(config[\"general\"][\"data_root\"], 'sample_submission.csv'))\n",
    "\n",
    "test_dataset = TestDataset(df=df, **config[\"testing\"][\"dataset\"])#StepWavDataset(**config[\"testing\"][\"dataset\"])\n",
    "\n",
    "test_dataloader = DataLoader(test_dataset, **config[\"testing\"][\"dataloader\"])"
   ]
  },
  {
   "cell_type": "code",
   "execution_count": 5,
   "metadata": {},
   "outputs": [],
   "source": [
    "spectrogram_extractor = Spectrogram(**config[\"preprocessing\"][\"spectrogram\"])\n",
    "logmel_extractor = LogmelFilterBank(sr=config[\"preprocessing\"][\"sr\"],\n",
    "                                    **config[\"preprocessing\"][\"logmel\"])\n",
    "\n",
    "# Spec augmenter\n",
    "if \"SpecAug\" in config[\"testing\"][\"augmentations\"]:\n",
    "    spec_augmenter = SpecAugmentation(**config[\"training\"][\"augmentations\"][\"SpecAug\"])\n",
    "else:\n",
    "    spec_augmenter = None\n",
    "\n",
    "if config[\"preprocessing\"][\"use_cmvn\"]:\n",
    "    cmvn = CMVN(2)\n",
    "else:\n",
    "    cmvn = None\n"
   ]
  },
  {
   "cell_type": "code",
   "execution_count": 6,
   "metadata": {},
   "outputs": [],
   "source": [
    "model_name = config[\"general\"][\"model_name\"]\n",
    "model = ENCODER_PARAMS[model_name][\"init_op\"]()\n",
    "feat_module = [spectrogram_extractor]\n",
    "if cmvn is not None:\n",
    "    feat_module.append(cmvn)\n",
    "feat_module.append(logmel_extractor)\n",
    "model = Wrapper(model, nn.Sequential(*feat_module),\n",
    "                SED=config[\"general\"][\"SED\"],\n",
    "                classes_num=config[\"general\"][\"classes_num\"], model_name=model_name,\n",
    "                spec_augmenter=spec_augmenter, activation_func=config[\"training\"][\"activation_func\"])\n",
    "# if config[\"testing\"][\"state_dict\"] is not None:\n",
    "#     model.load_state_dict(torch.load(config[\"testing\"][\"state_dict\"],\n",
    "#                                      map_location=torch.device(DEVICE))['model_state_dict'])\n",
    "model.to(DEVICE);"
   ]
  },
  {
   "cell_type": "code",
   "execution_count": null,
   "metadata": {},
   "outputs": [],
   "source": []
  },
  {
   "cell_type": "code",
   "execution_count": 7,
   "metadata": {},
   "outputs": [
    {
     "name": "stderr",
     "output_type": "stream",
     "text": [
      "100%|██████████| 1992/1992 [04:44<00:00,  7.00it/s]\n",
      "100%|██████████| 1992/1992 [04:44<00:00,  7.00it/s]\n",
      "100%|██████████| 1992/1992 [04:44<00:00,  7.00it/s]\n",
      "100%|██████████| 1992/1992 [04:44<00:00,  7.01it/s]\n",
      "100%|██████████| 1992/1992 [04:44<00:00,  7.00it/s]\n"
     ]
    }
   ],
   "source": [
    "try:\n",
    "    os.mkdir(config[\"general\"][\"out_path\"])\n",
    "except:\n",
    "    pass\n",
    "\n",
    "sample2preds = None\n",
    "with torch.no_grad():\n",
    "    for model_name in model_names:\n",
    "        model.load_state_dict(torch.load(os.path.join(config[\"testing\"][\"models_dir\"], model_name),\n",
    "                                    map_location=torch.device(DEVICE))['model_state_dict'])\n",
    "        if sample2preds is None:\n",
    "            sample2preds = evaluate_test(model=model, dataloader=test_dataloader,\n",
    "                          DEVICE=DEVICE, config=config)\n",
    "        else:\n",
    "            sample2preds_new = evaluate_test(model=model, dataloader=test_dataloader,\n",
    "                          DEVICE=DEVICE, config=config)\n",
    "            for sample in sample2preds:\n",
    "                sample2preds[sample] += sample2preds_new[sample]"
   ]
  },
  {
   "cell_type": "code",
   "execution_count": 9,
   "metadata": {},
   "outputs": [],
   "source": [
    "preds_csv = pd.read_csv(os.path.join(config[\"general\"][\"data_root\"], 'sample_submission.csv'), index_col=0)\n",
    "for sample in sample2preds:\n",
    "    preds = np.vstack(sample2preds[sample])\n",
    "    if config[\"general\"][\"use_silence_class\"]:\n",
    "        silence_mask = np.argmax(pred, axis=1) == 24 #preds[:, -1] > 0.2\n",
    "        preds[silence_mask, :] = 0\n",
    "    preds_csv.loc[sample] = np.max(preds, axis=0)[:24] # [:24] to exclude silence class\n",
    "preds_csv.to_csv(os.path.join(config[\"general\"][\"out_path\"], 'submission_ensemble_max.csv'), index='recording_id')\n",
    "\n",
    "\n",
    "for sample in sample2preds:\n",
    "    preds = np.vstack(sample2preds[sample])\n",
    "    if config[\"general\"][\"use_silence_class\"]:\n",
    "        silence_mask = np.argmax(preds, axis=1) == 24\n",
    "        pred[silence_mask, :] = 0\n",
    "    preds_csv.loc[sample] = np.mean(preds, axis=0)[:24] # [:24] to exclude silence class\n",
    "\n",
    "preds_csv.to_csv(os.path.join(config[\"general\"][\"out_path\"], 'submission_ensemble_mean.csv'), index='recording_id')"
   ]
  },
  {
   "cell_type": "code",
   "execution_count": 10,
   "metadata": {
    "pycharm": {
     "name": "#%%\n"
    }
   },
   "outputs": [
    {
     "name": "stdout",
     "output_type": "stream",
     "text": [
      "sample_submission.csv  test_48000  train_22050\t    train_fp.csv\r\n",
      "test\t\t       tfrecords   train_48000\t    train_tp.csv\r\n",
      "test_22050\t       train\t   train_folds.csv\r\n"
     ]
    }
   ],
   "source": [
    "!ls /media/paniquex/samsung_2tb/rfcx_kaggle/rfcx-species-audio-detection"
   ]
  },
  {
   "cell_type": "code",
   "execution_count": 11,
   "metadata": {},
   "outputs": [
    {
     "name": "stdout",
     "output_type": "stream",
     "text": [
      "backup\t\t     ngrok\t      rfcx-species-audio-detection.zip\r\n",
      "cornell_archive.tar  rfcx_kaggle\r\n",
      "lost+found\t     rfcx_kaggle_git\r\n"
     ]
    }
   ],
   "source": [
    "!ls"
   ]
  },
  {
   "cell_type": "code",
   "execution_count": 12,
   "metadata": {},
   "outputs": [
    {
     "name": "stdout",
     "output_type": "stream",
     "text": [
      "Mon Feb  1 00:11:02 2021       \r\n",
      "+-----------------------------------------------------------------------------+\r\n",
      "| NVIDIA-SMI 450.102.04   Driver Version: 450.102.04   CUDA Version: 11.0     |\r\n",
      "|-------------------------------+----------------------+----------------------+\r\n",
      "| GPU  Name        Persistence-M| Bus-Id        Disp.A | Volatile Uncorr. ECC |\r\n",
      "| Fan  Temp  Perf  Pwr:Usage/Cap|         Memory-Usage | GPU-Util  Compute M. |\r\n",
      "|                               |                      |               MIG M. |\r\n",
      "|===============================+======================+======================|\r\n",
      "|   0  GeForce RTX 208...  Off  | 00000000:0E:00.0  On |                  N/A |\r\n",
      "|  0%   49C    P8    31W / 260W |   9930MiB / 11018MiB |      7%      Default |\r\n",
      "|                               |                      |                  N/A |\r\n",
      "+-------------------------------+----------------------+----------------------+\r\n",
      "|   1  GeForce RTX 208...  Off  | 00000000:0F:00.0 Off |                  N/A |\r\n",
      "| 55%   51C    P2   104W / 300W |   4631MiB / 11019MiB |      0%      Default |\r\n",
      "|                               |                      |                  N/A |\r\n",
      "+-------------------------------+----------------------+----------------------+\r\n",
      "                                                                               \r\n",
      "+-----------------------------------------------------------------------------+\r\n",
      "| Processes:                                                                  |\r\n",
      "|  GPU   GI   CI        PID   Type   Process name                  GPU Memory |\r\n",
      "|        ID   ID                                                   Usage      |\r\n",
      "|=============================================================================|\r\n",
      "|    0   N/A  N/A      1525      G   /usr/lib/xorg/Xorg                 26MiB |\r\n",
      "|    0   N/A  N/A      1714      G   /usr/bin/gnome-shell               97MiB |\r\n",
      "|    0   N/A  N/A      3427      G   /usr/lib/xorg/Xorg                232MiB |\r\n",
      "|    0   N/A  N/A      3559      G   /usr/bin/gnome-shell              160MiB |\r\n",
      "|    0   N/A  N/A      4058      G   ...AAAAAAAAA= --shared-files      167MiB |\r\n",
      "|    0   N/A  N/A      8607      G   ...AAAAAAAAA= --shared-files       44MiB |\r\n",
      "|    0   N/A  N/A     12669      G   ..._12341.log --shared-files        6MiB |\r\n",
      "|    0   N/A  N/A     14425      C   ...a3/envs/kaggle/bin/python     9187MiB |\r\n",
      "|    1   N/A  N/A      1525      G   /usr/lib/xorg/Xorg                  4MiB |\r\n",
      "|    1   N/A  N/A      3427      G   /usr/lib/xorg/Xorg                  4MiB |\r\n",
      "|    1   N/A  N/A     24376      C   ...a3/envs/kaggle/bin/python     4617MiB |\r\n",
      "+-----------------------------------------------------------------------------+\r\n"
     ]
    }
   ],
   "source": [
    "!nvidia-smi"
   ]
  },
  {
   "cell_type": "code",
   "execution_count": null,
   "metadata": {},
   "outputs": [],
   "source": []
  },
  {
   "cell_type": "code",
   "execution_count": null,
   "metadata": {},
   "outputs": [],
   "source": []
  }
 ],
 "metadata": {
  "kernelspec": {
   "display_name": "Python 3",
   "language": "python",
   "name": "python3"
  },
  "language_info": {
   "codemirror_mode": {
    "name": "ipython",
    "version": 3
   },
   "file_extension": ".py",
   "mimetype": "text/x-python",
   "name": "python",
   "nbconvert_exporter": "python",
   "pygments_lexer": "ipython3",
   "version": "3.7.9"
  }
 },
 "nbformat": 4,
 "nbformat_minor": 4
}
