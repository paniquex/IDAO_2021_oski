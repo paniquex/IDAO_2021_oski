{
 "cells": [
  {
   "cell_type": "code",
   "execution_count": 1,
   "metadata": {},
   "outputs": [],
   "source": [
    "COLAB = False"
   ]
  },
  {
   "cell_type": "code",
   "execution_count": 2,
   "metadata": {},
   "outputs": [],
   "source": [
    "import sys\n",
    "sys.path.append(\"/media/paniquex/samsung_2tb/IDAO_2021_oski/src\")\n",
    "\n",
    "\n",
    "from collections import defaultdict\n",
    "import os\n",
    "import random\n",
    "\n",
    "import numpy as np\n",
    "import pandas as pd\n",
    "import yaml\n",
    "import shutil\n",
    "from sklearn.model_selection import train_test_split\n",
    "\n",
    "from torch.utils.data import DataLoader\n",
    "from torch import nn\n",
    "import torch\n",
    "\n",
    "\n",
    "\n",
    "from transformers import get_linear_schedule_with_warmup\n",
    "\n",
    "from datasets import SimpleDataset\n",
    "from models import Wrapper\n",
    "from pipeline_utils import evaluate_test\n",
    "from models import ENCODER_PARAMS\n",
    "\n",
    "\n",
    "# os.chdir(\"/media/paniquex/samsung_2tb/\")"
   ]
  },
  {
   "cell_type": "code",
   "execution_count": 3,
   "metadata": {},
   "outputs": [
    {
     "name": "stderr",
     "output_type": "stream",
     "text": [
      "/home/paniquex/anaconda3/envs/kaggle/lib/python3.7/site-packages/ipykernel_launcher.py:3: YAMLLoadWarning: calling yaml.load() without Loader=... is deprecated, as the default Loader is unsafe. Please read https://msg.pyyaml.org/load for full details.\n",
      "  This is separate from the ipykernel package so we can avoid doing imports until\n"
     ]
    }
   ],
   "source": [
    "PATH_TO_CFG = \"/media/paniquex/samsung_2tb/IDAO_2021_oski/experiments/resnest50d_4s2x40d_1e-4_joint_BCE_L1_with_private_augmented/config.yaml\"\n",
    "with open(PATH_TO_CFG, \"r\") as file:\n",
    "    config = yaml.load(file)\n",
    "\n",
    "DATA_ROOT = config[\"general\"][\"data_root\"]\n",
    "\n",
    "def fix_seed(seed):\n",
    "    random.seed(seed)\n",
    "    np.random.seed(seed)\n",
    "    os.environ[\"PYTHONHASHSEED\"] = str(seed)\n",
    "    torch.manual_seed(seed)\n",
    "    torch.cuda.manual_seed(seed)  # type: ignore\n",
    "    torch.backends.cudnn.deterministic = True  # type: ignore\n",
    "    torch.backends.cudnn.benchmark = True  # type: ignore\n",
    "\n",
    "fix_seed(config[\"general\"][\"seed\"])\n",
    "device_ids = [str(id) for id in config[\"general\"][\"device_ids\"]]\n",
    "ids = \",\".join(device_ids)\n",
    "DEVICE = torch.device(f\"cuda:{ids}\")"
   ]
  },
  {
   "cell_type": "code",
   "execution_count": 4,
   "metadata": {},
   "outputs": [],
   "source": []
  },
  {
   "cell_type": "code",
   "execution_count": 5,
   "metadata": {},
   "outputs": [],
   "source": [
    "import albumentations\n",
    "from albumentations import *\n",
    "from albumentations.pytorch import ToTensorV2\n",
    "\n",
    "transforms_test = albumentations.Compose([\n",
    "    CenterCrop(*config[\"preprocessing\"][\"center_crop_size\"]),\n",
    "    Resize(*config[\"preprocessing\"][\"img_size\"]),\n",
    "    Normalize(\n",
    "         mean=[0.485, 0.456, 0.406],\n",
    "         std=[0.229, 0.224, 0.225],\n",
    "     ),\n",
    "    ToTensorV2()\n",
    "])"
   ]
  },
  {
   "cell_type": "code",
   "execution_count": 6,
   "metadata": {},
   "outputs": [],
   "source": [
    "# test = pd.read_csv(os.path.join(DATA_ROOT, \"test.csv\"))\n",
    "if COLAB:\n",
    "    path = \"IDAO_2021_oski/data/track_1/idao_dataset\" # directory with public_test and private_test directories\n",
    "else:\n",
    "    path = \"/media/paniquex/samsung_2tb/IDAO_2021_oski/data/track_1/idao_dataset\" # directory with public_test and private_test directories\n",
    "    \n",
    "file_names_public = [x for x in os.listdir(os.path.join(path, \"public_test\")) if \".png\" in x] #+ os.listdir(os.path.join(path, \"private_test\"))\n",
    "test_csv = pd.DataFrame({\"file_path\": file_names_public, \"type\": \"public\"})\n",
    "file_names_private = [x for x in os.listdir(os.path.join(path, \"private_test\")) if \".png\" in x]#+ os.listdir(os.path.join(path, \"private_test\"))\n",
    "test_csv = test_csv.append(pd.DataFrame({\"file_path\": file_names_private, \"type\": \"private\"})).reset_index()\n",
    "\n",
    "test_csv.loc[test_csv[\"type\"] == \"public\", \"file_path\"] = str(os.path.join(path, \"public_test\")) + \"/\" + test_csv[\"file_path\"]\n",
    "test_csv.loc[test_csv[\"type\"] == \"private\", \"file_path\"] = str(os.path.join(path, \"private_test\")) + \"/\" + test_csv[\"file_path\"]\n",
    "\n",
    "test = test_csv\n",
    "\n",
    "test_dataset = SimpleDataset(df=test, mode=\"test\", transform=transforms_test)\n",
    "\n",
    "test_dataloader = DataLoader(test_dataset, **config[\"testing\"][\"dataloader\"])"
   ]
  },
  {
   "cell_type": "code",
   "execution_count": 7,
   "metadata": {},
   "outputs": [],
   "source": [
    "if config[\"general\"][\"task_type\"] == \"regression\":\n",
    "    config[\"general\"][\"classes_num\"] = 1"
   ]
  },
  {
   "cell_type": "code",
   "execution_count": 8,
   "metadata": {},
   "outputs": [],
   "source": [
    "model_name = config[\"general\"][\"model_name\"]\n",
    "model = ENCODER_PARAMS[model_name][\"init_op\"]()\n",
    "\n",
    "\n",
    "if config[\"general\"][\"task_type\"] == \"regression\":\n",
    "    config[\"general\"][\"classes_num\"] = 1\n",
    "elif config[\"general\"][\"task_type\"] == \"joint\":\n",
    "    config[\"general\"][\"classes_num\"] = 2\n",
    "\n",
    "if config[\"training\"][\"loss\"] == \"AAM\":\n",
    "    criterion_aam = AngularPenaltySMLoss\n",
    "else:\n",
    "    criterion_aam = None\n",
    "model = Wrapper(model, feat_module=None, classes_num=config[\"general\"][\"classes_num\"],\n",
    "                    model_name=model_name,\n",
    "                spec_augmenter=None, \n",
    "                mixup_module=None,\n",
    "                task_type=config[\"general\"][\"task_type\"],\n",
    "                activation_func=config[\"training\"][\"activation_func\"],\n",
    "                criterion_aam=criterion_aam)\n",
    "model.to(DEVICE);"
   ]
  },
  {
   "cell_type": "code",
   "execution_count": null,
   "metadata": {},
   "outputs": [],
   "source": []
  },
  {
   "cell_type": "code",
   "execution_count": 9,
   "metadata": {},
   "outputs": [
    {
     "name": "stderr",
     "output_type": "stream",
     "text": [
      "100%|██████████| 2070/2070 [01:22<00:00, 25.01it/s]\n",
      "100%|██████████| 2070/2070 [01:20<00:00, 25.56it/s]\n",
      "100%|██████████| 2070/2070 [01:21<00:00, 25.51it/s]\n",
      "100%|██████████| 2070/2070 [01:21<00:00, 25.55it/s]\n",
      "100%|██████████| 2070/2070 [01:21<00:00, 25.55it/s]\n",
      "100%|██████████| 2070/2070 [01:21<00:00, 25.51it/s]\n",
      "100%|██████████| 2070/2070 [01:20<00:00, 25.56it/s]\n",
      "100%|██████████| 2070/2070 [01:20<00:00, 25.57it/s]\n",
      "100%|██████████| 2070/2070 [01:21<00:00, 25.49it/s]\n",
      "100%|██████████| 2070/2070 [01:21<00:00, 25.51it/s]\n",
      "100%|██████████| 2070/2070 [01:21<00:00, 25.49it/s]\n",
      "100%|██████████| 2070/2070 [01:21<00:00, 25.54it/s]\n",
      "100%|██████████| 2070/2070 [01:21<00:00, 25.55it/s]\n",
      "100%|██████████| 2070/2070 [01:21<00:00, 25.52it/s]\n",
      "100%|██████████| 2070/2070 [01:20<00:00, 25.56it/s]\n",
      "100%|██████████| 2070/2070 [01:21<00:00, 25.55it/s]\n",
      "100%|██████████| 2070/2070 [01:21<00:00, 25.47it/s]\n",
      "100%|██████████| 2070/2070 [01:21<00:00, 25.50it/s]\n",
      "100%|██████████| 2070/2070 [01:21<00:00, 25.50it/s]\n",
      "100%|██████████| 2070/2070 [01:21<00:00, 25.46it/s]\n",
      "100%|██████████| 2070/2070 [01:21<00:00, 25.52it/s]\n",
      "100%|██████████| 2070/2070 [01:21<00:00, 25.49it/s]\n",
      "100%|██████████| 2070/2070 [01:21<00:00, 25.45it/s]\n",
      "100%|██████████| 2070/2070 [01:21<00:00, 25.50it/s]\n"
     ]
    }
   ],
   "source": [
    "try:\n",
    "    os.mkdir(config[\"general\"][\"out_path\"])\n",
    "except:\n",
    "    pass\n",
    "\n",
    "if config[\"general\"][\"task_type\"] == \"joint\":\n",
    "    sample2preds = None\n",
    "else:\n",
    "    sample2preds = None\n",
    "\n",
    "\n",
    "with torch.no_grad():\n",
    "    for model_name in model_names:\n",
    "        model.load_state_dict(torch.load(os.path.join(config[\"general\"][\"out_path\"], model_name),\n",
    "                                    map_location=torch.device(DEVICE))['model_state_dict'])\n",
    "        if config[\"general\"][\"task_type\"] == \"joint\":\n",
    "            if sample2preds is None:\n",
    "                    sample2preds = evaluate_test(model=model, dataloader=test_dataloader,\n",
    "                                                      DEVICE=DEVICE, config=config)\n",
    "            else:\n",
    "                sample2preds_new = evaluate_test(model=model, dataloader=test_dataloader,\n",
    "                                                      DEVICE=DEVICE, config=config)\n",
    "                for key in [\"clf\", \"reg\"]:\n",
    "\n",
    "                        for sample in sample2preds[key]:\n",
    "                            sample2preds[key][sample] += sample2preds_new[key][sample]\n",
    "        else:\n",
    "            if sample2preds is None:\n",
    "                sample2preds = evaluate_test(model=model, dataloader=test_dataloader,\n",
    "                              DEVICE=DEVICE, config=config)\n",
    "            else:\n",
    "                sample2preds_new = evaluate_test(model=model, dataloader=test_dataloader,\n",
    "                              DEVICE=DEVICE, config=config)\n",
    "                for sample in sample2preds:\n",
    "                    sample2preds[sample] += sample2preds_new[sample]\n",
    "\n",
    "            \n"
   ]
  },
  {
   "cell_type": "code",
   "execution_count": 10,
   "metadata": {},
   "outputs": [],
   "source": [
    "preds = pd.read_csv('/media/paniquex/samsung_2tb/IDAO_2021_oski/data/track1_predictions_example.csv')\n",
    "\n",
    "if config[\"general\"][\"task_type\"] == \"joint\":\n",
    "    for key in [\"clf\", \"reg\"]:\n",
    "        for sample in sample2preds[key]:\n",
    "            sample_short = sample.split(\"/\")[-1][:-4]\n",
    "            \n",
    "            if key == \"clf\":\n",
    "                preds.loc[preds[\"id\"] == sample_short, \"classification_predictions\"] = np.argmax(np.bincount(np.argmin(sample2preds[key][sample], axis=1)))                \n",
    "            elif key == \"reg\":\n",
    "                preds.loc[preds[\"id\"] == sample_short, \"regression_predictions\"] = np.mean(sample2preds[key][sample])\n",
    "else:\n",
    "    for sample in sample2preds:\n",
    "\n",
    "        sample_short = sample.split(\"/\")[-1][:-4]\n",
    "        if config[\"general\"][\"task_type\"] == \"regression\":\n",
    "            preds.loc[preds[\"id\"] == sample_short, \"regression_predictions\"] = np.mean(sample2preds[sample])\n",
    "        elif config[\"general\"][\"task_type\"] == \"classification\":\n",
    "            preds.loc[preds[\"id\"] == sample_short, \"classification_predictions\"] = np.argmax(np.bincount(sample2preds[sample]))"
   ]
  },
  {
   "cell_type": "code",
   "execution_count": 11,
   "metadata": {},
   "outputs": [
    {
     "data": {
      "text/html": [
       "<div>\n",
       "<style scoped>\n",
       "    .dataframe tbody tr th:only-of-type {\n",
       "        vertical-align: middle;\n",
       "    }\n",
       "\n",
       "    .dataframe tbody tr th {\n",
       "        vertical-align: top;\n",
       "    }\n",
       "\n",
       "    .dataframe thead th {\n",
       "        text-align: right;\n",
       "    }\n",
       "</style>\n",
       "<table border=\"1\" class=\"dataframe\">\n",
       "  <thead>\n",
       "    <tr style=\"text-align: right;\">\n",
       "      <th></th>\n",
       "      <th>id</th>\n",
       "      <th>classification_predictions</th>\n",
       "      <th>regression_predictions</th>\n",
       "    </tr>\n",
       "  </thead>\n",
       "  <tbody>\n",
       "    <tr>\n",
       "      <th>0</th>\n",
       "      <td>00013a94f1fae3e5a33f8b44c2842c85f0483e96</td>\n",
       "      <td>1</td>\n",
       "      <td>3.062391</td>\n",
       "    </tr>\n",
       "    <tr>\n",
       "      <th>1</th>\n",
       "      <td>0005564c011259402dcb6e3beb6e64d285124fa0</td>\n",
       "      <td>1</td>\n",
       "      <td>29.726562</td>\n",
       "    </tr>\n",
       "    <tr>\n",
       "      <th>2</th>\n",
       "      <td>0007520c8d8efade8feaafbf74fc7d206cdf229d</td>\n",
       "      <td>0</td>\n",
       "      <td>20.137114</td>\n",
       "    </tr>\n",
       "    <tr>\n",
       "      <th>3</th>\n",
       "      <td>000804a189f630cd980ff1543c0ef99d48cd6b34</td>\n",
       "      <td>0</td>\n",
       "      <td>1.020094</td>\n",
       "    </tr>\n",
       "    <tr>\n",
       "      <th>4</th>\n",
       "      <td>000eb12def5371089743dcfe401a8e399f5883fc</td>\n",
       "      <td>0</td>\n",
       "      <td>21.256025</td>\n",
       "    </tr>\n",
       "    <tr>\n",
       "      <th>...</th>\n",
       "      <td>...</td>\n",
       "      <td>...</td>\n",
       "      <td>...</td>\n",
       "    </tr>\n",
       "    <tr>\n",
       "      <th>16555</th>\n",
       "      <td>ffece3dcdcbe2d3125dbed1b8c77f2d6b4832580</td>\n",
       "      <td>0</td>\n",
       "      <td>6.117188</td>\n",
       "    </tr>\n",
       "    <tr>\n",
       "      <th>16556</th>\n",
       "      <td>ffed718417c6923844d33e70491c54396e3ec1ed</td>\n",
       "      <td>0</td>\n",
       "      <td>1.020286</td>\n",
       "    </tr>\n",
       "    <tr>\n",
       "      <th>16557</th>\n",
       "      <td>ffedc12ec5c142dae2086408b778cf0db2ff944e</td>\n",
       "      <td>1</td>\n",
       "      <td>2.990698</td>\n",
       "    </tr>\n",
       "    <tr>\n",
       "      <th>16558</th>\n",
       "      <td>fff7b36d8ef90c90d9598620b87dabc0360f501c</td>\n",
       "      <td>0</td>\n",
       "      <td>1.379790</td>\n",
       "    </tr>\n",
       "    <tr>\n",
       "      <th>16559</th>\n",
       "      <td>fffdd654bd60b81ffd51a723a8839b8f5381feba</td>\n",
       "      <td>0</td>\n",
       "      <td>1.016041</td>\n",
       "    </tr>\n",
       "  </tbody>\n",
       "</table>\n",
       "<p>16560 rows × 3 columns</p>\n",
       "</div>"
      ],
      "text/plain": [
       "                                             id  classification_predictions  \\\n",
       "0      00013a94f1fae3e5a33f8b44c2842c85f0483e96                           1   \n",
       "1      0005564c011259402dcb6e3beb6e64d285124fa0                           1   \n",
       "2      0007520c8d8efade8feaafbf74fc7d206cdf229d                           0   \n",
       "3      000804a189f630cd980ff1543c0ef99d48cd6b34                           0   \n",
       "4      000eb12def5371089743dcfe401a8e399f5883fc                           0   \n",
       "...                                         ...                         ...   \n",
       "16555  ffece3dcdcbe2d3125dbed1b8c77f2d6b4832580                           0   \n",
       "16556  ffed718417c6923844d33e70491c54396e3ec1ed                           0   \n",
       "16557  ffedc12ec5c142dae2086408b778cf0db2ff944e                           1   \n",
       "16558  fff7b36d8ef90c90d9598620b87dabc0360f501c                           0   \n",
       "16559  fffdd654bd60b81ffd51a723a8839b8f5381feba                           0   \n",
       "\n",
       "       regression_predictions  \n",
       "0                    3.062391  \n",
       "1                   29.726562  \n",
       "2                   20.137114  \n",
       "3                    1.020094  \n",
       "4                   21.256025  \n",
       "...                       ...  \n",
       "16555                6.117188  \n",
       "16556                1.020286  \n",
       "16557                2.990698  \n",
       "16558                1.379790  \n",
       "16559                1.016041  \n",
       "\n",
       "[16560 rows x 3 columns]"
      ]
     },
     "execution_count": 11,
     "metadata": {},
     "output_type": "execute_result"
    }
   ],
   "source": [
    "preds"
   ]
  },
  {
   "cell_type": "code",
   "execution_count": 12,
   "metadata": {},
   "outputs": [],
   "source": [
    "preds.to_csv(os.path.join(config[\"general\"][\"out_path\"], \n",
    "                          f\"predictions_{config['general']['task_type']}_{config['general']['model_name']}.csv\"), index=False)"
   ]
  },
  {
   "cell_type": "code",
   "execution_count": 13,
   "metadata": {},
   "outputs": [],
   "source": [
    "energy_values = np.array([ 6, 20,  1, 30,  3, 10])\n",
    "mapper = {i: energy_values[i] for i in range(len(energy_values))}\n",
    "preds_post = np.vectorize(mapper.get)(np.argmin(abs(preds[\"regression_predictions\"].values[:, None] - energy_values), axis=1))"
   ]
  },
  {
   "cell_type": "code",
   "execution_count": 14,
   "metadata": {},
   "outputs": [],
   "source": [
    "preds[\"regression_predictions\"] = preds_post"
   ]
  },
  {
   "cell_type": "code",
   "execution_count": 15,
   "metadata": {},
   "outputs": [],
   "source": [
    "preds.to_csv(os.path.join(config[\"general\"][\"out_path\"], \n",
    "                          f\"predictions_{config['general']['task_type']}_postprocessed_{config['general']['model_name']}.csv\"), index=False)"
   ]
  },
  {
   "cell_type": "code",
   "execution_count": 16,
   "metadata": {},
   "outputs": [
    {
     "data": {
      "text/plain": [
       "array([ 6, 20,  1, 30,  3, 10])"
      ]
     },
     "execution_count": 16,
     "metadata": {},
     "output_type": "execute_result"
    }
   ],
   "source": [
    "energy_values"
   ]
  },
  {
   "cell_type": "code",
   "execution_count": 17,
   "metadata": {},
   "outputs": [
    {
     "data": {
      "text/plain": [
       "<AxesSubplot:>"
      ]
     },
     "execution_count": 17,
     "metadata": {},
     "output_type": "execute_result"
    },
    {
     "data": {
      "image/png": "[encoded data removed]",
      "text/plain": [
       "<Figure size 432x288 with 1 Axes>"
      ]
     },
     "metadata": {
      "needs_background": "light"
     },
     "output_type": "display_data"
    }
   ],
   "source": [
    "preds[\"classification_predictions\"].hist()"
   ]
  },
  {
   "cell_type": "code",
   "execution_count": 18,
   "metadata": {},
   "outputs": [
    {
     "data": {
      "text/plain": [
       "<AxesSubplot:>"
      ]
     },
     "execution_count": 18,
     "metadata": {},
     "output_type": "execute_result"
    },
    {
     "data": {
      "image/png": "[encoded data removed]",
      "text/plain": [
       "<Figure size 432x288 with 1 Axes>"
      ]
     },
     "metadata": {
      "needs_background": "light"
     },
     "output_type": "display_data"
    }
   ],
   "source": [
    "preds[\"regression_predictions\"].hist()"
   ]
  },
  {
   "cell_type": "code",
   "execution_count": 19,
   "metadata": {},
   "outputs": [],
   "source": [
    "# preds_classif = (pd.read_csv(f\"predictions_classification.csv\")[\"classification_predictions\"].values < 3).astype(int)\n",
    "# preds_regr = pd.read_csv(f\"predictions_regression.csv\")[\"regression_predictions\"].values"
   ]
  },
  {
   "cell_type": "code",
   "execution_count": 20,
   "metadata": {},
   "outputs": [
    {
     "name": "stdout",
     "output_type": "stream",
     "text": [
      "/media/paniquex/samsung_2tb/IDAO_2021_oski/notebooks\r\n"
     ]
    }
   ],
   "source": [
    "!pwd"
   ]
  },
  {
   "cell_type": "code",
   "execution_count": 21,
   "metadata": {},
   "outputs": [
    {
     "name": "stdout",
     "output_type": "stream",
     "text": [
      "' analyze_predictions.ipynb'\r\n",
      " collab_training_pipeline_pseudolabeling-Copy1.ipynb\r\n",
      " collab_training_pipeline_pseudolabeling.ipynb\r\n",
      "'Convert Samplerate.ipynb'\r\n",
      " csv_generate.ipynb\r\n",
      " debug.ipynb\r\n",
      " EDA.ipynb\r\n",
      " embeddings_generation.ipynb\r\n",
      " inference_pipeline_balanced.ipynb\r\n",
      " inference_pipeline.ipynb\r\n",
      " mean-teachers-find-more-birds-Copy1.ipynb\r\n",
      " mean-teachers-find-more-birds-Copy2.ipynb\r\n",
      " mean-teachers-find-more-birds-Copy3.ipynb\r\n",
      " mean-teachers-find-more-birds.ipynb\r\n",
      " predictions_joint.csv\r\n",
      " predictions_joint_postprocessed.csv\r\n",
      " predictions_threshold.csv\r\n",
      " sandbox\r\n",
      " test_predicts.ipynb\r\n",
      " training_pipeline_balanced-Copy1.ipynb\r\n",
      " training_pipeline_balanced.ipynb\r\n",
      " training_pipeline_finetuning.ipynb\r\n",
      " training_pipeline.ipynb\r\n",
      " vizualize_predictions.ipynb\r\n"
     ]
    }
   ],
   "source": [
    "!ls"
   ]
  },
  {
   "cell_type": "code",
   "execution_count": 22,
   "metadata": {},
   "outputs": [
    {
     "data": {
      "text/plain": [
       "'../experiments/resnest50d_4s2x40d_1e-4_joint_BCE_L1_with_private_augmented/predictions_joint_postprocessed_resnest50d_4s2x40d.csv'"
      ]
     },
     "execution_count": 22,
     "metadata": {},
     "output_type": "execute_result"
    }
   ],
   "source": [
    "os.path.join(config[\"general\"][\"out_path\"], \n",
    "                          f\"predictions_{config['general']['task_type']}_postprocessed_{config['general']['model_name']}.csv\")"
   ]
  },
  {
   "cell_type": "code",
   "execution_count": null,
   "metadata": {},
   "outputs": [],
   "source": []
  }
 ],
 "metadata": {
  "kernelspec": {
   "display_name": "Python 3",
   "language": "python",
   "name": "python3"
  },
  "language_info": {
   "codemirror_mode": {
    "name": "ipython",
    "version": 3
   },
   "file_extension": ".py",
   "mimetype": "text/x-python",
   "name": "python",
   "nbconvert_exporter": "python",
   "pygments_lexer": "ipython3",
   "version": "3.7.9"
  }
 },
 "nbformat": 4,
 "nbformat_minor": 4
}
