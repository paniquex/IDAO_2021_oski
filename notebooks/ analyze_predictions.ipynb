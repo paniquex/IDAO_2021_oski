{
 "cells": [
  {
   "cell_type": "code",
   "execution_count": 82,
   "metadata": {},
   "outputs": [],
   "source": [
    "import numpy as np\n",
    "\n",
    "preds = np.load(\"../experiments/resnest14d_1e-4_joint/val_pred_preds_30.npy\", allow_pickle=True)\n",
    "trues = np.load(\"../experiments/resnest14d_1e-4_joint/val_true_30.npy\", allow_pickle=True)\n"
   ]
  },
  {
   "cell_type": "code",
   "execution_count": 83,
   "metadata": {},
   "outputs": [
    {
     "data": {
      "text/plain": [
       "3.90756"
      ]
     },
     "execution_count": 83,
     "metadata": {},
     "output_type": "execute_result"
    }
   ],
   "source": [
    "from sklearn.metrics import mean_absolute_error\n",
    "\n",
    "mean_absolute_error(trues.item()[\"reg\"], preds.item()[\"reg\"])"
   ]
  },
  {
   "cell_type": "code",
   "execution_count": 84,
   "metadata": {},
   "outputs": [],
   "source": [
    "import pandas as pd\n",
    "\n",
    "\n",
    "train = pd.read_csv(\"../data/track_1/idao_dataset/train.csv\")\n",
    "energy_values = train[\"1\"].unique()\n",
    "mapper = {i: energy_values[i] for i in range(len(energy_values))}"
   ]
  },
  {
   "cell_type": "code",
   "execution_count": 85,
   "metadata": {},
   "outputs": [],
   "source": [
    "preds_post = np.vectorize(mapper.get)(np.argmin(abs(preds.item()[\"reg\"] - energy_values), axis=1))"
   ]
  },
  {
   "cell_type": "code",
   "execution_count": 86,
   "metadata": {},
   "outputs": [
    {
     "data": {
      "text/plain": [
       "4.0"
      ]
     },
     "execution_count": 86,
     "metadata": {},
     "output_type": "execute_result"
    }
   ],
   "source": [
    "mean_absolute_error(trues.item()[\"reg\"], preds_post)"
   ]
  },
  {
   "cell_type": "code",
   "execution_count": 87,
   "metadata": {},
   "outputs": [
    {
     "data": {
      "text/plain": [
       "array([ 6, 20,  1, 30,  3, 10])"
      ]
     },
     "execution_count": 87,
     "metadata": {},
     "output_type": "execute_result"
    }
   ],
   "source": [
    "energy_values"
   ]
  },
  {
   "cell_type": "code",
   "execution_count": 88,
   "metadata": {},
   "outputs": [
    {
     "data": {
      "text/plain": [
       "(array([[20.079119 ],\n",
       "        [ 1.965546 ],\n",
       "        [ 6.304425 ],\n",
       "        [26.340824 ],\n",
       "        [ 4.972793 ],\n",
       "        [ 6.041682 ],\n",
       "        [29.575512 ],\n",
       "        [28.5196   ],\n",
       "        [ 0.9910402],\n",
       "        [ 3.3776097],\n",
       "        [ 1.8016015],\n",
       "        [ 2.1214561]], dtype=float32),\n",
       " array([20,  1,  6, 30,  6,  6, 30, 30,  1,  3,  1,  3]),\n",
       " array([[30.],\n",
       "        [ 3.],\n",
       "        [10.],\n",
       "        [30.],\n",
       "        [ 3.],\n",
       "        [10.],\n",
       "        [20.],\n",
       "        [20.],\n",
       "        [ 1.],\n",
       "        [ 6.],\n",
       "        [ 1.],\n",
       "        [ 1.]], dtype=float32))"
      ]
     },
     "execution_count": 88,
     "metadata": {},
     "output_type": "execute_result"
    }
   ],
   "source": [
    "preds.item()[\"reg\"], preds_post, trues.item()[\"reg\"]"
   ]
  }
 ],
 "metadata": {
  "kernelspec": {
   "display_name": "Python 3",
   "language": "python",
   "name": "python3"
  },
  "language_info": {
   "codemirror_mode": {
    "name": "ipython",
    "version": 3
   },
   "file_extension": ".py",
   "mimetype": "text/x-python",
   "name": "python",
   "nbconvert_exporter": "python",
   "pygments_lexer": "ipython3",
   "version": "3.7.6"
  }
 },
 "nbformat": 4,
 "nbformat_minor": 4
}
